{
 "cells": [
  {
   "cell_type": "code",
   "execution_count": 43,
   "metadata": {},
   "outputs": [],
   "source": [
    "import numpy as np\n",
    "from os.path import join\n",
    "basedir = r\"D:\\Generator_DB_Windows\\data\\with_CNN\"\n",
    "unit_arr = [('caffe-net', 'conv1', 5, 10, 10),\n",
    "            ('caffe-net', 'conv2', 5, 10, 10),\n",
    "            ('caffe-net', 'conv3', 5, 10, 10),\n",
    "            ('caffe-net', 'conv4', 5, 10, 10),\n",
    "            ('caffe-net', 'conv5', 5, 10, 10),\n",
    "            ('caffe-net', 'fc6', 1),\n",
    "            ('caffe-net', 'fc7', 1),\n",
    "            ('caffe-net', 'fc8', 1)]\n",
    "layer_names = [unit[1] for unit in unit_arr]"
   ]
  },
  {
   "cell_type": "code",
   "execution_count": 2,
   "metadata": {
    "collapsed": true
   },
   "outputs": [
    {
     "data": {
      "text/plain": [
       "array([299.29802634, 241.55963135, 122.95911962, 291.71517944,\n",
       "       301.38191917, 304.38421353, 149.28399519, 155.36515669,\n",
       "       257.5415802 , 147.75991266, 240.24104032, 222.37044456,\n",
       "       266.09982993, 178.2325814 , 282.50886674, 115.34323536,\n",
       "       220.49973228, 245.19379772, 304.4232039 , 148.19937827,\n",
       "       269.67107877, 336.94273515, 254.91108426, 252.95471191,\n",
       "       189.82533958, 143.15322599, 332.25516025, 192.99916632,\n",
       "       123.33657421, 256.78640886, 205.75004716, 113.8742974 ,\n",
       "       168.66911871, 288.6426891 , 109.9754382 , 166.31814298,\n",
       "       334.72566084, 246.53695956, 262.10222556,  99.48637806,\n",
       "       173.00618397, 277.89356856, 219.59311191, 212.27362754,\n",
       "       128.34402743, 220.40576588, 351.15399447, 169.91120911,\n",
       "       167.63971502, 146.51677634, 124.21976332, 308.11048473,\n",
       "       190.46000255, 320.07250699, 115.08659432, 209.74170199,\n",
       "       270.82908769, 276.34667691, 166.83917652, 276.07364446,\n",
       "       206.18045876, 142.40730008, 196.23669295, 185.85353227,\n",
       "       259.66624312, 113.17165722, 179.89185957, 159.40971929,\n",
       "       264.13156683, 217.78755188, 101.59601524, 248.66490451,\n",
       "       325.10660067, 291.70614347, 135.10271523, 227.93588534,\n",
       "       125.34215338, 252.5035553 , 239.77591636, 175.84355302,\n",
       "       310.73761819, 125.24132954, 307.57561978, 221.85265697,\n",
       "       219.69909113, 201.28001404, 159.86875361, 246.00957142,\n",
       "       293.24228738, 208.35716248, 333.65104537, 218.32745084,\n",
       "       229.90700045, 294.81091586, 129.04276414, 148.98198214,\n",
       "       149.65280984, 246.53683333, 140.94747647, 305.54563488])"
      ]
     },
     "execution_count": 2,
     "metadata": {},
     "output_type": "execute_result"
    }
   ],
   "source": [
    "for unit in unit_arr[:1]:\n",
    "    best_scores = np.load(join(basedir, \"%s_%s_%d\" % (unit[0], unit[1], unit[2]), \"best_scores.npy\"))\n",
    "best_scores.mean(axis=1)\n",
    "#np.load(join(basedir, \"%s_%s_%d_full\" % (unit[0], unit[1], unit[2]), \"best_scores.npy\"))\n",
    "#%%"
   ]
  },
  {
   "cell_type": "code",
   "execution_count": 9,
   "metadata": {},
   "outputs": [
    {
     "data": {
      "application/vnd.plotly.v1+json": {
       "config": {
        "plotlyServerURL": "https://plot.ly"
       },
       "data": [
        {
         "alignmentgroup": "True",
         "boxpoints": "all",
         "hoverlabel": {
          "namelength": 0
         },
         "hovertemplate": "time=%{x}<br>total_bill=%{y}",
         "legendgroup": "",
         "marker": {
          "color": "#636efa"
         },
         "name": "",
         "notched": false,
         "offsetgroup": "",
         "orientation": "v",
         "showlegend": false,
         "type": "box",
         "x": [
          "Dinner",
          "Dinner",
          "Dinner",
          "Dinner",
          "Dinner",
          "Dinner",
          "Dinner",
          "Dinner",
          "Dinner",
          "Dinner",
          "Dinner",
          "Dinner",
          "Dinner",
          "Dinner",
          "Dinner",
          "Dinner",
          "Dinner",
          "Dinner",
          "Dinner",
          "Dinner",
          "Dinner",
          "Dinner",
          "Dinner",
          "Dinner",
          "Dinner",
          "Dinner",
          "Dinner",
          "Dinner",
          "Dinner",
          "Dinner",
          "Dinner",
          "Dinner",
          "Dinner",
          "Dinner",
          "Dinner",
          "Dinner",
          "Dinner",
          "Dinner",
          "Dinner",
          "Dinner",
          "Dinner",
          "Dinner",
          "Dinner",
          "Dinner",
          "Dinner",
          "Dinner",
          "Dinner",
          "Dinner",
          "Dinner",
          "Dinner",
          "Dinner",
          "Dinner",
          "Dinner",
          "Dinner",
          "Dinner",
          "Dinner",
          "Dinner",
          "Dinner",
          "Dinner",
          "Dinner",
          "Dinner",
          "Dinner",
          "Dinner",
          "Dinner",
          "Dinner",
          "Dinner",
          "Dinner",
          "Dinner",
          "Dinner",
          "Dinner",
          "Dinner",
          "Dinner",
          "Dinner",
          "Dinner",
          "Dinner",
          "Dinner",
          "Dinner",
          "Lunch",
          "Lunch",
          "Lunch",
          "Lunch",
          "Lunch",
          "Lunch",
          "Lunch",
          "Lunch",
          "Lunch",
          "Lunch",
          "Lunch",
          "Lunch",
          "Lunch",
          "Dinner",
          "Dinner",
          "Dinner",
          "Dinner",
          "Dinner",
          "Dinner",
          "Dinner",
          "Dinner",
          "Dinner",
          "Dinner",
          "Dinner",
          "Dinner",
          "Dinner",
          "Dinner",
          "Dinner",
          "Dinner",
          "Dinner",
          "Dinner",
          "Dinner",
          "Dinner",
          "Dinner",
          "Dinner",
          "Dinner",
          "Dinner",
          "Dinner",
          "Dinner",
          "Dinner",
          "Lunch",
          "Lunch",
          "Lunch",
          "Lunch",
          "Lunch",
          "Lunch",
          "Lunch",
          "Lunch",
          "Lunch",
          "Lunch",
          "Lunch",
          "Lunch",
          "Lunch",
          "Lunch",
          "Lunch",
          "Lunch",
          "Lunch",
          "Lunch",
          "Lunch",
          "Lunch",
          "Lunch",
          "Lunch",
          "Lunch",
          "Lunch",
          "Lunch",
          "Lunch",
          "Lunch",
          "Lunch",
          "Lunch",
          "Lunch",
          "Lunch",
          "Lunch",
          "Lunch",
          "Dinner",
          "Dinner",
          "Dinner",
          "Dinner",
          "Dinner",
          "Dinner",
          "Dinner",
          "Dinner",
          "Dinner",
          "Dinner",
          "Dinner",
          "Dinner",
          "Dinner",
          "Dinner",
          "Dinner",
          "Dinner",
          "Dinner",
          "Dinner",
          "Dinner",
          "Dinner",
          "Dinner",
          "Dinner",
          "Dinner",
          "Dinner",
          "Dinner",
          "Dinner",
          "Dinner",
          "Dinner",
          "Dinner",
          "Dinner",
          "Dinner",
          "Dinner",
          "Dinner",
          "Dinner",
          "Dinner",
          "Dinner",
          "Dinner",
          "Dinner",
          "Dinner",
          "Dinner",
          "Dinner",
          "Lunch",
          "Lunch",
          "Lunch",
          "Lunch",
          "Lunch",
          "Lunch",
          "Lunch",
          "Lunch",
          "Lunch",
          "Lunch",
          "Lunch",
          "Lunch",
          "Lunch",
          "Lunch",
          "Lunch",
          "Dinner",
          "Dinner",
          "Dinner",
          "Dinner",
          "Dinner",
          "Dinner",
          "Dinner",
          "Dinner",
          "Dinner",
          "Dinner",
          "Dinner",
          "Dinner",
          "Dinner",
          "Dinner",
          "Lunch",
          "Lunch",
          "Lunch",
          "Lunch",
          "Lunch",
          "Lunch",
          "Lunch",
          "Dinner",
          "Dinner",
          "Dinner",
          "Dinner",
          "Dinner",
          "Dinner",
          "Dinner",
          "Dinner",
          "Dinner",
          "Dinner",
          "Dinner",
          "Dinner",
          "Dinner",
          "Dinner",
          "Dinner",
          "Dinner",
          "Dinner"
         ],
         "x0": " ",
         "xaxis": "x",
         "y": [
          16.99,
          10.34,
          21.01,
          23.68,
          24.59,
          25.29,
          8.77,
          26.88,
          15.04,
          14.78,
          10.27,
          35.26,
          15.42,
          18.43,
          14.83,
          21.58,
          10.33,
          16.29,
          16.97,
          20.65,
          17.92,
          20.29,
          15.77,
          39.42,
          19.82,
          17.81,
          13.37,
          12.69,
          21.7,
          19.65,
          9.55,
          18.35,
          15.06,
          20.69,
          17.78,
          24.06,
          16.31,
          16.93,
          18.69,
          31.27,
          16.04,
          17.46,
          13.94,
          9.68,
          30.4,
          18.29,
          22.23,
          32.4,
          28.55,
          18.04,
          12.54,
          10.29,
          34.81,
          9.94,
          25.56,
          19.49,
          38.01,
          26.41,
          11.24,
          48.27,
          20.29,
          13.81,
          11.02,
          18.29,
          17.59,
          20.08,
          16.45,
          3.07,
          20.23,
          15.01,
          12.02,
          17.07,
          26.86,
          25.28,
          14.73,
          10.51,
          17.92,
          27.2,
          22.76,
          17.29,
          19.44,
          16.66,
          10.07,
          32.68,
          15.98,
          34.83,
          13.03,
          18.28,
          24.71,
          21.16,
          28.97,
          22.49,
          5.75,
          16.32,
          22.75,
          40.17,
          27.28,
          12.03,
          21.01,
          12.46,
          11.35,
          15.38,
          44.3,
          22.42,
          20.92,
          15.36,
          20.49,
          25.21,
          18.24,
          14.31,
          14,
          7.25,
          38.07,
          23.95,
          25.71,
          17.31,
          29.93,
          10.65,
          12.43,
          24.08,
          11.69,
          13.42,
          14.26,
          15.95,
          12.48,
          29.8,
          8.52,
          14.52,
          11.38,
          22.82,
          19.08,
          20.27,
          11.17,
          12.26,
          18.26,
          8.51,
          10.33,
          14.15,
          16,
          13.16,
          17.47,
          34.3,
          41.19,
          27.05,
          16.43,
          8.35,
          18.64,
          11.87,
          9.78,
          7.51,
          14.07,
          13.13,
          17.26,
          24.55,
          19.77,
          29.85,
          48.17,
          25,
          13.39,
          16.49,
          21.5,
          12.66,
          16.21,
          13.81,
          17.51,
          24.52,
          20.76,
          31.71,
          10.59,
          10.63,
          50.81,
          15.81,
          7.25,
          31.85,
          16.82,
          32.9,
          17.89,
          14.48,
          9.6,
          34.63,
          34.65,
          23.33,
          45.35,
          23.17,
          40.55,
          20.69,
          20.9,
          30.46,
          18.15,
          23.1,
          15.69,
          19.81,
          28.44,
          15.48,
          16.58,
          7.56,
          10.34,
          43.11,
          13,
          13.51,
          18.71,
          12.74,
          13,
          16.4,
          20.53,
          16.47,
          26.59,
          38.73,
          24.27,
          12.76,
          30.06,
          25.89,
          48.33,
          13.27,
          28.17,
          12.9,
          28.15,
          11.59,
          7.74,
          30.14,
          12.16,
          13.42,
          8.58,
          15.98,
          13.42,
          16.27,
          10.09,
          20.45,
          13.28,
          22.12,
          24.01,
          15.69,
          11.61,
          10.77,
          15.53,
          10.07,
          12.6,
          32.83,
          35.83,
          29.03,
          27.18,
          22.67,
          17.82,
          18.78
         ],
         "y0": " ",
         "yaxis": "y"
        }
       ],
       "layout": {
        "boxmode": "group",
        "height": 600,
        "legend": {
         "tracegroupgap": 0
        },
        "margin": {
         "t": 60
        },
        "template": {
         "data": {
          "bar": [
           {
            "error_x": {
             "color": "#2a3f5f"
            },
            "error_y": {
             "color": "#2a3f5f"
            },
            "marker": {
             "line": {
              "color": "#E5ECF6",
              "width": 0.5
             }
            },
            "type": "bar"
           }
          ],
          "barpolar": [
           {
            "marker": {
             "line": {
              "color": "#E5ECF6",
              "width": 0.5
             }
            },
            "type": "barpolar"
           }
          ],
          "carpet": [
           {
            "aaxis": {
             "endlinecolor": "#2a3f5f",
             "gridcolor": "white",
             "linecolor": "white",
             "minorgridcolor": "white",
             "startlinecolor": "#2a3f5f"
            },
            "baxis": {
             "endlinecolor": "#2a3f5f",
             "gridcolor": "white",
             "linecolor": "white",
             "minorgridcolor": "white",
             "startlinecolor": "#2a3f5f"
            },
            "type": "carpet"
           }
          ],
          "choropleth": [
           {
            "colorbar": {
             "outlinewidth": 0,
             "ticks": ""
            },
            "type": "choropleth"
           }
          ],
          "contour": [
           {
            "colorbar": {
             "outlinewidth": 0,
             "ticks": ""
            },
            "colorscale": [
             [
              0,
              "#0d0887"
             ],
             [
              0.1111111111111111,
              "#46039f"
             ],
             [
              0.2222222222222222,
              "#7201a8"
             ],
             [
              0.3333333333333333,
              "#9c179e"
             ],
             [
              0.4444444444444444,
              "#bd3786"
             ],
             [
              0.5555555555555556,
              "#d8576b"
             ],
             [
              0.6666666666666666,
              "#ed7953"
             ],
             [
              0.7777777777777778,
              "#fb9f3a"
             ],
             [
              0.8888888888888888,
              "#fdca26"
             ],
             [
              1,
              "#f0f921"
             ]
            ],
            "type": "contour"
           }
          ],
          "contourcarpet": [
           {
            "colorbar": {
             "outlinewidth": 0,
             "ticks": ""
            },
            "type": "contourcarpet"
           }
          ],
          "heatmap": [
           {
            "colorbar": {
             "outlinewidth": 0,
             "ticks": ""
            },
            "colorscale": [
             [
              0,
              "#0d0887"
             ],
             [
              0.1111111111111111,
              "#46039f"
             ],
             [
              0.2222222222222222,
              "#7201a8"
             ],
             [
              0.3333333333333333,
              "#9c179e"
             ],
             [
              0.4444444444444444,
              "#bd3786"
             ],
             [
              0.5555555555555556,
              "#d8576b"
             ],
             [
              0.6666666666666666,
              "#ed7953"
             ],
             [
              0.7777777777777778,
              "#fb9f3a"
             ],
             [
              0.8888888888888888,
              "#fdca26"
             ],
             [
              1,
              "#f0f921"
             ]
            ],
            "type": "heatmap"
           }
          ],
          "heatmapgl": [
           {
            "colorbar": {
             "outlinewidth": 0,
             "ticks": ""
            },
            "colorscale": [
             [
              0,
              "#0d0887"
             ],
             [
              0.1111111111111111,
              "#46039f"
             ],
             [
              0.2222222222222222,
              "#7201a8"
             ],
             [
              0.3333333333333333,
              "#9c179e"
             ],
             [
              0.4444444444444444,
              "#bd3786"
             ],
             [
              0.5555555555555556,
              "#d8576b"
             ],
             [
              0.6666666666666666,
              "#ed7953"
             ],
             [
              0.7777777777777778,
              "#fb9f3a"
             ],
             [
              0.8888888888888888,
              "#fdca26"
             ],
             [
              1,
              "#f0f921"
             ]
            ],
            "type": "heatmapgl"
           }
          ],
          "histogram": [
           {
            "marker": {
             "colorbar": {
              "outlinewidth": 0,
              "ticks": ""
             }
            },
            "type": "histogram"
           }
          ],
          "histogram2d": [
           {
            "colorbar": {
             "outlinewidth": 0,
             "ticks": ""
            },
            "colorscale": [
             [
              0,
              "#0d0887"
             ],
             [
              0.1111111111111111,
              "#46039f"
             ],
             [
              0.2222222222222222,
              "#7201a8"
             ],
             [
              0.3333333333333333,
              "#9c179e"
             ],
             [
              0.4444444444444444,
              "#bd3786"
             ],
             [
              0.5555555555555556,
              "#d8576b"
             ],
             [
              0.6666666666666666,
              "#ed7953"
             ],
             [
              0.7777777777777778,
              "#fb9f3a"
             ],
             [
              0.8888888888888888,
              "#fdca26"
             ],
             [
              1,
              "#f0f921"
             ]
            ],
            "type": "histogram2d"
           }
          ],
          "histogram2dcontour": [
           {
            "colorbar": {
             "outlinewidth": 0,
             "ticks": ""
            },
            "colorscale": [
             [
              0,
              "#0d0887"
             ],
             [
              0.1111111111111111,
              "#46039f"
             ],
             [
              0.2222222222222222,
              "#7201a8"
             ],
             [
              0.3333333333333333,
              "#9c179e"
             ],
             [
              0.4444444444444444,
              "#bd3786"
             ],
             [
              0.5555555555555556,
              "#d8576b"
             ],
             [
              0.6666666666666666,
              "#ed7953"
             ],
             [
              0.7777777777777778,
              "#fb9f3a"
             ],
             [
              0.8888888888888888,
              "#fdca26"
             ],
             [
              1,
              "#f0f921"
             ]
            ],
            "type": "histogram2dcontour"
           }
          ],
          "mesh3d": [
           {
            "colorbar": {
             "outlinewidth": 0,
             "ticks": ""
            },
            "type": "mesh3d"
           }
          ],
          "parcoords": [
           {
            "line": {
             "colorbar": {
              "outlinewidth": 0,
              "ticks": ""
             }
            },
            "type": "parcoords"
           }
          ],
          "scatter": [
           {
            "marker": {
             "colorbar": {
              "outlinewidth": 0,
              "ticks": ""
             }
            },
            "type": "scatter"
           }
          ],
          "scatter3d": [
           {
            "line": {
             "colorbar": {
              "outlinewidth": 0,
              "ticks": ""
             }
            },
            "marker": {
             "colorbar": {
              "outlinewidth": 0,
              "ticks": ""
             }
            },
            "type": "scatter3d"
           }
          ],
          "scattercarpet": [
           {
            "marker": {
             "colorbar": {
              "outlinewidth": 0,
              "ticks": ""
             }
            },
            "type": "scattercarpet"
           }
          ],
          "scattergeo": [
           {
            "marker": {
             "colorbar": {
              "outlinewidth": 0,
              "ticks": ""
             }
            },
            "type": "scattergeo"
           }
          ],
          "scattergl": [
           {
            "marker": {
             "colorbar": {
              "outlinewidth": 0,
              "ticks": ""
             }
            },
            "type": "scattergl"
           }
          ],
          "scattermapbox": [
           {
            "marker": {
             "colorbar": {
              "outlinewidth": 0,
              "ticks": ""
             }
            },
            "type": "scattermapbox"
           }
          ],
          "scatterpolar": [
           {
            "marker": {
             "colorbar": {
              "outlinewidth": 0,
              "ticks": ""
             }
            },
            "type": "scatterpolar"
           }
          ],
          "scatterpolargl": [
           {
            "marker": {
             "colorbar": {
              "outlinewidth": 0,
              "ticks": ""
             }
            },
            "type": "scatterpolargl"
           }
          ],
          "scatterternary": [
           {
            "marker": {
             "colorbar": {
              "outlinewidth": 0,
              "ticks": ""
             }
            },
            "type": "scatterternary"
           }
          ],
          "surface": [
           {
            "colorbar": {
             "outlinewidth": 0,
             "ticks": ""
            },
            "colorscale": [
             [
              0,
              "#0d0887"
             ],
             [
              0.1111111111111111,
              "#46039f"
             ],
             [
              0.2222222222222222,
              "#7201a8"
             ],
             [
              0.3333333333333333,
              "#9c179e"
             ],
             [
              0.4444444444444444,
              "#bd3786"
             ],
             [
              0.5555555555555556,
              "#d8576b"
             ],
             [
              0.6666666666666666,
              "#ed7953"
             ],
             [
              0.7777777777777778,
              "#fb9f3a"
             ],
             [
              0.8888888888888888,
              "#fdca26"
             ],
             [
              1,
              "#f0f921"
             ]
            ],
            "type": "surface"
           }
          ],
          "table": [
           {
            "cells": {
             "fill": {
              "color": "#EBF0F8"
             },
             "line": {
              "color": "white"
             }
            },
            "header": {
             "fill": {
              "color": "#C8D4E3"
             },
             "line": {
              "color": "white"
             }
            },
            "type": "table"
           }
          ]
         },
         "layout": {
          "annotationdefaults": {
           "arrowcolor": "#2a3f5f",
           "arrowhead": 0,
           "arrowwidth": 1
          },
          "colorscale": {
           "diverging": [
            [
             0,
             "#8e0152"
            ],
            [
             0.1,
             "#c51b7d"
            ],
            [
             0.2,
             "#de77ae"
            ],
            [
             0.3,
             "#f1b6da"
            ],
            [
             0.4,
             "#fde0ef"
            ],
            [
             0.5,
             "#f7f7f7"
            ],
            [
             0.6,
             "#e6f5d0"
            ],
            [
             0.7,
             "#b8e186"
            ],
            [
             0.8,
             "#7fbc41"
            ],
            [
             0.9,
             "#4d9221"
            ],
            [
             1,
             "#276419"
            ]
           ],
           "sequential": [
            [
             0,
             "#0d0887"
            ],
            [
             0.1111111111111111,
             "#46039f"
            ],
            [
             0.2222222222222222,
             "#7201a8"
            ],
            [
             0.3333333333333333,
             "#9c179e"
            ],
            [
             0.4444444444444444,
             "#bd3786"
            ],
            [
             0.5555555555555556,
             "#d8576b"
            ],
            [
             0.6666666666666666,
             "#ed7953"
            ],
            [
             0.7777777777777778,
             "#fb9f3a"
            ],
            [
             0.8888888888888888,
             "#fdca26"
            ],
            [
             1,
             "#f0f921"
            ]
           ],
           "sequentialminus": [
            [
             0,
             "#0d0887"
            ],
            [
             0.1111111111111111,
             "#46039f"
            ],
            [
             0.2222222222222222,
             "#7201a8"
            ],
            [
             0.3333333333333333,
             "#9c179e"
            ],
            [
             0.4444444444444444,
             "#bd3786"
            ],
            [
             0.5555555555555556,
             "#d8576b"
            ],
            [
             0.6666666666666666,
             "#ed7953"
            ],
            [
             0.7777777777777778,
             "#fb9f3a"
            ],
            [
             0.8888888888888888,
             "#fdca26"
            ],
            [
             1,
             "#f0f921"
            ]
           ]
          },
          "colorway": [
           "#636efa",
           "#EF553B",
           "#00cc96",
           "#ab63fa",
           "#FFA15A",
           "#19d3f3",
           "#FF6692",
           "#B6E880",
           "#FF97FF",
           "#FECB52"
          ],
          "font": {
           "color": "#2a3f5f"
          },
          "geo": {
           "bgcolor": "white",
           "lakecolor": "white",
           "landcolor": "#E5ECF6",
           "showlakes": true,
           "showland": true,
           "subunitcolor": "white"
          },
          "hoverlabel": {
           "align": "left"
          },
          "hovermode": "closest",
          "mapbox": {
           "style": "light"
          },
          "paper_bgcolor": "white",
          "plot_bgcolor": "#E5ECF6",
          "polar": {
           "angularaxis": {
            "gridcolor": "white",
            "linecolor": "white",
            "ticks": ""
           },
           "bgcolor": "#E5ECF6",
           "radialaxis": {
            "gridcolor": "white",
            "linecolor": "white",
            "ticks": ""
           }
          },
          "scene": {
           "xaxis": {
            "backgroundcolor": "#E5ECF6",
            "gridcolor": "white",
            "gridwidth": 2,
            "linecolor": "white",
            "showbackground": true,
            "ticks": "",
            "zerolinecolor": "white"
           },
           "yaxis": {
            "backgroundcolor": "#E5ECF6",
            "gridcolor": "white",
            "gridwidth": 2,
            "linecolor": "white",
            "showbackground": true,
            "ticks": "",
            "zerolinecolor": "white"
           },
           "zaxis": {
            "backgroundcolor": "#E5ECF6",
            "gridcolor": "white",
            "gridwidth": 2,
            "linecolor": "white",
            "showbackground": true,
            "ticks": "",
            "zerolinecolor": "white"
           }
          },
          "shapedefaults": {
           "line": {
            "color": "#2a3f5f"
           }
          },
          "ternary": {
           "aaxis": {
            "gridcolor": "white",
            "linecolor": "white",
            "ticks": ""
           },
           "baxis": {
            "gridcolor": "white",
            "linecolor": "white",
            "ticks": ""
           },
           "bgcolor": "#E5ECF6",
           "caxis": {
            "gridcolor": "white",
            "linecolor": "white",
            "ticks": ""
           }
          },
          "title": {
           "x": 0.05
          },
          "xaxis": {
           "automargin": true,
           "gridcolor": "white",
           "linecolor": "white",
           "ticks": "",
           "zerolinecolor": "white",
           "zerolinewidth": 2
          },
          "yaxis": {
           "automargin": true,
           "gridcolor": "white",
           "linecolor": "white",
           "ticks": "",
           "zerolinecolor": "white",
           "zerolinewidth": 2
          }
         }
        },
        "xaxis": {
         "anchor": "y",
         "domain": [
          0,
          0.98
         ],
         "title": {
          "text": "time"
         }
        },
        "yaxis": {
         "anchor": "x",
         "domain": [
          0,
          1
         ],
         "title": {
          "text": "total_bill"
         }
        }
       }
      },
      "text/html": [
       "<div>\n",
       "        \n",
       "        \n",
       "            <div id=\"d025461b-c67d-46ef-a778-09ab95c6b062\" class=\"plotly-graph-div\" style=\"height:600px; width:100%;\"></div>\n",
       "            <script type=\"text/javascript\">\n",
       "                require([\"plotly\"], function(Plotly) {\n",
       "                    window.PLOTLYENV=window.PLOTLYENV || {};\n",
       "                    \n",
       "                if (document.getElementById(\"d025461b-c67d-46ef-a778-09ab95c6b062\")) {\n",
       "                    Plotly.newPlot(\n",
       "                        'd025461b-c67d-46ef-a778-09ab95c6b062',\n",
       "                        [{\"alignmentgroup\": \"True\", \"boxpoints\": \"all\", \"hoverlabel\": {\"namelength\": 0}, \"hovertemplate\": \"time=%{x}<br>total_bill=%{y}\", \"legendgroup\": \"\", \"marker\": {\"color\": \"#636efa\"}, \"name\": \"\", \"notched\": false, \"offsetgroup\": \"\", \"orientation\": \"v\", \"showlegend\": false, \"type\": \"box\", \"x\": [\"Dinner\", \"Dinner\", \"Dinner\", \"Dinner\", \"Dinner\", \"Dinner\", \"Dinner\", \"Dinner\", \"Dinner\", \"Dinner\", \"Dinner\", \"Dinner\", \"Dinner\", \"Dinner\", \"Dinner\", \"Dinner\", \"Dinner\", \"Dinner\", \"Dinner\", \"Dinner\", \"Dinner\", \"Dinner\", \"Dinner\", \"Dinner\", \"Dinner\", \"Dinner\", \"Dinner\", \"Dinner\", \"Dinner\", \"Dinner\", \"Dinner\", \"Dinner\", \"Dinner\", \"Dinner\", \"Dinner\", \"Dinner\", \"Dinner\", \"Dinner\", \"Dinner\", \"Dinner\", \"Dinner\", \"Dinner\", \"Dinner\", \"Dinner\", \"Dinner\", \"Dinner\", \"Dinner\", \"Dinner\", \"Dinner\", \"Dinner\", \"Dinner\", \"Dinner\", \"Dinner\", \"Dinner\", \"Dinner\", \"Dinner\", \"Dinner\", \"Dinner\", \"Dinner\", \"Dinner\", \"Dinner\", \"Dinner\", \"Dinner\", \"Dinner\", \"Dinner\", \"Dinner\", \"Dinner\", \"Dinner\", \"Dinner\", \"Dinner\", \"Dinner\", \"Dinner\", \"Dinner\", \"Dinner\", \"Dinner\", \"Dinner\", \"Dinner\", \"Lunch\", \"Lunch\", \"Lunch\", \"Lunch\", \"Lunch\", \"Lunch\", \"Lunch\", \"Lunch\", \"Lunch\", \"Lunch\", \"Lunch\", \"Lunch\", \"Lunch\", \"Dinner\", \"Dinner\", \"Dinner\", \"Dinner\", \"Dinner\", \"Dinner\", \"Dinner\", \"Dinner\", \"Dinner\", \"Dinner\", \"Dinner\", \"Dinner\", \"Dinner\", \"Dinner\", \"Dinner\", \"Dinner\", \"Dinner\", \"Dinner\", \"Dinner\", \"Dinner\", \"Dinner\", \"Dinner\", \"Dinner\", \"Dinner\", \"Dinner\", \"Dinner\", \"Dinner\", \"Lunch\", \"Lunch\", \"Lunch\", \"Lunch\", \"Lunch\", \"Lunch\", \"Lunch\", \"Lunch\", \"Lunch\", \"Lunch\", \"Lunch\", \"Lunch\", \"Lunch\", \"Lunch\", \"Lunch\", \"Lunch\", \"Lunch\", \"Lunch\", \"Lunch\", \"Lunch\", \"Lunch\", \"Lunch\", \"Lunch\", \"Lunch\", \"Lunch\", \"Lunch\", \"Lunch\", \"Lunch\", \"Lunch\", \"Lunch\", \"Lunch\", \"Lunch\", \"Lunch\", \"Dinner\", \"Dinner\", \"Dinner\", \"Dinner\", \"Dinner\", \"Dinner\", \"Dinner\", \"Dinner\", \"Dinner\", \"Dinner\", \"Dinner\", \"Dinner\", \"Dinner\", \"Dinner\", \"Dinner\", \"Dinner\", \"Dinner\", \"Dinner\", \"Dinner\", \"Dinner\", \"Dinner\", \"Dinner\", \"Dinner\", \"Dinner\", \"Dinner\", \"Dinner\", \"Dinner\", \"Dinner\", \"Dinner\", \"Dinner\", \"Dinner\", \"Dinner\", \"Dinner\", \"Dinner\", \"Dinner\", \"Dinner\", \"Dinner\", \"Dinner\", \"Dinner\", \"Dinner\", \"Dinner\", \"Lunch\", \"Lunch\", \"Lunch\", \"Lunch\", \"Lunch\", \"Lunch\", \"Lunch\", \"Lunch\", \"Lunch\", \"Lunch\", \"Lunch\", \"Lunch\", \"Lunch\", \"Lunch\", \"Lunch\", \"Dinner\", \"Dinner\", \"Dinner\", \"Dinner\", \"Dinner\", \"Dinner\", \"Dinner\", \"Dinner\", \"Dinner\", \"Dinner\", \"Dinner\", \"Dinner\", \"Dinner\", \"Dinner\", \"Lunch\", \"Lunch\", \"Lunch\", \"Lunch\", \"Lunch\", \"Lunch\", \"Lunch\", \"Dinner\", \"Dinner\", \"Dinner\", \"Dinner\", \"Dinner\", \"Dinner\", \"Dinner\", \"Dinner\", \"Dinner\", \"Dinner\", \"Dinner\", \"Dinner\", \"Dinner\", \"Dinner\", \"Dinner\", \"Dinner\", \"Dinner\"], \"x0\": \" \", \"xaxis\": \"x\", \"y\": [16.99, 10.34, 21.01, 23.68, 24.59, 25.29, 8.77, 26.88, 15.04, 14.78, 10.27, 35.26, 15.42, 18.43, 14.83, 21.58, 10.33, 16.29, 16.97, 20.65, 17.92, 20.29, 15.77, 39.42, 19.82, 17.81, 13.37, 12.69, 21.7, 19.65, 9.55, 18.35, 15.06, 20.69, 17.78, 24.06, 16.31, 16.93, 18.69, 31.27, 16.04, 17.46, 13.94, 9.68, 30.4, 18.29, 22.23, 32.4, 28.55, 18.04, 12.54, 10.29, 34.81, 9.94, 25.56, 19.49, 38.01, 26.41, 11.24, 48.27, 20.29, 13.81, 11.02, 18.29, 17.59, 20.08, 16.45, 3.07, 20.23, 15.01, 12.02, 17.07, 26.86, 25.28, 14.73, 10.51, 17.92, 27.2, 22.76, 17.29, 19.44, 16.66, 10.07, 32.68, 15.98, 34.83, 13.03, 18.28, 24.71, 21.16, 28.97, 22.49, 5.75, 16.32, 22.75, 40.17, 27.28, 12.03, 21.01, 12.46, 11.35, 15.38, 44.3, 22.42, 20.92, 15.36, 20.49, 25.21, 18.24, 14.31, 14.0, 7.25, 38.07, 23.95, 25.71, 17.31, 29.93, 10.65, 12.43, 24.08, 11.69, 13.42, 14.26, 15.95, 12.48, 29.8, 8.52, 14.52, 11.38, 22.82, 19.08, 20.27, 11.17, 12.26, 18.26, 8.51, 10.33, 14.15, 16.0, 13.16, 17.47, 34.3, 41.19, 27.05, 16.43, 8.35, 18.64, 11.87, 9.78, 7.51, 14.07, 13.13, 17.26, 24.55, 19.77, 29.85, 48.17, 25.0, 13.39, 16.49, 21.5, 12.66, 16.21, 13.81, 17.51, 24.52, 20.76, 31.71, 10.59, 10.63, 50.81, 15.81, 7.25, 31.85, 16.82, 32.9, 17.89, 14.48, 9.6, 34.63, 34.65, 23.33, 45.35, 23.17, 40.55, 20.69, 20.9, 30.46, 18.15, 23.1, 15.69, 19.81, 28.44, 15.48, 16.58, 7.56, 10.34, 43.11, 13.0, 13.51, 18.71, 12.74, 13.0, 16.4, 20.53, 16.47, 26.59, 38.73, 24.27, 12.76, 30.06, 25.89, 48.33, 13.27, 28.17, 12.9, 28.15, 11.59, 7.74, 30.14, 12.16, 13.42, 8.58, 15.98, 13.42, 16.27, 10.09, 20.45, 13.28, 22.12, 24.01, 15.69, 11.61, 10.77, 15.53, 10.07, 12.6, 32.83, 35.83, 29.03, 27.18, 22.67, 17.82, 18.78], \"y0\": \" \", \"yaxis\": \"y\"}],\n",
       "                        {\"boxmode\": \"group\", \"height\": 600, \"legend\": {\"tracegroupgap\": 0}, \"margin\": {\"t\": 60}, \"template\": {\"data\": {\"bar\": [{\"error_x\": {\"color\": \"#2a3f5f\"}, \"error_y\": {\"color\": \"#2a3f5f\"}, \"marker\": {\"line\": {\"color\": \"#E5ECF6\", \"width\": 0.5}}, \"type\": \"bar\"}], \"barpolar\": [{\"marker\": {\"line\": {\"color\": \"#E5ECF6\", \"width\": 0.5}}, \"type\": \"barpolar\"}], \"carpet\": [{\"aaxis\": {\"endlinecolor\": \"#2a3f5f\", \"gridcolor\": \"white\", \"linecolor\": \"white\", \"minorgridcolor\": \"white\", \"startlinecolor\": \"#2a3f5f\"}, \"baxis\": {\"endlinecolor\": \"#2a3f5f\", \"gridcolor\": \"white\", \"linecolor\": \"white\", \"minorgridcolor\": \"white\", \"startlinecolor\": \"#2a3f5f\"}, \"type\": \"carpet\"}], \"choropleth\": [{\"colorbar\": {\"outlinewidth\": 0, \"ticks\": \"\"}, \"type\": \"choropleth\"}], \"contour\": [{\"colorbar\": {\"outlinewidth\": 0, \"ticks\": \"\"}, \"colorscale\": [[0.0, \"#0d0887\"], [0.1111111111111111, \"#46039f\"], [0.2222222222222222, \"#7201a8\"], [0.3333333333333333, \"#9c179e\"], [0.4444444444444444, \"#bd3786\"], [0.5555555555555556, \"#d8576b\"], [0.6666666666666666, \"#ed7953\"], [0.7777777777777778, \"#fb9f3a\"], [0.8888888888888888, \"#fdca26\"], [1.0, \"#f0f921\"]], \"type\": \"contour\"}], \"contourcarpet\": [{\"colorbar\": {\"outlinewidth\": 0, \"ticks\": \"\"}, \"type\": \"contourcarpet\"}], \"heatmap\": [{\"colorbar\": {\"outlinewidth\": 0, \"ticks\": \"\"}, \"colorscale\": [[0.0, \"#0d0887\"], [0.1111111111111111, \"#46039f\"], [0.2222222222222222, \"#7201a8\"], [0.3333333333333333, \"#9c179e\"], [0.4444444444444444, \"#bd3786\"], [0.5555555555555556, \"#d8576b\"], [0.6666666666666666, \"#ed7953\"], [0.7777777777777778, \"#fb9f3a\"], [0.8888888888888888, \"#fdca26\"], [1.0, \"#f0f921\"]], \"type\": \"heatmap\"}], \"heatmapgl\": [{\"colorbar\": {\"outlinewidth\": 0, \"ticks\": \"\"}, \"colorscale\": [[0.0, \"#0d0887\"], [0.1111111111111111, \"#46039f\"], [0.2222222222222222, \"#7201a8\"], [0.3333333333333333, \"#9c179e\"], [0.4444444444444444, \"#bd3786\"], [0.5555555555555556, \"#d8576b\"], [0.6666666666666666, \"#ed7953\"], [0.7777777777777778, \"#fb9f3a\"], [0.8888888888888888, \"#fdca26\"], [1.0, \"#f0f921\"]], \"type\": \"heatmapgl\"}], \"histogram\": [{\"marker\": {\"colorbar\": {\"outlinewidth\": 0, \"ticks\": \"\"}}, \"type\": \"histogram\"}], \"histogram2d\": [{\"colorbar\": {\"outlinewidth\": 0, \"ticks\": \"\"}, \"colorscale\": [[0.0, \"#0d0887\"], [0.1111111111111111, \"#46039f\"], [0.2222222222222222, \"#7201a8\"], [0.3333333333333333, \"#9c179e\"], [0.4444444444444444, \"#bd3786\"], [0.5555555555555556, \"#d8576b\"], [0.6666666666666666, \"#ed7953\"], [0.7777777777777778, \"#fb9f3a\"], [0.8888888888888888, \"#fdca26\"], [1.0, \"#f0f921\"]], \"type\": \"histogram2d\"}], \"histogram2dcontour\": [{\"colorbar\": {\"outlinewidth\": 0, \"ticks\": \"\"}, \"colorscale\": [[0.0, \"#0d0887\"], [0.1111111111111111, \"#46039f\"], [0.2222222222222222, \"#7201a8\"], [0.3333333333333333, \"#9c179e\"], [0.4444444444444444, \"#bd3786\"], [0.5555555555555556, \"#d8576b\"], [0.6666666666666666, \"#ed7953\"], [0.7777777777777778, \"#fb9f3a\"], [0.8888888888888888, \"#fdca26\"], [1.0, \"#f0f921\"]], \"type\": \"histogram2dcontour\"}], \"mesh3d\": [{\"colorbar\": {\"outlinewidth\": 0, \"ticks\": \"\"}, \"type\": \"mesh3d\"}], \"parcoords\": [{\"line\": {\"colorbar\": {\"outlinewidth\": 0, \"ticks\": \"\"}}, \"type\": \"parcoords\"}], \"scatter\": [{\"marker\": {\"colorbar\": {\"outlinewidth\": 0, \"ticks\": \"\"}}, \"type\": \"scatter\"}], \"scatter3d\": [{\"line\": {\"colorbar\": {\"outlinewidth\": 0, \"ticks\": \"\"}}, \"marker\": {\"colorbar\": {\"outlinewidth\": 0, \"ticks\": \"\"}}, \"type\": \"scatter3d\"}], \"scattercarpet\": [{\"marker\": {\"colorbar\": {\"outlinewidth\": 0, \"ticks\": \"\"}}, \"type\": \"scattercarpet\"}], \"scattergeo\": [{\"marker\": {\"colorbar\": {\"outlinewidth\": 0, \"ticks\": \"\"}}, \"type\": \"scattergeo\"}], \"scattergl\": [{\"marker\": {\"colorbar\": {\"outlinewidth\": 0, \"ticks\": \"\"}}, \"type\": \"scattergl\"}], \"scattermapbox\": [{\"marker\": {\"colorbar\": {\"outlinewidth\": 0, \"ticks\": \"\"}}, \"type\": \"scattermapbox\"}], \"scatterpolar\": [{\"marker\": {\"colorbar\": {\"outlinewidth\": 0, \"ticks\": \"\"}}, \"type\": \"scatterpolar\"}], \"scatterpolargl\": [{\"marker\": {\"colorbar\": {\"outlinewidth\": 0, \"ticks\": \"\"}}, \"type\": \"scatterpolargl\"}], \"scatterternary\": [{\"marker\": {\"colorbar\": {\"outlinewidth\": 0, \"ticks\": \"\"}}, \"type\": \"scatterternary\"}], \"surface\": [{\"colorbar\": {\"outlinewidth\": 0, \"ticks\": \"\"}, \"colorscale\": [[0.0, \"#0d0887\"], [0.1111111111111111, \"#46039f\"], [0.2222222222222222, \"#7201a8\"], [0.3333333333333333, \"#9c179e\"], [0.4444444444444444, \"#bd3786\"], [0.5555555555555556, \"#d8576b\"], [0.6666666666666666, \"#ed7953\"], [0.7777777777777778, \"#fb9f3a\"], [0.8888888888888888, \"#fdca26\"], [1.0, \"#f0f921\"]], \"type\": \"surface\"}], \"table\": [{\"cells\": {\"fill\": {\"color\": \"#EBF0F8\"}, \"line\": {\"color\": \"white\"}}, \"header\": {\"fill\": {\"color\": \"#C8D4E3\"}, \"line\": {\"color\": \"white\"}}, \"type\": \"table\"}]}, \"layout\": {\"annotationdefaults\": {\"arrowcolor\": \"#2a3f5f\", \"arrowhead\": 0, \"arrowwidth\": 1}, \"colorscale\": {\"diverging\": [[0, \"#8e0152\"], [0.1, \"#c51b7d\"], [0.2, \"#de77ae\"], [0.3, \"#f1b6da\"], [0.4, \"#fde0ef\"], [0.5, \"#f7f7f7\"], [0.6, \"#e6f5d0\"], [0.7, \"#b8e186\"], [0.8, \"#7fbc41\"], [0.9, \"#4d9221\"], [1, \"#276419\"]], \"sequential\": [[0.0, \"#0d0887\"], [0.1111111111111111, \"#46039f\"], [0.2222222222222222, \"#7201a8\"], [0.3333333333333333, \"#9c179e\"], [0.4444444444444444, \"#bd3786\"], [0.5555555555555556, \"#d8576b\"], [0.6666666666666666, \"#ed7953\"], [0.7777777777777778, \"#fb9f3a\"], [0.8888888888888888, \"#fdca26\"], [1.0, \"#f0f921\"]], \"sequentialminus\": [[0.0, \"#0d0887\"], [0.1111111111111111, \"#46039f\"], [0.2222222222222222, \"#7201a8\"], [0.3333333333333333, \"#9c179e\"], [0.4444444444444444, \"#bd3786\"], [0.5555555555555556, \"#d8576b\"], [0.6666666666666666, \"#ed7953\"], [0.7777777777777778, \"#fb9f3a\"], [0.8888888888888888, \"#fdca26\"], [1.0, \"#f0f921\"]]}, \"colorway\": [\"#636efa\", \"#EF553B\", \"#00cc96\", \"#ab63fa\", \"#FFA15A\", \"#19d3f3\", \"#FF6692\", \"#B6E880\", \"#FF97FF\", \"#FECB52\"], \"font\": {\"color\": \"#2a3f5f\"}, \"geo\": {\"bgcolor\": \"white\", \"lakecolor\": \"white\", \"landcolor\": \"#E5ECF6\", \"showlakes\": true, \"showland\": true, \"subunitcolor\": \"white\"}, \"hoverlabel\": {\"align\": \"left\"}, \"hovermode\": \"closest\", \"mapbox\": {\"style\": \"light\"}, \"paper_bgcolor\": \"white\", \"plot_bgcolor\": \"#E5ECF6\", \"polar\": {\"angularaxis\": {\"gridcolor\": \"white\", \"linecolor\": \"white\", \"ticks\": \"\"}, \"bgcolor\": \"#E5ECF6\", \"radialaxis\": {\"gridcolor\": \"white\", \"linecolor\": \"white\", \"ticks\": \"\"}}, \"scene\": {\"xaxis\": {\"backgroundcolor\": \"#E5ECF6\", \"gridcolor\": \"white\", \"gridwidth\": 2, \"linecolor\": \"white\", \"showbackground\": true, \"ticks\": \"\", \"zerolinecolor\": \"white\"}, \"yaxis\": {\"backgroundcolor\": \"#E5ECF6\", \"gridcolor\": \"white\", \"gridwidth\": 2, \"linecolor\": \"white\", \"showbackground\": true, \"ticks\": \"\", \"zerolinecolor\": \"white\"}, \"zaxis\": {\"backgroundcolor\": \"#E5ECF6\", \"gridcolor\": \"white\", \"gridwidth\": 2, \"linecolor\": \"white\", \"showbackground\": true, \"ticks\": \"\", \"zerolinecolor\": \"white\"}}, \"shapedefaults\": {\"line\": {\"color\": \"#2a3f5f\"}}, \"ternary\": {\"aaxis\": {\"gridcolor\": \"white\", \"linecolor\": \"white\", \"ticks\": \"\"}, \"baxis\": {\"gridcolor\": \"white\", \"linecolor\": \"white\", \"ticks\": \"\"}, \"bgcolor\": \"#E5ECF6\", \"caxis\": {\"gridcolor\": \"white\", \"linecolor\": \"white\", \"ticks\": \"\"}}, \"title\": {\"x\": 0.05}, \"xaxis\": {\"automargin\": true, \"gridcolor\": \"white\", \"linecolor\": \"white\", \"ticks\": \"\", \"zerolinecolor\": \"white\", \"zerolinewidth\": 2}, \"yaxis\": {\"automargin\": true, \"gridcolor\": \"white\", \"linecolor\": \"white\", \"ticks\": \"\", \"zerolinecolor\": \"white\", \"zerolinewidth\": 2}}}, \"xaxis\": {\"anchor\": \"y\", \"domain\": [0.0, 0.98], \"title\": {\"text\": \"time\"}}, \"yaxis\": {\"anchor\": \"x\", \"domain\": [0.0, 1.0], \"title\": {\"text\": \"total_bill\"}}},\n",
       "                        {\"responsive\": true}\n",
       "                    ).then(function(){\n",
       "                            \n",
       "var gd = document.getElementById('d025461b-c67d-46ef-a778-09ab95c6b062');\n",
       "var x = new MutationObserver(function (mutations, observer) {{\n",
       "        var display = window.getComputedStyle(gd).display;\n",
       "        if (!display || display === 'none') {{\n",
       "            console.log([gd, 'removed!']);\n",
       "            Plotly.purge(gd);\n",
       "            observer.disconnect();\n",
       "        }}\n",
       "}});\n",
       "\n",
       "// Listen for the removal of the full notebook cells\n",
       "var notebookContainer = gd.closest('#notebook-container');\n",
       "if (notebookContainer) {{\n",
       "    x.observe(notebookContainer, {childList: true});\n",
       "}}\n",
       "\n",
       "// Listen for the clearing of the current output cell\n",
       "var outputEl = gd.closest('.output');\n",
       "if (outputEl) {{\n",
       "    x.observe(outputEl, {childList: true});\n",
       "}}\n",
       "\n",
       "                        })\n",
       "                };\n",
       "                });\n",
       "            </script>\n",
       "        </div>"
      ]
     },
     "metadata": {},
     "output_type": "display_data"
    }
   ],
   "source": [
    "tips = px.data.tips()\n",
    "fig = px.box(tips, x=\"time\", y=\"total_bill\", points=\"all\")\n",
    "fig.show()"
   ]
  },
  {
   "cell_type": "code",
   "execution_count": 15,
   "metadata": {},
   "outputs": [
    {
     "data": {
      "application/vnd.plotly.v1+json": {
       "config": {
        "plotlyServerURL": "https://plot.ly"
       },
       "data": [
        {
         "alignmentgroup": "True",
         "boxpoints": "all",
         "hoverlabel": {
          "namelength": 0
         },
         "hovertemplate": "x=%{x}<br>y=%{y}",
         "legendgroup": "",
         "marker": {
          "color": "#636efa"
         },
         "name": "",
         "notched": false,
         "offsetgroup": "",
         "orientation": "v",
         "showlegend": false,
         "type": "box",
         "x": [
          1,
          1,
          1,
          1,
          1,
          1,
          1,
          1,
          1,
          1,
          1,
          1,
          1,
          1,
          1,
          1,
          1,
          1,
          1,
          1,
          1,
          1,
          1,
          1,
          1,
          1,
          1,
          1,
          1,
          1,
          1,
          1,
          1,
          1,
          1,
          1,
          1,
          1,
          1,
          1,
          1,
          1,
          1,
          1,
          1,
          1,
          1,
          1,
          1,
          1,
          1,
          1,
          1,
          1,
          1,
          1,
          1,
          1,
          1,
          1,
          1,
          1,
          1,
          1,
          1,
          1,
          1,
          1,
          1,
          1,
          1,
          1,
          1,
          1,
          1,
          1,
          1,
          1,
          1,
          1,
          1,
          1,
          1,
          1,
          1,
          1,
          1,
          1,
          1,
          1,
          1,
          1,
          1,
          1,
          1,
          1,
          1,
          1,
          1,
          1
         ],
         "x0": " ",
         "xaxis": "x",
         "y": [
          299.2980263449929,
          241.55963134765625,
          122.9591196233576,
          291.7151794433594,
          301.3819191672585,
          304.38421353426844,
          149.2839951948686,
          155.36515669389203,
          257.5415802001953,
          147.75991266424006,
          240.24104031649503,
          222.37044455788353,
          266.09982993386006,
          178.23258139870384,
          282.50886674360794,
          115.3432353626598,
          220.4997322776101,
          245.19379771839488,
          304.42320390181106,
          148.19937827370384,
          269.67107876864344,
          336.94273515181106,
          254.91108426180753,
          252.9547119140625,
          189.82533957741478,
          143.15322598544034,
          332.25516024502843,
          192.99916631525213,
          123.3365742076527,
          256.78640885786575,
          205.75004716352984,
          113.8742974021218,
          168.66911870783025,
          288.6426890980114,
          109.97543820467862,
          166.31814297762784,
          334.7256608442827,
          246.53695956143466,
          262.1022255637429,
          99.48637806285511,
          173.00618397105825,
          277.89356855912644,
          219.59311190518466,
          212.27362754128197,
          128.3440274325284,
          220.40576588023794,
          351.15399447354406,
          169.9112091064453,
          167.6397150213068,
          146.5167763449929,
          124.21976332231002,
          308.1104847301136,
          190.46000255237925,
          320.0725069912997,
          115.08659432151101,
          209.74170199307528,
          270.82908769087356,
          276.3466769131747,
          166.8391765247692,
          276.0736444646662,
          206.18045876242897,
          142.40730008212003,
          196.23669294877485,
          185.85353227095172,
          259.6662431196733,
          113.1716572154652,
          179.8918595747514,
          159.40971929376775,
          264.13156682794744,
          217.7875518798828,
          101.59601523659445,
          248.66490450772372,
          325.10660067471593,
          291.70614346590907,
          135.10271523215553,
          227.93588534268466,
          125.342153375799,
          252.50355529785156,
          239.77591635964134,
          175.84355302290484,
          310.7376181862571,
          125.24132953990589,
          307.57561978426844,
          221.85265697132456,
          219.69909113103694,
          201.28001403808594,
          159.86875360662287,
          246.00957142223012,
          293.24228737571025,
          208.35716247558594,
          333.65104536576706,
          218.32745083895597,
          229.90700045498934,
          294.8109158602628,
          129.0427641435103,
          148.98198214444247,
          149.65280983664772,
          246.53683332963422,
          140.9474764737216,
          305.545634876598
         ],
         "y0": " ",
         "yaxis": "y"
        }
       ],
       "layout": {
        "boxmode": "group",
        "height": 600,
        "legend": {
         "tracegroupgap": 0
        },
        "margin": {
         "t": 60
        },
        "template": {
         "data": {
          "bar": [
           {
            "error_x": {
             "color": "#2a3f5f"
            },
            "error_y": {
             "color": "#2a3f5f"
            },
            "marker": {
             "line": {
              "color": "#E5ECF6",
              "width": 0.5
             }
            },
            "type": "bar"
           }
          ],
          "barpolar": [
           {
            "marker": {
             "line": {
              "color": "#E5ECF6",
              "width": 0.5
             }
            },
            "type": "barpolar"
           }
          ],
          "carpet": [
           {
            "aaxis": {
             "endlinecolor": "#2a3f5f",
             "gridcolor": "white",
             "linecolor": "white",
             "minorgridcolor": "white",
             "startlinecolor": "#2a3f5f"
            },
            "baxis": {
             "endlinecolor": "#2a3f5f",
             "gridcolor": "white",
             "linecolor": "white",
             "minorgridcolor": "white",
             "startlinecolor": "#2a3f5f"
            },
            "type": "carpet"
           }
          ],
          "choropleth": [
           {
            "colorbar": {
             "outlinewidth": 0,
             "ticks": ""
            },
            "type": "choropleth"
           }
          ],
          "contour": [
           {
            "colorbar": {
             "outlinewidth": 0,
             "ticks": ""
            },
            "colorscale": [
             [
              0,
              "#0d0887"
             ],
             [
              0.1111111111111111,
              "#46039f"
             ],
             [
              0.2222222222222222,
              "#7201a8"
             ],
             [
              0.3333333333333333,
              "#9c179e"
             ],
             [
              0.4444444444444444,
              "#bd3786"
             ],
             [
              0.5555555555555556,
              "#d8576b"
             ],
             [
              0.6666666666666666,
              "#ed7953"
             ],
             [
              0.7777777777777778,
              "#fb9f3a"
             ],
             [
              0.8888888888888888,
              "#fdca26"
             ],
             [
              1,
              "#f0f921"
             ]
            ],
            "type": "contour"
           }
          ],
          "contourcarpet": [
           {
            "colorbar": {
             "outlinewidth": 0,
             "ticks": ""
            },
            "type": "contourcarpet"
           }
          ],
          "heatmap": [
           {
            "colorbar": {
             "outlinewidth": 0,
             "ticks": ""
            },
            "colorscale": [
             [
              0,
              "#0d0887"
             ],
             [
              0.1111111111111111,
              "#46039f"
             ],
             [
              0.2222222222222222,
              "#7201a8"
             ],
             [
              0.3333333333333333,
              "#9c179e"
             ],
             [
              0.4444444444444444,
              "#bd3786"
             ],
             [
              0.5555555555555556,
              "#d8576b"
             ],
             [
              0.6666666666666666,
              "#ed7953"
             ],
             [
              0.7777777777777778,
              "#fb9f3a"
             ],
             [
              0.8888888888888888,
              "#fdca26"
             ],
             [
              1,
              "#f0f921"
             ]
            ],
            "type": "heatmap"
           }
          ],
          "heatmapgl": [
           {
            "colorbar": {
             "outlinewidth": 0,
             "ticks": ""
            },
            "colorscale": [
             [
              0,
              "#0d0887"
             ],
             [
              0.1111111111111111,
              "#46039f"
             ],
             [
              0.2222222222222222,
              "#7201a8"
             ],
             [
              0.3333333333333333,
              "#9c179e"
             ],
             [
              0.4444444444444444,
              "#bd3786"
             ],
             [
              0.5555555555555556,
              "#d8576b"
             ],
             [
              0.6666666666666666,
              "#ed7953"
             ],
             [
              0.7777777777777778,
              "#fb9f3a"
             ],
             [
              0.8888888888888888,
              "#fdca26"
             ],
             [
              1,
              "#f0f921"
             ]
            ],
            "type": "heatmapgl"
           }
          ],
          "histogram": [
           {
            "marker": {
             "colorbar": {
              "outlinewidth": 0,
              "ticks": ""
             }
            },
            "type": "histogram"
           }
          ],
          "histogram2d": [
           {
            "colorbar": {
             "outlinewidth": 0,
             "ticks": ""
            },
            "colorscale": [
             [
              0,
              "#0d0887"
             ],
             [
              0.1111111111111111,
              "#46039f"
             ],
             [
              0.2222222222222222,
              "#7201a8"
             ],
             [
              0.3333333333333333,
              "#9c179e"
             ],
             [
              0.4444444444444444,
              "#bd3786"
             ],
             [
              0.5555555555555556,
              "#d8576b"
             ],
             [
              0.6666666666666666,
              "#ed7953"
             ],
             [
              0.7777777777777778,
              "#fb9f3a"
             ],
             [
              0.8888888888888888,
              "#fdca26"
             ],
             [
              1,
              "#f0f921"
             ]
            ],
            "type": "histogram2d"
           }
          ],
          "histogram2dcontour": [
           {
            "colorbar": {
             "outlinewidth": 0,
             "ticks": ""
            },
            "colorscale": [
             [
              0,
              "#0d0887"
             ],
             [
              0.1111111111111111,
              "#46039f"
             ],
             [
              0.2222222222222222,
              "#7201a8"
             ],
             [
              0.3333333333333333,
              "#9c179e"
             ],
             [
              0.4444444444444444,
              "#bd3786"
             ],
             [
              0.5555555555555556,
              "#d8576b"
             ],
             [
              0.6666666666666666,
              "#ed7953"
             ],
             [
              0.7777777777777778,
              "#fb9f3a"
             ],
             [
              0.8888888888888888,
              "#fdca26"
             ],
             [
              1,
              "#f0f921"
             ]
            ],
            "type": "histogram2dcontour"
           }
          ],
          "mesh3d": [
           {
            "colorbar": {
             "outlinewidth": 0,
             "ticks": ""
            },
            "type": "mesh3d"
           }
          ],
          "parcoords": [
           {
            "line": {
             "colorbar": {
              "outlinewidth": 0,
              "ticks": ""
             }
            },
            "type": "parcoords"
           }
          ],
          "scatter": [
           {
            "marker": {
             "colorbar": {
              "outlinewidth": 0,
              "ticks": ""
             }
            },
            "type": "scatter"
           }
          ],
          "scatter3d": [
           {
            "line": {
             "colorbar": {
              "outlinewidth": 0,
              "ticks": ""
             }
            },
            "marker": {
             "colorbar": {
              "outlinewidth": 0,
              "ticks": ""
             }
            },
            "type": "scatter3d"
           }
          ],
          "scattercarpet": [
           {
            "marker": {
             "colorbar": {
              "outlinewidth": 0,
              "ticks": ""
             }
            },
            "type": "scattercarpet"
           }
          ],
          "scattergeo": [
           {
            "marker": {
             "colorbar": {
              "outlinewidth": 0,
              "ticks": ""
             }
            },
            "type": "scattergeo"
           }
          ],
          "scattergl": [
           {
            "marker": {
             "colorbar": {
              "outlinewidth": 0,
              "ticks": ""
             }
            },
            "type": "scattergl"
           }
          ],
          "scattermapbox": [
           {
            "marker": {
             "colorbar": {
              "outlinewidth": 0,
              "ticks": ""
             }
            },
            "type": "scattermapbox"
           }
          ],
          "scatterpolar": [
           {
            "marker": {
             "colorbar": {
              "outlinewidth": 0,
              "ticks": ""
             }
            },
            "type": "scatterpolar"
           }
          ],
          "scatterpolargl": [
           {
            "marker": {
             "colorbar": {
              "outlinewidth": 0,
              "ticks": ""
             }
            },
            "type": "scatterpolargl"
           }
          ],
          "scatterternary": [
           {
            "marker": {
             "colorbar": {
              "outlinewidth": 0,
              "ticks": ""
             }
            },
            "type": "scatterternary"
           }
          ],
          "surface": [
           {
            "colorbar": {
             "outlinewidth": 0,
             "ticks": ""
            },
            "colorscale": [
             [
              0,
              "#0d0887"
             ],
             [
              0.1111111111111111,
              "#46039f"
             ],
             [
              0.2222222222222222,
              "#7201a8"
             ],
             [
              0.3333333333333333,
              "#9c179e"
             ],
             [
              0.4444444444444444,
              "#bd3786"
             ],
             [
              0.5555555555555556,
              "#d8576b"
             ],
             [
              0.6666666666666666,
              "#ed7953"
             ],
             [
              0.7777777777777778,
              "#fb9f3a"
             ],
             [
              0.8888888888888888,
              "#fdca26"
             ],
             [
              1,
              "#f0f921"
             ]
            ],
            "type": "surface"
           }
          ],
          "table": [
           {
            "cells": {
             "fill": {
              "color": "#EBF0F8"
             },
             "line": {
              "color": "white"
             }
            },
            "header": {
             "fill": {
              "color": "#C8D4E3"
             },
             "line": {
              "color": "white"
             }
            },
            "type": "table"
           }
          ]
         },
         "layout": {
          "annotationdefaults": {
           "arrowcolor": "#2a3f5f",
           "arrowhead": 0,
           "arrowwidth": 1
          },
          "colorscale": {
           "diverging": [
            [
             0,
             "#8e0152"
            ],
            [
             0.1,
             "#c51b7d"
            ],
            [
             0.2,
             "#de77ae"
            ],
            [
             0.3,
             "#f1b6da"
            ],
            [
             0.4,
             "#fde0ef"
            ],
            [
             0.5,
             "#f7f7f7"
            ],
            [
             0.6,
             "#e6f5d0"
            ],
            [
             0.7,
             "#b8e186"
            ],
            [
             0.8,
             "#7fbc41"
            ],
            [
             0.9,
             "#4d9221"
            ],
            [
             1,
             "#276419"
            ]
           ],
           "sequential": [
            [
             0,
             "#0d0887"
            ],
            [
             0.1111111111111111,
             "#46039f"
            ],
            [
             0.2222222222222222,
             "#7201a8"
            ],
            [
             0.3333333333333333,
             "#9c179e"
            ],
            [
             0.4444444444444444,
             "#bd3786"
            ],
            [
             0.5555555555555556,
             "#d8576b"
            ],
            [
             0.6666666666666666,
             "#ed7953"
            ],
            [
             0.7777777777777778,
             "#fb9f3a"
            ],
            [
             0.8888888888888888,
             "#fdca26"
            ],
            [
             1,
             "#f0f921"
            ]
           ],
           "sequentialminus": [
            [
             0,
             "#0d0887"
            ],
            [
             0.1111111111111111,
             "#46039f"
            ],
            [
             0.2222222222222222,
             "#7201a8"
            ],
            [
             0.3333333333333333,
             "#9c179e"
            ],
            [
             0.4444444444444444,
             "#bd3786"
            ],
            [
             0.5555555555555556,
             "#d8576b"
            ],
            [
             0.6666666666666666,
             "#ed7953"
            ],
            [
             0.7777777777777778,
             "#fb9f3a"
            ],
            [
             0.8888888888888888,
             "#fdca26"
            ],
            [
             1,
             "#f0f921"
            ]
           ]
          },
          "colorway": [
           "#636efa",
           "#EF553B",
           "#00cc96",
           "#ab63fa",
           "#FFA15A",
           "#19d3f3",
           "#FF6692",
           "#B6E880",
           "#FF97FF",
           "#FECB52"
          ],
          "font": {
           "color": "#2a3f5f"
          },
          "geo": {
           "bgcolor": "white",
           "lakecolor": "white",
           "landcolor": "#E5ECF6",
           "showlakes": true,
           "showland": true,
           "subunitcolor": "white"
          },
          "hoverlabel": {
           "align": "left"
          },
          "hovermode": "closest",
          "mapbox": {
           "style": "light"
          },
          "paper_bgcolor": "white",
          "plot_bgcolor": "#E5ECF6",
          "polar": {
           "angularaxis": {
            "gridcolor": "white",
            "linecolor": "white",
            "ticks": ""
           },
           "bgcolor": "#E5ECF6",
           "radialaxis": {
            "gridcolor": "white",
            "linecolor": "white",
            "ticks": ""
           }
          },
          "scene": {
           "xaxis": {
            "backgroundcolor": "#E5ECF6",
            "gridcolor": "white",
            "gridwidth": 2,
            "linecolor": "white",
            "showbackground": true,
            "ticks": "",
            "zerolinecolor": "white"
           },
           "yaxis": {
            "backgroundcolor": "#E5ECF6",
            "gridcolor": "white",
            "gridwidth": 2,
            "linecolor": "white",
            "showbackground": true,
            "ticks": "",
            "zerolinecolor": "white"
           },
           "zaxis": {
            "backgroundcolor": "#E5ECF6",
            "gridcolor": "white",
            "gridwidth": 2,
            "linecolor": "white",
            "showbackground": true,
            "ticks": "",
            "zerolinecolor": "white"
           }
          },
          "shapedefaults": {
           "line": {
            "color": "#2a3f5f"
           }
          },
          "ternary": {
           "aaxis": {
            "gridcolor": "white",
            "linecolor": "white",
            "ticks": ""
           },
           "baxis": {
            "gridcolor": "white",
            "linecolor": "white",
            "ticks": ""
           },
           "bgcolor": "#E5ECF6",
           "caxis": {
            "gridcolor": "white",
            "linecolor": "white",
            "ticks": ""
           }
          },
          "title": {
           "x": 0.05
          },
          "xaxis": {
           "automargin": true,
           "gridcolor": "white",
           "linecolor": "white",
           "ticks": "",
           "zerolinecolor": "white",
           "zerolinewidth": 2
          },
          "yaxis": {
           "automargin": true,
           "gridcolor": "white",
           "linecolor": "white",
           "ticks": "",
           "zerolinecolor": "white",
           "zerolinewidth": 2
          }
         }
        },
        "xaxis": {
         "anchor": "y",
         "domain": [
          0,
          0.98
         ],
         "title": {
          "text": "x"
         }
        },
        "yaxis": {
         "anchor": "x",
         "domain": [
          0,
          1
         ],
         "title": {
          "text": "y"
         }
        }
       }
      },
      "text/html": [
       "<div>\n",
       "        \n",
       "        \n",
       "            <div id=\"0de32221-a524-4d56-b8eb-f1b1520df815\" class=\"plotly-graph-div\" style=\"height:600px; width:100%;\"></div>\n",
       "            <script type=\"text/javascript\">\n",
       "                require([\"plotly\"], function(Plotly) {\n",
       "                    window.PLOTLYENV=window.PLOTLYENV || {};\n",
       "                    \n",
       "                if (document.getElementById(\"0de32221-a524-4d56-b8eb-f1b1520df815\")) {\n",
       "                    Plotly.newPlot(\n",
       "                        '0de32221-a524-4d56-b8eb-f1b1520df815',\n",
       "                        [{\"alignmentgroup\": \"True\", \"boxpoints\": \"all\", \"hoverlabel\": {\"namelength\": 0}, \"hovertemplate\": \"x=%{x}<br>y=%{y}\", \"legendgroup\": \"\", \"marker\": {\"color\": \"#636efa\"}, \"name\": \"\", \"notched\": false, \"offsetgroup\": \"\", \"orientation\": \"v\", \"showlegend\": false, \"type\": \"box\", \"x\": [1, 1, 1, 1, 1, 1, 1, 1, 1, 1, 1, 1, 1, 1, 1, 1, 1, 1, 1, 1, 1, 1, 1, 1, 1, 1, 1, 1, 1, 1, 1, 1, 1, 1, 1, 1, 1, 1, 1, 1, 1, 1, 1, 1, 1, 1, 1, 1, 1, 1, 1, 1, 1, 1, 1, 1, 1, 1, 1, 1, 1, 1, 1, 1, 1, 1, 1, 1, 1, 1, 1, 1, 1, 1, 1, 1, 1, 1, 1, 1, 1, 1, 1, 1, 1, 1, 1, 1, 1, 1, 1, 1, 1, 1, 1, 1, 1, 1, 1, 1], \"x0\": \" \", \"xaxis\": \"x\", \"y\": [299.2980263449929, 241.55963134765625, 122.9591196233576, 291.7151794433594, 301.3819191672585, 304.38421353426844, 149.2839951948686, 155.36515669389203, 257.5415802001953, 147.75991266424006, 240.24104031649503, 222.37044455788353, 266.09982993386006, 178.23258139870384, 282.50886674360794, 115.3432353626598, 220.4997322776101, 245.19379771839488, 304.42320390181106, 148.19937827370384, 269.67107876864344, 336.94273515181106, 254.91108426180753, 252.9547119140625, 189.82533957741478, 143.15322598544034, 332.25516024502843, 192.99916631525213, 123.3365742076527, 256.78640885786575, 205.75004716352984, 113.8742974021218, 168.66911870783025, 288.6426890980114, 109.97543820467862, 166.31814297762784, 334.7256608442827, 246.53695956143466, 262.1022255637429, 99.48637806285511, 173.00618397105825, 277.89356855912644, 219.59311190518466, 212.27362754128197, 128.3440274325284, 220.40576588023794, 351.15399447354406, 169.9112091064453, 167.6397150213068, 146.5167763449929, 124.21976332231002, 308.1104847301136, 190.46000255237925, 320.0725069912997, 115.08659432151101, 209.74170199307528, 270.82908769087356, 276.3466769131747, 166.8391765247692, 276.0736444646662, 206.18045876242897, 142.40730008212003, 196.23669294877485, 185.85353227095172, 259.6662431196733, 113.1716572154652, 179.8918595747514, 159.40971929376775, 264.13156682794744, 217.7875518798828, 101.59601523659445, 248.66490450772372, 325.10660067471593, 291.70614346590907, 135.10271523215553, 227.93588534268466, 125.342153375799, 252.50355529785156, 239.77591635964134, 175.84355302290484, 310.7376181862571, 125.24132953990589, 307.57561978426844, 221.85265697132456, 219.69909113103694, 201.28001403808594, 159.86875360662287, 246.00957142223012, 293.24228737571025, 208.35716247558594, 333.65104536576706, 218.32745083895597, 229.90700045498934, 294.8109158602628, 129.0427641435103, 148.98198214444247, 149.65280983664772, 246.53683332963422, 140.9474764737216, 305.545634876598], \"y0\": \" \", \"yaxis\": \"y\"}],\n",
       "                        {\"boxmode\": \"group\", \"height\": 600, \"legend\": {\"tracegroupgap\": 0}, \"margin\": {\"t\": 60}, \"template\": {\"data\": {\"bar\": [{\"error_x\": {\"color\": \"#2a3f5f\"}, \"error_y\": {\"color\": \"#2a3f5f\"}, \"marker\": {\"line\": {\"color\": \"#E5ECF6\", \"width\": 0.5}}, \"type\": \"bar\"}], \"barpolar\": [{\"marker\": {\"line\": {\"color\": \"#E5ECF6\", \"width\": 0.5}}, \"type\": \"barpolar\"}], \"carpet\": [{\"aaxis\": {\"endlinecolor\": \"#2a3f5f\", \"gridcolor\": \"white\", \"linecolor\": \"white\", \"minorgridcolor\": \"white\", \"startlinecolor\": \"#2a3f5f\"}, \"baxis\": {\"endlinecolor\": \"#2a3f5f\", \"gridcolor\": \"white\", \"linecolor\": \"white\", \"minorgridcolor\": \"white\", \"startlinecolor\": \"#2a3f5f\"}, \"type\": \"carpet\"}], \"choropleth\": [{\"colorbar\": {\"outlinewidth\": 0, \"ticks\": \"\"}, \"type\": \"choropleth\"}], \"contour\": [{\"colorbar\": {\"outlinewidth\": 0, \"ticks\": \"\"}, \"colorscale\": [[0.0, \"#0d0887\"], [0.1111111111111111, \"#46039f\"], [0.2222222222222222, \"#7201a8\"], [0.3333333333333333, \"#9c179e\"], [0.4444444444444444, \"#bd3786\"], [0.5555555555555556, \"#d8576b\"], [0.6666666666666666, \"#ed7953\"], [0.7777777777777778, \"#fb9f3a\"], [0.8888888888888888, \"#fdca26\"], [1.0, \"#f0f921\"]], \"type\": \"contour\"}], \"contourcarpet\": [{\"colorbar\": {\"outlinewidth\": 0, \"ticks\": \"\"}, \"type\": \"contourcarpet\"}], \"heatmap\": [{\"colorbar\": {\"outlinewidth\": 0, \"ticks\": \"\"}, \"colorscale\": [[0.0, \"#0d0887\"], [0.1111111111111111, \"#46039f\"], [0.2222222222222222, \"#7201a8\"], [0.3333333333333333, \"#9c179e\"], [0.4444444444444444, \"#bd3786\"], [0.5555555555555556, \"#d8576b\"], [0.6666666666666666, \"#ed7953\"], [0.7777777777777778, \"#fb9f3a\"], [0.8888888888888888, \"#fdca26\"], [1.0, \"#f0f921\"]], \"type\": \"heatmap\"}], \"heatmapgl\": [{\"colorbar\": {\"outlinewidth\": 0, \"ticks\": \"\"}, \"colorscale\": [[0.0, \"#0d0887\"], [0.1111111111111111, \"#46039f\"], [0.2222222222222222, \"#7201a8\"], [0.3333333333333333, \"#9c179e\"], [0.4444444444444444, \"#bd3786\"], [0.5555555555555556, \"#d8576b\"], [0.6666666666666666, \"#ed7953\"], [0.7777777777777778, \"#fb9f3a\"], [0.8888888888888888, \"#fdca26\"], [1.0, \"#f0f921\"]], \"type\": \"heatmapgl\"}], \"histogram\": [{\"marker\": {\"colorbar\": {\"outlinewidth\": 0, \"ticks\": \"\"}}, \"type\": \"histogram\"}], \"histogram2d\": [{\"colorbar\": {\"outlinewidth\": 0, \"ticks\": \"\"}, \"colorscale\": [[0.0, \"#0d0887\"], [0.1111111111111111, \"#46039f\"], [0.2222222222222222, \"#7201a8\"], [0.3333333333333333, \"#9c179e\"], [0.4444444444444444, \"#bd3786\"], [0.5555555555555556, \"#d8576b\"], [0.6666666666666666, \"#ed7953\"], [0.7777777777777778, \"#fb9f3a\"], [0.8888888888888888, \"#fdca26\"], [1.0, \"#f0f921\"]], \"type\": \"histogram2d\"}], \"histogram2dcontour\": [{\"colorbar\": {\"outlinewidth\": 0, \"ticks\": \"\"}, \"colorscale\": [[0.0, \"#0d0887\"], [0.1111111111111111, \"#46039f\"], [0.2222222222222222, \"#7201a8\"], [0.3333333333333333, \"#9c179e\"], [0.4444444444444444, \"#bd3786\"], [0.5555555555555556, \"#d8576b\"], [0.6666666666666666, \"#ed7953\"], [0.7777777777777778, \"#fb9f3a\"], [0.8888888888888888, \"#fdca26\"], [1.0, \"#f0f921\"]], \"type\": \"histogram2dcontour\"}], \"mesh3d\": [{\"colorbar\": {\"outlinewidth\": 0, \"ticks\": \"\"}, \"type\": \"mesh3d\"}], \"parcoords\": [{\"line\": {\"colorbar\": {\"outlinewidth\": 0, \"ticks\": \"\"}}, \"type\": \"parcoords\"}], \"scatter\": [{\"marker\": {\"colorbar\": {\"outlinewidth\": 0, \"ticks\": \"\"}}, \"type\": \"scatter\"}], \"scatter3d\": [{\"line\": {\"colorbar\": {\"outlinewidth\": 0, \"ticks\": \"\"}}, \"marker\": {\"colorbar\": {\"outlinewidth\": 0, \"ticks\": \"\"}}, \"type\": \"scatter3d\"}], \"scattercarpet\": [{\"marker\": {\"colorbar\": {\"outlinewidth\": 0, \"ticks\": \"\"}}, \"type\": \"scattercarpet\"}], \"scattergeo\": [{\"marker\": {\"colorbar\": {\"outlinewidth\": 0, \"ticks\": \"\"}}, \"type\": \"scattergeo\"}], \"scattergl\": [{\"marker\": {\"colorbar\": {\"outlinewidth\": 0, \"ticks\": \"\"}}, \"type\": \"scattergl\"}], \"scattermapbox\": [{\"marker\": {\"colorbar\": {\"outlinewidth\": 0, \"ticks\": \"\"}}, \"type\": \"scattermapbox\"}], \"scatterpolar\": [{\"marker\": {\"colorbar\": {\"outlinewidth\": 0, \"ticks\": \"\"}}, \"type\": \"scatterpolar\"}], \"scatterpolargl\": [{\"marker\": {\"colorbar\": {\"outlinewidth\": 0, \"ticks\": \"\"}}, \"type\": \"scatterpolargl\"}], \"scatterternary\": [{\"marker\": {\"colorbar\": {\"outlinewidth\": 0, \"ticks\": \"\"}}, \"type\": \"scatterternary\"}], \"surface\": [{\"colorbar\": {\"outlinewidth\": 0, \"ticks\": \"\"}, \"colorscale\": [[0.0, \"#0d0887\"], [0.1111111111111111, \"#46039f\"], [0.2222222222222222, \"#7201a8\"], [0.3333333333333333, \"#9c179e\"], [0.4444444444444444, \"#bd3786\"], [0.5555555555555556, \"#d8576b\"], [0.6666666666666666, \"#ed7953\"], [0.7777777777777778, \"#fb9f3a\"], [0.8888888888888888, \"#fdca26\"], [1.0, \"#f0f921\"]], \"type\": \"surface\"}], \"table\": [{\"cells\": {\"fill\": {\"color\": \"#EBF0F8\"}, \"line\": {\"color\": \"white\"}}, \"header\": {\"fill\": {\"color\": \"#C8D4E3\"}, \"line\": {\"color\": \"white\"}}, \"type\": \"table\"}]}, \"layout\": {\"annotationdefaults\": {\"arrowcolor\": \"#2a3f5f\", \"arrowhead\": 0, \"arrowwidth\": 1}, \"colorscale\": {\"diverging\": [[0, \"#8e0152\"], [0.1, \"#c51b7d\"], [0.2, \"#de77ae\"], [0.3, \"#f1b6da\"], [0.4, \"#fde0ef\"], [0.5, \"#f7f7f7\"], [0.6, \"#e6f5d0\"], [0.7, \"#b8e186\"], [0.8, \"#7fbc41\"], [0.9, \"#4d9221\"], [1, \"#276419\"]], \"sequential\": [[0.0, \"#0d0887\"], [0.1111111111111111, \"#46039f\"], [0.2222222222222222, \"#7201a8\"], [0.3333333333333333, \"#9c179e\"], [0.4444444444444444, \"#bd3786\"], [0.5555555555555556, \"#d8576b\"], [0.6666666666666666, \"#ed7953\"], [0.7777777777777778, \"#fb9f3a\"], [0.8888888888888888, \"#fdca26\"], [1.0, \"#f0f921\"]], \"sequentialminus\": [[0.0, \"#0d0887\"], [0.1111111111111111, \"#46039f\"], [0.2222222222222222, \"#7201a8\"], [0.3333333333333333, \"#9c179e\"], [0.4444444444444444, \"#bd3786\"], [0.5555555555555556, \"#d8576b\"], [0.6666666666666666, \"#ed7953\"], [0.7777777777777778, \"#fb9f3a\"], [0.8888888888888888, \"#fdca26\"], [1.0, \"#f0f921\"]]}, \"colorway\": [\"#636efa\", \"#EF553B\", \"#00cc96\", \"#ab63fa\", \"#FFA15A\", \"#19d3f3\", \"#FF6692\", \"#B6E880\", \"#FF97FF\", \"#FECB52\"], \"font\": {\"color\": \"#2a3f5f\"}, \"geo\": {\"bgcolor\": \"white\", \"lakecolor\": \"white\", \"landcolor\": \"#E5ECF6\", \"showlakes\": true, \"showland\": true, \"subunitcolor\": \"white\"}, \"hoverlabel\": {\"align\": \"left\"}, \"hovermode\": \"closest\", \"mapbox\": {\"style\": \"light\"}, \"paper_bgcolor\": \"white\", \"plot_bgcolor\": \"#E5ECF6\", \"polar\": {\"angularaxis\": {\"gridcolor\": \"white\", \"linecolor\": \"white\", \"ticks\": \"\"}, \"bgcolor\": \"#E5ECF6\", \"radialaxis\": {\"gridcolor\": \"white\", \"linecolor\": \"white\", \"ticks\": \"\"}}, \"scene\": {\"xaxis\": {\"backgroundcolor\": \"#E5ECF6\", \"gridcolor\": \"white\", \"gridwidth\": 2, \"linecolor\": \"white\", \"showbackground\": true, \"ticks\": \"\", \"zerolinecolor\": \"white\"}, \"yaxis\": {\"backgroundcolor\": \"#E5ECF6\", \"gridcolor\": \"white\", \"gridwidth\": 2, \"linecolor\": \"white\", \"showbackground\": true, \"ticks\": \"\", \"zerolinecolor\": \"white\"}, \"zaxis\": {\"backgroundcolor\": \"#E5ECF6\", \"gridcolor\": \"white\", \"gridwidth\": 2, \"linecolor\": \"white\", \"showbackground\": true, \"ticks\": \"\", \"zerolinecolor\": \"white\"}}, \"shapedefaults\": {\"line\": {\"color\": \"#2a3f5f\"}}, \"ternary\": {\"aaxis\": {\"gridcolor\": \"white\", \"linecolor\": \"white\", \"ticks\": \"\"}, \"baxis\": {\"gridcolor\": \"white\", \"linecolor\": \"white\", \"ticks\": \"\"}, \"bgcolor\": \"#E5ECF6\", \"caxis\": {\"gridcolor\": \"white\", \"linecolor\": \"white\", \"ticks\": \"\"}}, \"title\": {\"x\": 0.05}, \"xaxis\": {\"automargin\": true, \"gridcolor\": \"white\", \"linecolor\": \"white\", \"ticks\": \"\", \"zerolinecolor\": \"white\", \"zerolinewidth\": 2}, \"yaxis\": {\"automargin\": true, \"gridcolor\": \"white\", \"linecolor\": \"white\", \"ticks\": \"\", \"zerolinecolor\": \"white\", \"zerolinewidth\": 2}}}, \"xaxis\": {\"anchor\": \"y\", \"domain\": [0.0, 0.98], \"title\": {\"text\": \"x\"}}, \"yaxis\": {\"anchor\": \"x\", \"domain\": [0.0, 1.0], \"title\": {\"text\": \"y\"}}},\n",
       "                        {\"responsive\": true}\n",
       "                    ).then(function(){\n",
       "                            \n",
       "var gd = document.getElementById('0de32221-a524-4d56-b8eb-f1b1520df815');\n",
       "var x = new MutationObserver(function (mutations, observer) {{\n",
       "        var display = window.getComputedStyle(gd).display;\n",
       "        if (!display || display === 'none') {{\n",
       "            console.log([gd, 'removed!']);\n",
       "            Plotly.purge(gd);\n",
       "            observer.disconnect();\n",
       "        }}\n",
       "}});\n",
       "\n",
       "// Listen for the removal of the full notebook cells\n",
       "var notebookContainer = gd.closest('#notebook-container');\n",
       "if (notebookContainer) {{\n",
       "    x.observe(notebookContainer, {childList: true});\n",
       "}}\n",
       "\n",
       "// Listen for the clearing of the current output cell\n",
       "var outputEl = gd.closest('.output');\n",
       "if (outputEl) {{\n",
       "    x.observe(outputEl, {childList: true});\n",
       "}}\n",
       "\n",
       "                        })\n",
       "                };\n",
       "                });\n",
       "            </script>\n",
       "        </div>"
      ]
     },
     "metadata": {},
     "output_type": "display_data"
    }
   ],
   "source": [
    "import plotly.express as px\n",
    "for unit in unit_arr[:1]:\n",
    "    best_scores = np.load(join(basedir, \"%s_%s_%d\" % (unit[0], unit[1], unit[2]), \"best_scores.npy\"))\n",
    "    fig =  px.box(x=[1]*best_scores.shape[0], y=best_scores.mean(axis=1), points=\"all\", labels=)\n",
    "fig.show()"
   ]
  },
  {
   "cell_type": "code",
   "execution_count": 47,
   "metadata": {},
   "outputs": [
    {
     "data": {
      "application/vnd.plotly.v1+json": {
       "config": {
        "plotlyServerURL": "https://plot.ly"
       },
       "data": [
        {
         "mode": "markers",
         "name": "conv1_Rand50d",
         "showlegend": true,
         "type": "scatter",
         "x": [
          0,
          0,
          0,
          0,
          0,
          0,
          0,
          0,
          0,
          0,
          0,
          0,
          0,
          0,
          0,
          0,
          0,
          0,
          0,
          0,
          0,
          0,
          0,
          0,
          0,
          0,
          0,
          0,
          0,
          0,
          0,
          0,
          0,
          0,
          0,
          0,
          0,
          0,
          0,
          0,
          0,
          0,
          0,
          0,
          0,
          0,
          0,
          0,
          0,
          0,
          0,
          0,
          0,
          0,
          0,
          0,
          0,
          0,
          0,
          0,
          0,
          0,
          0,
          0,
          0,
          0,
          0,
          0,
          0,
          0,
          0,
          0,
          0,
          0,
          0,
          0,
          0,
          0,
          0,
          0,
          0,
          0,
          0,
          0,
          0,
          0,
          0,
          0,
          0,
          0,
          0,
          0,
          0,
          0,
          0,
          0,
          0,
          0,
          0,
          0
         ],
         "y": [
          2806.361993963068,
          2810.5685813210225,
          2168.6185191761365,
          2785.4035866477275,
          2834.378750887784,
          2706.6720747514205,
          2895.551202947443,
          2851.363680752841,
          2824.7559037642045,
          2872.7762562144885,
          2620.5534889914775,
          2663.4864390980115,
          2866.9677956321025,
          2674.959383877841,
          2745.9403187144885,
          2711.5427024147725,
          2645.117098721591,
          2718.2309348366475,
          2254.154385653409,
          2697.585116299716,
          2879.805841619318,
          2873.1182084517045,
          2625.00146484375,
          2823.2687766335225,
          2669.64599609375,
          2610.340909090909,
          2698.579034978693,
          2745.0086780894885,
          2778.0821644176135,
          2724.8757768110795,
          2616.972745028409,
          2861.4388316761365,
          2763.9889026988635,
          2358.432306463068,
          2720.484929865057,
          2733.6949573863635,
          2750.3966175426135,
          2671.8066850142045,
          2497.3313210227275,
          2272.4462890625,
          2752.199884588068,
          2739.123601740057,
          2651.2666459517045,
          2833.948397549716,
          2853.6551624644885,
          2653.283846768466,
          2604.236239346591,
          2766.381991299716,
          2851.443670099432,
          2789.847567471591,
          2764.252840909091,
          2739.7672895951705,
          2886.1922718394885,
          2780.9124644886365,
          2696.5432350852275,
          2697.675692471591,
          1308.6723743785512,
          2814.6228249289775,
          2756.9056507457385,
          2787.861261541193,
          2666.665460759943,
          2831.6482155539775,
          2658.750399502841,
          2908.533846768466,
          2476.742431640625,
          2726.1251331676135,
          2733.472500887784,
          2632.278076171875,
          2684.101162997159,
          2582.5034623579545,
          2791.303466796875,
          2674.8026234019885,
          2723.94775390625,
          2615.335271661932,
          2784.677179509943,
          2760.256014737216,
          2791.3601518110795,
          2731.2260520241475,
          2766.9076926491475,
          2588.6463734019885,
          2818.4526589133525,
          2756.952880859375,
          2738.971835049716,
          2802.482599431818,
          2556.8496537642045,
          2672.7290261008525,
          2729.190984552557,
          2386.710848721591,
          2739.410067471591,
          2741.439297762784,
          2677.586004083807,
          2864.110529119318,
          2778.168279474432,
          2824.2496448863635,
          2636.1125044389205,
          2807.5867808948865,
          2845.4968039772725,
          2881.4299094460225,
          2633.4579634232955,
          2824.386785333807
         ]
        },
        {
         "mode": "markers",
         "name": "conv1_Full",
         "showlegend": true,
         "type": "scatter",
         "x": [
          0,
          0,
          0,
          0,
          0,
          0,
          0,
          0,
          0,
          0,
          0,
          0,
          0,
          0,
          0,
          0,
          0,
          0,
          0,
          0
         ],
         "y": [
          3081.863614169034,
          3058.277432528409,
          3035.0235484730115,
          3081.3390891335225,
          3067.9644664417615,
          3090.5288529829545,
          3075.608709161932,
          3073.910977450284,
          3058.410222833807,
          3042.138916015625,
          3064.895086115057,
          3035.0801003196025,
          3074.510919744318,
          3057.672052556818,
          3081.3057972301135,
          3082.7564808238635,
          3097.5569957386365,
          3045.7939231178975,
          3080.3755326704545,
          3033.756591796875
         ]
        },
        {
         "mode": "markers",
         "name": "conv2_Rand50d",
         "showlegend": true,
         "type": "scatter",
         "x": [
          1,
          1,
          1,
          1,
          1,
          1,
          1,
          1,
          1,
          1,
          1,
          1,
          1,
          1,
          1,
          1,
          1,
          1,
          1,
          1,
          1,
          1,
          1,
          1,
          1,
          1,
          1,
          1,
          1,
          1,
          1,
          1,
          1,
          1,
          1,
          1,
          1,
          1,
          1,
          1,
          1,
          1,
          1,
          1,
          1,
          1,
          1,
          1,
          1,
          1,
          1,
          1,
          1,
          1,
          1,
          1,
          1,
          1,
          1,
          1,
          1,
          1,
          1,
          1,
          1,
          1,
          1,
          1,
          1,
          1,
          1,
          1,
          1,
          1,
          1,
          1,
          1,
          1,
          1,
          1,
          1,
          1,
          1,
          1,
          1,
          1,
          1,
          1,
          1,
          1,
          1,
          1,
          1,
          1,
          1,
          1,
          1,
          1,
          1,
          1
         ],
         "y": [
          415.6943664550781,
          410.81503850763494,
          410.32031804865056,
          410.9117542613636,
          391.18574662642044,
          367.9810901988636,
          384.6643565784801,
          372.8160872025923,
          421.7431168989702,
          388.32019597833806,
          374.0610046386719,
          392.08595137162644,
          409.5063310102983,
          394.3848571777344,
          369.1555092551491,
          432.9280728426847,
          374.26001531427556,
          387.07325605912644,
          405.82031804865056,
          391.28869074041194,
          407.86376953125,
          384.01502019708806,
          415.1106706099077,
          409.7303300337358,
          427.1597040349787,
          399.5173256613991,
          382.4037364612926,
          388.49368563565343,
          395.2804648659446,
          423.5341047807173,
          315.8517372824929,
          367.19610873135656,
          384.64143787730825,
          433.1958035555753,
          393.4695767489347,
          385.5320878462358,
          415.28350552645594,
          393.8280584161932,
          406.8694596724077,
          400.445556640625,
          425.6419317072088,
          395.5880820534446,
          399.5438065962358,
          382.5399697043679,
          411.6638266823509,
          386.93496149236506,
          380.82795854048294,
          397.61700716885656,
          399.2228282581676,
          389.4440834738991,
          389.2607338645241,
          400.25960193980825,
          353.0336442427202,
          403.93751387162644,
          436.08200628107244,
          370.22177956321025,
          434.9570784135298,
          425.35272216796875,
          380.0740855823864,
          382.7265264337713,
          358.08343228426844,
          400.2385725541548,
          427.8043961958452,
          366.09604436700994,
          402.9837646484375,
          395.606728293679,
          414.7142139781605,
          372.0837679776278,
          414.37758567116475,
          458.4992786754261,
          394.009560324929,
          387.35782137784093,
          373.1646201393821,
          397.6042314009233,
          380.0039561878551,
          407.4136657714844,
          414.7594854181463,
          405.5156527432528,
          392.109599720348,
          360.0474326393821,
          413.1824867942116,
          409.7333484996449,
          436.4123063520952,
          383.75994595614344,
          397.1131397594105,
          385.7248424183239,
          460.5920437899503,
          386.44561767578125,
          404.9247492009943,
          408.4568814364347,
          382.9051014293324,
          400.96891368519175,
          397.2576932040128,
          411.19865278764206,
          391.427959095348,
          354.55798894708806,
          404.9173223322088,
          412.0275906649503,
          420.1081431995739,
          418.0699157714844
         ]
        },
        {
         "mode": "markers",
         "name": "conv2_Full",
         "showlegend": true,
         "type": "scatter",
         "x": [
          1,
          1,
          1,
          1,
          1,
          1,
          1,
          1,
          1,
          1,
          1,
          1,
          1,
          1,
          1,
          1,
          1,
          1,
          1,
          1
         ],
         "y": [
          508.6222284490412,
          487.6428056196733,
          456.9993508078835,
          505.8417691317472,
          502.4564597389915,
          509.489296653054,
          517.3283330743963,
          490.0106228915128,
          511.9381103515625,
          511.36358642578125,
          513.227070201527,
          503.59667413884944,
          467.96097079190343,
          495.06846757368606,
          493.29925259676844,
          496.9863836115057,
          486.94291270862925,
          501.8221907182173,
          503.4320151589134,
          514.8619689941406
         ]
        },
        {
         "mode": "markers",
         "name": "conv3_Rand50d",
         "showlegend": true,
         "type": "scatter",
         "x": [
          2,
          2,
          2,
          2,
          2,
          2,
          2,
          2,
          2,
          2,
          2,
          2,
          2,
          2,
          2,
          2,
          2,
          2,
          2,
          2,
          2,
          2,
          2,
          2,
          2,
          2,
          2,
          2,
          2,
          2,
          2,
          2,
          2,
          2,
          2,
          2,
          2,
          2,
          2,
          2,
          2,
          2,
          2,
          2,
          2,
          2,
          2,
          2,
          2,
          2,
          2,
          2,
          2,
          2,
          2,
          2,
          2,
          2,
          2,
          2,
          2,
          2,
          2,
          2,
          2,
          2,
          2,
          2,
          2,
          2,
          2,
          2,
          2,
          2,
          2,
          2,
          2,
          2,
          2,
          2,
          2,
          2,
          2,
          2,
          2,
          2,
          2,
          2,
          2,
          2,
          2,
          2,
          2,
          2,
          2,
          2,
          2,
          2,
          2,
          2
         ],
         "y": [
          299.2980263449929,
          241.55963134765625,
          122.9591196233576,
          291.7151794433594,
          301.3819191672585,
          304.38421353426844,
          149.2839951948686,
          155.36515669389203,
          257.5415802001953,
          147.75991266424006,
          240.24104031649503,
          222.37044455788353,
          266.09982993386006,
          178.23258139870384,
          282.50886674360794,
          115.3432353626598,
          220.4997322776101,
          245.19379771839488,
          304.42320390181106,
          148.19937827370384,
          269.67107876864344,
          336.94273515181106,
          254.91108426180753,
          252.9547119140625,
          189.82533957741478,
          143.15322598544034,
          332.25516024502843,
          192.99916631525213,
          123.3365742076527,
          256.78640885786575,
          205.75004716352984,
          113.8742974021218,
          168.66911870783025,
          288.6426890980114,
          109.97543820467862,
          166.31814297762784,
          334.7256608442827,
          246.53695956143466,
          262.1022255637429,
          99.48637806285511,
          173.00618397105825,
          277.89356855912644,
          219.59311190518466,
          212.27362754128197,
          128.3440274325284,
          220.40576588023794,
          351.15399447354406,
          169.9112091064453,
          167.6397150213068,
          146.5167763449929,
          124.21976332231002,
          308.1104847301136,
          190.46000255237925,
          320.0725069912997,
          115.08659432151101,
          209.74170199307528,
          270.82908769087356,
          276.3466769131747,
          166.8391765247692,
          276.0736444646662,
          206.18045876242897,
          142.40730008212003,
          196.23669294877485,
          185.85353227095172,
          259.6662431196733,
          113.1716572154652,
          179.8918595747514,
          159.40971929376775,
          264.13156682794744,
          217.7875518798828,
          101.59601523659445,
          248.66490450772372,
          325.10660067471593,
          291.70614346590907,
          135.10271523215553,
          227.93588534268466,
          125.342153375799,
          252.50355529785156,
          239.77591635964134,
          175.84355302290484,
          310.7376181862571,
          125.24132953990589,
          307.57561978426844,
          221.85265697132456,
          219.69909113103694,
          201.28001403808594,
          159.86875360662287,
          246.00957142223012,
          293.24228737571025,
          208.35716247558594,
          333.65104536576706,
          218.32745083895597,
          229.90700045498934,
          294.8109158602628,
          129.0427641435103,
          148.98198214444247,
          149.65280983664772,
          246.53683332963422,
          140.9474764737216,
          305.545634876598
         ]
        },
        {
         "mode": "markers",
         "name": "conv3_Full",
         "showlegend": true,
         "type": "scatter",
         "x": [
          2,
          2,
          2,
          2,
          2,
          2,
          2,
          2,
          2,
          2,
          2,
          2,
          2,
          2,
          2,
          2,
          2,
          2,
          2,
          2
         ],
         "y": [
          368.8588783957741,
          379.58905029296875,
          380.84126697887075,
          370.88247958096593,
          382.49517544833094,
          380.85862038352275,
          373.97188221324575,
          383.2555209073153,
          354.0792957652699,
          383.22123302112925,
          378.89793534712356,
          344.3472733931108,
          360.9562461159446,
          369.6029912775213,
          388.04568758877843,
          381.1342606977983,
          365.44828657670456,
          381.2212663130327,
          355.4893410422585,
          379.4041026722301
         ]
        },
        {
         "mode": "markers",
         "name": "conv4_Rand50d",
         "showlegend": true,
         "type": "scatter",
         "x": [
          3,
          3,
          3,
          3,
          3,
          3,
          3,
          3,
          3,
          3,
          3,
          3,
          3,
          3,
          3,
          3,
          3,
          3,
          3,
          3,
          3,
          3,
          3,
          3,
          3,
          3,
          3,
          3,
          3,
          3,
          3,
          3,
          3,
          3,
          3,
          3,
          3,
          3,
          3,
          3,
          3,
          3,
          3,
          3,
          3,
          3,
          3,
          3,
          3,
          3,
          3,
          3,
          3,
          3,
          3,
          3,
          3,
          3,
          3,
          3,
          3,
          3,
          3,
          3,
          3,
          3,
          3,
          3,
          3,
          3,
          3,
          3,
          3,
          3,
          3,
          3,
          3,
          3,
          3,
          3,
          3,
          3,
          3,
          3,
          3,
          3,
          3,
          3,
          3,
          3,
          3,
          3,
          3,
          3,
          3,
          3,
          3,
          3,
          3,
          3
         ],
         "y": [
          140.05547124689275,
          143.976806640625,
          162.08251675692472,
          127.14820723100142,
          178.60157914595172,
          183.57345858487216,
          148.53626598011363,
          173.73312655362216,
          126.071345242587,
          149.2447648481889,
          160.74313631924716,
          160.69637229225853,
          118.05059675736861,
          166.38720009543678,
          167.66442732377485,
          130.9616047252308,
          160.57195073908025,
          177.62302468039772,
          135.05596230246803,
          159.36424116654828,
          119.44457869096236,
          142.77177984064275,
          171.80953008478338,
          138.52510486949575,
          157.4384238503196,
          147.14995644309303,
          147.70553727583453,
          169.20066278631037,
          154.82217545942828,
          167.6680242365057,
          142.1511494029652,
          130.76005970348012,
          124.01919278231534,
          127.00974412397905,
          154.03718012029475,
          161.2204229181463,
          195.43755409934303,
          175.99040499600497,
          136.35246831720525,
          202.20185713334516,
          106.92316575483842,
          164.49212923916903,
          136.09085499156606,
          150.7194033536044,
          114.81072720614347,
          153.39028791947797,
          169.20167264071378,
          157.07237104936078,
          154.1993144642223,
          151.01942582563922,
          152.4509013782848,
          126.76485373757102,
          111.50644822554155,
          143.46780118075284,
          126.36274719238281,
          200.65914916992188,
          166.69495322487572,
          159.0111347545277,
          183.42139226740056,
          172.37513732910156,
          171.31885875355113,
          150.43361594460228,
          152.63125749067828,
          181.28974359685725,
          146.3675009987571,
          148.5591444535689,
          154.06801119717684,
          143.7289775501598,
          140.28042602539062,
          191.63272927024147,
          144.04171614213422,
          142.31006969105113,
          160.24988070401278,
          166.39930447665128,
          135.09449768066406,
          132.70824363014916,
          137.29575972123578,
          127.5024344704368,
          166.2971857244318,
          130.8156169544567,
          176.20012734153053,
          109.33277823708274,
          184.46516279740766,
          137.89751226251775,
          149.8056016401811,
          171.18101224032316,
          184.8863983154297,
          152.63621382279828,
          115.46024946732955,
          179.37093145197088,
          144.445180719549,
          117.74508528275923,
          170.2261408025568,
          136.56026805530894,
          150.229248046875,
          170.8293887051669,
          175.63031005859375,
          180.89034618030894,
          165.21747935901988,
          108.87732349742542
         ]
        },
        {
         "mode": "markers",
         "name": "conv4_Full",
         "showlegend": true,
         "type": "scatter",
         "x": [
          3,
          3,
          3,
          3,
          3,
          3,
          3,
          3,
          3,
          3,
          3,
          3,
          3,
          3,
          3,
          3,
          3,
          3,
          3,
          3
         ],
         "y": [
          239.8462898947976,
          259.1894794810902,
          241.01455133611506,
          247.8888896595348,
          245.57451144131747,
          251.3550040505149,
          240.9845761385831,
          267.6223061301491,
          265.8691933371804,
          245.11091752485797,
          257.0925390070135,
          250.34252097389916,
          226.91466175426137,
          254.31801119717684,
          255.20474381880328,
          244.83043185147372,
          261.1165050159801,
          246.6761280406605,
          238.5890489058061,
          273.7710904208097
         ]
        },
        {
         "mode": "markers",
         "name": "conv5_Rand50d",
         "showlegend": true,
         "type": "scatter",
         "x": [
          4,
          4,
          4,
          4,
          4,
          4,
          4,
          4,
          4,
          4,
          4,
          4,
          4,
          4,
          4,
          4,
          4,
          4,
          4,
          4,
          4,
          4,
          4,
          4,
          4,
          4,
          4,
          4,
          4,
          4,
          4,
          4,
          4,
          4,
          4,
          4,
          4,
          4,
          4,
          4,
          4,
          4,
          4,
          4,
          4,
          4,
          4,
          4,
          4,
          4,
          4,
          4,
          4,
          4,
          4,
          4,
          4,
          4,
          4,
          4,
          4,
          4,
          4,
          4,
          4,
          4,
          4,
          4,
          4,
          4,
          4,
          4,
          4,
          4,
          4,
          4,
          4,
          4,
          4,
          4,
          4,
          4,
          4,
          4,
          4,
          4,
          4,
          4,
          4,
          4,
          4,
          4,
          4,
          4,
          4,
          4,
          4,
          4,
          4,
          4
         ],
         "y": [
          179.79048989035866,
          133.62715565074575,
          219.83017106489703,
          181.12521501020953,
          218.77463739568537,
          216.61501936479047,
          185.3385245583274,
          246.15970819646662,
          131.6173664439808,
          215.53924283114347,
          208.36013239080256,
          222.4972118030895,
          241.2328338623047,
          178.49591064453125,
          190.3927196155895,
          228.17999961159447,
          158.7643418745561,
          218.97150767933238,
          194.7628839666193,
          157.23786093971947,
          155.53627152876422,
          210.2422735040838,
          186.29659618030894,
          216.53681529651988,
          195.77539756081322,
          213.28643521395597,
          127.4302090731534,
          207.1171777898615,
          194.6519178910689,
          211.51054937189275,
          220.15703374689275,
          207.27539617365056,
          235.51707458496094,
          264.8108936656605,
          220.5106867009943,
          182.08733437278053,
          163.92111344770953,
          171.96660267223012,
          200.5333820689808,
          222.76575539328834,
          167.99011924050072,
          140.06044699928978,
          155.64793118563566,
          200.32556291060015,
          215.2013827237216,
          184.54661282626066,
          236.9444815895774,
          227.82588334517047,
          218.484975641424,
          234.86677967418325,
          122.15695884011008,
          264.07598876953125,
          158.60969682173297,
          226.85092163085938,
          183.50607161088422,
          250.40752896395597,
          211.2744764848189,
          157.74183793501422,
          169.77205449884588,
          193.30969654430044,
          205.32984646883878,
          222.9200439453125,
          220.7624969482422,
          139.50917746803978,
          155.53039828213778,
          121.52097667347302,
          138.14442721280184,
          233.33960099653765,
          194.51610495827416,
          181.731425892223,
          190.5907509543679,
          121.84941655939275,
          136.94801053133878,
          207.97536676580256,
          254.80871027166194,
          181.75141351873225,
          196.46656521883878,
          170.11339222301137,
          209.09067743474787,
          238.8708593195135,
          182.83394276012075,
          188.14265164462003,
          201.9960382634943,
          159.9105987548828,
          231.413349498402,
          132.51497719504616,
          218.1493571888317,
          198.47400318492544,
          239.58065657182172,
          178.32727744362572,
          211.9184709028764,
          209.607441295277,
          220.667255748402,
          241.54835787686434,
          193.55462369051847,
          132.6071874445135,
          209.80351812189275,
          207.26514365456322,
          142.94624467329547,
          230.81357782537287
         ]
        },
        {
         "mode": "markers",
         "name": "conv5_Full",
         "showlegend": true,
         "type": "scatter",
         "x": [
          4,
          4,
          4,
          4,
          4,
          4,
          4,
          4,
          4,
          4,
          4,
          4,
          4,
          4,
          4,
          4,
          4,
          4,
          4,
          4
         ],
         "y": [
          349.83725807883525,
          361.1516945578835,
          355.6122741699219,
          359.73576216264206,
          336.7155733975497,
          359.8602960759943,
          353.7035966352983,
          347.7513344504616,
          357.1695390181108,
          349.0678794167259,
          356.31841763583094,
          343.45971124822444,
          359.13949307528407,
          353.331581809304,
          355.2869207208807,
          347.7039600719105,
          371.49154385653407,
          357.2723111239347,
          357.8556185635653,
          365.1197232333097
         ]
        },
        {
         "mode": "markers",
         "name": "fc6_Rand50d",
         "showlegend": true,
         "type": "scatter",
         "x": [
          5,
          5,
          5,
          5,
          5,
          5,
          5,
          5,
          5,
          5,
          5,
          5,
          5,
          5,
          5,
          5,
          5,
          5,
          5,
          5,
          5,
          5,
          5,
          5,
          5,
          5,
          5,
          5,
          5,
          5,
          5,
          5,
          5,
          5,
          5,
          5,
          5,
          5,
          5,
          5,
          5,
          5,
          5,
          5,
          5,
          5,
          5,
          5,
          5,
          5,
          5,
          5,
          5,
          5,
          5,
          5,
          5,
          5,
          5,
          5,
          5,
          5,
          5,
          5,
          5,
          5,
          5,
          5,
          5,
          5,
          5,
          5,
          5,
          5,
          5,
          5,
          5,
          5,
          5,
          5,
          5,
          5,
          5,
          5,
          5,
          5,
          5,
          5,
          5,
          5,
          5,
          5,
          5,
          5,
          5,
          5,
          5,
          5,
          5,
          5
         ],
         "y": [
          86.7345858487216,
          91.89083376797763,
          83.16916725852273,
          77.35805303400213,
          77.07215742631392,
          86.7163411920721,
          71.36920027299361,
          65.50227425315164,
          69.61016013405539,
          71.44850158691406,
          65.94806809858842,
          88.84006847034802,
          73.64840906316584,
          68.13880296186967,
          73.99402757124467,
          70.89476151899858,
          81.95305009321733,
          65.47684894908558,
          75.41129094904119,
          91.96378257057883,
          71.34081892533736,
          79.8096431385387,
          76.43972570245916,
          67.17292785644531,
          87.65704484419389,
          87.29684378884055,
          83.00047440962358,
          75.53737432306463,
          80.68051424893466,
          75.78447654030539,
          87.62365306507458,
          59.851837158203125,
          97.88975316827947,
          56.038787148215555,
          74.24800942160867,
          93.52488292347302,
          75.60979114879261,
          90.63647322221236,
          73.21187591552734,
          86.85573716597123,
          85.54043440385298,
          82.6031001697887,
          81.66218150745739,
          76.84469535134055,
          83.6081112948331,
          74.63929748535156,
          61.22245233709162,
          73.74389717795633,
          67.92163918235086,
          67.06183693625711,
          90.84799887917258,
          79.53986497358842,
          73.09400662508878,
          82.78032476251775,
          80.20101165771484,
          80.0520511973988,
          98.76073594526811,
          80.27886408025569,
          85.6401436545632,
          82.89535175670277,
          80.77787017822266,
          70.90831756591797,
          71.32027435302734,
          76.23927931352095,
          75.23775066028942,
          73.60923559015447,
          91.72439436479048,
          72.36893046985973,
          73.28229037198153,
          79.39592950994319,
          82.45572592995383,
          78.12970386851917,
          69.94431513006037,
          81.9429799860174,
          77.38942649147727,
          91.53515971790661,
          84.27340212735263,
          63.73328885165128,
          63.05420823530717,
          69.4600400057706,
          76.22015519575639,
          69.13733048872514,
          75.12765502929688,
          79.85631491921164,
          75.12389859286222,
          107.0814701427113,
          80.19319083473899,
          84.1894038807262,
          72.5260273326527,
          75.32451837713069,
          77.54092199152166,
          83.98180736194958,
          71.0530118075284,
          71.21996654163708,
          83.92764420942827,
          58.746037223122336,
          71.52584145285867,
          71.41376634077592,
          82.42896409468217,
          75.49158061634411
         ]
        },
        {
         "mode": "markers",
         "name": "fc6_Full",
         "showlegend": true,
         "type": "scatter",
         "x": [
          5,
          5,
          5,
          5,
          5,
          5,
          5,
          5,
          5,
          5,
          5,
          5,
          5,
          5,
          5,
          5,
          5,
          5,
          5,
          5
         ],
         "y": [
          214.9736952348189,
          220.0797257856889,
          181.08297313343394,
          222.17791470614347,
          200.41476024280894,
          218.02737149325284,
          195.8130312832919,
          219.4091103293679,
          200.23976135253906,
          189.38220908425072,
          195.95457319779828,
          193.37313010475853,
          189.87107710404828,
          218.59144731001422,
          208.84922651811078,
          200.30843145197088,
          194.19161987304688,
          219.68333712491122,
          204.9485293301669,
          195.74560824307528
         ]
        },
        {
         "mode": "markers",
         "name": "fc7_Rand50d",
         "showlegend": true,
         "type": "scatter",
         "x": [
          6,
          6,
          6,
          6,
          6,
          6,
          6,
          6,
          6,
          6,
          6,
          6,
          6,
          6,
          6,
          6,
          6,
          6,
          6,
          6,
          6,
          6,
          6,
          6,
          6,
          6,
          6,
          6,
          6,
          6,
          6,
          6,
          6,
          6,
          6,
          6,
          6,
          6,
          6,
          6,
          6,
          6,
          6,
          6,
          6,
          6,
          6,
          6,
          6,
          6,
          6,
          6,
          6,
          6,
          6,
          6,
          6,
          6,
          6,
          6,
          6,
          6,
          6,
          6,
          6,
          6,
          6,
          6,
          6,
          6,
          6,
          6,
          6,
          6,
          6,
          6,
          6,
          6,
          6,
          6,
          6,
          6,
          6,
          6,
          6,
          6,
          6,
          6,
          6,
          6,
          6,
          6,
          6,
          6,
          6,
          6,
          6,
          6,
          6,
          6
         ],
         "y": [
          18.28908174688166,
          12.660457784479314,
          14.01894794810902,
          23.330087314952504,
          20.154110648415305,
          16.592222213745117,
          15.276802756569602,
          17.440062609585848,
          13.08851181377064,
          14.966628594831986,
          18.11771115389737,
          14.427431193265049,
          13.352131410078568,
          14.384318004954945,
          13.382943673567338,
          15.680425123734908,
          18.30883650346236,
          16.234017372131348,
          11.904532172463156,
          11.566981402310459,
          16.20197903026234,
          13.905044989152389,
          15.722013213417746,
          16.237611423839223,
          17.10335315357555,
          13.753896539861506,
          17.655238238247957,
          16.715960415926848,
          18.58529108220881,
          11.713518229397861,
          14.363265904513272,
          14.157625111666592,
          16.76016651500355,
          15.011217724193227,
          16.90481359308416,
          15.864784760908647,
          16.75480738553134,
          12.145719094709916,
          13.666375680403275,
          17.589285417036578,
          17.412785443392668,
          19.19979372891513,
          20.216440547596324,
          17.0185959555886,
          18.27798843383789,
          16.85741511258212,
          17.771682392467152,
          15.326187914068049,
          17.38947694951838,
          13.83923287825151,
          15.237897439436479,
          23.439748243852094,
          15.607736414129084,
          15.655973521145908,
          18.71390013261275,
          15.050225778059525,
          19.422881559892133,
          17.563247333873402,
          11.391149087385697,
          13.842909466136586,
          14.662845438176936,
          14.249579863114791,
          12.792366201227361,
          12.513700225136496,
          15.851222731850363,
          13.704156095331365,
          17.053456219759855,
          17.655562660910867,
          19.544715707952324,
          18.155569943514738,
          15.116340897300027,
          16.40647402676669,
          17.5020958293568,
          18.806288979270242,
          17.01656046780673,
          17.33175867254084,
          16.518648841164328,
          18.131847034801137,
          15.53074819391424,
          17.234127044677734,
          14.291700623252176,
          15.628584775057705,
          18.026690569790926,
          12.922005826776678,
          17.98038604042747,
          16.098269722678445,
          15.670724608681418,
          12.26601418581876,
          17.212316686456855,
          14.029774579134854,
          19.216136932373047,
          15.845888658003373,
          19.231603795831855,
          16.912846478548918,
          15.766793337735264,
          12.97957654432817,
          13.830495487559926,
          19.02121353149414,
          16.782250837846235,
          12.708258282054555
         ]
        },
        {
         "mode": "markers",
         "name": "fc7_Full",
         "showlegend": true,
         "type": "scatter",
         "x": [
          6,
          6,
          6,
          6,
          6,
          6,
          6,
          6,
          6,
          6,
          6,
          6,
          6,
          6,
          6,
          6,
          6,
          6,
          6,
          6
         ],
         "y": [
          57.62842629172585,
          50.31730721213601,
          58.778691031716086,
          56.955524097789414,
          53.963918859308414,
          56.708614349365234,
          53.967070839621805,
          61.835109363902696,
          46.36091579090465,
          51.404199773615055,
          66.65417064319958,
          66.357966336337,
          62.774290258234196,
          50.41836027665572,
          62.985763203014024,
          56.917838703502305,
          63.95954790982333,
          66.21930972012606,
          61.52861161665483,
          58.67143110795455
         ]
        },
        {
         "mode": "markers",
         "name": "fc8_Rand50d",
         "showlegend": true,
         "type": "scatter",
         "x": [
          7,
          7,
          7,
          7,
          7,
          7,
          7,
          7,
          7,
          7,
          7,
          7,
          7,
          7,
          7,
          7,
          7,
          7,
          7,
          7,
          7,
          7,
          7,
          7,
          7,
          7,
          7,
          7,
          7,
          7,
          7,
          7,
          7,
          7,
          7,
          7,
          7,
          7,
          7,
          7,
          7,
          7,
          7,
          7,
          7,
          7,
          7,
          7,
          7,
          7,
          7,
          7,
          7,
          7,
          7,
          7,
          7,
          7,
          7,
          7,
          7,
          7,
          7,
          7,
          7,
          7,
          7,
          7,
          7,
          7,
          7,
          7,
          7,
          7,
          7,
          7,
          7,
          7,
          7,
          7,
          7,
          7,
          7,
          7,
          7,
          7,
          7,
          7,
          7,
          7,
          7,
          7,
          7,
          7,
          7,
          7,
          7,
          7,
          7,
          7
         ],
         "y": [
          30.11378999189897,
          28.765664880925957,
          23.698291778564453,
          32.533653259277344,
          32.33079008622603,
          28.371153224598277,
          22.954763585870918,
          37.21642338145863,
          28.37527014992454,
          21.734852704134855,
          23.601742831143465,
          25.762198188088156,
          28.306753678755328,
          25.876482356678356,
          42.64941336891868,
          23.49111574346369,
          28.417829686945137,
          21.934668280861594,
          32.39905600114302,
          24.07400720769709,
          21.615629889748313,
          24.165731950239703,
          26.21228720925071,
          28.67312899502841,
          15.721095952120693,
          16.30968614058061,
          30.211706161499023,
          26.200918717817828,
          19.705198634754527,
          23.934225255792793,
          15.754429817199707,
          29.23139780217951,
          36.11315189708363,
          29.90076411854137,
          23.94475607438521,
          25.196340040727094,
          23.375715082341973,
          26.92822907187722,
          26.617199290882457,
          26.09118114818226,
          18.764981876720082,
          31.412207863547586,
          27.548605138605293,
          25.674552050503817,
          21.67523193359375,
          30.456554759632457,
          16.5078594901345,
          25.738901311700996,
          22.82949447631836,
          28.638654362071644,
          31.649642944335938,
          26.736767855557527,
          18.961992263793945,
          25.66451644897461,
          20.188656200062145,
          30.694767518477008,
          28.299259879372336,
          26.691734487360176,
          33.564517281272195,
          33.70265267112038,
          23.51784966208718,
          27.12877655029297,
          27.91977813027122,
          31.592418150468305,
          30.021532578901812,
          32.76003126664595,
          20.150199369950727,
          32.8734377080744,
          28.722694223577324,
          36.44698853926225,
          26.720915881070223,
          20.939084139737215,
          32.3889194835316,
          20.07767070423473,
          26.109765312888406,
          20.311119773171164,
          25.265443975275215,
          24.88956780867143,
          25.391139117154207,
          19.291291496970437,
          29.336590506813742,
          27.69064885919744,
          25.21213895624334,
          28.215380235151812,
          26.860985842618074,
          13.7409837029197,
          17.01946223865856,
          21.374267578125,
          21.85705670443448,
          21.36541210521351,
          23.66227115284313,
          16.838322032581676,
          18.827394485473633,
          24.751976533369586,
          22.522078774192117,
          27.371347947554156,
          24.450516787442293,
          33.051138791170985,
          26.072348161177203,
          23.195302096280184
         ]
        },
        {
         "mode": "markers",
         "name": "fc8_Full",
         "showlegend": true,
         "type": "scatter",
         "x": [
          7,
          7,
          7,
          7,
          7,
          7,
          7,
          7,
          7,
          7,
          7,
          7,
          7,
          7,
          7,
          7,
          7,
          7,
          7,
          7
         ],
         "y": [
          85.61107566139914,
          95.7145073630593,
          89.6367055719549,
          90.14426005970348,
          83.66926990855823,
          75.57380814985795,
          87.53485801003195,
          95.47680386629972,
          96.83196050470525,
          96.68252910267223,
          88.04156216708097,
          81.84769509055398,
          90.11949227072976,
          95.37838328968395,
          82.96641887318005,
          86.95077792080966,
          71.52228823575106,
          90.74136491255327,
          95.65462771329013,
          89.00028090043502
         ]
        }
       ],
       "layout": {
        "template": {
         "data": {
          "bar": [
           {
            "error_x": {
             "color": "#2a3f5f"
            },
            "error_y": {
             "color": "#2a3f5f"
            },
            "marker": {
             "line": {
              "color": "#E5ECF6",
              "width": 0.5
             }
            },
            "type": "bar"
           }
          ],
          "barpolar": [
           {
            "marker": {
             "line": {
              "color": "#E5ECF6",
              "width": 0.5
             }
            },
            "type": "barpolar"
           }
          ],
          "carpet": [
           {
            "aaxis": {
             "endlinecolor": "#2a3f5f",
             "gridcolor": "white",
             "linecolor": "white",
             "minorgridcolor": "white",
             "startlinecolor": "#2a3f5f"
            },
            "baxis": {
             "endlinecolor": "#2a3f5f",
             "gridcolor": "white",
             "linecolor": "white",
             "minorgridcolor": "white",
             "startlinecolor": "#2a3f5f"
            },
            "type": "carpet"
           }
          ],
          "choropleth": [
           {
            "colorbar": {
             "outlinewidth": 0,
             "ticks": ""
            },
            "type": "choropleth"
           }
          ],
          "contour": [
           {
            "colorbar": {
             "outlinewidth": 0,
             "ticks": ""
            },
            "colorscale": [
             [
              0,
              "#0d0887"
             ],
             [
              0.1111111111111111,
              "#46039f"
             ],
             [
              0.2222222222222222,
              "#7201a8"
             ],
             [
              0.3333333333333333,
              "#9c179e"
             ],
             [
              0.4444444444444444,
              "#bd3786"
             ],
             [
              0.5555555555555556,
              "#d8576b"
             ],
             [
              0.6666666666666666,
              "#ed7953"
             ],
             [
              0.7777777777777778,
              "#fb9f3a"
             ],
             [
              0.8888888888888888,
              "#fdca26"
             ],
             [
              1,
              "#f0f921"
             ]
            ],
            "type": "contour"
           }
          ],
          "contourcarpet": [
           {
            "colorbar": {
             "outlinewidth": 0,
             "ticks": ""
            },
            "type": "contourcarpet"
           }
          ],
          "heatmap": [
           {
            "colorbar": {
             "outlinewidth": 0,
             "ticks": ""
            },
            "colorscale": [
             [
              0,
              "#0d0887"
             ],
             [
              0.1111111111111111,
              "#46039f"
             ],
             [
              0.2222222222222222,
              "#7201a8"
             ],
             [
              0.3333333333333333,
              "#9c179e"
             ],
             [
              0.4444444444444444,
              "#bd3786"
             ],
             [
              0.5555555555555556,
              "#d8576b"
             ],
             [
              0.6666666666666666,
              "#ed7953"
             ],
             [
              0.7777777777777778,
              "#fb9f3a"
             ],
             [
              0.8888888888888888,
              "#fdca26"
             ],
             [
              1,
              "#f0f921"
             ]
            ],
            "type": "heatmap"
           }
          ],
          "heatmapgl": [
           {
            "colorbar": {
             "outlinewidth": 0,
             "ticks": ""
            },
            "colorscale": [
             [
              0,
              "#0d0887"
             ],
             [
              0.1111111111111111,
              "#46039f"
             ],
             [
              0.2222222222222222,
              "#7201a8"
             ],
             [
              0.3333333333333333,
              "#9c179e"
             ],
             [
              0.4444444444444444,
              "#bd3786"
             ],
             [
              0.5555555555555556,
              "#d8576b"
             ],
             [
              0.6666666666666666,
              "#ed7953"
             ],
             [
              0.7777777777777778,
              "#fb9f3a"
             ],
             [
              0.8888888888888888,
              "#fdca26"
             ],
             [
              1,
              "#f0f921"
             ]
            ],
            "type": "heatmapgl"
           }
          ],
          "histogram": [
           {
            "marker": {
             "colorbar": {
              "outlinewidth": 0,
              "ticks": ""
             }
            },
            "type": "histogram"
           }
          ],
          "histogram2d": [
           {
            "colorbar": {
             "outlinewidth": 0,
             "ticks": ""
            },
            "colorscale": [
             [
              0,
              "#0d0887"
             ],
             [
              0.1111111111111111,
              "#46039f"
             ],
             [
              0.2222222222222222,
              "#7201a8"
             ],
             [
              0.3333333333333333,
              "#9c179e"
             ],
             [
              0.4444444444444444,
              "#bd3786"
             ],
             [
              0.5555555555555556,
              "#d8576b"
             ],
             [
              0.6666666666666666,
              "#ed7953"
             ],
             [
              0.7777777777777778,
              "#fb9f3a"
             ],
             [
              0.8888888888888888,
              "#fdca26"
             ],
             [
              1,
              "#f0f921"
             ]
            ],
            "type": "histogram2d"
           }
          ],
          "histogram2dcontour": [
           {
            "colorbar": {
             "outlinewidth": 0,
             "ticks": ""
            },
            "colorscale": [
             [
              0,
              "#0d0887"
             ],
             [
              0.1111111111111111,
              "#46039f"
             ],
             [
              0.2222222222222222,
              "#7201a8"
             ],
             [
              0.3333333333333333,
              "#9c179e"
             ],
             [
              0.4444444444444444,
              "#bd3786"
             ],
             [
              0.5555555555555556,
              "#d8576b"
             ],
             [
              0.6666666666666666,
              "#ed7953"
             ],
             [
              0.7777777777777778,
              "#fb9f3a"
             ],
             [
              0.8888888888888888,
              "#fdca26"
             ],
             [
              1,
              "#f0f921"
             ]
            ],
            "type": "histogram2dcontour"
           }
          ],
          "mesh3d": [
           {
            "colorbar": {
             "outlinewidth": 0,
             "ticks": ""
            },
            "type": "mesh3d"
           }
          ],
          "parcoords": [
           {
            "line": {
             "colorbar": {
              "outlinewidth": 0,
              "ticks": ""
             }
            },
            "type": "parcoords"
           }
          ],
          "scatter": [
           {
            "marker": {
             "colorbar": {
              "outlinewidth": 0,
              "ticks": ""
             }
            },
            "type": "scatter"
           }
          ],
          "scatter3d": [
           {
            "line": {
             "colorbar": {
              "outlinewidth": 0,
              "ticks": ""
             }
            },
            "marker": {
             "colorbar": {
              "outlinewidth": 0,
              "ticks": ""
             }
            },
            "type": "scatter3d"
           }
          ],
          "scattercarpet": [
           {
            "marker": {
             "colorbar": {
              "outlinewidth": 0,
              "ticks": ""
             }
            },
            "type": "scattercarpet"
           }
          ],
          "scattergeo": [
           {
            "marker": {
             "colorbar": {
              "outlinewidth": 0,
              "ticks": ""
             }
            },
            "type": "scattergeo"
           }
          ],
          "scattergl": [
           {
            "marker": {
             "colorbar": {
              "outlinewidth": 0,
              "ticks": ""
             }
            },
            "type": "scattergl"
           }
          ],
          "scattermapbox": [
           {
            "marker": {
             "colorbar": {
              "outlinewidth": 0,
              "ticks": ""
             }
            },
            "type": "scattermapbox"
           }
          ],
          "scatterpolar": [
           {
            "marker": {
             "colorbar": {
              "outlinewidth": 0,
              "ticks": ""
             }
            },
            "type": "scatterpolar"
           }
          ],
          "scatterpolargl": [
           {
            "marker": {
             "colorbar": {
              "outlinewidth": 0,
              "ticks": ""
             }
            },
            "type": "scatterpolargl"
           }
          ],
          "scatterternary": [
           {
            "marker": {
             "colorbar": {
              "outlinewidth": 0,
              "ticks": ""
             }
            },
            "type": "scatterternary"
           }
          ],
          "surface": [
           {
            "colorbar": {
             "outlinewidth": 0,
             "ticks": ""
            },
            "colorscale": [
             [
              0,
              "#0d0887"
             ],
             [
              0.1111111111111111,
              "#46039f"
             ],
             [
              0.2222222222222222,
              "#7201a8"
             ],
             [
              0.3333333333333333,
              "#9c179e"
             ],
             [
              0.4444444444444444,
              "#bd3786"
             ],
             [
              0.5555555555555556,
              "#d8576b"
             ],
             [
              0.6666666666666666,
              "#ed7953"
             ],
             [
              0.7777777777777778,
              "#fb9f3a"
             ],
             [
              0.8888888888888888,
              "#fdca26"
             ],
             [
              1,
              "#f0f921"
             ]
            ],
            "type": "surface"
           }
          ],
          "table": [
           {
            "cells": {
             "fill": {
              "color": "#EBF0F8"
             },
             "line": {
              "color": "white"
             }
            },
            "header": {
             "fill": {
              "color": "#C8D4E3"
             },
             "line": {
              "color": "white"
             }
            },
            "type": "table"
           }
          ]
         },
         "layout": {
          "annotationdefaults": {
           "arrowcolor": "#2a3f5f",
           "arrowhead": 0,
           "arrowwidth": 1
          },
          "colorscale": {
           "diverging": [
            [
             0,
             "#8e0152"
            ],
            [
             0.1,
             "#c51b7d"
            ],
            [
             0.2,
             "#de77ae"
            ],
            [
             0.3,
             "#f1b6da"
            ],
            [
             0.4,
             "#fde0ef"
            ],
            [
             0.5,
             "#f7f7f7"
            ],
            [
             0.6,
             "#e6f5d0"
            ],
            [
             0.7,
             "#b8e186"
            ],
            [
             0.8,
             "#7fbc41"
            ],
            [
             0.9,
             "#4d9221"
            ],
            [
             1,
             "#276419"
            ]
           ],
           "sequential": [
            [
             0,
             "#0d0887"
            ],
            [
             0.1111111111111111,
             "#46039f"
            ],
            [
             0.2222222222222222,
             "#7201a8"
            ],
            [
             0.3333333333333333,
             "#9c179e"
            ],
            [
             0.4444444444444444,
             "#bd3786"
            ],
            [
             0.5555555555555556,
             "#d8576b"
            ],
            [
             0.6666666666666666,
             "#ed7953"
            ],
            [
             0.7777777777777778,
             "#fb9f3a"
            ],
            [
             0.8888888888888888,
             "#fdca26"
            ],
            [
             1,
             "#f0f921"
            ]
           ],
           "sequentialminus": [
            [
             0,
             "#0d0887"
            ],
            [
             0.1111111111111111,
             "#46039f"
            ],
            [
             0.2222222222222222,
             "#7201a8"
            ],
            [
             0.3333333333333333,
             "#9c179e"
            ],
            [
             0.4444444444444444,
             "#bd3786"
            ],
            [
             0.5555555555555556,
             "#d8576b"
            ],
            [
             0.6666666666666666,
             "#ed7953"
            ],
            [
             0.7777777777777778,
             "#fb9f3a"
            ],
            [
             0.8888888888888888,
             "#fdca26"
            ],
            [
             1,
             "#f0f921"
            ]
           ]
          },
          "colorway": [
           "#636efa",
           "#EF553B",
           "#00cc96",
           "#ab63fa",
           "#FFA15A",
           "#19d3f3",
           "#FF6692",
           "#B6E880",
           "#FF97FF",
           "#FECB52"
          ],
          "font": {
           "color": "#2a3f5f"
          },
          "geo": {
           "bgcolor": "white",
           "lakecolor": "white",
           "landcolor": "#E5ECF6",
           "showlakes": true,
           "showland": true,
           "subunitcolor": "white"
          },
          "hoverlabel": {
           "align": "left"
          },
          "hovermode": "closest",
          "mapbox": {
           "style": "light"
          },
          "paper_bgcolor": "white",
          "plot_bgcolor": "#E5ECF6",
          "polar": {
           "angularaxis": {
            "gridcolor": "white",
            "linecolor": "white",
            "ticks": ""
           },
           "bgcolor": "#E5ECF6",
           "radialaxis": {
            "gridcolor": "white",
            "linecolor": "white",
            "ticks": ""
           }
          },
          "scene": {
           "xaxis": {
            "backgroundcolor": "#E5ECF6",
            "gridcolor": "white",
            "gridwidth": 2,
            "linecolor": "white",
            "showbackground": true,
            "ticks": "",
            "zerolinecolor": "white"
           },
           "yaxis": {
            "backgroundcolor": "#E5ECF6",
            "gridcolor": "white",
            "gridwidth": 2,
            "linecolor": "white",
            "showbackground": true,
            "ticks": "",
            "zerolinecolor": "white"
           },
           "zaxis": {
            "backgroundcolor": "#E5ECF6",
            "gridcolor": "white",
            "gridwidth": 2,
            "linecolor": "white",
            "showbackground": true,
            "ticks": "",
            "zerolinecolor": "white"
           }
          },
          "shapedefaults": {
           "line": {
            "color": "#2a3f5f"
           }
          },
          "ternary": {
           "aaxis": {
            "gridcolor": "white",
            "linecolor": "white",
            "ticks": ""
           },
           "baxis": {
            "gridcolor": "white",
            "linecolor": "white",
            "ticks": ""
           },
           "bgcolor": "#E5ECF6",
           "caxis": {
            "gridcolor": "white",
            "linecolor": "white",
            "ticks": ""
           }
          },
          "title": {
           "x": 0.05
          },
          "xaxis": {
           "automargin": true,
           "gridcolor": "white",
           "linecolor": "white",
           "ticks": "",
           "zerolinecolor": "white",
           "zerolinewidth": 2
          },
          "yaxis": {
           "automargin": true,
           "gridcolor": "white",
           "linecolor": "white",
           "ticks": "",
           "zerolinecolor": "white",
           "zerolinewidth": 2
          }
         }
        },
        "xaxis": {
         "tickmode": "array",
         "ticktext": [
          [
           "caffe-net",
           "conv1",
           5,
           10,
           10
          ],
          [
           "caffe-net",
           "conv2",
           5,
           10,
           10
          ],
          [
           "caffe-net",
           "conv3",
           5,
           10,
           10
          ],
          [
           "caffe-net",
           "conv4",
           5,
           10,
           10
          ],
          [
           "caffe-net",
           "conv5",
           5,
           10,
           10
          ],
          [
           "caffe-net",
           "fc6",
           1
          ],
          [
           "caffe-net",
           "fc7",
           1
          ],
          [
           "caffe-net",
           "fc8",
           1
          ]
         ],
         "tickvals": [
          0,
          1,
          2,
          3,
          4,
          5,
          6,
          7
         ]
        }
       }
      },
      "text/html": [
       "<div>\n",
       "        \n",
       "        \n",
       "            <div id=\"b86f1c5e-92f7-40d0-8616-fd0d97799dd4\" class=\"plotly-graph-div\" style=\"height:525px; width:100%;\"></div>\n",
       "            <script type=\"text/javascript\">\n",
       "                require([\"plotly\"], function(Plotly) {\n",
       "                    window.PLOTLYENV=window.PLOTLYENV || {};\n",
       "                    \n",
       "                if (document.getElementById(\"b86f1c5e-92f7-40d0-8616-fd0d97799dd4\")) {\n",
       "                    Plotly.newPlot(\n",
       "                        'b86f1c5e-92f7-40d0-8616-fd0d97799dd4',\n",
       "                        [{\"mode\": \"markers\", \"name\": \"conv1_Rand50d\", \"showlegend\": true, \"type\": \"scatter\", \"x\": [0, 0, 0, 0, 0, 0, 0, 0, 0, 0, 0, 0, 0, 0, 0, 0, 0, 0, 0, 0, 0, 0, 0, 0, 0, 0, 0, 0, 0, 0, 0, 0, 0, 0, 0, 0, 0, 0, 0, 0, 0, 0, 0, 0, 0, 0, 0, 0, 0, 0, 0, 0, 0, 0, 0, 0, 0, 0, 0, 0, 0, 0, 0, 0, 0, 0, 0, 0, 0, 0, 0, 0, 0, 0, 0, 0, 0, 0, 0, 0, 0, 0, 0, 0, 0, 0, 0, 0, 0, 0, 0, 0, 0, 0, 0, 0, 0, 0, 0, 0], \"y\": [2806.361993963068, 2810.5685813210225, 2168.6185191761365, 2785.4035866477275, 2834.378750887784, 2706.6720747514205, 2895.551202947443, 2851.363680752841, 2824.7559037642045, 2872.7762562144885, 2620.5534889914775, 2663.4864390980115, 2866.9677956321025, 2674.959383877841, 2745.9403187144885, 2711.5427024147725, 2645.117098721591, 2718.2309348366475, 2254.154385653409, 2697.585116299716, 2879.805841619318, 2873.1182084517045, 2625.00146484375, 2823.2687766335225, 2669.64599609375, 2610.340909090909, 2698.579034978693, 2745.0086780894885, 2778.0821644176135, 2724.8757768110795, 2616.972745028409, 2861.4388316761365, 2763.9889026988635, 2358.432306463068, 2720.484929865057, 2733.6949573863635, 2750.3966175426135, 2671.8066850142045, 2497.3313210227275, 2272.4462890625, 2752.199884588068, 2739.123601740057, 2651.2666459517045, 2833.948397549716, 2853.6551624644885, 2653.283846768466, 2604.236239346591, 2766.381991299716, 2851.443670099432, 2789.847567471591, 2764.252840909091, 2739.7672895951705, 2886.1922718394885, 2780.9124644886365, 2696.5432350852275, 2697.675692471591, 1308.6723743785512, 2814.6228249289775, 2756.9056507457385, 2787.861261541193, 2666.665460759943, 2831.6482155539775, 2658.750399502841, 2908.533846768466, 2476.742431640625, 2726.1251331676135, 2733.472500887784, 2632.278076171875, 2684.101162997159, 2582.5034623579545, 2791.303466796875, 2674.8026234019885, 2723.94775390625, 2615.335271661932, 2784.677179509943, 2760.256014737216, 2791.3601518110795, 2731.2260520241475, 2766.9076926491475, 2588.6463734019885, 2818.4526589133525, 2756.952880859375, 2738.971835049716, 2802.482599431818, 2556.8496537642045, 2672.7290261008525, 2729.190984552557, 2386.710848721591, 2739.410067471591, 2741.439297762784, 2677.586004083807, 2864.110529119318, 2778.168279474432, 2824.2496448863635, 2636.1125044389205, 2807.5867808948865, 2845.4968039772725, 2881.4299094460225, 2633.4579634232955, 2824.386785333807]}, {\"mode\": \"markers\", \"name\": \"conv1_Full\", \"showlegend\": true, \"type\": \"scatter\", \"x\": [0, 0, 0, 0, 0, 0, 0, 0, 0, 0, 0, 0, 0, 0, 0, 0, 0, 0, 0, 0], \"y\": [3081.863614169034, 3058.277432528409, 3035.0235484730115, 3081.3390891335225, 3067.9644664417615, 3090.5288529829545, 3075.608709161932, 3073.910977450284, 3058.410222833807, 3042.138916015625, 3064.895086115057, 3035.0801003196025, 3074.510919744318, 3057.672052556818, 3081.3057972301135, 3082.7564808238635, 3097.5569957386365, 3045.7939231178975, 3080.3755326704545, 3033.756591796875]}, {\"mode\": \"markers\", \"name\": \"conv2_Rand50d\", \"showlegend\": true, \"type\": \"scatter\", \"x\": [1, 1, 1, 1, 1, 1, 1, 1, 1, 1, 1, 1, 1, 1, 1, 1, 1, 1, 1, 1, 1, 1, 1, 1, 1, 1, 1, 1, 1, 1, 1, 1, 1, 1, 1, 1, 1, 1, 1, 1, 1, 1, 1, 1, 1, 1, 1, 1, 1, 1, 1, 1, 1, 1, 1, 1, 1, 1, 1, 1, 1, 1, 1, 1, 1, 1, 1, 1, 1, 1, 1, 1, 1, 1, 1, 1, 1, 1, 1, 1, 1, 1, 1, 1, 1, 1, 1, 1, 1, 1, 1, 1, 1, 1, 1, 1, 1, 1, 1, 1], \"y\": [415.6943664550781, 410.81503850763494, 410.32031804865056, 410.9117542613636, 391.18574662642044, 367.9810901988636, 384.6643565784801, 372.8160872025923, 421.7431168989702, 388.32019597833806, 374.0610046386719, 392.08595137162644, 409.5063310102983, 394.3848571777344, 369.1555092551491, 432.9280728426847, 374.26001531427556, 387.07325605912644, 405.82031804865056, 391.28869074041194, 407.86376953125, 384.01502019708806, 415.1106706099077, 409.7303300337358, 427.1597040349787, 399.5173256613991, 382.4037364612926, 388.49368563565343, 395.2804648659446, 423.5341047807173, 315.8517372824929, 367.19610873135656, 384.64143787730825, 433.1958035555753, 393.4695767489347, 385.5320878462358, 415.28350552645594, 393.8280584161932, 406.8694596724077, 400.445556640625, 425.6419317072088, 395.5880820534446, 399.5438065962358, 382.5399697043679, 411.6638266823509, 386.93496149236506, 380.82795854048294, 397.61700716885656, 399.2228282581676, 389.4440834738991, 389.2607338645241, 400.25960193980825, 353.0336442427202, 403.93751387162644, 436.08200628107244, 370.22177956321025, 434.9570784135298, 425.35272216796875, 380.0740855823864, 382.7265264337713, 358.08343228426844, 400.2385725541548, 427.8043961958452, 366.09604436700994, 402.9837646484375, 395.606728293679, 414.7142139781605, 372.0837679776278, 414.37758567116475, 458.4992786754261, 394.009560324929, 387.35782137784093, 373.1646201393821, 397.6042314009233, 380.0039561878551, 407.4136657714844, 414.7594854181463, 405.5156527432528, 392.109599720348, 360.0474326393821, 413.1824867942116, 409.7333484996449, 436.4123063520952, 383.75994595614344, 397.1131397594105, 385.7248424183239, 460.5920437899503, 386.44561767578125, 404.9247492009943, 408.4568814364347, 382.9051014293324, 400.96891368519175, 397.2576932040128, 411.19865278764206, 391.427959095348, 354.55798894708806, 404.9173223322088, 412.0275906649503, 420.1081431995739, 418.0699157714844]}, {\"mode\": \"markers\", \"name\": \"conv2_Full\", \"showlegend\": true, \"type\": \"scatter\", \"x\": [1, 1, 1, 1, 1, 1, 1, 1, 1, 1, 1, 1, 1, 1, 1, 1, 1, 1, 1, 1], \"y\": [508.6222284490412, 487.6428056196733, 456.9993508078835, 505.8417691317472, 502.4564597389915, 509.489296653054, 517.3283330743963, 490.0106228915128, 511.9381103515625, 511.36358642578125, 513.227070201527, 503.59667413884944, 467.96097079190343, 495.06846757368606, 493.29925259676844, 496.9863836115057, 486.94291270862925, 501.8221907182173, 503.4320151589134, 514.8619689941406]}, {\"mode\": \"markers\", \"name\": \"conv3_Rand50d\", \"showlegend\": true, \"type\": \"scatter\", \"x\": [2, 2, 2, 2, 2, 2, 2, 2, 2, 2, 2, 2, 2, 2, 2, 2, 2, 2, 2, 2, 2, 2, 2, 2, 2, 2, 2, 2, 2, 2, 2, 2, 2, 2, 2, 2, 2, 2, 2, 2, 2, 2, 2, 2, 2, 2, 2, 2, 2, 2, 2, 2, 2, 2, 2, 2, 2, 2, 2, 2, 2, 2, 2, 2, 2, 2, 2, 2, 2, 2, 2, 2, 2, 2, 2, 2, 2, 2, 2, 2, 2, 2, 2, 2, 2, 2, 2, 2, 2, 2, 2, 2, 2, 2, 2, 2, 2, 2, 2, 2], \"y\": [299.2980263449929, 241.55963134765625, 122.9591196233576, 291.7151794433594, 301.3819191672585, 304.38421353426844, 149.2839951948686, 155.36515669389203, 257.5415802001953, 147.75991266424006, 240.24104031649503, 222.37044455788353, 266.09982993386006, 178.23258139870384, 282.50886674360794, 115.3432353626598, 220.4997322776101, 245.19379771839488, 304.42320390181106, 148.19937827370384, 269.67107876864344, 336.94273515181106, 254.91108426180753, 252.9547119140625, 189.82533957741478, 143.15322598544034, 332.25516024502843, 192.99916631525213, 123.3365742076527, 256.78640885786575, 205.75004716352984, 113.8742974021218, 168.66911870783025, 288.6426890980114, 109.97543820467862, 166.31814297762784, 334.7256608442827, 246.53695956143466, 262.1022255637429, 99.48637806285511, 173.00618397105825, 277.89356855912644, 219.59311190518466, 212.27362754128197, 128.3440274325284, 220.40576588023794, 351.15399447354406, 169.9112091064453, 167.6397150213068, 146.5167763449929, 124.21976332231002, 308.1104847301136, 190.46000255237925, 320.0725069912997, 115.08659432151101, 209.74170199307528, 270.82908769087356, 276.3466769131747, 166.8391765247692, 276.0736444646662, 206.18045876242897, 142.40730008212003, 196.23669294877485, 185.85353227095172, 259.6662431196733, 113.1716572154652, 179.8918595747514, 159.40971929376775, 264.13156682794744, 217.7875518798828, 101.59601523659445, 248.66490450772372, 325.10660067471593, 291.70614346590907, 135.10271523215553, 227.93588534268466, 125.342153375799, 252.50355529785156, 239.77591635964134, 175.84355302290484, 310.7376181862571, 125.24132953990589, 307.57561978426844, 221.85265697132456, 219.69909113103694, 201.28001403808594, 159.86875360662287, 246.00957142223012, 293.24228737571025, 208.35716247558594, 333.65104536576706, 218.32745083895597, 229.90700045498934, 294.8109158602628, 129.0427641435103, 148.98198214444247, 149.65280983664772, 246.53683332963422, 140.9474764737216, 305.545634876598]}, {\"mode\": \"markers\", \"name\": \"conv3_Full\", \"showlegend\": true, \"type\": \"scatter\", \"x\": [2, 2, 2, 2, 2, 2, 2, 2, 2, 2, 2, 2, 2, 2, 2, 2, 2, 2, 2, 2], \"y\": [368.8588783957741, 379.58905029296875, 380.84126697887075, 370.88247958096593, 382.49517544833094, 380.85862038352275, 373.97188221324575, 383.2555209073153, 354.0792957652699, 383.22123302112925, 378.89793534712356, 344.3472733931108, 360.9562461159446, 369.6029912775213, 388.04568758877843, 381.1342606977983, 365.44828657670456, 381.2212663130327, 355.4893410422585, 379.4041026722301]}, {\"mode\": \"markers\", \"name\": \"conv4_Rand50d\", \"showlegend\": true, \"type\": \"scatter\", \"x\": [3, 3, 3, 3, 3, 3, 3, 3, 3, 3, 3, 3, 3, 3, 3, 3, 3, 3, 3, 3, 3, 3, 3, 3, 3, 3, 3, 3, 3, 3, 3, 3, 3, 3, 3, 3, 3, 3, 3, 3, 3, 3, 3, 3, 3, 3, 3, 3, 3, 3, 3, 3, 3, 3, 3, 3, 3, 3, 3, 3, 3, 3, 3, 3, 3, 3, 3, 3, 3, 3, 3, 3, 3, 3, 3, 3, 3, 3, 3, 3, 3, 3, 3, 3, 3, 3, 3, 3, 3, 3, 3, 3, 3, 3, 3, 3, 3, 3, 3, 3], \"y\": [140.05547124689275, 143.976806640625, 162.08251675692472, 127.14820723100142, 178.60157914595172, 183.57345858487216, 148.53626598011363, 173.73312655362216, 126.071345242587, 149.2447648481889, 160.74313631924716, 160.69637229225853, 118.05059675736861, 166.38720009543678, 167.66442732377485, 130.9616047252308, 160.57195073908025, 177.62302468039772, 135.05596230246803, 159.36424116654828, 119.44457869096236, 142.77177984064275, 171.80953008478338, 138.52510486949575, 157.4384238503196, 147.14995644309303, 147.70553727583453, 169.20066278631037, 154.82217545942828, 167.6680242365057, 142.1511494029652, 130.76005970348012, 124.01919278231534, 127.00974412397905, 154.03718012029475, 161.2204229181463, 195.43755409934303, 175.99040499600497, 136.35246831720525, 202.20185713334516, 106.92316575483842, 164.49212923916903, 136.09085499156606, 150.7194033536044, 114.81072720614347, 153.39028791947797, 169.20167264071378, 157.07237104936078, 154.1993144642223, 151.01942582563922, 152.4509013782848, 126.76485373757102, 111.50644822554155, 143.46780118075284, 126.36274719238281, 200.65914916992188, 166.69495322487572, 159.0111347545277, 183.42139226740056, 172.37513732910156, 171.31885875355113, 150.43361594460228, 152.63125749067828, 181.28974359685725, 146.3675009987571, 148.5591444535689, 154.06801119717684, 143.7289775501598, 140.28042602539062, 191.63272927024147, 144.04171614213422, 142.31006969105113, 160.24988070401278, 166.39930447665128, 135.09449768066406, 132.70824363014916, 137.29575972123578, 127.5024344704368, 166.2971857244318, 130.8156169544567, 176.20012734153053, 109.33277823708274, 184.46516279740766, 137.89751226251775, 149.8056016401811, 171.18101224032316, 184.8863983154297, 152.63621382279828, 115.46024946732955, 179.37093145197088, 144.445180719549, 117.74508528275923, 170.2261408025568, 136.56026805530894, 150.229248046875, 170.8293887051669, 175.63031005859375, 180.89034618030894, 165.21747935901988, 108.87732349742542]}, {\"mode\": \"markers\", \"name\": \"conv4_Full\", \"showlegend\": true, \"type\": \"scatter\", \"x\": [3, 3, 3, 3, 3, 3, 3, 3, 3, 3, 3, 3, 3, 3, 3, 3, 3, 3, 3, 3], \"y\": [239.8462898947976, 259.1894794810902, 241.01455133611506, 247.8888896595348, 245.57451144131747, 251.3550040505149, 240.9845761385831, 267.6223061301491, 265.8691933371804, 245.11091752485797, 257.0925390070135, 250.34252097389916, 226.91466175426137, 254.31801119717684, 255.20474381880328, 244.83043185147372, 261.1165050159801, 246.6761280406605, 238.5890489058061, 273.7710904208097]}, {\"mode\": \"markers\", \"name\": \"conv5_Rand50d\", \"showlegend\": true, \"type\": \"scatter\", \"x\": [4, 4, 4, 4, 4, 4, 4, 4, 4, 4, 4, 4, 4, 4, 4, 4, 4, 4, 4, 4, 4, 4, 4, 4, 4, 4, 4, 4, 4, 4, 4, 4, 4, 4, 4, 4, 4, 4, 4, 4, 4, 4, 4, 4, 4, 4, 4, 4, 4, 4, 4, 4, 4, 4, 4, 4, 4, 4, 4, 4, 4, 4, 4, 4, 4, 4, 4, 4, 4, 4, 4, 4, 4, 4, 4, 4, 4, 4, 4, 4, 4, 4, 4, 4, 4, 4, 4, 4, 4, 4, 4, 4, 4, 4, 4, 4, 4, 4, 4, 4], \"y\": [179.79048989035866, 133.62715565074575, 219.83017106489703, 181.12521501020953, 218.77463739568537, 216.61501936479047, 185.3385245583274, 246.15970819646662, 131.6173664439808, 215.53924283114347, 208.36013239080256, 222.4972118030895, 241.2328338623047, 178.49591064453125, 190.3927196155895, 228.17999961159447, 158.7643418745561, 218.97150767933238, 194.7628839666193, 157.23786093971947, 155.53627152876422, 210.2422735040838, 186.29659618030894, 216.53681529651988, 195.77539756081322, 213.28643521395597, 127.4302090731534, 207.1171777898615, 194.6519178910689, 211.51054937189275, 220.15703374689275, 207.27539617365056, 235.51707458496094, 264.8108936656605, 220.5106867009943, 182.08733437278053, 163.92111344770953, 171.96660267223012, 200.5333820689808, 222.76575539328834, 167.99011924050072, 140.06044699928978, 155.64793118563566, 200.32556291060015, 215.2013827237216, 184.54661282626066, 236.9444815895774, 227.82588334517047, 218.484975641424, 234.86677967418325, 122.15695884011008, 264.07598876953125, 158.60969682173297, 226.85092163085938, 183.50607161088422, 250.40752896395597, 211.2744764848189, 157.74183793501422, 169.77205449884588, 193.30969654430044, 205.32984646883878, 222.9200439453125, 220.7624969482422, 139.50917746803978, 155.53039828213778, 121.52097667347302, 138.14442721280184, 233.33960099653765, 194.51610495827416, 181.731425892223, 190.5907509543679, 121.84941655939275, 136.94801053133878, 207.97536676580256, 254.80871027166194, 181.75141351873225, 196.46656521883878, 170.11339222301137, 209.09067743474787, 238.8708593195135, 182.83394276012075, 188.14265164462003, 201.9960382634943, 159.9105987548828, 231.413349498402, 132.51497719504616, 218.1493571888317, 198.47400318492544, 239.58065657182172, 178.32727744362572, 211.9184709028764, 209.607441295277, 220.667255748402, 241.54835787686434, 193.55462369051847, 132.6071874445135, 209.80351812189275, 207.26514365456322, 142.94624467329547, 230.81357782537287]}, {\"mode\": \"markers\", \"name\": \"conv5_Full\", \"showlegend\": true, \"type\": \"scatter\", \"x\": [4, 4, 4, 4, 4, 4, 4, 4, 4, 4, 4, 4, 4, 4, 4, 4, 4, 4, 4, 4], \"y\": [349.83725807883525, 361.1516945578835, 355.6122741699219, 359.73576216264206, 336.7155733975497, 359.8602960759943, 353.7035966352983, 347.7513344504616, 357.1695390181108, 349.0678794167259, 356.31841763583094, 343.45971124822444, 359.13949307528407, 353.331581809304, 355.2869207208807, 347.7039600719105, 371.49154385653407, 357.2723111239347, 357.8556185635653, 365.1197232333097]}, {\"mode\": \"markers\", \"name\": \"fc6_Rand50d\", \"showlegend\": true, \"type\": \"scatter\", \"x\": [5, 5, 5, 5, 5, 5, 5, 5, 5, 5, 5, 5, 5, 5, 5, 5, 5, 5, 5, 5, 5, 5, 5, 5, 5, 5, 5, 5, 5, 5, 5, 5, 5, 5, 5, 5, 5, 5, 5, 5, 5, 5, 5, 5, 5, 5, 5, 5, 5, 5, 5, 5, 5, 5, 5, 5, 5, 5, 5, 5, 5, 5, 5, 5, 5, 5, 5, 5, 5, 5, 5, 5, 5, 5, 5, 5, 5, 5, 5, 5, 5, 5, 5, 5, 5, 5, 5, 5, 5, 5, 5, 5, 5, 5, 5, 5, 5, 5, 5, 5], \"y\": [86.7345858487216, 91.89083376797763, 83.16916725852273, 77.35805303400213, 77.07215742631392, 86.7163411920721, 71.36920027299361, 65.50227425315164, 69.61016013405539, 71.44850158691406, 65.94806809858842, 88.84006847034802, 73.64840906316584, 68.13880296186967, 73.99402757124467, 70.89476151899858, 81.95305009321733, 65.47684894908558, 75.41129094904119, 91.96378257057883, 71.34081892533736, 79.8096431385387, 76.43972570245916, 67.17292785644531, 87.65704484419389, 87.29684378884055, 83.00047440962358, 75.53737432306463, 80.68051424893466, 75.78447654030539, 87.62365306507458, 59.851837158203125, 97.88975316827947, 56.038787148215555, 74.24800942160867, 93.52488292347302, 75.60979114879261, 90.63647322221236, 73.21187591552734, 86.85573716597123, 85.54043440385298, 82.6031001697887, 81.66218150745739, 76.84469535134055, 83.6081112948331, 74.63929748535156, 61.22245233709162, 73.74389717795633, 67.92163918235086, 67.06183693625711, 90.84799887917258, 79.53986497358842, 73.09400662508878, 82.78032476251775, 80.20101165771484, 80.0520511973988, 98.76073594526811, 80.27886408025569, 85.6401436545632, 82.89535175670277, 80.77787017822266, 70.90831756591797, 71.32027435302734, 76.23927931352095, 75.23775066028942, 73.60923559015447, 91.72439436479048, 72.36893046985973, 73.28229037198153, 79.39592950994319, 82.45572592995383, 78.12970386851917, 69.94431513006037, 81.9429799860174, 77.38942649147727, 91.53515971790661, 84.27340212735263, 63.73328885165128, 63.05420823530717, 69.4600400057706, 76.22015519575639, 69.13733048872514, 75.12765502929688, 79.85631491921164, 75.12389859286222, 107.0814701427113, 80.19319083473899, 84.1894038807262, 72.5260273326527, 75.32451837713069, 77.54092199152166, 83.98180736194958, 71.0530118075284, 71.21996654163708, 83.92764420942827, 58.746037223122336, 71.52584145285867, 71.41376634077592, 82.42896409468217, 75.49158061634411]}, {\"mode\": \"markers\", \"name\": \"fc6_Full\", \"showlegend\": true, \"type\": \"scatter\", \"x\": [5, 5, 5, 5, 5, 5, 5, 5, 5, 5, 5, 5, 5, 5, 5, 5, 5, 5, 5, 5], \"y\": [214.9736952348189, 220.0797257856889, 181.08297313343394, 222.17791470614347, 200.41476024280894, 218.02737149325284, 195.8130312832919, 219.4091103293679, 200.23976135253906, 189.38220908425072, 195.95457319779828, 193.37313010475853, 189.87107710404828, 218.59144731001422, 208.84922651811078, 200.30843145197088, 194.19161987304688, 219.68333712491122, 204.9485293301669, 195.74560824307528]}, {\"mode\": \"markers\", \"name\": \"fc7_Rand50d\", \"showlegend\": true, \"type\": \"scatter\", \"x\": [6, 6, 6, 6, 6, 6, 6, 6, 6, 6, 6, 6, 6, 6, 6, 6, 6, 6, 6, 6, 6, 6, 6, 6, 6, 6, 6, 6, 6, 6, 6, 6, 6, 6, 6, 6, 6, 6, 6, 6, 6, 6, 6, 6, 6, 6, 6, 6, 6, 6, 6, 6, 6, 6, 6, 6, 6, 6, 6, 6, 6, 6, 6, 6, 6, 6, 6, 6, 6, 6, 6, 6, 6, 6, 6, 6, 6, 6, 6, 6, 6, 6, 6, 6, 6, 6, 6, 6, 6, 6, 6, 6, 6, 6, 6, 6, 6, 6, 6, 6], \"y\": [18.28908174688166, 12.660457784479314, 14.01894794810902, 23.330087314952504, 20.154110648415305, 16.592222213745117, 15.276802756569602, 17.440062609585848, 13.08851181377064, 14.966628594831986, 18.11771115389737, 14.427431193265049, 13.352131410078568, 14.384318004954945, 13.382943673567338, 15.680425123734908, 18.30883650346236, 16.234017372131348, 11.904532172463156, 11.566981402310459, 16.20197903026234, 13.905044989152389, 15.722013213417746, 16.237611423839223, 17.10335315357555, 13.753896539861506, 17.655238238247957, 16.715960415926848, 18.58529108220881, 11.713518229397861, 14.363265904513272, 14.157625111666592, 16.76016651500355, 15.011217724193227, 16.90481359308416, 15.864784760908647, 16.75480738553134, 12.145719094709916, 13.666375680403275, 17.589285417036578, 17.412785443392668, 19.19979372891513, 20.216440547596324, 17.0185959555886, 18.27798843383789, 16.85741511258212, 17.771682392467152, 15.326187914068049, 17.38947694951838, 13.83923287825151, 15.237897439436479, 23.439748243852094, 15.607736414129084, 15.655973521145908, 18.71390013261275, 15.050225778059525, 19.422881559892133, 17.563247333873402, 11.391149087385697, 13.842909466136586, 14.662845438176936, 14.249579863114791, 12.792366201227361, 12.513700225136496, 15.851222731850363, 13.704156095331365, 17.053456219759855, 17.655562660910867, 19.544715707952324, 18.155569943514738, 15.116340897300027, 16.40647402676669, 17.5020958293568, 18.806288979270242, 17.01656046780673, 17.33175867254084, 16.518648841164328, 18.131847034801137, 15.53074819391424, 17.234127044677734, 14.291700623252176, 15.628584775057705, 18.026690569790926, 12.922005826776678, 17.98038604042747, 16.098269722678445, 15.670724608681418, 12.26601418581876, 17.212316686456855, 14.029774579134854, 19.216136932373047, 15.845888658003373, 19.231603795831855, 16.912846478548918, 15.766793337735264, 12.97957654432817, 13.830495487559926, 19.02121353149414, 16.782250837846235, 12.708258282054555]}, {\"mode\": \"markers\", \"name\": \"fc7_Full\", \"showlegend\": true, \"type\": \"scatter\", \"x\": [6, 6, 6, 6, 6, 6, 6, 6, 6, 6, 6, 6, 6, 6, 6, 6, 6, 6, 6, 6], \"y\": [57.62842629172585, 50.31730721213601, 58.778691031716086, 56.955524097789414, 53.963918859308414, 56.708614349365234, 53.967070839621805, 61.835109363902696, 46.36091579090465, 51.404199773615055, 66.65417064319958, 66.357966336337, 62.774290258234196, 50.41836027665572, 62.985763203014024, 56.917838703502305, 63.95954790982333, 66.21930972012606, 61.52861161665483, 58.67143110795455]}, {\"mode\": \"markers\", \"name\": \"fc8_Rand50d\", \"showlegend\": true, \"type\": \"scatter\", \"x\": [7, 7, 7, 7, 7, 7, 7, 7, 7, 7, 7, 7, 7, 7, 7, 7, 7, 7, 7, 7, 7, 7, 7, 7, 7, 7, 7, 7, 7, 7, 7, 7, 7, 7, 7, 7, 7, 7, 7, 7, 7, 7, 7, 7, 7, 7, 7, 7, 7, 7, 7, 7, 7, 7, 7, 7, 7, 7, 7, 7, 7, 7, 7, 7, 7, 7, 7, 7, 7, 7, 7, 7, 7, 7, 7, 7, 7, 7, 7, 7, 7, 7, 7, 7, 7, 7, 7, 7, 7, 7, 7, 7, 7, 7, 7, 7, 7, 7, 7, 7], \"y\": [30.11378999189897, 28.765664880925957, 23.698291778564453, 32.533653259277344, 32.33079008622603, 28.371153224598277, 22.954763585870918, 37.21642338145863, 28.37527014992454, 21.734852704134855, 23.601742831143465, 25.762198188088156, 28.306753678755328, 25.876482356678356, 42.64941336891868, 23.49111574346369, 28.417829686945137, 21.934668280861594, 32.39905600114302, 24.07400720769709, 21.615629889748313, 24.165731950239703, 26.21228720925071, 28.67312899502841, 15.721095952120693, 16.30968614058061, 30.211706161499023, 26.200918717817828, 19.705198634754527, 23.934225255792793, 15.754429817199707, 29.23139780217951, 36.11315189708363, 29.90076411854137, 23.94475607438521, 25.196340040727094, 23.375715082341973, 26.92822907187722, 26.617199290882457, 26.09118114818226, 18.764981876720082, 31.412207863547586, 27.548605138605293, 25.674552050503817, 21.67523193359375, 30.456554759632457, 16.5078594901345, 25.738901311700996, 22.82949447631836, 28.638654362071644, 31.649642944335938, 26.736767855557527, 18.961992263793945, 25.66451644897461, 20.188656200062145, 30.694767518477008, 28.299259879372336, 26.691734487360176, 33.564517281272195, 33.70265267112038, 23.51784966208718, 27.12877655029297, 27.91977813027122, 31.592418150468305, 30.021532578901812, 32.76003126664595, 20.150199369950727, 32.8734377080744, 28.722694223577324, 36.44698853926225, 26.720915881070223, 20.939084139737215, 32.3889194835316, 20.07767070423473, 26.109765312888406, 20.311119773171164, 25.265443975275215, 24.88956780867143, 25.391139117154207, 19.291291496970437, 29.336590506813742, 27.69064885919744, 25.21213895624334, 28.215380235151812, 26.860985842618074, 13.7409837029197, 17.01946223865856, 21.374267578125, 21.85705670443448, 21.36541210521351, 23.66227115284313, 16.838322032581676, 18.827394485473633, 24.751976533369586, 22.522078774192117, 27.371347947554156, 24.450516787442293, 33.051138791170985, 26.072348161177203, 23.195302096280184]}, {\"mode\": \"markers\", \"name\": \"fc8_Full\", \"showlegend\": true, \"type\": \"scatter\", \"x\": [7, 7, 7, 7, 7, 7, 7, 7, 7, 7, 7, 7, 7, 7, 7, 7, 7, 7, 7, 7], \"y\": [85.61107566139914, 95.7145073630593, 89.6367055719549, 90.14426005970348, 83.66926990855823, 75.57380814985795, 87.53485801003195, 95.47680386629972, 96.83196050470525, 96.68252910267223, 88.04156216708097, 81.84769509055398, 90.11949227072976, 95.37838328968395, 82.96641887318005, 86.95077792080966, 71.52228823575106, 90.74136491255327, 95.65462771329013, 89.00028090043502]}],\n",
       "                        {\"template\": {\"data\": {\"bar\": [{\"error_x\": {\"color\": \"#2a3f5f\"}, \"error_y\": {\"color\": \"#2a3f5f\"}, \"marker\": {\"line\": {\"color\": \"#E5ECF6\", \"width\": 0.5}}, \"type\": \"bar\"}], \"barpolar\": [{\"marker\": {\"line\": {\"color\": \"#E5ECF6\", \"width\": 0.5}}, \"type\": \"barpolar\"}], \"carpet\": [{\"aaxis\": {\"endlinecolor\": \"#2a3f5f\", \"gridcolor\": \"white\", \"linecolor\": \"white\", \"minorgridcolor\": \"white\", \"startlinecolor\": \"#2a3f5f\"}, \"baxis\": {\"endlinecolor\": \"#2a3f5f\", \"gridcolor\": \"white\", \"linecolor\": \"white\", \"minorgridcolor\": \"white\", \"startlinecolor\": \"#2a3f5f\"}, \"type\": \"carpet\"}], \"choropleth\": [{\"colorbar\": {\"outlinewidth\": 0, \"ticks\": \"\"}, \"type\": \"choropleth\"}], \"contour\": [{\"colorbar\": {\"outlinewidth\": 0, \"ticks\": \"\"}, \"colorscale\": [[0.0, \"#0d0887\"], [0.1111111111111111, \"#46039f\"], [0.2222222222222222, \"#7201a8\"], [0.3333333333333333, \"#9c179e\"], [0.4444444444444444, \"#bd3786\"], [0.5555555555555556, \"#d8576b\"], [0.6666666666666666, \"#ed7953\"], [0.7777777777777778, \"#fb9f3a\"], [0.8888888888888888, \"#fdca26\"], [1.0, \"#f0f921\"]], \"type\": \"contour\"}], \"contourcarpet\": [{\"colorbar\": {\"outlinewidth\": 0, \"ticks\": \"\"}, \"type\": \"contourcarpet\"}], \"heatmap\": [{\"colorbar\": {\"outlinewidth\": 0, \"ticks\": \"\"}, \"colorscale\": [[0.0, \"#0d0887\"], [0.1111111111111111, \"#46039f\"], [0.2222222222222222, \"#7201a8\"], [0.3333333333333333, \"#9c179e\"], [0.4444444444444444, \"#bd3786\"], [0.5555555555555556, \"#d8576b\"], [0.6666666666666666, \"#ed7953\"], [0.7777777777777778, \"#fb9f3a\"], [0.8888888888888888, \"#fdca26\"], [1.0, \"#f0f921\"]], \"type\": \"heatmap\"}], \"heatmapgl\": [{\"colorbar\": {\"outlinewidth\": 0, \"ticks\": \"\"}, \"colorscale\": [[0.0, \"#0d0887\"], [0.1111111111111111, \"#46039f\"], [0.2222222222222222, \"#7201a8\"], [0.3333333333333333, \"#9c179e\"], [0.4444444444444444, \"#bd3786\"], [0.5555555555555556, \"#d8576b\"], [0.6666666666666666, \"#ed7953\"], [0.7777777777777778, \"#fb9f3a\"], [0.8888888888888888, \"#fdca26\"], [1.0, \"#f0f921\"]], \"type\": \"heatmapgl\"}], \"histogram\": [{\"marker\": {\"colorbar\": {\"outlinewidth\": 0, \"ticks\": \"\"}}, \"type\": \"histogram\"}], \"histogram2d\": [{\"colorbar\": {\"outlinewidth\": 0, \"ticks\": \"\"}, \"colorscale\": [[0.0, \"#0d0887\"], [0.1111111111111111, \"#46039f\"], [0.2222222222222222, \"#7201a8\"], [0.3333333333333333, \"#9c179e\"], [0.4444444444444444, \"#bd3786\"], [0.5555555555555556, \"#d8576b\"], [0.6666666666666666, \"#ed7953\"], [0.7777777777777778, \"#fb9f3a\"], [0.8888888888888888, \"#fdca26\"], [1.0, \"#f0f921\"]], \"type\": \"histogram2d\"}], \"histogram2dcontour\": [{\"colorbar\": {\"outlinewidth\": 0, \"ticks\": \"\"}, \"colorscale\": [[0.0, \"#0d0887\"], [0.1111111111111111, \"#46039f\"], [0.2222222222222222, \"#7201a8\"], [0.3333333333333333, \"#9c179e\"], [0.4444444444444444, \"#bd3786\"], [0.5555555555555556, \"#d8576b\"], [0.6666666666666666, \"#ed7953\"], [0.7777777777777778, \"#fb9f3a\"], [0.8888888888888888, \"#fdca26\"], [1.0, \"#f0f921\"]], \"type\": \"histogram2dcontour\"}], \"mesh3d\": [{\"colorbar\": {\"outlinewidth\": 0, \"ticks\": \"\"}, \"type\": \"mesh3d\"}], \"parcoords\": [{\"line\": {\"colorbar\": {\"outlinewidth\": 0, \"ticks\": \"\"}}, \"type\": \"parcoords\"}], \"scatter\": [{\"marker\": {\"colorbar\": {\"outlinewidth\": 0, \"ticks\": \"\"}}, \"type\": \"scatter\"}], \"scatter3d\": [{\"line\": {\"colorbar\": {\"outlinewidth\": 0, \"ticks\": \"\"}}, \"marker\": {\"colorbar\": {\"outlinewidth\": 0, \"ticks\": \"\"}}, \"type\": \"scatter3d\"}], \"scattercarpet\": [{\"marker\": {\"colorbar\": {\"outlinewidth\": 0, \"ticks\": \"\"}}, \"type\": \"scattercarpet\"}], \"scattergeo\": [{\"marker\": {\"colorbar\": {\"outlinewidth\": 0, \"ticks\": \"\"}}, \"type\": \"scattergeo\"}], \"scattergl\": [{\"marker\": {\"colorbar\": {\"outlinewidth\": 0, \"ticks\": \"\"}}, \"type\": \"scattergl\"}], \"scattermapbox\": [{\"marker\": {\"colorbar\": {\"outlinewidth\": 0, \"ticks\": \"\"}}, \"type\": \"scattermapbox\"}], \"scatterpolar\": [{\"marker\": {\"colorbar\": {\"outlinewidth\": 0, \"ticks\": \"\"}}, \"type\": \"scatterpolar\"}], \"scatterpolargl\": [{\"marker\": {\"colorbar\": {\"outlinewidth\": 0, \"ticks\": \"\"}}, \"type\": \"scatterpolargl\"}], \"scatterternary\": [{\"marker\": {\"colorbar\": {\"outlinewidth\": 0, \"ticks\": \"\"}}, \"type\": \"scatterternary\"}], \"surface\": [{\"colorbar\": {\"outlinewidth\": 0, \"ticks\": \"\"}, \"colorscale\": [[0.0, \"#0d0887\"], [0.1111111111111111, \"#46039f\"], [0.2222222222222222, \"#7201a8\"], [0.3333333333333333, \"#9c179e\"], [0.4444444444444444, \"#bd3786\"], [0.5555555555555556, \"#d8576b\"], [0.6666666666666666, \"#ed7953\"], [0.7777777777777778, \"#fb9f3a\"], [0.8888888888888888, \"#fdca26\"], [1.0, \"#f0f921\"]], \"type\": \"surface\"}], \"table\": [{\"cells\": {\"fill\": {\"color\": \"#EBF0F8\"}, \"line\": {\"color\": \"white\"}}, \"header\": {\"fill\": {\"color\": \"#C8D4E3\"}, \"line\": {\"color\": \"white\"}}, \"type\": \"table\"}]}, \"layout\": {\"annotationdefaults\": {\"arrowcolor\": \"#2a3f5f\", \"arrowhead\": 0, \"arrowwidth\": 1}, \"colorscale\": {\"diverging\": [[0, \"#8e0152\"], [0.1, \"#c51b7d\"], [0.2, \"#de77ae\"], [0.3, \"#f1b6da\"], [0.4, \"#fde0ef\"], [0.5, \"#f7f7f7\"], [0.6, \"#e6f5d0\"], [0.7, \"#b8e186\"], [0.8, \"#7fbc41\"], [0.9, \"#4d9221\"], [1, \"#276419\"]], \"sequential\": [[0.0, \"#0d0887\"], [0.1111111111111111, \"#46039f\"], [0.2222222222222222, \"#7201a8\"], [0.3333333333333333, \"#9c179e\"], [0.4444444444444444, \"#bd3786\"], [0.5555555555555556, \"#d8576b\"], [0.6666666666666666, \"#ed7953\"], [0.7777777777777778, \"#fb9f3a\"], [0.8888888888888888, \"#fdca26\"], [1.0, \"#f0f921\"]], \"sequentialminus\": [[0.0, \"#0d0887\"], [0.1111111111111111, \"#46039f\"], [0.2222222222222222, \"#7201a8\"], [0.3333333333333333, \"#9c179e\"], [0.4444444444444444, \"#bd3786\"], [0.5555555555555556, \"#d8576b\"], [0.6666666666666666, \"#ed7953\"], [0.7777777777777778, \"#fb9f3a\"], [0.8888888888888888, \"#fdca26\"], [1.0, \"#f0f921\"]]}, \"colorway\": [\"#636efa\", \"#EF553B\", \"#00cc96\", \"#ab63fa\", \"#FFA15A\", \"#19d3f3\", \"#FF6692\", \"#B6E880\", \"#FF97FF\", \"#FECB52\"], \"font\": {\"color\": \"#2a3f5f\"}, \"geo\": {\"bgcolor\": \"white\", \"lakecolor\": \"white\", \"landcolor\": \"#E5ECF6\", \"showlakes\": true, \"showland\": true, \"subunitcolor\": \"white\"}, \"hoverlabel\": {\"align\": \"left\"}, \"hovermode\": \"closest\", \"mapbox\": {\"style\": \"light\"}, \"paper_bgcolor\": \"white\", \"plot_bgcolor\": \"#E5ECF6\", \"polar\": {\"angularaxis\": {\"gridcolor\": \"white\", \"linecolor\": \"white\", \"ticks\": \"\"}, \"bgcolor\": \"#E5ECF6\", \"radialaxis\": {\"gridcolor\": \"white\", \"linecolor\": \"white\", \"ticks\": \"\"}}, \"scene\": {\"xaxis\": {\"backgroundcolor\": \"#E5ECF6\", \"gridcolor\": \"white\", \"gridwidth\": 2, \"linecolor\": \"white\", \"showbackground\": true, \"ticks\": \"\", \"zerolinecolor\": \"white\"}, \"yaxis\": {\"backgroundcolor\": \"#E5ECF6\", \"gridcolor\": \"white\", \"gridwidth\": 2, \"linecolor\": \"white\", \"showbackground\": true, \"ticks\": \"\", \"zerolinecolor\": \"white\"}, \"zaxis\": {\"backgroundcolor\": \"#E5ECF6\", \"gridcolor\": \"white\", \"gridwidth\": 2, \"linecolor\": \"white\", \"showbackground\": true, \"ticks\": \"\", \"zerolinecolor\": \"white\"}}, \"shapedefaults\": {\"line\": {\"color\": \"#2a3f5f\"}}, \"ternary\": {\"aaxis\": {\"gridcolor\": \"white\", \"linecolor\": \"white\", \"ticks\": \"\"}, \"baxis\": {\"gridcolor\": \"white\", \"linecolor\": \"white\", \"ticks\": \"\"}, \"bgcolor\": \"#E5ECF6\", \"caxis\": {\"gridcolor\": \"white\", \"linecolor\": \"white\", \"ticks\": \"\"}}, \"title\": {\"x\": 0.05}, \"xaxis\": {\"automargin\": true, \"gridcolor\": \"white\", \"linecolor\": \"white\", \"ticks\": \"\", \"zerolinecolor\": \"white\", \"zerolinewidth\": 2}, \"yaxis\": {\"automargin\": true, \"gridcolor\": \"white\", \"linecolor\": \"white\", \"ticks\": \"\", \"zerolinecolor\": \"white\", \"zerolinewidth\": 2}}}, \"xaxis\": {\"tickmode\": \"array\", \"ticktext\": [[\"caffe-net\", \"conv1\", 5, 10, 10], [\"caffe-net\", \"conv2\", 5, 10, 10], [\"caffe-net\", \"conv3\", 5, 10, 10], [\"caffe-net\", \"conv4\", 5, 10, 10], [\"caffe-net\", \"conv5\", 5, 10, 10], [\"caffe-net\", \"fc6\", 1], [\"caffe-net\", \"fc7\", 1], [\"caffe-net\", \"fc8\", 1]], \"tickvals\": [0, 1, 2, 3, 4, 5, 6, 7]}},\n",
       "                        {\"responsive\": true}\n",
       "                    ).then(function(){\n",
       "                            \n",
       "var gd = document.getElementById('b86f1c5e-92f7-40d0-8616-fd0d97799dd4');\n",
       "var x = new MutationObserver(function (mutations, observer) {{\n",
       "        var display = window.getComputedStyle(gd).display;\n",
       "        if (!display || display === 'none') {{\n",
       "            console.log([gd, 'removed!']);\n",
       "            Plotly.purge(gd);\n",
       "            observer.disconnect();\n",
       "        }}\n",
       "}});\n",
       "\n",
       "// Listen for the removal of the full notebook cells\n",
       "var notebookContainer = gd.closest('#notebook-container');\n",
       "if (notebookContainer) {{\n",
       "    x.observe(notebookContainer, {childList: true});\n",
       "}}\n",
       "\n",
       "// Listen for the clearing of the current output cell\n",
       "var outputEl = gd.closest('.output');\n",
       "if (outputEl) {{\n",
       "    x.observe(outputEl, {childList: true});\n",
       "}}\n",
       "\n",
       "                        })\n",
       "                };\n",
       "                });\n",
       "            </script>\n",
       "        </div>"
      ]
     },
     "metadata": {},
     "output_type": "display_data"
    }
   ],
   "source": [
    "import plotly.graph_objects as go\n",
    "\n",
    "layout = go.Layout(\n",
    "    xaxis = go.layout.XAxis(\n",
    "        tickmode = 'array',\n",
    "        tickvals = np.arange(len(layer_names)),\n",
    "        ticktext = unit_arr#layer_names\n",
    "    )\n",
    ")\n",
    "fig = go.Figure(\n",
    "    layout = layout\n",
    ")\n",
    "for i, unit in enumerate(unit_arr):\n",
    "    best_scores = np.load(join(basedir, \"%s_%s_%d\" % (unit[0], unit[1], unit[2]), \"best_scores.npy\"))\n",
    "    fig.add_scatter(\n",
    "        x=[i]*best_scores.shape[0],\n",
    "        y=best_scores.mean(axis=1),\n",
    "        mode='markers', name=layer_names[i]+\"_Rand50d\", showlegend=True\n",
    "    )\n",
    "    \n",
    "    best_scores = np.load(join(basedir, \"%s_%s_%d_full\" % (unit[0], unit[1], unit[2]), \"best_scores.npy\"))\n",
    "    fig.add_scatter(\n",
    "        x=[i]*best_scores.shape[0],\n",
    "        y=best_scores.mean(axis=1),\n",
    "        mode='markers', name=layer_names[i]+\"_Full\", showlegend=True\n",
    "    )\n",
    "\n",
    "fig.show()"
   ]
  },
  {
   "cell_type": "code",
   "execution_count": 27,
   "metadata": {},
   "outputs": [],
   "source": [
    "fig.add_box?"
   ]
  },
  {
   "cell_type": "code",
   "execution_count": 46,
   "metadata": {
    "scrolled": false
   },
   "outputs": [
    {
     "data": {
      "application/vnd.plotly.v1+json": {
       "config": {
        "plotlyServerURL": "https://plot.ly"
       },
       "data": [
        {
         "mode": "markers",
         "name": "conv1_Rand50d",
         "type": "scatter",
         "x": [
          0,
          0,
          0,
          0,
          0,
          0,
          0,
          0,
          0,
          0,
          0,
          0,
          0,
          0,
          0,
          0,
          0,
          0,
          0,
          0,
          0,
          0,
          0,
          0,
          0,
          0,
          0,
          0,
          0,
          0,
          0,
          0,
          0,
          0,
          0,
          0,
          0,
          0,
          0,
          0,
          0,
          0,
          0,
          0,
          0,
          0,
          0,
          0,
          0,
          0,
          0,
          0,
          0,
          0,
          0,
          0,
          0,
          0,
          0,
          0,
          0,
          0,
          0,
          0,
          0,
          0,
          0,
          0,
          0,
          0,
          0,
          0,
          0,
          0,
          0,
          0,
          0,
          0,
          0,
          0,
          0,
          0,
          0,
          0,
          0,
          0,
          0,
          0,
          0,
          0,
          0,
          0,
          0,
          0,
          0,
          0,
          0,
          0,
          0,
          0
         ],
         "y": [
          2806.361993963068,
          2810.5685813210225,
          2168.6185191761365,
          2785.4035866477275,
          2834.378750887784,
          2706.6720747514205,
          2895.551202947443,
          2851.363680752841,
          2824.7559037642045,
          2872.7762562144885,
          2620.5534889914775,
          2663.4864390980115,
          2866.9677956321025,
          2674.959383877841,
          2745.9403187144885,
          2711.5427024147725,
          2645.117098721591,
          2718.2309348366475,
          2254.154385653409,
          2697.585116299716,
          2879.805841619318,
          2873.1182084517045,
          2625.00146484375,
          2823.2687766335225,
          2669.64599609375,
          2610.340909090909,
          2698.579034978693,
          2745.0086780894885,
          2778.0821644176135,
          2724.8757768110795,
          2616.972745028409,
          2861.4388316761365,
          2763.9889026988635,
          2358.432306463068,
          2720.484929865057,
          2733.6949573863635,
          2750.3966175426135,
          2671.8066850142045,
          2497.3313210227275,
          2272.4462890625,
          2752.199884588068,
          2739.123601740057,
          2651.2666459517045,
          2833.948397549716,
          2853.6551624644885,
          2653.283846768466,
          2604.236239346591,
          2766.381991299716,
          2851.443670099432,
          2789.847567471591,
          2764.252840909091,
          2739.7672895951705,
          2886.1922718394885,
          2780.9124644886365,
          2696.5432350852275,
          2697.675692471591,
          1308.6723743785512,
          2814.6228249289775,
          2756.9056507457385,
          2787.861261541193,
          2666.665460759943,
          2831.6482155539775,
          2658.750399502841,
          2908.533846768466,
          2476.742431640625,
          2726.1251331676135,
          2733.472500887784,
          2632.278076171875,
          2684.101162997159,
          2582.5034623579545,
          2791.303466796875,
          2674.8026234019885,
          2723.94775390625,
          2615.335271661932,
          2784.677179509943,
          2760.256014737216,
          2791.3601518110795,
          2731.2260520241475,
          2766.9076926491475,
          2588.6463734019885,
          2818.4526589133525,
          2756.952880859375,
          2738.971835049716,
          2802.482599431818,
          2556.8496537642045,
          2672.7290261008525,
          2729.190984552557,
          2386.710848721591,
          2739.410067471591,
          2741.439297762784,
          2677.586004083807,
          2864.110529119318,
          2778.168279474432,
          2824.2496448863635,
          2636.1125044389205,
          2807.5867808948865,
          2845.4968039772725,
          2881.4299094460225,
          2633.4579634232955,
          2824.386785333807
         ]
        },
        {
         "name": "conv1_Rand50d",
         "type": "box",
         "x0": 0.4,
         "y": [
          2806.361993963068,
          2810.5685813210225,
          2168.6185191761365,
          2785.4035866477275,
          2834.378750887784,
          2706.6720747514205,
          2895.551202947443,
          2851.363680752841,
          2824.7559037642045,
          2872.7762562144885,
          2620.5534889914775,
          2663.4864390980115,
          2866.9677956321025,
          2674.959383877841,
          2745.9403187144885,
          2711.5427024147725,
          2645.117098721591,
          2718.2309348366475,
          2254.154385653409,
          2697.585116299716,
          2879.805841619318,
          2873.1182084517045,
          2625.00146484375,
          2823.2687766335225,
          2669.64599609375,
          2610.340909090909,
          2698.579034978693,
          2745.0086780894885,
          2778.0821644176135,
          2724.8757768110795,
          2616.972745028409,
          2861.4388316761365,
          2763.9889026988635,
          2358.432306463068,
          2720.484929865057,
          2733.6949573863635,
          2750.3966175426135,
          2671.8066850142045,
          2497.3313210227275,
          2272.4462890625,
          2752.199884588068,
          2739.123601740057,
          2651.2666459517045,
          2833.948397549716,
          2853.6551624644885,
          2653.283846768466,
          2604.236239346591,
          2766.381991299716,
          2851.443670099432,
          2789.847567471591,
          2764.252840909091,
          2739.7672895951705,
          2886.1922718394885,
          2780.9124644886365,
          2696.5432350852275,
          2697.675692471591,
          1308.6723743785512,
          2814.6228249289775,
          2756.9056507457385,
          2787.861261541193,
          2666.665460759943,
          2831.6482155539775,
          2658.750399502841,
          2908.533846768466,
          2476.742431640625,
          2726.1251331676135,
          2733.472500887784,
          2632.278076171875,
          2684.101162997159,
          2582.5034623579545,
          2791.303466796875,
          2674.8026234019885,
          2723.94775390625,
          2615.335271661932,
          2784.677179509943,
          2760.256014737216,
          2791.3601518110795,
          2731.2260520241475,
          2766.9076926491475,
          2588.6463734019885,
          2818.4526589133525,
          2756.952880859375,
          2738.971835049716,
          2802.482599431818,
          2556.8496537642045,
          2672.7290261008525,
          2729.190984552557,
          2386.710848721591,
          2739.410067471591,
          2741.439297762784,
          2677.586004083807,
          2864.110529119318,
          2778.168279474432,
          2824.2496448863635,
          2636.1125044389205,
          2807.5867808948865,
          2845.4968039772725,
          2881.4299094460225,
          2633.4579634232955,
          2824.386785333807
         ]
        },
        {
         "mode": "markers",
         "name": "conv1_Full",
         "type": "scatter",
         "x": [
          0,
          0,
          0,
          0,
          0,
          0,
          0,
          0,
          0,
          0,
          0,
          0,
          0,
          0,
          0,
          0,
          0,
          0,
          0,
          0
         ],
         "y": [
          3081.863614169034,
          3058.277432528409,
          3035.0235484730115,
          3081.3390891335225,
          3067.9644664417615,
          3090.5288529829545,
          3075.608709161932,
          3073.910977450284,
          3058.410222833807,
          3042.138916015625,
          3064.895086115057,
          3035.0801003196025,
          3074.510919744318,
          3057.672052556818,
          3081.3057972301135,
          3082.7564808238635,
          3097.5569957386365,
          3045.7939231178975,
          3080.3755326704545,
          3033.756591796875
         ]
        },
        {
         "name": "conv1_Full",
         "type": "box",
         "x0": 0.4,
         "y": [
          3081.863614169034,
          3058.277432528409,
          3035.0235484730115,
          3081.3390891335225,
          3067.9644664417615,
          3090.5288529829545,
          3075.608709161932,
          3073.910977450284,
          3058.410222833807,
          3042.138916015625,
          3064.895086115057,
          3035.0801003196025,
          3074.510919744318,
          3057.672052556818,
          3081.3057972301135,
          3082.7564808238635,
          3097.5569957386365,
          3045.7939231178975,
          3080.3755326704545,
          3033.756591796875
         ]
        },
        {
         "mode": "markers",
         "name": "conv2_Rand50d",
         "type": "scatter",
         "x": [
          1,
          1,
          1,
          1,
          1,
          1,
          1,
          1,
          1,
          1,
          1,
          1,
          1,
          1,
          1,
          1,
          1,
          1,
          1,
          1,
          1,
          1,
          1,
          1,
          1,
          1,
          1,
          1,
          1,
          1,
          1,
          1,
          1,
          1,
          1,
          1,
          1,
          1,
          1,
          1,
          1,
          1,
          1,
          1,
          1,
          1,
          1,
          1,
          1,
          1,
          1,
          1,
          1,
          1,
          1,
          1,
          1,
          1,
          1,
          1,
          1,
          1,
          1,
          1,
          1,
          1,
          1,
          1,
          1,
          1,
          1,
          1,
          1,
          1,
          1,
          1,
          1,
          1,
          1,
          1,
          1,
          1,
          1,
          1,
          1,
          1,
          1,
          1,
          1,
          1,
          1,
          1,
          1,
          1,
          1,
          1,
          1,
          1,
          1,
          1
         ],
         "y": [
          415.6943664550781,
          410.81503850763494,
          410.32031804865056,
          410.9117542613636,
          391.18574662642044,
          367.9810901988636,
          384.6643565784801,
          372.8160872025923,
          421.7431168989702,
          388.32019597833806,
          374.0610046386719,
          392.08595137162644,
          409.5063310102983,
          394.3848571777344,
          369.1555092551491,
          432.9280728426847,
          374.26001531427556,
          387.07325605912644,
          405.82031804865056,
          391.28869074041194,
          407.86376953125,
          384.01502019708806,
          415.1106706099077,
          409.7303300337358,
          427.1597040349787,
          399.5173256613991,
          382.4037364612926,
          388.49368563565343,
          395.2804648659446,
          423.5341047807173,
          315.8517372824929,
          367.19610873135656,
          384.64143787730825,
          433.1958035555753,
          393.4695767489347,
          385.5320878462358,
          415.28350552645594,
          393.8280584161932,
          406.8694596724077,
          400.445556640625,
          425.6419317072088,
          395.5880820534446,
          399.5438065962358,
          382.5399697043679,
          411.6638266823509,
          386.93496149236506,
          380.82795854048294,
          397.61700716885656,
          399.2228282581676,
          389.4440834738991,
          389.2607338645241,
          400.25960193980825,
          353.0336442427202,
          403.93751387162644,
          436.08200628107244,
          370.22177956321025,
          434.9570784135298,
          425.35272216796875,
          380.0740855823864,
          382.7265264337713,
          358.08343228426844,
          400.2385725541548,
          427.8043961958452,
          366.09604436700994,
          402.9837646484375,
          395.606728293679,
          414.7142139781605,
          372.0837679776278,
          414.37758567116475,
          458.4992786754261,
          394.009560324929,
          387.35782137784093,
          373.1646201393821,
          397.6042314009233,
          380.0039561878551,
          407.4136657714844,
          414.7594854181463,
          405.5156527432528,
          392.109599720348,
          360.0474326393821,
          413.1824867942116,
          409.7333484996449,
          436.4123063520952,
          383.75994595614344,
          397.1131397594105,
          385.7248424183239,
          460.5920437899503,
          386.44561767578125,
          404.9247492009943,
          408.4568814364347,
          382.9051014293324,
          400.96891368519175,
          397.2576932040128,
          411.19865278764206,
          391.427959095348,
          354.55798894708806,
          404.9173223322088,
          412.0275906649503,
          420.1081431995739,
          418.0699157714844
         ]
        },
        {
         "name": "conv2_Rand50d",
         "type": "box",
         "x0": 1.4,
         "y": [
          415.6943664550781,
          410.81503850763494,
          410.32031804865056,
          410.9117542613636,
          391.18574662642044,
          367.9810901988636,
          384.6643565784801,
          372.8160872025923,
          421.7431168989702,
          388.32019597833806,
          374.0610046386719,
          392.08595137162644,
          409.5063310102983,
          394.3848571777344,
          369.1555092551491,
          432.9280728426847,
          374.26001531427556,
          387.07325605912644,
          405.82031804865056,
          391.28869074041194,
          407.86376953125,
          384.01502019708806,
          415.1106706099077,
          409.7303300337358,
          427.1597040349787,
          399.5173256613991,
          382.4037364612926,
          388.49368563565343,
          395.2804648659446,
          423.5341047807173,
          315.8517372824929,
          367.19610873135656,
          384.64143787730825,
          433.1958035555753,
          393.4695767489347,
          385.5320878462358,
          415.28350552645594,
          393.8280584161932,
          406.8694596724077,
          400.445556640625,
          425.6419317072088,
          395.5880820534446,
          399.5438065962358,
          382.5399697043679,
          411.6638266823509,
          386.93496149236506,
          380.82795854048294,
          397.61700716885656,
          399.2228282581676,
          389.4440834738991,
          389.2607338645241,
          400.25960193980825,
          353.0336442427202,
          403.93751387162644,
          436.08200628107244,
          370.22177956321025,
          434.9570784135298,
          425.35272216796875,
          380.0740855823864,
          382.7265264337713,
          358.08343228426844,
          400.2385725541548,
          427.8043961958452,
          366.09604436700994,
          402.9837646484375,
          395.606728293679,
          414.7142139781605,
          372.0837679776278,
          414.37758567116475,
          458.4992786754261,
          394.009560324929,
          387.35782137784093,
          373.1646201393821,
          397.6042314009233,
          380.0039561878551,
          407.4136657714844,
          414.7594854181463,
          405.5156527432528,
          392.109599720348,
          360.0474326393821,
          413.1824867942116,
          409.7333484996449,
          436.4123063520952,
          383.75994595614344,
          397.1131397594105,
          385.7248424183239,
          460.5920437899503,
          386.44561767578125,
          404.9247492009943,
          408.4568814364347,
          382.9051014293324,
          400.96891368519175,
          397.2576932040128,
          411.19865278764206,
          391.427959095348,
          354.55798894708806,
          404.9173223322088,
          412.0275906649503,
          420.1081431995739,
          418.0699157714844
         ]
        },
        {
         "mode": "markers",
         "name": "conv2_Full",
         "type": "scatter",
         "x": [
          1,
          1,
          1,
          1,
          1,
          1,
          1,
          1,
          1,
          1,
          1,
          1,
          1,
          1,
          1,
          1,
          1,
          1,
          1,
          1
         ],
         "y": [
          508.6222284490412,
          487.6428056196733,
          456.9993508078835,
          505.8417691317472,
          502.4564597389915,
          509.489296653054,
          517.3283330743963,
          490.0106228915128,
          511.9381103515625,
          511.36358642578125,
          513.227070201527,
          503.59667413884944,
          467.96097079190343,
          495.06846757368606,
          493.29925259676844,
          496.9863836115057,
          486.94291270862925,
          501.8221907182173,
          503.4320151589134,
          514.8619689941406
         ]
        },
        {
         "name": "conv2_Full",
         "type": "box",
         "x0": 1.4,
         "y": [
          508.6222284490412,
          487.6428056196733,
          456.9993508078835,
          505.8417691317472,
          502.4564597389915,
          509.489296653054,
          517.3283330743963,
          490.0106228915128,
          511.9381103515625,
          511.36358642578125,
          513.227070201527,
          503.59667413884944,
          467.96097079190343,
          495.06846757368606,
          493.29925259676844,
          496.9863836115057,
          486.94291270862925,
          501.8221907182173,
          503.4320151589134,
          514.8619689941406
         ]
        },
        {
         "mode": "markers",
         "name": "conv3_Rand50d",
         "type": "scatter",
         "x": [
          2,
          2,
          2,
          2,
          2,
          2,
          2,
          2,
          2,
          2,
          2,
          2,
          2,
          2,
          2,
          2,
          2,
          2,
          2,
          2,
          2,
          2,
          2,
          2,
          2,
          2,
          2,
          2,
          2,
          2,
          2,
          2,
          2,
          2,
          2,
          2,
          2,
          2,
          2,
          2,
          2,
          2,
          2,
          2,
          2,
          2,
          2,
          2,
          2,
          2,
          2,
          2,
          2,
          2,
          2,
          2,
          2,
          2,
          2,
          2,
          2,
          2,
          2,
          2,
          2,
          2,
          2,
          2,
          2,
          2,
          2,
          2,
          2,
          2,
          2,
          2,
          2,
          2,
          2,
          2,
          2,
          2,
          2,
          2,
          2,
          2,
          2,
          2,
          2,
          2,
          2,
          2,
          2,
          2,
          2,
          2,
          2,
          2,
          2,
          2
         ],
         "y": [
          299.2980263449929,
          241.55963134765625,
          122.9591196233576,
          291.7151794433594,
          301.3819191672585,
          304.38421353426844,
          149.2839951948686,
          155.36515669389203,
          257.5415802001953,
          147.75991266424006,
          240.24104031649503,
          222.37044455788353,
          266.09982993386006,
          178.23258139870384,
          282.50886674360794,
          115.3432353626598,
          220.4997322776101,
          245.19379771839488,
          304.42320390181106,
          148.19937827370384,
          269.67107876864344,
          336.94273515181106,
          254.91108426180753,
          252.9547119140625,
          189.82533957741478,
          143.15322598544034,
          332.25516024502843,
          192.99916631525213,
          123.3365742076527,
          256.78640885786575,
          205.75004716352984,
          113.8742974021218,
          168.66911870783025,
          288.6426890980114,
          109.97543820467862,
          166.31814297762784,
          334.7256608442827,
          246.53695956143466,
          262.1022255637429,
          99.48637806285511,
          173.00618397105825,
          277.89356855912644,
          219.59311190518466,
          212.27362754128197,
          128.3440274325284,
          220.40576588023794,
          351.15399447354406,
          169.9112091064453,
          167.6397150213068,
          146.5167763449929,
          124.21976332231002,
          308.1104847301136,
          190.46000255237925,
          320.0725069912997,
          115.08659432151101,
          209.74170199307528,
          270.82908769087356,
          276.3466769131747,
          166.8391765247692,
          276.0736444646662,
          206.18045876242897,
          142.40730008212003,
          196.23669294877485,
          185.85353227095172,
          259.6662431196733,
          113.1716572154652,
          179.8918595747514,
          159.40971929376775,
          264.13156682794744,
          217.7875518798828,
          101.59601523659445,
          248.66490450772372,
          325.10660067471593,
          291.70614346590907,
          135.10271523215553,
          227.93588534268466,
          125.342153375799,
          252.50355529785156,
          239.77591635964134,
          175.84355302290484,
          310.7376181862571,
          125.24132953990589,
          307.57561978426844,
          221.85265697132456,
          219.69909113103694,
          201.28001403808594,
          159.86875360662287,
          246.00957142223012,
          293.24228737571025,
          208.35716247558594,
          333.65104536576706,
          218.32745083895597,
          229.90700045498934,
          294.8109158602628,
          129.0427641435103,
          148.98198214444247,
          149.65280983664772,
          246.53683332963422,
          140.9474764737216,
          305.545634876598
         ]
        },
        {
         "name": "conv3_Rand50d",
         "type": "box",
         "x0": 2.4,
         "y": [
          299.2980263449929,
          241.55963134765625,
          122.9591196233576,
          291.7151794433594,
          301.3819191672585,
          304.38421353426844,
          149.2839951948686,
          155.36515669389203,
          257.5415802001953,
          147.75991266424006,
          240.24104031649503,
          222.37044455788353,
          266.09982993386006,
          178.23258139870384,
          282.50886674360794,
          115.3432353626598,
          220.4997322776101,
          245.19379771839488,
          304.42320390181106,
          148.19937827370384,
          269.67107876864344,
          336.94273515181106,
          254.91108426180753,
          252.9547119140625,
          189.82533957741478,
          143.15322598544034,
          332.25516024502843,
          192.99916631525213,
          123.3365742076527,
          256.78640885786575,
          205.75004716352984,
          113.8742974021218,
          168.66911870783025,
          288.6426890980114,
          109.97543820467862,
          166.31814297762784,
          334.7256608442827,
          246.53695956143466,
          262.1022255637429,
          99.48637806285511,
          173.00618397105825,
          277.89356855912644,
          219.59311190518466,
          212.27362754128197,
          128.3440274325284,
          220.40576588023794,
          351.15399447354406,
          169.9112091064453,
          167.6397150213068,
          146.5167763449929,
          124.21976332231002,
          308.1104847301136,
          190.46000255237925,
          320.0725069912997,
          115.08659432151101,
          209.74170199307528,
          270.82908769087356,
          276.3466769131747,
          166.8391765247692,
          276.0736444646662,
          206.18045876242897,
          142.40730008212003,
          196.23669294877485,
          185.85353227095172,
          259.6662431196733,
          113.1716572154652,
          179.8918595747514,
          159.40971929376775,
          264.13156682794744,
          217.7875518798828,
          101.59601523659445,
          248.66490450772372,
          325.10660067471593,
          291.70614346590907,
          135.10271523215553,
          227.93588534268466,
          125.342153375799,
          252.50355529785156,
          239.77591635964134,
          175.84355302290484,
          310.7376181862571,
          125.24132953990589,
          307.57561978426844,
          221.85265697132456,
          219.69909113103694,
          201.28001403808594,
          159.86875360662287,
          246.00957142223012,
          293.24228737571025,
          208.35716247558594,
          333.65104536576706,
          218.32745083895597,
          229.90700045498934,
          294.8109158602628,
          129.0427641435103,
          148.98198214444247,
          149.65280983664772,
          246.53683332963422,
          140.9474764737216,
          305.545634876598
         ]
        },
        {
         "mode": "markers",
         "name": "conv3_Full",
         "type": "scatter",
         "x": [
          2,
          2,
          2,
          2,
          2,
          2,
          2,
          2,
          2,
          2,
          2,
          2,
          2,
          2,
          2,
          2,
          2,
          2,
          2,
          2
         ],
         "y": [
          368.8588783957741,
          379.58905029296875,
          380.84126697887075,
          370.88247958096593,
          382.49517544833094,
          380.85862038352275,
          373.97188221324575,
          383.2555209073153,
          354.0792957652699,
          383.22123302112925,
          378.89793534712356,
          344.3472733931108,
          360.9562461159446,
          369.6029912775213,
          388.04568758877843,
          381.1342606977983,
          365.44828657670456,
          381.2212663130327,
          355.4893410422585,
          379.4041026722301
         ]
        },
        {
         "name": "conv3_Full",
         "type": "box",
         "x0": 2.4,
         "y": [
          368.8588783957741,
          379.58905029296875,
          380.84126697887075,
          370.88247958096593,
          382.49517544833094,
          380.85862038352275,
          373.97188221324575,
          383.2555209073153,
          354.0792957652699,
          383.22123302112925,
          378.89793534712356,
          344.3472733931108,
          360.9562461159446,
          369.6029912775213,
          388.04568758877843,
          381.1342606977983,
          365.44828657670456,
          381.2212663130327,
          355.4893410422585,
          379.4041026722301
         ]
        },
        {
         "mode": "markers",
         "name": "conv4_Rand50d",
         "type": "scatter",
         "x": [
          3,
          3,
          3,
          3,
          3,
          3,
          3,
          3,
          3,
          3,
          3,
          3,
          3,
          3,
          3,
          3,
          3,
          3,
          3,
          3,
          3,
          3,
          3,
          3,
          3,
          3,
          3,
          3,
          3,
          3,
          3,
          3,
          3,
          3,
          3,
          3,
          3,
          3,
          3,
          3,
          3,
          3,
          3,
          3,
          3,
          3,
          3,
          3,
          3,
          3,
          3,
          3,
          3,
          3,
          3,
          3,
          3,
          3,
          3,
          3,
          3,
          3,
          3,
          3,
          3,
          3,
          3,
          3,
          3,
          3,
          3,
          3,
          3,
          3,
          3,
          3,
          3,
          3,
          3,
          3,
          3,
          3,
          3,
          3,
          3,
          3,
          3,
          3,
          3,
          3,
          3,
          3,
          3,
          3,
          3,
          3,
          3,
          3,
          3,
          3
         ],
         "y": [
          140.05547124689275,
          143.976806640625,
          162.08251675692472,
          127.14820723100142,
          178.60157914595172,
          183.57345858487216,
          148.53626598011363,
          173.73312655362216,
          126.071345242587,
          149.2447648481889,
          160.74313631924716,
          160.69637229225853,
          118.05059675736861,
          166.38720009543678,
          167.66442732377485,
          130.9616047252308,
          160.57195073908025,
          177.62302468039772,
          135.05596230246803,
          159.36424116654828,
          119.44457869096236,
          142.77177984064275,
          171.80953008478338,
          138.52510486949575,
          157.4384238503196,
          147.14995644309303,
          147.70553727583453,
          169.20066278631037,
          154.82217545942828,
          167.6680242365057,
          142.1511494029652,
          130.76005970348012,
          124.01919278231534,
          127.00974412397905,
          154.03718012029475,
          161.2204229181463,
          195.43755409934303,
          175.99040499600497,
          136.35246831720525,
          202.20185713334516,
          106.92316575483842,
          164.49212923916903,
          136.09085499156606,
          150.7194033536044,
          114.81072720614347,
          153.39028791947797,
          169.20167264071378,
          157.07237104936078,
          154.1993144642223,
          151.01942582563922,
          152.4509013782848,
          126.76485373757102,
          111.50644822554155,
          143.46780118075284,
          126.36274719238281,
          200.65914916992188,
          166.69495322487572,
          159.0111347545277,
          183.42139226740056,
          172.37513732910156,
          171.31885875355113,
          150.43361594460228,
          152.63125749067828,
          181.28974359685725,
          146.3675009987571,
          148.5591444535689,
          154.06801119717684,
          143.7289775501598,
          140.28042602539062,
          191.63272927024147,
          144.04171614213422,
          142.31006969105113,
          160.24988070401278,
          166.39930447665128,
          135.09449768066406,
          132.70824363014916,
          137.29575972123578,
          127.5024344704368,
          166.2971857244318,
          130.8156169544567,
          176.20012734153053,
          109.33277823708274,
          184.46516279740766,
          137.89751226251775,
          149.8056016401811,
          171.18101224032316,
          184.8863983154297,
          152.63621382279828,
          115.46024946732955,
          179.37093145197088,
          144.445180719549,
          117.74508528275923,
          170.2261408025568,
          136.56026805530894,
          150.229248046875,
          170.8293887051669,
          175.63031005859375,
          180.89034618030894,
          165.21747935901988,
          108.87732349742542
         ]
        },
        {
         "name": "conv4_Rand50d",
         "type": "box",
         "x0": 3.4,
         "y": [
          140.05547124689275,
          143.976806640625,
          162.08251675692472,
          127.14820723100142,
          178.60157914595172,
          183.57345858487216,
          148.53626598011363,
          173.73312655362216,
          126.071345242587,
          149.2447648481889,
          160.74313631924716,
          160.69637229225853,
          118.05059675736861,
          166.38720009543678,
          167.66442732377485,
          130.9616047252308,
          160.57195073908025,
          177.62302468039772,
          135.05596230246803,
          159.36424116654828,
          119.44457869096236,
          142.77177984064275,
          171.80953008478338,
          138.52510486949575,
          157.4384238503196,
          147.14995644309303,
          147.70553727583453,
          169.20066278631037,
          154.82217545942828,
          167.6680242365057,
          142.1511494029652,
          130.76005970348012,
          124.01919278231534,
          127.00974412397905,
          154.03718012029475,
          161.2204229181463,
          195.43755409934303,
          175.99040499600497,
          136.35246831720525,
          202.20185713334516,
          106.92316575483842,
          164.49212923916903,
          136.09085499156606,
          150.7194033536044,
          114.81072720614347,
          153.39028791947797,
          169.20167264071378,
          157.07237104936078,
          154.1993144642223,
          151.01942582563922,
          152.4509013782848,
          126.76485373757102,
          111.50644822554155,
          143.46780118075284,
          126.36274719238281,
          200.65914916992188,
          166.69495322487572,
          159.0111347545277,
          183.42139226740056,
          172.37513732910156,
          171.31885875355113,
          150.43361594460228,
          152.63125749067828,
          181.28974359685725,
          146.3675009987571,
          148.5591444535689,
          154.06801119717684,
          143.7289775501598,
          140.28042602539062,
          191.63272927024147,
          144.04171614213422,
          142.31006969105113,
          160.24988070401278,
          166.39930447665128,
          135.09449768066406,
          132.70824363014916,
          137.29575972123578,
          127.5024344704368,
          166.2971857244318,
          130.8156169544567,
          176.20012734153053,
          109.33277823708274,
          184.46516279740766,
          137.89751226251775,
          149.8056016401811,
          171.18101224032316,
          184.8863983154297,
          152.63621382279828,
          115.46024946732955,
          179.37093145197088,
          144.445180719549,
          117.74508528275923,
          170.2261408025568,
          136.56026805530894,
          150.229248046875,
          170.8293887051669,
          175.63031005859375,
          180.89034618030894,
          165.21747935901988,
          108.87732349742542
         ]
        },
        {
         "mode": "markers",
         "name": "conv4_Full",
         "type": "scatter",
         "x": [
          3,
          3,
          3,
          3,
          3,
          3,
          3,
          3,
          3,
          3,
          3,
          3,
          3,
          3,
          3,
          3,
          3,
          3,
          3,
          3
         ],
         "y": [
          239.8462898947976,
          259.1894794810902,
          241.01455133611506,
          247.8888896595348,
          245.57451144131747,
          251.3550040505149,
          240.9845761385831,
          267.6223061301491,
          265.8691933371804,
          245.11091752485797,
          257.0925390070135,
          250.34252097389916,
          226.91466175426137,
          254.31801119717684,
          255.20474381880328,
          244.83043185147372,
          261.1165050159801,
          246.6761280406605,
          238.5890489058061,
          273.7710904208097
         ]
        },
        {
         "name": "conv4_Full",
         "type": "box",
         "x0": 3.4,
         "y": [
          239.8462898947976,
          259.1894794810902,
          241.01455133611506,
          247.8888896595348,
          245.57451144131747,
          251.3550040505149,
          240.9845761385831,
          267.6223061301491,
          265.8691933371804,
          245.11091752485797,
          257.0925390070135,
          250.34252097389916,
          226.91466175426137,
          254.31801119717684,
          255.20474381880328,
          244.83043185147372,
          261.1165050159801,
          246.6761280406605,
          238.5890489058061,
          273.7710904208097
         ]
        },
        {
         "mode": "markers",
         "name": "conv5_Rand50d",
         "type": "scatter",
         "x": [
          4,
          4,
          4,
          4,
          4,
          4,
          4,
          4,
          4,
          4,
          4,
          4,
          4,
          4,
          4,
          4,
          4,
          4,
          4,
          4,
          4,
          4,
          4,
          4,
          4,
          4,
          4,
          4,
          4,
          4,
          4,
          4,
          4,
          4,
          4,
          4,
          4,
          4,
          4,
          4,
          4,
          4,
          4,
          4,
          4,
          4,
          4,
          4,
          4,
          4,
          4,
          4,
          4,
          4,
          4,
          4,
          4,
          4,
          4,
          4,
          4,
          4,
          4,
          4,
          4,
          4,
          4,
          4,
          4,
          4,
          4,
          4,
          4,
          4,
          4,
          4,
          4,
          4,
          4,
          4,
          4,
          4,
          4,
          4,
          4,
          4,
          4,
          4,
          4,
          4,
          4,
          4,
          4,
          4,
          4,
          4,
          4,
          4,
          4,
          4
         ],
         "y": [
          179.79048989035866,
          133.62715565074575,
          219.83017106489703,
          181.12521501020953,
          218.77463739568537,
          216.61501936479047,
          185.3385245583274,
          246.15970819646662,
          131.6173664439808,
          215.53924283114347,
          208.36013239080256,
          222.4972118030895,
          241.2328338623047,
          178.49591064453125,
          190.3927196155895,
          228.17999961159447,
          158.7643418745561,
          218.97150767933238,
          194.7628839666193,
          157.23786093971947,
          155.53627152876422,
          210.2422735040838,
          186.29659618030894,
          216.53681529651988,
          195.77539756081322,
          213.28643521395597,
          127.4302090731534,
          207.1171777898615,
          194.6519178910689,
          211.51054937189275,
          220.15703374689275,
          207.27539617365056,
          235.51707458496094,
          264.8108936656605,
          220.5106867009943,
          182.08733437278053,
          163.92111344770953,
          171.96660267223012,
          200.5333820689808,
          222.76575539328834,
          167.99011924050072,
          140.06044699928978,
          155.64793118563566,
          200.32556291060015,
          215.2013827237216,
          184.54661282626066,
          236.9444815895774,
          227.82588334517047,
          218.484975641424,
          234.86677967418325,
          122.15695884011008,
          264.07598876953125,
          158.60969682173297,
          226.85092163085938,
          183.50607161088422,
          250.40752896395597,
          211.2744764848189,
          157.74183793501422,
          169.77205449884588,
          193.30969654430044,
          205.32984646883878,
          222.9200439453125,
          220.7624969482422,
          139.50917746803978,
          155.53039828213778,
          121.52097667347302,
          138.14442721280184,
          233.33960099653765,
          194.51610495827416,
          181.731425892223,
          190.5907509543679,
          121.84941655939275,
          136.94801053133878,
          207.97536676580256,
          254.80871027166194,
          181.75141351873225,
          196.46656521883878,
          170.11339222301137,
          209.09067743474787,
          238.8708593195135,
          182.83394276012075,
          188.14265164462003,
          201.9960382634943,
          159.9105987548828,
          231.413349498402,
          132.51497719504616,
          218.1493571888317,
          198.47400318492544,
          239.58065657182172,
          178.32727744362572,
          211.9184709028764,
          209.607441295277,
          220.667255748402,
          241.54835787686434,
          193.55462369051847,
          132.6071874445135,
          209.80351812189275,
          207.26514365456322,
          142.94624467329547,
          230.81357782537287
         ]
        },
        {
         "name": "conv5_Rand50d",
         "type": "box",
         "x0": 4.4,
         "y": [
          179.79048989035866,
          133.62715565074575,
          219.83017106489703,
          181.12521501020953,
          218.77463739568537,
          216.61501936479047,
          185.3385245583274,
          246.15970819646662,
          131.6173664439808,
          215.53924283114347,
          208.36013239080256,
          222.4972118030895,
          241.2328338623047,
          178.49591064453125,
          190.3927196155895,
          228.17999961159447,
          158.7643418745561,
          218.97150767933238,
          194.7628839666193,
          157.23786093971947,
          155.53627152876422,
          210.2422735040838,
          186.29659618030894,
          216.53681529651988,
          195.77539756081322,
          213.28643521395597,
          127.4302090731534,
          207.1171777898615,
          194.6519178910689,
          211.51054937189275,
          220.15703374689275,
          207.27539617365056,
          235.51707458496094,
          264.8108936656605,
          220.5106867009943,
          182.08733437278053,
          163.92111344770953,
          171.96660267223012,
          200.5333820689808,
          222.76575539328834,
          167.99011924050072,
          140.06044699928978,
          155.64793118563566,
          200.32556291060015,
          215.2013827237216,
          184.54661282626066,
          236.9444815895774,
          227.82588334517047,
          218.484975641424,
          234.86677967418325,
          122.15695884011008,
          264.07598876953125,
          158.60969682173297,
          226.85092163085938,
          183.50607161088422,
          250.40752896395597,
          211.2744764848189,
          157.74183793501422,
          169.77205449884588,
          193.30969654430044,
          205.32984646883878,
          222.9200439453125,
          220.7624969482422,
          139.50917746803978,
          155.53039828213778,
          121.52097667347302,
          138.14442721280184,
          233.33960099653765,
          194.51610495827416,
          181.731425892223,
          190.5907509543679,
          121.84941655939275,
          136.94801053133878,
          207.97536676580256,
          254.80871027166194,
          181.75141351873225,
          196.46656521883878,
          170.11339222301137,
          209.09067743474787,
          238.8708593195135,
          182.83394276012075,
          188.14265164462003,
          201.9960382634943,
          159.9105987548828,
          231.413349498402,
          132.51497719504616,
          218.1493571888317,
          198.47400318492544,
          239.58065657182172,
          178.32727744362572,
          211.9184709028764,
          209.607441295277,
          220.667255748402,
          241.54835787686434,
          193.55462369051847,
          132.6071874445135,
          209.80351812189275,
          207.26514365456322,
          142.94624467329547,
          230.81357782537287
         ]
        },
        {
         "mode": "markers",
         "name": "conv5_Full",
         "type": "scatter",
         "x": [
          4,
          4,
          4,
          4,
          4,
          4,
          4,
          4,
          4,
          4,
          4,
          4,
          4,
          4,
          4,
          4,
          4,
          4,
          4,
          4
         ],
         "y": [
          349.83725807883525,
          361.1516945578835,
          355.6122741699219,
          359.73576216264206,
          336.7155733975497,
          359.8602960759943,
          353.7035966352983,
          347.7513344504616,
          357.1695390181108,
          349.0678794167259,
          356.31841763583094,
          343.45971124822444,
          359.13949307528407,
          353.331581809304,
          355.2869207208807,
          347.7039600719105,
          371.49154385653407,
          357.2723111239347,
          357.8556185635653,
          365.1197232333097
         ]
        },
        {
         "name": "conv5_Full",
         "type": "box",
         "x0": 4.4,
         "y": [
          349.83725807883525,
          361.1516945578835,
          355.6122741699219,
          359.73576216264206,
          336.7155733975497,
          359.8602960759943,
          353.7035966352983,
          347.7513344504616,
          357.1695390181108,
          349.0678794167259,
          356.31841763583094,
          343.45971124822444,
          359.13949307528407,
          353.331581809304,
          355.2869207208807,
          347.7039600719105,
          371.49154385653407,
          357.2723111239347,
          357.8556185635653,
          365.1197232333097
         ]
        },
        {
         "mode": "markers",
         "name": "fc6_Rand50d",
         "type": "scatter",
         "x": [
          5,
          5,
          5,
          5,
          5,
          5,
          5,
          5,
          5,
          5,
          5,
          5,
          5,
          5,
          5,
          5,
          5,
          5,
          5,
          5,
          5,
          5,
          5,
          5,
          5,
          5,
          5,
          5,
          5,
          5,
          5,
          5,
          5,
          5,
          5,
          5,
          5,
          5,
          5,
          5,
          5,
          5,
          5,
          5,
          5,
          5,
          5,
          5,
          5,
          5,
          5,
          5,
          5,
          5,
          5,
          5,
          5,
          5,
          5,
          5,
          5,
          5,
          5,
          5,
          5,
          5,
          5,
          5,
          5,
          5,
          5,
          5,
          5,
          5,
          5,
          5,
          5,
          5,
          5,
          5,
          5,
          5,
          5,
          5,
          5,
          5,
          5,
          5,
          5,
          5,
          5,
          5,
          5,
          5,
          5,
          5,
          5,
          5,
          5,
          5
         ],
         "y": [
          86.7345858487216,
          91.89083376797763,
          83.16916725852273,
          77.35805303400213,
          77.07215742631392,
          86.7163411920721,
          71.36920027299361,
          65.50227425315164,
          69.61016013405539,
          71.44850158691406,
          65.94806809858842,
          88.84006847034802,
          73.64840906316584,
          68.13880296186967,
          73.99402757124467,
          70.89476151899858,
          81.95305009321733,
          65.47684894908558,
          75.41129094904119,
          91.96378257057883,
          71.34081892533736,
          79.8096431385387,
          76.43972570245916,
          67.17292785644531,
          87.65704484419389,
          87.29684378884055,
          83.00047440962358,
          75.53737432306463,
          80.68051424893466,
          75.78447654030539,
          87.62365306507458,
          59.851837158203125,
          97.88975316827947,
          56.038787148215555,
          74.24800942160867,
          93.52488292347302,
          75.60979114879261,
          90.63647322221236,
          73.21187591552734,
          86.85573716597123,
          85.54043440385298,
          82.6031001697887,
          81.66218150745739,
          76.84469535134055,
          83.6081112948331,
          74.63929748535156,
          61.22245233709162,
          73.74389717795633,
          67.92163918235086,
          67.06183693625711,
          90.84799887917258,
          79.53986497358842,
          73.09400662508878,
          82.78032476251775,
          80.20101165771484,
          80.0520511973988,
          98.76073594526811,
          80.27886408025569,
          85.6401436545632,
          82.89535175670277,
          80.77787017822266,
          70.90831756591797,
          71.32027435302734,
          76.23927931352095,
          75.23775066028942,
          73.60923559015447,
          91.72439436479048,
          72.36893046985973,
          73.28229037198153,
          79.39592950994319,
          82.45572592995383,
          78.12970386851917,
          69.94431513006037,
          81.9429799860174,
          77.38942649147727,
          91.53515971790661,
          84.27340212735263,
          63.73328885165128,
          63.05420823530717,
          69.4600400057706,
          76.22015519575639,
          69.13733048872514,
          75.12765502929688,
          79.85631491921164,
          75.12389859286222,
          107.0814701427113,
          80.19319083473899,
          84.1894038807262,
          72.5260273326527,
          75.32451837713069,
          77.54092199152166,
          83.98180736194958,
          71.0530118075284,
          71.21996654163708,
          83.92764420942827,
          58.746037223122336,
          71.52584145285867,
          71.41376634077592,
          82.42896409468217,
          75.49158061634411
         ]
        },
        {
         "name": "fc6_Rand50d",
         "type": "box",
         "x0": 5.4,
         "y": [
          86.7345858487216,
          91.89083376797763,
          83.16916725852273,
          77.35805303400213,
          77.07215742631392,
          86.7163411920721,
          71.36920027299361,
          65.50227425315164,
          69.61016013405539,
          71.44850158691406,
          65.94806809858842,
          88.84006847034802,
          73.64840906316584,
          68.13880296186967,
          73.99402757124467,
          70.89476151899858,
          81.95305009321733,
          65.47684894908558,
          75.41129094904119,
          91.96378257057883,
          71.34081892533736,
          79.8096431385387,
          76.43972570245916,
          67.17292785644531,
          87.65704484419389,
          87.29684378884055,
          83.00047440962358,
          75.53737432306463,
          80.68051424893466,
          75.78447654030539,
          87.62365306507458,
          59.851837158203125,
          97.88975316827947,
          56.038787148215555,
          74.24800942160867,
          93.52488292347302,
          75.60979114879261,
          90.63647322221236,
          73.21187591552734,
          86.85573716597123,
          85.54043440385298,
          82.6031001697887,
          81.66218150745739,
          76.84469535134055,
          83.6081112948331,
          74.63929748535156,
          61.22245233709162,
          73.74389717795633,
          67.92163918235086,
          67.06183693625711,
          90.84799887917258,
          79.53986497358842,
          73.09400662508878,
          82.78032476251775,
          80.20101165771484,
          80.0520511973988,
          98.76073594526811,
          80.27886408025569,
          85.6401436545632,
          82.89535175670277,
          80.77787017822266,
          70.90831756591797,
          71.32027435302734,
          76.23927931352095,
          75.23775066028942,
          73.60923559015447,
          91.72439436479048,
          72.36893046985973,
          73.28229037198153,
          79.39592950994319,
          82.45572592995383,
          78.12970386851917,
          69.94431513006037,
          81.9429799860174,
          77.38942649147727,
          91.53515971790661,
          84.27340212735263,
          63.73328885165128,
          63.05420823530717,
          69.4600400057706,
          76.22015519575639,
          69.13733048872514,
          75.12765502929688,
          79.85631491921164,
          75.12389859286222,
          107.0814701427113,
          80.19319083473899,
          84.1894038807262,
          72.5260273326527,
          75.32451837713069,
          77.54092199152166,
          83.98180736194958,
          71.0530118075284,
          71.21996654163708,
          83.92764420942827,
          58.746037223122336,
          71.52584145285867,
          71.41376634077592,
          82.42896409468217,
          75.49158061634411
         ]
        },
        {
         "mode": "markers",
         "name": "fc6_Full",
         "type": "scatter",
         "x": [
          5,
          5,
          5,
          5,
          5,
          5,
          5,
          5,
          5,
          5,
          5,
          5,
          5,
          5,
          5,
          5,
          5,
          5,
          5,
          5
         ],
         "y": [
          214.9736952348189,
          220.0797257856889,
          181.08297313343394,
          222.17791470614347,
          200.41476024280894,
          218.02737149325284,
          195.8130312832919,
          219.4091103293679,
          200.23976135253906,
          189.38220908425072,
          195.95457319779828,
          193.37313010475853,
          189.87107710404828,
          218.59144731001422,
          208.84922651811078,
          200.30843145197088,
          194.19161987304688,
          219.68333712491122,
          204.9485293301669,
          195.74560824307528
         ]
        },
        {
         "name": "fc6_Full",
         "type": "box",
         "x0": 5.4,
         "y": [
          214.9736952348189,
          220.0797257856889,
          181.08297313343394,
          222.17791470614347,
          200.41476024280894,
          218.02737149325284,
          195.8130312832919,
          219.4091103293679,
          200.23976135253906,
          189.38220908425072,
          195.95457319779828,
          193.37313010475853,
          189.87107710404828,
          218.59144731001422,
          208.84922651811078,
          200.30843145197088,
          194.19161987304688,
          219.68333712491122,
          204.9485293301669,
          195.74560824307528
         ]
        },
        {
         "mode": "markers",
         "name": "fc7_Rand50d",
         "type": "scatter",
         "x": [
          6,
          6,
          6,
          6,
          6,
          6,
          6,
          6,
          6,
          6,
          6,
          6,
          6,
          6,
          6,
          6,
          6,
          6,
          6,
          6,
          6,
          6,
          6,
          6,
          6,
          6,
          6,
          6,
          6,
          6,
          6,
          6,
          6,
          6,
          6,
          6,
          6,
          6,
          6,
          6,
          6,
          6,
          6,
          6,
          6,
          6,
          6,
          6,
          6,
          6,
          6,
          6,
          6,
          6,
          6,
          6,
          6,
          6,
          6,
          6,
          6,
          6,
          6,
          6,
          6,
          6,
          6,
          6,
          6,
          6,
          6,
          6,
          6,
          6,
          6,
          6,
          6,
          6,
          6,
          6,
          6,
          6,
          6,
          6,
          6,
          6,
          6,
          6,
          6,
          6,
          6,
          6,
          6,
          6,
          6,
          6,
          6,
          6,
          6,
          6
         ],
         "y": [
          18.28908174688166,
          12.660457784479314,
          14.01894794810902,
          23.330087314952504,
          20.154110648415305,
          16.592222213745117,
          15.276802756569602,
          17.440062609585848,
          13.08851181377064,
          14.966628594831986,
          18.11771115389737,
          14.427431193265049,
          13.352131410078568,
          14.384318004954945,
          13.382943673567338,
          15.680425123734908,
          18.30883650346236,
          16.234017372131348,
          11.904532172463156,
          11.566981402310459,
          16.20197903026234,
          13.905044989152389,
          15.722013213417746,
          16.237611423839223,
          17.10335315357555,
          13.753896539861506,
          17.655238238247957,
          16.715960415926848,
          18.58529108220881,
          11.713518229397861,
          14.363265904513272,
          14.157625111666592,
          16.76016651500355,
          15.011217724193227,
          16.90481359308416,
          15.864784760908647,
          16.75480738553134,
          12.145719094709916,
          13.666375680403275,
          17.589285417036578,
          17.412785443392668,
          19.19979372891513,
          20.216440547596324,
          17.0185959555886,
          18.27798843383789,
          16.85741511258212,
          17.771682392467152,
          15.326187914068049,
          17.38947694951838,
          13.83923287825151,
          15.237897439436479,
          23.439748243852094,
          15.607736414129084,
          15.655973521145908,
          18.71390013261275,
          15.050225778059525,
          19.422881559892133,
          17.563247333873402,
          11.391149087385697,
          13.842909466136586,
          14.662845438176936,
          14.249579863114791,
          12.792366201227361,
          12.513700225136496,
          15.851222731850363,
          13.704156095331365,
          17.053456219759855,
          17.655562660910867,
          19.544715707952324,
          18.155569943514738,
          15.116340897300027,
          16.40647402676669,
          17.5020958293568,
          18.806288979270242,
          17.01656046780673,
          17.33175867254084,
          16.518648841164328,
          18.131847034801137,
          15.53074819391424,
          17.234127044677734,
          14.291700623252176,
          15.628584775057705,
          18.026690569790926,
          12.922005826776678,
          17.98038604042747,
          16.098269722678445,
          15.670724608681418,
          12.26601418581876,
          17.212316686456855,
          14.029774579134854,
          19.216136932373047,
          15.845888658003373,
          19.231603795831855,
          16.912846478548918,
          15.766793337735264,
          12.97957654432817,
          13.830495487559926,
          19.02121353149414,
          16.782250837846235,
          12.708258282054555
         ]
        },
        {
         "name": "fc7_Rand50d",
         "type": "box",
         "x0": 6.4,
         "y": [
          18.28908174688166,
          12.660457784479314,
          14.01894794810902,
          23.330087314952504,
          20.154110648415305,
          16.592222213745117,
          15.276802756569602,
          17.440062609585848,
          13.08851181377064,
          14.966628594831986,
          18.11771115389737,
          14.427431193265049,
          13.352131410078568,
          14.384318004954945,
          13.382943673567338,
          15.680425123734908,
          18.30883650346236,
          16.234017372131348,
          11.904532172463156,
          11.566981402310459,
          16.20197903026234,
          13.905044989152389,
          15.722013213417746,
          16.237611423839223,
          17.10335315357555,
          13.753896539861506,
          17.655238238247957,
          16.715960415926848,
          18.58529108220881,
          11.713518229397861,
          14.363265904513272,
          14.157625111666592,
          16.76016651500355,
          15.011217724193227,
          16.90481359308416,
          15.864784760908647,
          16.75480738553134,
          12.145719094709916,
          13.666375680403275,
          17.589285417036578,
          17.412785443392668,
          19.19979372891513,
          20.216440547596324,
          17.0185959555886,
          18.27798843383789,
          16.85741511258212,
          17.771682392467152,
          15.326187914068049,
          17.38947694951838,
          13.83923287825151,
          15.237897439436479,
          23.439748243852094,
          15.607736414129084,
          15.655973521145908,
          18.71390013261275,
          15.050225778059525,
          19.422881559892133,
          17.563247333873402,
          11.391149087385697,
          13.842909466136586,
          14.662845438176936,
          14.249579863114791,
          12.792366201227361,
          12.513700225136496,
          15.851222731850363,
          13.704156095331365,
          17.053456219759855,
          17.655562660910867,
          19.544715707952324,
          18.155569943514738,
          15.116340897300027,
          16.40647402676669,
          17.5020958293568,
          18.806288979270242,
          17.01656046780673,
          17.33175867254084,
          16.518648841164328,
          18.131847034801137,
          15.53074819391424,
          17.234127044677734,
          14.291700623252176,
          15.628584775057705,
          18.026690569790926,
          12.922005826776678,
          17.98038604042747,
          16.098269722678445,
          15.670724608681418,
          12.26601418581876,
          17.212316686456855,
          14.029774579134854,
          19.216136932373047,
          15.845888658003373,
          19.231603795831855,
          16.912846478548918,
          15.766793337735264,
          12.97957654432817,
          13.830495487559926,
          19.02121353149414,
          16.782250837846235,
          12.708258282054555
         ]
        },
        {
         "mode": "markers",
         "name": "fc7_Full",
         "type": "scatter",
         "x": [
          6,
          6,
          6,
          6,
          6,
          6,
          6,
          6,
          6,
          6,
          6,
          6,
          6,
          6,
          6,
          6,
          6,
          6,
          6,
          6
         ],
         "y": [
          57.62842629172585,
          50.31730721213601,
          58.778691031716086,
          56.955524097789414,
          53.963918859308414,
          56.708614349365234,
          53.967070839621805,
          61.835109363902696,
          46.36091579090465,
          51.404199773615055,
          66.65417064319958,
          66.357966336337,
          62.774290258234196,
          50.41836027665572,
          62.985763203014024,
          56.917838703502305,
          63.95954790982333,
          66.21930972012606,
          61.52861161665483,
          58.67143110795455
         ]
        },
        {
         "name": "fc7_Full",
         "type": "box",
         "x0": 6.4,
         "y": [
          57.62842629172585,
          50.31730721213601,
          58.778691031716086,
          56.955524097789414,
          53.963918859308414,
          56.708614349365234,
          53.967070839621805,
          61.835109363902696,
          46.36091579090465,
          51.404199773615055,
          66.65417064319958,
          66.357966336337,
          62.774290258234196,
          50.41836027665572,
          62.985763203014024,
          56.917838703502305,
          63.95954790982333,
          66.21930972012606,
          61.52861161665483,
          58.67143110795455
         ]
        },
        {
         "mode": "markers",
         "name": "fc8_Rand50d",
         "type": "scatter",
         "x": [
          7,
          7,
          7,
          7,
          7,
          7,
          7,
          7,
          7,
          7,
          7,
          7,
          7,
          7,
          7,
          7,
          7,
          7,
          7,
          7,
          7,
          7,
          7,
          7,
          7,
          7,
          7,
          7,
          7,
          7,
          7,
          7,
          7,
          7,
          7,
          7,
          7,
          7,
          7,
          7,
          7,
          7,
          7,
          7,
          7,
          7,
          7,
          7,
          7,
          7,
          7,
          7,
          7,
          7,
          7,
          7,
          7,
          7,
          7,
          7,
          7,
          7,
          7,
          7,
          7,
          7,
          7,
          7,
          7,
          7,
          7,
          7,
          7,
          7,
          7,
          7,
          7,
          7,
          7,
          7,
          7,
          7,
          7,
          7,
          7,
          7,
          7,
          7,
          7,
          7,
          7,
          7,
          7,
          7,
          7,
          7,
          7,
          7,
          7,
          7
         ],
         "y": [
          30.11378999189897,
          28.765664880925957,
          23.698291778564453,
          32.533653259277344,
          32.33079008622603,
          28.371153224598277,
          22.954763585870918,
          37.21642338145863,
          28.37527014992454,
          21.734852704134855,
          23.601742831143465,
          25.762198188088156,
          28.306753678755328,
          25.876482356678356,
          42.64941336891868,
          23.49111574346369,
          28.417829686945137,
          21.934668280861594,
          32.39905600114302,
          24.07400720769709,
          21.615629889748313,
          24.165731950239703,
          26.21228720925071,
          28.67312899502841,
          15.721095952120693,
          16.30968614058061,
          30.211706161499023,
          26.200918717817828,
          19.705198634754527,
          23.934225255792793,
          15.754429817199707,
          29.23139780217951,
          36.11315189708363,
          29.90076411854137,
          23.94475607438521,
          25.196340040727094,
          23.375715082341973,
          26.92822907187722,
          26.617199290882457,
          26.09118114818226,
          18.764981876720082,
          31.412207863547586,
          27.548605138605293,
          25.674552050503817,
          21.67523193359375,
          30.456554759632457,
          16.5078594901345,
          25.738901311700996,
          22.82949447631836,
          28.638654362071644,
          31.649642944335938,
          26.736767855557527,
          18.961992263793945,
          25.66451644897461,
          20.188656200062145,
          30.694767518477008,
          28.299259879372336,
          26.691734487360176,
          33.564517281272195,
          33.70265267112038,
          23.51784966208718,
          27.12877655029297,
          27.91977813027122,
          31.592418150468305,
          30.021532578901812,
          32.76003126664595,
          20.150199369950727,
          32.8734377080744,
          28.722694223577324,
          36.44698853926225,
          26.720915881070223,
          20.939084139737215,
          32.3889194835316,
          20.07767070423473,
          26.109765312888406,
          20.311119773171164,
          25.265443975275215,
          24.88956780867143,
          25.391139117154207,
          19.291291496970437,
          29.336590506813742,
          27.69064885919744,
          25.21213895624334,
          28.215380235151812,
          26.860985842618074,
          13.7409837029197,
          17.01946223865856,
          21.374267578125,
          21.85705670443448,
          21.36541210521351,
          23.66227115284313,
          16.838322032581676,
          18.827394485473633,
          24.751976533369586,
          22.522078774192117,
          27.371347947554156,
          24.450516787442293,
          33.051138791170985,
          26.072348161177203,
          23.195302096280184
         ]
        },
        {
         "name": "fc8_Rand50d",
         "type": "box",
         "x0": 7.4,
         "y": [
          30.11378999189897,
          28.765664880925957,
          23.698291778564453,
          32.533653259277344,
          32.33079008622603,
          28.371153224598277,
          22.954763585870918,
          37.21642338145863,
          28.37527014992454,
          21.734852704134855,
          23.601742831143465,
          25.762198188088156,
          28.306753678755328,
          25.876482356678356,
          42.64941336891868,
          23.49111574346369,
          28.417829686945137,
          21.934668280861594,
          32.39905600114302,
          24.07400720769709,
          21.615629889748313,
          24.165731950239703,
          26.21228720925071,
          28.67312899502841,
          15.721095952120693,
          16.30968614058061,
          30.211706161499023,
          26.200918717817828,
          19.705198634754527,
          23.934225255792793,
          15.754429817199707,
          29.23139780217951,
          36.11315189708363,
          29.90076411854137,
          23.94475607438521,
          25.196340040727094,
          23.375715082341973,
          26.92822907187722,
          26.617199290882457,
          26.09118114818226,
          18.764981876720082,
          31.412207863547586,
          27.548605138605293,
          25.674552050503817,
          21.67523193359375,
          30.456554759632457,
          16.5078594901345,
          25.738901311700996,
          22.82949447631836,
          28.638654362071644,
          31.649642944335938,
          26.736767855557527,
          18.961992263793945,
          25.66451644897461,
          20.188656200062145,
          30.694767518477008,
          28.299259879372336,
          26.691734487360176,
          33.564517281272195,
          33.70265267112038,
          23.51784966208718,
          27.12877655029297,
          27.91977813027122,
          31.592418150468305,
          30.021532578901812,
          32.76003126664595,
          20.150199369950727,
          32.8734377080744,
          28.722694223577324,
          36.44698853926225,
          26.720915881070223,
          20.939084139737215,
          32.3889194835316,
          20.07767070423473,
          26.109765312888406,
          20.311119773171164,
          25.265443975275215,
          24.88956780867143,
          25.391139117154207,
          19.291291496970437,
          29.336590506813742,
          27.69064885919744,
          25.21213895624334,
          28.215380235151812,
          26.860985842618074,
          13.7409837029197,
          17.01946223865856,
          21.374267578125,
          21.85705670443448,
          21.36541210521351,
          23.66227115284313,
          16.838322032581676,
          18.827394485473633,
          24.751976533369586,
          22.522078774192117,
          27.371347947554156,
          24.450516787442293,
          33.051138791170985,
          26.072348161177203,
          23.195302096280184
         ]
        },
        {
         "mode": "markers",
         "name": "fc8_Full",
         "type": "scatter",
         "x": [
          7,
          7,
          7,
          7,
          7,
          7,
          7,
          7,
          7,
          7,
          7,
          7,
          7,
          7,
          7,
          7,
          7,
          7,
          7,
          7
         ],
         "y": [
          85.61107566139914,
          95.7145073630593,
          89.6367055719549,
          90.14426005970348,
          83.66926990855823,
          75.57380814985795,
          87.53485801003195,
          95.47680386629972,
          96.83196050470525,
          96.68252910267223,
          88.04156216708097,
          81.84769509055398,
          90.11949227072976,
          95.37838328968395,
          82.96641887318005,
          86.95077792080966,
          71.52228823575106,
          90.74136491255327,
          95.65462771329013,
          89.00028090043502
         ]
        },
        {
         "name": "fc8_Full",
         "type": "box",
         "x0": 7.4,
         "y": [
          85.61107566139914,
          95.7145073630593,
          89.6367055719549,
          90.14426005970348,
          83.66926990855823,
          75.57380814985795,
          87.53485801003195,
          95.47680386629972,
          96.83196050470525,
          96.68252910267223,
          88.04156216708097,
          81.84769509055398,
          90.11949227072976,
          95.37838328968395,
          82.96641887318005,
          86.95077792080966,
          71.52228823575106,
          90.74136491255327,
          95.65462771329013,
          89.00028090043502
         ]
        }
       ],
       "layout": {
        "template": {
         "data": {
          "bar": [
           {
            "error_x": {
             "color": "#2a3f5f"
            },
            "error_y": {
             "color": "#2a3f5f"
            },
            "marker": {
             "line": {
              "color": "#E5ECF6",
              "width": 0.5
             }
            },
            "type": "bar"
           }
          ],
          "barpolar": [
           {
            "marker": {
             "line": {
              "color": "#E5ECF6",
              "width": 0.5
             }
            },
            "type": "barpolar"
           }
          ],
          "carpet": [
           {
            "aaxis": {
             "endlinecolor": "#2a3f5f",
             "gridcolor": "white",
             "linecolor": "white",
             "minorgridcolor": "white",
             "startlinecolor": "#2a3f5f"
            },
            "baxis": {
             "endlinecolor": "#2a3f5f",
             "gridcolor": "white",
             "linecolor": "white",
             "minorgridcolor": "white",
             "startlinecolor": "#2a3f5f"
            },
            "type": "carpet"
           }
          ],
          "choropleth": [
           {
            "colorbar": {
             "outlinewidth": 0,
             "ticks": ""
            },
            "type": "choropleth"
           }
          ],
          "contour": [
           {
            "colorbar": {
             "outlinewidth": 0,
             "ticks": ""
            },
            "colorscale": [
             [
              0,
              "#0d0887"
             ],
             [
              0.1111111111111111,
              "#46039f"
             ],
             [
              0.2222222222222222,
              "#7201a8"
             ],
             [
              0.3333333333333333,
              "#9c179e"
             ],
             [
              0.4444444444444444,
              "#bd3786"
             ],
             [
              0.5555555555555556,
              "#d8576b"
             ],
             [
              0.6666666666666666,
              "#ed7953"
             ],
             [
              0.7777777777777778,
              "#fb9f3a"
             ],
             [
              0.8888888888888888,
              "#fdca26"
             ],
             [
              1,
              "#f0f921"
             ]
            ],
            "type": "contour"
           }
          ],
          "contourcarpet": [
           {
            "colorbar": {
             "outlinewidth": 0,
             "ticks": ""
            },
            "type": "contourcarpet"
           }
          ],
          "heatmap": [
           {
            "colorbar": {
             "outlinewidth": 0,
             "ticks": ""
            },
            "colorscale": [
             [
              0,
              "#0d0887"
             ],
             [
              0.1111111111111111,
              "#46039f"
             ],
             [
              0.2222222222222222,
              "#7201a8"
             ],
             [
              0.3333333333333333,
              "#9c179e"
             ],
             [
              0.4444444444444444,
              "#bd3786"
             ],
             [
              0.5555555555555556,
              "#d8576b"
             ],
             [
              0.6666666666666666,
              "#ed7953"
             ],
             [
              0.7777777777777778,
              "#fb9f3a"
             ],
             [
              0.8888888888888888,
              "#fdca26"
             ],
             [
              1,
              "#f0f921"
             ]
            ],
            "type": "heatmap"
           }
          ],
          "heatmapgl": [
           {
            "colorbar": {
             "outlinewidth": 0,
             "ticks": ""
            },
            "colorscale": [
             [
              0,
              "#0d0887"
             ],
             [
              0.1111111111111111,
              "#46039f"
             ],
             [
              0.2222222222222222,
              "#7201a8"
             ],
             [
              0.3333333333333333,
              "#9c179e"
             ],
             [
              0.4444444444444444,
              "#bd3786"
             ],
             [
              0.5555555555555556,
              "#d8576b"
             ],
             [
              0.6666666666666666,
              "#ed7953"
             ],
             [
              0.7777777777777778,
              "#fb9f3a"
             ],
             [
              0.8888888888888888,
              "#fdca26"
             ],
             [
              1,
              "#f0f921"
             ]
            ],
            "type": "heatmapgl"
           }
          ],
          "histogram": [
           {
            "marker": {
             "colorbar": {
              "outlinewidth": 0,
              "ticks": ""
             }
            },
            "type": "histogram"
           }
          ],
          "histogram2d": [
           {
            "colorbar": {
             "outlinewidth": 0,
             "ticks": ""
            },
            "colorscale": [
             [
              0,
              "#0d0887"
             ],
             [
              0.1111111111111111,
              "#46039f"
             ],
             [
              0.2222222222222222,
              "#7201a8"
             ],
             [
              0.3333333333333333,
              "#9c179e"
             ],
             [
              0.4444444444444444,
              "#bd3786"
             ],
             [
              0.5555555555555556,
              "#d8576b"
             ],
             [
              0.6666666666666666,
              "#ed7953"
             ],
             [
              0.7777777777777778,
              "#fb9f3a"
             ],
             [
              0.8888888888888888,
              "#fdca26"
             ],
             [
              1,
              "#f0f921"
             ]
            ],
            "type": "histogram2d"
           }
          ],
          "histogram2dcontour": [
           {
            "colorbar": {
             "outlinewidth": 0,
             "ticks": ""
            },
            "colorscale": [
             [
              0,
              "#0d0887"
             ],
             [
              0.1111111111111111,
              "#46039f"
             ],
             [
              0.2222222222222222,
              "#7201a8"
             ],
             [
              0.3333333333333333,
              "#9c179e"
             ],
             [
              0.4444444444444444,
              "#bd3786"
             ],
             [
              0.5555555555555556,
              "#d8576b"
             ],
             [
              0.6666666666666666,
              "#ed7953"
             ],
             [
              0.7777777777777778,
              "#fb9f3a"
             ],
             [
              0.8888888888888888,
              "#fdca26"
             ],
             [
              1,
              "#f0f921"
             ]
            ],
            "type": "histogram2dcontour"
           }
          ],
          "mesh3d": [
           {
            "colorbar": {
             "outlinewidth": 0,
             "ticks": ""
            },
            "type": "mesh3d"
           }
          ],
          "parcoords": [
           {
            "line": {
             "colorbar": {
              "outlinewidth": 0,
              "ticks": ""
             }
            },
            "type": "parcoords"
           }
          ],
          "scatter": [
           {
            "marker": {
             "colorbar": {
              "outlinewidth": 0,
              "ticks": ""
             }
            },
            "type": "scatter"
           }
          ],
          "scatter3d": [
           {
            "line": {
             "colorbar": {
              "outlinewidth": 0,
              "ticks": ""
             }
            },
            "marker": {
             "colorbar": {
              "outlinewidth": 0,
              "ticks": ""
             }
            },
            "type": "scatter3d"
           }
          ],
          "scattercarpet": [
           {
            "marker": {
             "colorbar": {
              "outlinewidth": 0,
              "ticks": ""
             }
            },
            "type": "scattercarpet"
           }
          ],
          "scattergeo": [
           {
            "marker": {
             "colorbar": {
              "outlinewidth": 0,
              "ticks": ""
             }
            },
            "type": "scattergeo"
           }
          ],
          "scattergl": [
           {
            "marker": {
             "colorbar": {
              "outlinewidth": 0,
              "ticks": ""
             }
            },
            "type": "scattergl"
           }
          ],
          "scattermapbox": [
           {
            "marker": {
             "colorbar": {
              "outlinewidth": 0,
              "ticks": ""
             }
            },
            "type": "scattermapbox"
           }
          ],
          "scatterpolar": [
           {
            "marker": {
             "colorbar": {
              "outlinewidth": 0,
              "ticks": ""
             }
            },
            "type": "scatterpolar"
           }
          ],
          "scatterpolargl": [
           {
            "marker": {
             "colorbar": {
              "outlinewidth": 0,
              "ticks": ""
             }
            },
            "type": "scatterpolargl"
           }
          ],
          "scatterternary": [
           {
            "marker": {
             "colorbar": {
              "outlinewidth": 0,
              "ticks": ""
             }
            },
            "type": "scatterternary"
           }
          ],
          "surface": [
           {
            "colorbar": {
             "outlinewidth": 0,
             "ticks": ""
            },
            "colorscale": [
             [
              0,
              "#0d0887"
             ],
             [
              0.1111111111111111,
              "#46039f"
             ],
             [
              0.2222222222222222,
              "#7201a8"
             ],
             [
              0.3333333333333333,
              "#9c179e"
             ],
             [
              0.4444444444444444,
              "#bd3786"
             ],
             [
              0.5555555555555556,
              "#d8576b"
             ],
             [
              0.6666666666666666,
              "#ed7953"
             ],
             [
              0.7777777777777778,
              "#fb9f3a"
             ],
             [
              0.8888888888888888,
              "#fdca26"
             ],
             [
              1,
              "#f0f921"
             ]
            ],
            "type": "surface"
           }
          ],
          "table": [
           {
            "cells": {
             "fill": {
              "color": "#EBF0F8"
             },
             "line": {
              "color": "white"
             }
            },
            "header": {
             "fill": {
              "color": "#C8D4E3"
             },
             "line": {
              "color": "white"
             }
            },
            "type": "table"
           }
          ]
         },
         "layout": {
          "annotationdefaults": {
           "arrowcolor": "#2a3f5f",
           "arrowhead": 0,
           "arrowwidth": 1
          },
          "colorscale": {
           "diverging": [
            [
             0,
             "#8e0152"
            ],
            [
             0.1,
             "#c51b7d"
            ],
            [
             0.2,
             "#de77ae"
            ],
            [
             0.3,
             "#f1b6da"
            ],
            [
             0.4,
             "#fde0ef"
            ],
            [
             0.5,
             "#f7f7f7"
            ],
            [
             0.6,
             "#e6f5d0"
            ],
            [
             0.7,
             "#b8e186"
            ],
            [
             0.8,
             "#7fbc41"
            ],
            [
             0.9,
             "#4d9221"
            ],
            [
             1,
             "#276419"
            ]
           ],
           "sequential": [
            [
             0,
             "#0d0887"
            ],
            [
             0.1111111111111111,
             "#46039f"
            ],
            [
             0.2222222222222222,
             "#7201a8"
            ],
            [
             0.3333333333333333,
             "#9c179e"
            ],
            [
             0.4444444444444444,
             "#bd3786"
            ],
            [
             0.5555555555555556,
             "#d8576b"
            ],
            [
             0.6666666666666666,
             "#ed7953"
            ],
            [
             0.7777777777777778,
             "#fb9f3a"
            ],
            [
             0.8888888888888888,
             "#fdca26"
            ],
            [
             1,
             "#f0f921"
            ]
           ],
           "sequentialminus": [
            [
             0,
             "#0d0887"
            ],
            [
             0.1111111111111111,
             "#46039f"
            ],
            [
             0.2222222222222222,
             "#7201a8"
            ],
            [
             0.3333333333333333,
             "#9c179e"
            ],
            [
             0.4444444444444444,
             "#bd3786"
            ],
            [
             0.5555555555555556,
             "#d8576b"
            ],
            [
             0.6666666666666666,
             "#ed7953"
            ],
            [
             0.7777777777777778,
             "#fb9f3a"
            ],
            [
             0.8888888888888888,
             "#fdca26"
            ],
            [
             1,
             "#f0f921"
            ]
           ]
          },
          "colorway": [
           "#636efa",
           "#EF553B",
           "#00cc96",
           "#ab63fa",
           "#FFA15A",
           "#19d3f3",
           "#FF6692",
           "#B6E880",
           "#FF97FF",
           "#FECB52"
          ],
          "font": {
           "color": "#2a3f5f"
          },
          "geo": {
           "bgcolor": "white",
           "lakecolor": "white",
           "landcolor": "#E5ECF6",
           "showlakes": true,
           "showland": true,
           "subunitcolor": "white"
          },
          "hoverlabel": {
           "align": "left"
          },
          "hovermode": "closest",
          "mapbox": {
           "style": "light"
          },
          "paper_bgcolor": "white",
          "plot_bgcolor": "#E5ECF6",
          "polar": {
           "angularaxis": {
            "gridcolor": "white",
            "linecolor": "white",
            "ticks": ""
           },
           "bgcolor": "#E5ECF6",
           "radialaxis": {
            "gridcolor": "white",
            "linecolor": "white",
            "ticks": ""
           }
          },
          "scene": {
           "xaxis": {
            "backgroundcolor": "#E5ECF6",
            "gridcolor": "white",
            "gridwidth": 2,
            "linecolor": "white",
            "showbackground": true,
            "ticks": "",
            "zerolinecolor": "white"
           },
           "yaxis": {
            "backgroundcolor": "#E5ECF6",
            "gridcolor": "white",
            "gridwidth": 2,
            "linecolor": "white",
            "showbackground": true,
            "ticks": "",
            "zerolinecolor": "white"
           },
           "zaxis": {
            "backgroundcolor": "#E5ECF6",
            "gridcolor": "white",
            "gridwidth": 2,
            "linecolor": "white",
            "showbackground": true,
            "ticks": "",
            "zerolinecolor": "white"
           }
          },
          "shapedefaults": {
           "line": {
            "color": "#2a3f5f"
           }
          },
          "ternary": {
           "aaxis": {
            "gridcolor": "white",
            "linecolor": "white",
            "ticks": ""
           },
           "baxis": {
            "gridcolor": "white",
            "linecolor": "white",
            "ticks": ""
           },
           "bgcolor": "#E5ECF6",
           "caxis": {
            "gridcolor": "white",
            "linecolor": "white",
            "ticks": ""
           }
          },
          "title": {
           "x": 0.05
          },
          "xaxis": {
           "automargin": true,
           "gridcolor": "white",
           "linecolor": "white",
           "ticks": "",
           "zerolinecolor": "white",
           "zerolinewidth": 2
          },
          "yaxis": {
           "automargin": true,
           "gridcolor": "white",
           "linecolor": "white",
           "ticks": "",
           "zerolinecolor": "white",
           "zerolinewidth": 2
          }
         }
        },
        "xaxis": {
         "tickmode": "array",
         "ticktext": [
          [
           "caffe-net",
           "conv1",
           5,
           10,
           10
          ],
          [
           "caffe-net",
           "conv2",
           5,
           10,
           10
          ],
          [
           "caffe-net",
           "conv3",
           5,
           10,
           10
          ],
          [
           "caffe-net",
           "conv4",
           5,
           10,
           10
          ],
          [
           "caffe-net",
           "conv5",
           5,
           10,
           10
          ],
          [
           "caffe-net",
           "fc6",
           1
          ],
          [
           "caffe-net",
           "fc7",
           1
          ],
          [
           "caffe-net",
           "fc8",
           1
          ]
         ],
         "tickvals": [
          0.3,
          1.3,
          2.3,
          3.3,
          4.3,
          5.3,
          6.3,
          7.3
         ]
        },
        "yaxis": {
         "title": {
          "text": "Raw Activation"
         }
        }
       }
      },
      "text/html": [
       "<div>\n",
       "        \n",
       "        \n",
       "            <div id=\"a186f845-716a-422d-ad5a-7ced1413334d\" class=\"plotly-graph-div\" style=\"height:525px; width:100%;\"></div>\n",
       "            <script type=\"text/javascript\">\n",
       "                require([\"plotly\"], function(Plotly) {\n",
       "                    window.PLOTLYENV=window.PLOTLYENV || {};\n",
       "                    \n",
       "                if (document.getElementById(\"a186f845-716a-422d-ad5a-7ced1413334d\")) {\n",
       "                    Plotly.newPlot(\n",
       "                        'a186f845-716a-422d-ad5a-7ced1413334d',\n",
       "                        [{\"mode\": \"markers\", \"name\": \"conv1_Rand50d\", \"type\": \"scatter\", \"x\": [0, 0, 0, 0, 0, 0, 0, 0, 0, 0, 0, 0, 0, 0, 0, 0, 0, 0, 0, 0, 0, 0, 0, 0, 0, 0, 0, 0, 0, 0, 0, 0, 0, 0, 0, 0, 0, 0, 0, 0, 0, 0, 0, 0, 0, 0, 0, 0, 0, 0, 0, 0, 0, 0, 0, 0, 0, 0, 0, 0, 0, 0, 0, 0, 0, 0, 0, 0, 0, 0, 0, 0, 0, 0, 0, 0, 0, 0, 0, 0, 0, 0, 0, 0, 0, 0, 0, 0, 0, 0, 0, 0, 0, 0, 0, 0, 0, 0, 0, 0], \"y\": [2806.361993963068, 2810.5685813210225, 2168.6185191761365, 2785.4035866477275, 2834.378750887784, 2706.6720747514205, 2895.551202947443, 2851.363680752841, 2824.7559037642045, 2872.7762562144885, 2620.5534889914775, 2663.4864390980115, 2866.9677956321025, 2674.959383877841, 2745.9403187144885, 2711.5427024147725, 2645.117098721591, 2718.2309348366475, 2254.154385653409, 2697.585116299716, 2879.805841619318, 2873.1182084517045, 2625.00146484375, 2823.2687766335225, 2669.64599609375, 2610.340909090909, 2698.579034978693, 2745.0086780894885, 2778.0821644176135, 2724.8757768110795, 2616.972745028409, 2861.4388316761365, 2763.9889026988635, 2358.432306463068, 2720.484929865057, 2733.6949573863635, 2750.3966175426135, 2671.8066850142045, 2497.3313210227275, 2272.4462890625, 2752.199884588068, 2739.123601740057, 2651.2666459517045, 2833.948397549716, 2853.6551624644885, 2653.283846768466, 2604.236239346591, 2766.381991299716, 2851.443670099432, 2789.847567471591, 2764.252840909091, 2739.7672895951705, 2886.1922718394885, 2780.9124644886365, 2696.5432350852275, 2697.675692471591, 1308.6723743785512, 2814.6228249289775, 2756.9056507457385, 2787.861261541193, 2666.665460759943, 2831.6482155539775, 2658.750399502841, 2908.533846768466, 2476.742431640625, 2726.1251331676135, 2733.472500887784, 2632.278076171875, 2684.101162997159, 2582.5034623579545, 2791.303466796875, 2674.8026234019885, 2723.94775390625, 2615.335271661932, 2784.677179509943, 2760.256014737216, 2791.3601518110795, 2731.2260520241475, 2766.9076926491475, 2588.6463734019885, 2818.4526589133525, 2756.952880859375, 2738.971835049716, 2802.482599431818, 2556.8496537642045, 2672.7290261008525, 2729.190984552557, 2386.710848721591, 2739.410067471591, 2741.439297762784, 2677.586004083807, 2864.110529119318, 2778.168279474432, 2824.2496448863635, 2636.1125044389205, 2807.5867808948865, 2845.4968039772725, 2881.4299094460225, 2633.4579634232955, 2824.386785333807]}, {\"name\": \"conv1_Rand50d\", \"type\": \"box\", \"x0\": 0.4, \"y\": [2806.361993963068, 2810.5685813210225, 2168.6185191761365, 2785.4035866477275, 2834.378750887784, 2706.6720747514205, 2895.551202947443, 2851.363680752841, 2824.7559037642045, 2872.7762562144885, 2620.5534889914775, 2663.4864390980115, 2866.9677956321025, 2674.959383877841, 2745.9403187144885, 2711.5427024147725, 2645.117098721591, 2718.2309348366475, 2254.154385653409, 2697.585116299716, 2879.805841619318, 2873.1182084517045, 2625.00146484375, 2823.2687766335225, 2669.64599609375, 2610.340909090909, 2698.579034978693, 2745.0086780894885, 2778.0821644176135, 2724.8757768110795, 2616.972745028409, 2861.4388316761365, 2763.9889026988635, 2358.432306463068, 2720.484929865057, 2733.6949573863635, 2750.3966175426135, 2671.8066850142045, 2497.3313210227275, 2272.4462890625, 2752.199884588068, 2739.123601740057, 2651.2666459517045, 2833.948397549716, 2853.6551624644885, 2653.283846768466, 2604.236239346591, 2766.381991299716, 2851.443670099432, 2789.847567471591, 2764.252840909091, 2739.7672895951705, 2886.1922718394885, 2780.9124644886365, 2696.5432350852275, 2697.675692471591, 1308.6723743785512, 2814.6228249289775, 2756.9056507457385, 2787.861261541193, 2666.665460759943, 2831.6482155539775, 2658.750399502841, 2908.533846768466, 2476.742431640625, 2726.1251331676135, 2733.472500887784, 2632.278076171875, 2684.101162997159, 2582.5034623579545, 2791.303466796875, 2674.8026234019885, 2723.94775390625, 2615.335271661932, 2784.677179509943, 2760.256014737216, 2791.3601518110795, 2731.2260520241475, 2766.9076926491475, 2588.6463734019885, 2818.4526589133525, 2756.952880859375, 2738.971835049716, 2802.482599431818, 2556.8496537642045, 2672.7290261008525, 2729.190984552557, 2386.710848721591, 2739.410067471591, 2741.439297762784, 2677.586004083807, 2864.110529119318, 2778.168279474432, 2824.2496448863635, 2636.1125044389205, 2807.5867808948865, 2845.4968039772725, 2881.4299094460225, 2633.4579634232955, 2824.386785333807]}, {\"mode\": \"markers\", \"name\": \"conv1_Full\", \"type\": \"scatter\", \"x\": [0, 0, 0, 0, 0, 0, 0, 0, 0, 0, 0, 0, 0, 0, 0, 0, 0, 0, 0, 0], \"y\": [3081.863614169034, 3058.277432528409, 3035.0235484730115, 3081.3390891335225, 3067.9644664417615, 3090.5288529829545, 3075.608709161932, 3073.910977450284, 3058.410222833807, 3042.138916015625, 3064.895086115057, 3035.0801003196025, 3074.510919744318, 3057.672052556818, 3081.3057972301135, 3082.7564808238635, 3097.5569957386365, 3045.7939231178975, 3080.3755326704545, 3033.756591796875]}, {\"name\": \"conv1_Full\", \"type\": \"box\", \"x0\": 0.4, \"y\": [3081.863614169034, 3058.277432528409, 3035.0235484730115, 3081.3390891335225, 3067.9644664417615, 3090.5288529829545, 3075.608709161932, 3073.910977450284, 3058.410222833807, 3042.138916015625, 3064.895086115057, 3035.0801003196025, 3074.510919744318, 3057.672052556818, 3081.3057972301135, 3082.7564808238635, 3097.5569957386365, 3045.7939231178975, 3080.3755326704545, 3033.756591796875]}, {\"mode\": \"markers\", \"name\": \"conv2_Rand50d\", \"type\": \"scatter\", \"x\": [1, 1, 1, 1, 1, 1, 1, 1, 1, 1, 1, 1, 1, 1, 1, 1, 1, 1, 1, 1, 1, 1, 1, 1, 1, 1, 1, 1, 1, 1, 1, 1, 1, 1, 1, 1, 1, 1, 1, 1, 1, 1, 1, 1, 1, 1, 1, 1, 1, 1, 1, 1, 1, 1, 1, 1, 1, 1, 1, 1, 1, 1, 1, 1, 1, 1, 1, 1, 1, 1, 1, 1, 1, 1, 1, 1, 1, 1, 1, 1, 1, 1, 1, 1, 1, 1, 1, 1, 1, 1, 1, 1, 1, 1, 1, 1, 1, 1, 1, 1], \"y\": [415.6943664550781, 410.81503850763494, 410.32031804865056, 410.9117542613636, 391.18574662642044, 367.9810901988636, 384.6643565784801, 372.8160872025923, 421.7431168989702, 388.32019597833806, 374.0610046386719, 392.08595137162644, 409.5063310102983, 394.3848571777344, 369.1555092551491, 432.9280728426847, 374.26001531427556, 387.07325605912644, 405.82031804865056, 391.28869074041194, 407.86376953125, 384.01502019708806, 415.1106706099077, 409.7303300337358, 427.1597040349787, 399.5173256613991, 382.4037364612926, 388.49368563565343, 395.2804648659446, 423.5341047807173, 315.8517372824929, 367.19610873135656, 384.64143787730825, 433.1958035555753, 393.4695767489347, 385.5320878462358, 415.28350552645594, 393.8280584161932, 406.8694596724077, 400.445556640625, 425.6419317072088, 395.5880820534446, 399.5438065962358, 382.5399697043679, 411.6638266823509, 386.93496149236506, 380.82795854048294, 397.61700716885656, 399.2228282581676, 389.4440834738991, 389.2607338645241, 400.25960193980825, 353.0336442427202, 403.93751387162644, 436.08200628107244, 370.22177956321025, 434.9570784135298, 425.35272216796875, 380.0740855823864, 382.7265264337713, 358.08343228426844, 400.2385725541548, 427.8043961958452, 366.09604436700994, 402.9837646484375, 395.606728293679, 414.7142139781605, 372.0837679776278, 414.37758567116475, 458.4992786754261, 394.009560324929, 387.35782137784093, 373.1646201393821, 397.6042314009233, 380.0039561878551, 407.4136657714844, 414.7594854181463, 405.5156527432528, 392.109599720348, 360.0474326393821, 413.1824867942116, 409.7333484996449, 436.4123063520952, 383.75994595614344, 397.1131397594105, 385.7248424183239, 460.5920437899503, 386.44561767578125, 404.9247492009943, 408.4568814364347, 382.9051014293324, 400.96891368519175, 397.2576932040128, 411.19865278764206, 391.427959095348, 354.55798894708806, 404.9173223322088, 412.0275906649503, 420.1081431995739, 418.0699157714844]}, {\"name\": \"conv2_Rand50d\", \"type\": \"box\", \"x0\": 1.4, \"y\": [415.6943664550781, 410.81503850763494, 410.32031804865056, 410.9117542613636, 391.18574662642044, 367.9810901988636, 384.6643565784801, 372.8160872025923, 421.7431168989702, 388.32019597833806, 374.0610046386719, 392.08595137162644, 409.5063310102983, 394.3848571777344, 369.1555092551491, 432.9280728426847, 374.26001531427556, 387.07325605912644, 405.82031804865056, 391.28869074041194, 407.86376953125, 384.01502019708806, 415.1106706099077, 409.7303300337358, 427.1597040349787, 399.5173256613991, 382.4037364612926, 388.49368563565343, 395.2804648659446, 423.5341047807173, 315.8517372824929, 367.19610873135656, 384.64143787730825, 433.1958035555753, 393.4695767489347, 385.5320878462358, 415.28350552645594, 393.8280584161932, 406.8694596724077, 400.445556640625, 425.6419317072088, 395.5880820534446, 399.5438065962358, 382.5399697043679, 411.6638266823509, 386.93496149236506, 380.82795854048294, 397.61700716885656, 399.2228282581676, 389.4440834738991, 389.2607338645241, 400.25960193980825, 353.0336442427202, 403.93751387162644, 436.08200628107244, 370.22177956321025, 434.9570784135298, 425.35272216796875, 380.0740855823864, 382.7265264337713, 358.08343228426844, 400.2385725541548, 427.8043961958452, 366.09604436700994, 402.9837646484375, 395.606728293679, 414.7142139781605, 372.0837679776278, 414.37758567116475, 458.4992786754261, 394.009560324929, 387.35782137784093, 373.1646201393821, 397.6042314009233, 380.0039561878551, 407.4136657714844, 414.7594854181463, 405.5156527432528, 392.109599720348, 360.0474326393821, 413.1824867942116, 409.7333484996449, 436.4123063520952, 383.75994595614344, 397.1131397594105, 385.7248424183239, 460.5920437899503, 386.44561767578125, 404.9247492009943, 408.4568814364347, 382.9051014293324, 400.96891368519175, 397.2576932040128, 411.19865278764206, 391.427959095348, 354.55798894708806, 404.9173223322088, 412.0275906649503, 420.1081431995739, 418.0699157714844]}, {\"mode\": \"markers\", \"name\": \"conv2_Full\", \"type\": \"scatter\", \"x\": [1, 1, 1, 1, 1, 1, 1, 1, 1, 1, 1, 1, 1, 1, 1, 1, 1, 1, 1, 1], \"y\": [508.6222284490412, 487.6428056196733, 456.9993508078835, 505.8417691317472, 502.4564597389915, 509.489296653054, 517.3283330743963, 490.0106228915128, 511.9381103515625, 511.36358642578125, 513.227070201527, 503.59667413884944, 467.96097079190343, 495.06846757368606, 493.29925259676844, 496.9863836115057, 486.94291270862925, 501.8221907182173, 503.4320151589134, 514.8619689941406]}, {\"name\": \"conv2_Full\", \"type\": \"box\", \"x0\": 1.4, \"y\": [508.6222284490412, 487.6428056196733, 456.9993508078835, 505.8417691317472, 502.4564597389915, 509.489296653054, 517.3283330743963, 490.0106228915128, 511.9381103515625, 511.36358642578125, 513.227070201527, 503.59667413884944, 467.96097079190343, 495.06846757368606, 493.29925259676844, 496.9863836115057, 486.94291270862925, 501.8221907182173, 503.4320151589134, 514.8619689941406]}, {\"mode\": \"markers\", \"name\": \"conv3_Rand50d\", \"type\": \"scatter\", \"x\": [2, 2, 2, 2, 2, 2, 2, 2, 2, 2, 2, 2, 2, 2, 2, 2, 2, 2, 2, 2, 2, 2, 2, 2, 2, 2, 2, 2, 2, 2, 2, 2, 2, 2, 2, 2, 2, 2, 2, 2, 2, 2, 2, 2, 2, 2, 2, 2, 2, 2, 2, 2, 2, 2, 2, 2, 2, 2, 2, 2, 2, 2, 2, 2, 2, 2, 2, 2, 2, 2, 2, 2, 2, 2, 2, 2, 2, 2, 2, 2, 2, 2, 2, 2, 2, 2, 2, 2, 2, 2, 2, 2, 2, 2, 2, 2, 2, 2, 2, 2], \"y\": [299.2980263449929, 241.55963134765625, 122.9591196233576, 291.7151794433594, 301.3819191672585, 304.38421353426844, 149.2839951948686, 155.36515669389203, 257.5415802001953, 147.75991266424006, 240.24104031649503, 222.37044455788353, 266.09982993386006, 178.23258139870384, 282.50886674360794, 115.3432353626598, 220.4997322776101, 245.19379771839488, 304.42320390181106, 148.19937827370384, 269.67107876864344, 336.94273515181106, 254.91108426180753, 252.9547119140625, 189.82533957741478, 143.15322598544034, 332.25516024502843, 192.99916631525213, 123.3365742076527, 256.78640885786575, 205.75004716352984, 113.8742974021218, 168.66911870783025, 288.6426890980114, 109.97543820467862, 166.31814297762784, 334.7256608442827, 246.53695956143466, 262.1022255637429, 99.48637806285511, 173.00618397105825, 277.89356855912644, 219.59311190518466, 212.27362754128197, 128.3440274325284, 220.40576588023794, 351.15399447354406, 169.9112091064453, 167.6397150213068, 146.5167763449929, 124.21976332231002, 308.1104847301136, 190.46000255237925, 320.0725069912997, 115.08659432151101, 209.74170199307528, 270.82908769087356, 276.3466769131747, 166.8391765247692, 276.0736444646662, 206.18045876242897, 142.40730008212003, 196.23669294877485, 185.85353227095172, 259.6662431196733, 113.1716572154652, 179.8918595747514, 159.40971929376775, 264.13156682794744, 217.7875518798828, 101.59601523659445, 248.66490450772372, 325.10660067471593, 291.70614346590907, 135.10271523215553, 227.93588534268466, 125.342153375799, 252.50355529785156, 239.77591635964134, 175.84355302290484, 310.7376181862571, 125.24132953990589, 307.57561978426844, 221.85265697132456, 219.69909113103694, 201.28001403808594, 159.86875360662287, 246.00957142223012, 293.24228737571025, 208.35716247558594, 333.65104536576706, 218.32745083895597, 229.90700045498934, 294.8109158602628, 129.0427641435103, 148.98198214444247, 149.65280983664772, 246.53683332963422, 140.9474764737216, 305.545634876598]}, {\"name\": \"conv3_Rand50d\", \"type\": \"box\", \"x0\": 2.4, \"y\": [299.2980263449929, 241.55963134765625, 122.9591196233576, 291.7151794433594, 301.3819191672585, 304.38421353426844, 149.2839951948686, 155.36515669389203, 257.5415802001953, 147.75991266424006, 240.24104031649503, 222.37044455788353, 266.09982993386006, 178.23258139870384, 282.50886674360794, 115.3432353626598, 220.4997322776101, 245.19379771839488, 304.42320390181106, 148.19937827370384, 269.67107876864344, 336.94273515181106, 254.91108426180753, 252.9547119140625, 189.82533957741478, 143.15322598544034, 332.25516024502843, 192.99916631525213, 123.3365742076527, 256.78640885786575, 205.75004716352984, 113.8742974021218, 168.66911870783025, 288.6426890980114, 109.97543820467862, 166.31814297762784, 334.7256608442827, 246.53695956143466, 262.1022255637429, 99.48637806285511, 173.00618397105825, 277.89356855912644, 219.59311190518466, 212.27362754128197, 128.3440274325284, 220.40576588023794, 351.15399447354406, 169.9112091064453, 167.6397150213068, 146.5167763449929, 124.21976332231002, 308.1104847301136, 190.46000255237925, 320.0725069912997, 115.08659432151101, 209.74170199307528, 270.82908769087356, 276.3466769131747, 166.8391765247692, 276.0736444646662, 206.18045876242897, 142.40730008212003, 196.23669294877485, 185.85353227095172, 259.6662431196733, 113.1716572154652, 179.8918595747514, 159.40971929376775, 264.13156682794744, 217.7875518798828, 101.59601523659445, 248.66490450772372, 325.10660067471593, 291.70614346590907, 135.10271523215553, 227.93588534268466, 125.342153375799, 252.50355529785156, 239.77591635964134, 175.84355302290484, 310.7376181862571, 125.24132953990589, 307.57561978426844, 221.85265697132456, 219.69909113103694, 201.28001403808594, 159.86875360662287, 246.00957142223012, 293.24228737571025, 208.35716247558594, 333.65104536576706, 218.32745083895597, 229.90700045498934, 294.8109158602628, 129.0427641435103, 148.98198214444247, 149.65280983664772, 246.53683332963422, 140.9474764737216, 305.545634876598]}, {\"mode\": \"markers\", \"name\": \"conv3_Full\", \"type\": \"scatter\", \"x\": [2, 2, 2, 2, 2, 2, 2, 2, 2, 2, 2, 2, 2, 2, 2, 2, 2, 2, 2, 2], \"y\": [368.8588783957741, 379.58905029296875, 380.84126697887075, 370.88247958096593, 382.49517544833094, 380.85862038352275, 373.97188221324575, 383.2555209073153, 354.0792957652699, 383.22123302112925, 378.89793534712356, 344.3472733931108, 360.9562461159446, 369.6029912775213, 388.04568758877843, 381.1342606977983, 365.44828657670456, 381.2212663130327, 355.4893410422585, 379.4041026722301]}, {\"name\": \"conv3_Full\", \"type\": \"box\", \"x0\": 2.4, \"y\": [368.8588783957741, 379.58905029296875, 380.84126697887075, 370.88247958096593, 382.49517544833094, 380.85862038352275, 373.97188221324575, 383.2555209073153, 354.0792957652699, 383.22123302112925, 378.89793534712356, 344.3472733931108, 360.9562461159446, 369.6029912775213, 388.04568758877843, 381.1342606977983, 365.44828657670456, 381.2212663130327, 355.4893410422585, 379.4041026722301]}, {\"mode\": \"markers\", \"name\": \"conv4_Rand50d\", \"type\": \"scatter\", \"x\": [3, 3, 3, 3, 3, 3, 3, 3, 3, 3, 3, 3, 3, 3, 3, 3, 3, 3, 3, 3, 3, 3, 3, 3, 3, 3, 3, 3, 3, 3, 3, 3, 3, 3, 3, 3, 3, 3, 3, 3, 3, 3, 3, 3, 3, 3, 3, 3, 3, 3, 3, 3, 3, 3, 3, 3, 3, 3, 3, 3, 3, 3, 3, 3, 3, 3, 3, 3, 3, 3, 3, 3, 3, 3, 3, 3, 3, 3, 3, 3, 3, 3, 3, 3, 3, 3, 3, 3, 3, 3, 3, 3, 3, 3, 3, 3, 3, 3, 3, 3], \"y\": [140.05547124689275, 143.976806640625, 162.08251675692472, 127.14820723100142, 178.60157914595172, 183.57345858487216, 148.53626598011363, 173.73312655362216, 126.071345242587, 149.2447648481889, 160.74313631924716, 160.69637229225853, 118.05059675736861, 166.38720009543678, 167.66442732377485, 130.9616047252308, 160.57195073908025, 177.62302468039772, 135.05596230246803, 159.36424116654828, 119.44457869096236, 142.77177984064275, 171.80953008478338, 138.52510486949575, 157.4384238503196, 147.14995644309303, 147.70553727583453, 169.20066278631037, 154.82217545942828, 167.6680242365057, 142.1511494029652, 130.76005970348012, 124.01919278231534, 127.00974412397905, 154.03718012029475, 161.2204229181463, 195.43755409934303, 175.99040499600497, 136.35246831720525, 202.20185713334516, 106.92316575483842, 164.49212923916903, 136.09085499156606, 150.7194033536044, 114.81072720614347, 153.39028791947797, 169.20167264071378, 157.07237104936078, 154.1993144642223, 151.01942582563922, 152.4509013782848, 126.76485373757102, 111.50644822554155, 143.46780118075284, 126.36274719238281, 200.65914916992188, 166.69495322487572, 159.0111347545277, 183.42139226740056, 172.37513732910156, 171.31885875355113, 150.43361594460228, 152.63125749067828, 181.28974359685725, 146.3675009987571, 148.5591444535689, 154.06801119717684, 143.7289775501598, 140.28042602539062, 191.63272927024147, 144.04171614213422, 142.31006969105113, 160.24988070401278, 166.39930447665128, 135.09449768066406, 132.70824363014916, 137.29575972123578, 127.5024344704368, 166.2971857244318, 130.8156169544567, 176.20012734153053, 109.33277823708274, 184.46516279740766, 137.89751226251775, 149.8056016401811, 171.18101224032316, 184.8863983154297, 152.63621382279828, 115.46024946732955, 179.37093145197088, 144.445180719549, 117.74508528275923, 170.2261408025568, 136.56026805530894, 150.229248046875, 170.8293887051669, 175.63031005859375, 180.89034618030894, 165.21747935901988, 108.87732349742542]}, {\"name\": \"conv4_Rand50d\", \"type\": \"box\", \"x0\": 3.4, \"y\": [140.05547124689275, 143.976806640625, 162.08251675692472, 127.14820723100142, 178.60157914595172, 183.57345858487216, 148.53626598011363, 173.73312655362216, 126.071345242587, 149.2447648481889, 160.74313631924716, 160.69637229225853, 118.05059675736861, 166.38720009543678, 167.66442732377485, 130.9616047252308, 160.57195073908025, 177.62302468039772, 135.05596230246803, 159.36424116654828, 119.44457869096236, 142.77177984064275, 171.80953008478338, 138.52510486949575, 157.4384238503196, 147.14995644309303, 147.70553727583453, 169.20066278631037, 154.82217545942828, 167.6680242365057, 142.1511494029652, 130.76005970348012, 124.01919278231534, 127.00974412397905, 154.03718012029475, 161.2204229181463, 195.43755409934303, 175.99040499600497, 136.35246831720525, 202.20185713334516, 106.92316575483842, 164.49212923916903, 136.09085499156606, 150.7194033536044, 114.81072720614347, 153.39028791947797, 169.20167264071378, 157.07237104936078, 154.1993144642223, 151.01942582563922, 152.4509013782848, 126.76485373757102, 111.50644822554155, 143.46780118075284, 126.36274719238281, 200.65914916992188, 166.69495322487572, 159.0111347545277, 183.42139226740056, 172.37513732910156, 171.31885875355113, 150.43361594460228, 152.63125749067828, 181.28974359685725, 146.3675009987571, 148.5591444535689, 154.06801119717684, 143.7289775501598, 140.28042602539062, 191.63272927024147, 144.04171614213422, 142.31006969105113, 160.24988070401278, 166.39930447665128, 135.09449768066406, 132.70824363014916, 137.29575972123578, 127.5024344704368, 166.2971857244318, 130.8156169544567, 176.20012734153053, 109.33277823708274, 184.46516279740766, 137.89751226251775, 149.8056016401811, 171.18101224032316, 184.8863983154297, 152.63621382279828, 115.46024946732955, 179.37093145197088, 144.445180719549, 117.74508528275923, 170.2261408025568, 136.56026805530894, 150.229248046875, 170.8293887051669, 175.63031005859375, 180.89034618030894, 165.21747935901988, 108.87732349742542]}, {\"mode\": \"markers\", \"name\": \"conv4_Full\", \"type\": \"scatter\", \"x\": [3, 3, 3, 3, 3, 3, 3, 3, 3, 3, 3, 3, 3, 3, 3, 3, 3, 3, 3, 3], \"y\": [239.8462898947976, 259.1894794810902, 241.01455133611506, 247.8888896595348, 245.57451144131747, 251.3550040505149, 240.9845761385831, 267.6223061301491, 265.8691933371804, 245.11091752485797, 257.0925390070135, 250.34252097389916, 226.91466175426137, 254.31801119717684, 255.20474381880328, 244.83043185147372, 261.1165050159801, 246.6761280406605, 238.5890489058061, 273.7710904208097]}, {\"name\": \"conv4_Full\", \"type\": \"box\", \"x0\": 3.4, \"y\": [239.8462898947976, 259.1894794810902, 241.01455133611506, 247.8888896595348, 245.57451144131747, 251.3550040505149, 240.9845761385831, 267.6223061301491, 265.8691933371804, 245.11091752485797, 257.0925390070135, 250.34252097389916, 226.91466175426137, 254.31801119717684, 255.20474381880328, 244.83043185147372, 261.1165050159801, 246.6761280406605, 238.5890489058061, 273.7710904208097]}, {\"mode\": \"markers\", \"name\": \"conv5_Rand50d\", \"type\": \"scatter\", \"x\": [4, 4, 4, 4, 4, 4, 4, 4, 4, 4, 4, 4, 4, 4, 4, 4, 4, 4, 4, 4, 4, 4, 4, 4, 4, 4, 4, 4, 4, 4, 4, 4, 4, 4, 4, 4, 4, 4, 4, 4, 4, 4, 4, 4, 4, 4, 4, 4, 4, 4, 4, 4, 4, 4, 4, 4, 4, 4, 4, 4, 4, 4, 4, 4, 4, 4, 4, 4, 4, 4, 4, 4, 4, 4, 4, 4, 4, 4, 4, 4, 4, 4, 4, 4, 4, 4, 4, 4, 4, 4, 4, 4, 4, 4, 4, 4, 4, 4, 4, 4], \"y\": [179.79048989035866, 133.62715565074575, 219.83017106489703, 181.12521501020953, 218.77463739568537, 216.61501936479047, 185.3385245583274, 246.15970819646662, 131.6173664439808, 215.53924283114347, 208.36013239080256, 222.4972118030895, 241.2328338623047, 178.49591064453125, 190.3927196155895, 228.17999961159447, 158.7643418745561, 218.97150767933238, 194.7628839666193, 157.23786093971947, 155.53627152876422, 210.2422735040838, 186.29659618030894, 216.53681529651988, 195.77539756081322, 213.28643521395597, 127.4302090731534, 207.1171777898615, 194.6519178910689, 211.51054937189275, 220.15703374689275, 207.27539617365056, 235.51707458496094, 264.8108936656605, 220.5106867009943, 182.08733437278053, 163.92111344770953, 171.96660267223012, 200.5333820689808, 222.76575539328834, 167.99011924050072, 140.06044699928978, 155.64793118563566, 200.32556291060015, 215.2013827237216, 184.54661282626066, 236.9444815895774, 227.82588334517047, 218.484975641424, 234.86677967418325, 122.15695884011008, 264.07598876953125, 158.60969682173297, 226.85092163085938, 183.50607161088422, 250.40752896395597, 211.2744764848189, 157.74183793501422, 169.77205449884588, 193.30969654430044, 205.32984646883878, 222.9200439453125, 220.7624969482422, 139.50917746803978, 155.53039828213778, 121.52097667347302, 138.14442721280184, 233.33960099653765, 194.51610495827416, 181.731425892223, 190.5907509543679, 121.84941655939275, 136.94801053133878, 207.97536676580256, 254.80871027166194, 181.75141351873225, 196.46656521883878, 170.11339222301137, 209.09067743474787, 238.8708593195135, 182.83394276012075, 188.14265164462003, 201.9960382634943, 159.9105987548828, 231.413349498402, 132.51497719504616, 218.1493571888317, 198.47400318492544, 239.58065657182172, 178.32727744362572, 211.9184709028764, 209.607441295277, 220.667255748402, 241.54835787686434, 193.55462369051847, 132.6071874445135, 209.80351812189275, 207.26514365456322, 142.94624467329547, 230.81357782537287]}, {\"name\": \"conv5_Rand50d\", \"type\": \"box\", \"x0\": 4.4, \"y\": [179.79048989035866, 133.62715565074575, 219.83017106489703, 181.12521501020953, 218.77463739568537, 216.61501936479047, 185.3385245583274, 246.15970819646662, 131.6173664439808, 215.53924283114347, 208.36013239080256, 222.4972118030895, 241.2328338623047, 178.49591064453125, 190.3927196155895, 228.17999961159447, 158.7643418745561, 218.97150767933238, 194.7628839666193, 157.23786093971947, 155.53627152876422, 210.2422735040838, 186.29659618030894, 216.53681529651988, 195.77539756081322, 213.28643521395597, 127.4302090731534, 207.1171777898615, 194.6519178910689, 211.51054937189275, 220.15703374689275, 207.27539617365056, 235.51707458496094, 264.8108936656605, 220.5106867009943, 182.08733437278053, 163.92111344770953, 171.96660267223012, 200.5333820689808, 222.76575539328834, 167.99011924050072, 140.06044699928978, 155.64793118563566, 200.32556291060015, 215.2013827237216, 184.54661282626066, 236.9444815895774, 227.82588334517047, 218.484975641424, 234.86677967418325, 122.15695884011008, 264.07598876953125, 158.60969682173297, 226.85092163085938, 183.50607161088422, 250.40752896395597, 211.2744764848189, 157.74183793501422, 169.77205449884588, 193.30969654430044, 205.32984646883878, 222.9200439453125, 220.7624969482422, 139.50917746803978, 155.53039828213778, 121.52097667347302, 138.14442721280184, 233.33960099653765, 194.51610495827416, 181.731425892223, 190.5907509543679, 121.84941655939275, 136.94801053133878, 207.97536676580256, 254.80871027166194, 181.75141351873225, 196.46656521883878, 170.11339222301137, 209.09067743474787, 238.8708593195135, 182.83394276012075, 188.14265164462003, 201.9960382634943, 159.9105987548828, 231.413349498402, 132.51497719504616, 218.1493571888317, 198.47400318492544, 239.58065657182172, 178.32727744362572, 211.9184709028764, 209.607441295277, 220.667255748402, 241.54835787686434, 193.55462369051847, 132.6071874445135, 209.80351812189275, 207.26514365456322, 142.94624467329547, 230.81357782537287]}, {\"mode\": \"markers\", \"name\": \"conv5_Full\", \"type\": \"scatter\", \"x\": [4, 4, 4, 4, 4, 4, 4, 4, 4, 4, 4, 4, 4, 4, 4, 4, 4, 4, 4, 4], \"y\": [349.83725807883525, 361.1516945578835, 355.6122741699219, 359.73576216264206, 336.7155733975497, 359.8602960759943, 353.7035966352983, 347.7513344504616, 357.1695390181108, 349.0678794167259, 356.31841763583094, 343.45971124822444, 359.13949307528407, 353.331581809304, 355.2869207208807, 347.7039600719105, 371.49154385653407, 357.2723111239347, 357.8556185635653, 365.1197232333097]}, {\"name\": \"conv5_Full\", \"type\": \"box\", \"x0\": 4.4, \"y\": [349.83725807883525, 361.1516945578835, 355.6122741699219, 359.73576216264206, 336.7155733975497, 359.8602960759943, 353.7035966352983, 347.7513344504616, 357.1695390181108, 349.0678794167259, 356.31841763583094, 343.45971124822444, 359.13949307528407, 353.331581809304, 355.2869207208807, 347.7039600719105, 371.49154385653407, 357.2723111239347, 357.8556185635653, 365.1197232333097]}, {\"mode\": \"markers\", \"name\": \"fc6_Rand50d\", \"type\": \"scatter\", \"x\": [5, 5, 5, 5, 5, 5, 5, 5, 5, 5, 5, 5, 5, 5, 5, 5, 5, 5, 5, 5, 5, 5, 5, 5, 5, 5, 5, 5, 5, 5, 5, 5, 5, 5, 5, 5, 5, 5, 5, 5, 5, 5, 5, 5, 5, 5, 5, 5, 5, 5, 5, 5, 5, 5, 5, 5, 5, 5, 5, 5, 5, 5, 5, 5, 5, 5, 5, 5, 5, 5, 5, 5, 5, 5, 5, 5, 5, 5, 5, 5, 5, 5, 5, 5, 5, 5, 5, 5, 5, 5, 5, 5, 5, 5, 5, 5, 5, 5, 5, 5], \"y\": [86.7345858487216, 91.89083376797763, 83.16916725852273, 77.35805303400213, 77.07215742631392, 86.7163411920721, 71.36920027299361, 65.50227425315164, 69.61016013405539, 71.44850158691406, 65.94806809858842, 88.84006847034802, 73.64840906316584, 68.13880296186967, 73.99402757124467, 70.89476151899858, 81.95305009321733, 65.47684894908558, 75.41129094904119, 91.96378257057883, 71.34081892533736, 79.8096431385387, 76.43972570245916, 67.17292785644531, 87.65704484419389, 87.29684378884055, 83.00047440962358, 75.53737432306463, 80.68051424893466, 75.78447654030539, 87.62365306507458, 59.851837158203125, 97.88975316827947, 56.038787148215555, 74.24800942160867, 93.52488292347302, 75.60979114879261, 90.63647322221236, 73.21187591552734, 86.85573716597123, 85.54043440385298, 82.6031001697887, 81.66218150745739, 76.84469535134055, 83.6081112948331, 74.63929748535156, 61.22245233709162, 73.74389717795633, 67.92163918235086, 67.06183693625711, 90.84799887917258, 79.53986497358842, 73.09400662508878, 82.78032476251775, 80.20101165771484, 80.0520511973988, 98.76073594526811, 80.27886408025569, 85.6401436545632, 82.89535175670277, 80.77787017822266, 70.90831756591797, 71.32027435302734, 76.23927931352095, 75.23775066028942, 73.60923559015447, 91.72439436479048, 72.36893046985973, 73.28229037198153, 79.39592950994319, 82.45572592995383, 78.12970386851917, 69.94431513006037, 81.9429799860174, 77.38942649147727, 91.53515971790661, 84.27340212735263, 63.73328885165128, 63.05420823530717, 69.4600400057706, 76.22015519575639, 69.13733048872514, 75.12765502929688, 79.85631491921164, 75.12389859286222, 107.0814701427113, 80.19319083473899, 84.1894038807262, 72.5260273326527, 75.32451837713069, 77.54092199152166, 83.98180736194958, 71.0530118075284, 71.21996654163708, 83.92764420942827, 58.746037223122336, 71.52584145285867, 71.41376634077592, 82.42896409468217, 75.49158061634411]}, {\"name\": \"fc6_Rand50d\", \"type\": \"box\", \"x0\": 5.4, \"y\": [86.7345858487216, 91.89083376797763, 83.16916725852273, 77.35805303400213, 77.07215742631392, 86.7163411920721, 71.36920027299361, 65.50227425315164, 69.61016013405539, 71.44850158691406, 65.94806809858842, 88.84006847034802, 73.64840906316584, 68.13880296186967, 73.99402757124467, 70.89476151899858, 81.95305009321733, 65.47684894908558, 75.41129094904119, 91.96378257057883, 71.34081892533736, 79.8096431385387, 76.43972570245916, 67.17292785644531, 87.65704484419389, 87.29684378884055, 83.00047440962358, 75.53737432306463, 80.68051424893466, 75.78447654030539, 87.62365306507458, 59.851837158203125, 97.88975316827947, 56.038787148215555, 74.24800942160867, 93.52488292347302, 75.60979114879261, 90.63647322221236, 73.21187591552734, 86.85573716597123, 85.54043440385298, 82.6031001697887, 81.66218150745739, 76.84469535134055, 83.6081112948331, 74.63929748535156, 61.22245233709162, 73.74389717795633, 67.92163918235086, 67.06183693625711, 90.84799887917258, 79.53986497358842, 73.09400662508878, 82.78032476251775, 80.20101165771484, 80.0520511973988, 98.76073594526811, 80.27886408025569, 85.6401436545632, 82.89535175670277, 80.77787017822266, 70.90831756591797, 71.32027435302734, 76.23927931352095, 75.23775066028942, 73.60923559015447, 91.72439436479048, 72.36893046985973, 73.28229037198153, 79.39592950994319, 82.45572592995383, 78.12970386851917, 69.94431513006037, 81.9429799860174, 77.38942649147727, 91.53515971790661, 84.27340212735263, 63.73328885165128, 63.05420823530717, 69.4600400057706, 76.22015519575639, 69.13733048872514, 75.12765502929688, 79.85631491921164, 75.12389859286222, 107.0814701427113, 80.19319083473899, 84.1894038807262, 72.5260273326527, 75.32451837713069, 77.54092199152166, 83.98180736194958, 71.0530118075284, 71.21996654163708, 83.92764420942827, 58.746037223122336, 71.52584145285867, 71.41376634077592, 82.42896409468217, 75.49158061634411]}, {\"mode\": \"markers\", \"name\": \"fc6_Full\", \"type\": \"scatter\", \"x\": [5, 5, 5, 5, 5, 5, 5, 5, 5, 5, 5, 5, 5, 5, 5, 5, 5, 5, 5, 5], \"y\": [214.9736952348189, 220.0797257856889, 181.08297313343394, 222.17791470614347, 200.41476024280894, 218.02737149325284, 195.8130312832919, 219.4091103293679, 200.23976135253906, 189.38220908425072, 195.95457319779828, 193.37313010475853, 189.87107710404828, 218.59144731001422, 208.84922651811078, 200.30843145197088, 194.19161987304688, 219.68333712491122, 204.9485293301669, 195.74560824307528]}, {\"name\": \"fc6_Full\", \"type\": \"box\", \"x0\": 5.4, \"y\": [214.9736952348189, 220.0797257856889, 181.08297313343394, 222.17791470614347, 200.41476024280894, 218.02737149325284, 195.8130312832919, 219.4091103293679, 200.23976135253906, 189.38220908425072, 195.95457319779828, 193.37313010475853, 189.87107710404828, 218.59144731001422, 208.84922651811078, 200.30843145197088, 194.19161987304688, 219.68333712491122, 204.9485293301669, 195.74560824307528]}, {\"mode\": \"markers\", \"name\": \"fc7_Rand50d\", \"type\": \"scatter\", \"x\": [6, 6, 6, 6, 6, 6, 6, 6, 6, 6, 6, 6, 6, 6, 6, 6, 6, 6, 6, 6, 6, 6, 6, 6, 6, 6, 6, 6, 6, 6, 6, 6, 6, 6, 6, 6, 6, 6, 6, 6, 6, 6, 6, 6, 6, 6, 6, 6, 6, 6, 6, 6, 6, 6, 6, 6, 6, 6, 6, 6, 6, 6, 6, 6, 6, 6, 6, 6, 6, 6, 6, 6, 6, 6, 6, 6, 6, 6, 6, 6, 6, 6, 6, 6, 6, 6, 6, 6, 6, 6, 6, 6, 6, 6, 6, 6, 6, 6, 6, 6], \"y\": [18.28908174688166, 12.660457784479314, 14.01894794810902, 23.330087314952504, 20.154110648415305, 16.592222213745117, 15.276802756569602, 17.440062609585848, 13.08851181377064, 14.966628594831986, 18.11771115389737, 14.427431193265049, 13.352131410078568, 14.384318004954945, 13.382943673567338, 15.680425123734908, 18.30883650346236, 16.234017372131348, 11.904532172463156, 11.566981402310459, 16.20197903026234, 13.905044989152389, 15.722013213417746, 16.237611423839223, 17.10335315357555, 13.753896539861506, 17.655238238247957, 16.715960415926848, 18.58529108220881, 11.713518229397861, 14.363265904513272, 14.157625111666592, 16.76016651500355, 15.011217724193227, 16.90481359308416, 15.864784760908647, 16.75480738553134, 12.145719094709916, 13.666375680403275, 17.589285417036578, 17.412785443392668, 19.19979372891513, 20.216440547596324, 17.0185959555886, 18.27798843383789, 16.85741511258212, 17.771682392467152, 15.326187914068049, 17.38947694951838, 13.83923287825151, 15.237897439436479, 23.439748243852094, 15.607736414129084, 15.655973521145908, 18.71390013261275, 15.050225778059525, 19.422881559892133, 17.563247333873402, 11.391149087385697, 13.842909466136586, 14.662845438176936, 14.249579863114791, 12.792366201227361, 12.513700225136496, 15.851222731850363, 13.704156095331365, 17.053456219759855, 17.655562660910867, 19.544715707952324, 18.155569943514738, 15.116340897300027, 16.40647402676669, 17.5020958293568, 18.806288979270242, 17.01656046780673, 17.33175867254084, 16.518648841164328, 18.131847034801137, 15.53074819391424, 17.234127044677734, 14.291700623252176, 15.628584775057705, 18.026690569790926, 12.922005826776678, 17.98038604042747, 16.098269722678445, 15.670724608681418, 12.26601418581876, 17.212316686456855, 14.029774579134854, 19.216136932373047, 15.845888658003373, 19.231603795831855, 16.912846478548918, 15.766793337735264, 12.97957654432817, 13.830495487559926, 19.02121353149414, 16.782250837846235, 12.708258282054555]}, {\"name\": \"fc7_Rand50d\", \"type\": \"box\", \"x0\": 6.4, \"y\": [18.28908174688166, 12.660457784479314, 14.01894794810902, 23.330087314952504, 20.154110648415305, 16.592222213745117, 15.276802756569602, 17.440062609585848, 13.08851181377064, 14.966628594831986, 18.11771115389737, 14.427431193265049, 13.352131410078568, 14.384318004954945, 13.382943673567338, 15.680425123734908, 18.30883650346236, 16.234017372131348, 11.904532172463156, 11.566981402310459, 16.20197903026234, 13.905044989152389, 15.722013213417746, 16.237611423839223, 17.10335315357555, 13.753896539861506, 17.655238238247957, 16.715960415926848, 18.58529108220881, 11.713518229397861, 14.363265904513272, 14.157625111666592, 16.76016651500355, 15.011217724193227, 16.90481359308416, 15.864784760908647, 16.75480738553134, 12.145719094709916, 13.666375680403275, 17.589285417036578, 17.412785443392668, 19.19979372891513, 20.216440547596324, 17.0185959555886, 18.27798843383789, 16.85741511258212, 17.771682392467152, 15.326187914068049, 17.38947694951838, 13.83923287825151, 15.237897439436479, 23.439748243852094, 15.607736414129084, 15.655973521145908, 18.71390013261275, 15.050225778059525, 19.422881559892133, 17.563247333873402, 11.391149087385697, 13.842909466136586, 14.662845438176936, 14.249579863114791, 12.792366201227361, 12.513700225136496, 15.851222731850363, 13.704156095331365, 17.053456219759855, 17.655562660910867, 19.544715707952324, 18.155569943514738, 15.116340897300027, 16.40647402676669, 17.5020958293568, 18.806288979270242, 17.01656046780673, 17.33175867254084, 16.518648841164328, 18.131847034801137, 15.53074819391424, 17.234127044677734, 14.291700623252176, 15.628584775057705, 18.026690569790926, 12.922005826776678, 17.98038604042747, 16.098269722678445, 15.670724608681418, 12.26601418581876, 17.212316686456855, 14.029774579134854, 19.216136932373047, 15.845888658003373, 19.231603795831855, 16.912846478548918, 15.766793337735264, 12.97957654432817, 13.830495487559926, 19.02121353149414, 16.782250837846235, 12.708258282054555]}, {\"mode\": \"markers\", \"name\": \"fc7_Full\", \"type\": \"scatter\", \"x\": [6, 6, 6, 6, 6, 6, 6, 6, 6, 6, 6, 6, 6, 6, 6, 6, 6, 6, 6, 6], \"y\": [57.62842629172585, 50.31730721213601, 58.778691031716086, 56.955524097789414, 53.963918859308414, 56.708614349365234, 53.967070839621805, 61.835109363902696, 46.36091579090465, 51.404199773615055, 66.65417064319958, 66.357966336337, 62.774290258234196, 50.41836027665572, 62.985763203014024, 56.917838703502305, 63.95954790982333, 66.21930972012606, 61.52861161665483, 58.67143110795455]}, {\"name\": \"fc7_Full\", \"type\": \"box\", \"x0\": 6.4, \"y\": [57.62842629172585, 50.31730721213601, 58.778691031716086, 56.955524097789414, 53.963918859308414, 56.708614349365234, 53.967070839621805, 61.835109363902696, 46.36091579090465, 51.404199773615055, 66.65417064319958, 66.357966336337, 62.774290258234196, 50.41836027665572, 62.985763203014024, 56.917838703502305, 63.95954790982333, 66.21930972012606, 61.52861161665483, 58.67143110795455]}, {\"mode\": \"markers\", \"name\": \"fc8_Rand50d\", \"type\": \"scatter\", \"x\": [7, 7, 7, 7, 7, 7, 7, 7, 7, 7, 7, 7, 7, 7, 7, 7, 7, 7, 7, 7, 7, 7, 7, 7, 7, 7, 7, 7, 7, 7, 7, 7, 7, 7, 7, 7, 7, 7, 7, 7, 7, 7, 7, 7, 7, 7, 7, 7, 7, 7, 7, 7, 7, 7, 7, 7, 7, 7, 7, 7, 7, 7, 7, 7, 7, 7, 7, 7, 7, 7, 7, 7, 7, 7, 7, 7, 7, 7, 7, 7, 7, 7, 7, 7, 7, 7, 7, 7, 7, 7, 7, 7, 7, 7, 7, 7, 7, 7, 7, 7], \"y\": [30.11378999189897, 28.765664880925957, 23.698291778564453, 32.533653259277344, 32.33079008622603, 28.371153224598277, 22.954763585870918, 37.21642338145863, 28.37527014992454, 21.734852704134855, 23.601742831143465, 25.762198188088156, 28.306753678755328, 25.876482356678356, 42.64941336891868, 23.49111574346369, 28.417829686945137, 21.934668280861594, 32.39905600114302, 24.07400720769709, 21.615629889748313, 24.165731950239703, 26.21228720925071, 28.67312899502841, 15.721095952120693, 16.30968614058061, 30.211706161499023, 26.200918717817828, 19.705198634754527, 23.934225255792793, 15.754429817199707, 29.23139780217951, 36.11315189708363, 29.90076411854137, 23.94475607438521, 25.196340040727094, 23.375715082341973, 26.92822907187722, 26.617199290882457, 26.09118114818226, 18.764981876720082, 31.412207863547586, 27.548605138605293, 25.674552050503817, 21.67523193359375, 30.456554759632457, 16.5078594901345, 25.738901311700996, 22.82949447631836, 28.638654362071644, 31.649642944335938, 26.736767855557527, 18.961992263793945, 25.66451644897461, 20.188656200062145, 30.694767518477008, 28.299259879372336, 26.691734487360176, 33.564517281272195, 33.70265267112038, 23.51784966208718, 27.12877655029297, 27.91977813027122, 31.592418150468305, 30.021532578901812, 32.76003126664595, 20.150199369950727, 32.8734377080744, 28.722694223577324, 36.44698853926225, 26.720915881070223, 20.939084139737215, 32.3889194835316, 20.07767070423473, 26.109765312888406, 20.311119773171164, 25.265443975275215, 24.88956780867143, 25.391139117154207, 19.291291496970437, 29.336590506813742, 27.69064885919744, 25.21213895624334, 28.215380235151812, 26.860985842618074, 13.7409837029197, 17.01946223865856, 21.374267578125, 21.85705670443448, 21.36541210521351, 23.66227115284313, 16.838322032581676, 18.827394485473633, 24.751976533369586, 22.522078774192117, 27.371347947554156, 24.450516787442293, 33.051138791170985, 26.072348161177203, 23.195302096280184]}, {\"name\": \"fc8_Rand50d\", \"type\": \"box\", \"x0\": 7.4, \"y\": [30.11378999189897, 28.765664880925957, 23.698291778564453, 32.533653259277344, 32.33079008622603, 28.371153224598277, 22.954763585870918, 37.21642338145863, 28.37527014992454, 21.734852704134855, 23.601742831143465, 25.762198188088156, 28.306753678755328, 25.876482356678356, 42.64941336891868, 23.49111574346369, 28.417829686945137, 21.934668280861594, 32.39905600114302, 24.07400720769709, 21.615629889748313, 24.165731950239703, 26.21228720925071, 28.67312899502841, 15.721095952120693, 16.30968614058061, 30.211706161499023, 26.200918717817828, 19.705198634754527, 23.934225255792793, 15.754429817199707, 29.23139780217951, 36.11315189708363, 29.90076411854137, 23.94475607438521, 25.196340040727094, 23.375715082341973, 26.92822907187722, 26.617199290882457, 26.09118114818226, 18.764981876720082, 31.412207863547586, 27.548605138605293, 25.674552050503817, 21.67523193359375, 30.456554759632457, 16.5078594901345, 25.738901311700996, 22.82949447631836, 28.638654362071644, 31.649642944335938, 26.736767855557527, 18.961992263793945, 25.66451644897461, 20.188656200062145, 30.694767518477008, 28.299259879372336, 26.691734487360176, 33.564517281272195, 33.70265267112038, 23.51784966208718, 27.12877655029297, 27.91977813027122, 31.592418150468305, 30.021532578901812, 32.76003126664595, 20.150199369950727, 32.8734377080744, 28.722694223577324, 36.44698853926225, 26.720915881070223, 20.939084139737215, 32.3889194835316, 20.07767070423473, 26.109765312888406, 20.311119773171164, 25.265443975275215, 24.88956780867143, 25.391139117154207, 19.291291496970437, 29.336590506813742, 27.69064885919744, 25.21213895624334, 28.215380235151812, 26.860985842618074, 13.7409837029197, 17.01946223865856, 21.374267578125, 21.85705670443448, 21.36541210521351, 23.66227115284313, 16.838322032581676, 18.827394485473633, 24.751976533369586, 22.522078774192117, 27.371347947554156, 24.450516787442293, 33.051138791170985, 26.072348161177203, 23.195302096280184]}, {\"mode\": \"markers\", \"name\": \"fc8_Full\", \"type\": \"scatter\", \"x\": [7, 7, 7, 7, 7, 7, 7, 7, 7, 7, 7, 7, 7, 7, 7, 7, 7, 7, 7, 7], \"y\": [85.61107566139914, 95.7145073630593, 89.6367055719549, 90.14426005970348, 83.66926990855823, 75.57380814985795, 87.53485801003195, 95.47680386629972, 96.83196050470525, 96.68252910267223, 88.04156216708097, 81.84769509055398, 90.11949227072976, 95.37838328968395, 82.96641887318005, 86.95077792080966, 71.52228823575106, 90.74136491255327, 95.65462771329013, 89.00028090043502]}, {\"name\": \"fc8_Full\", \"type\": \"box\", \"x0\": 7.4, \"y\": [85.61107566139914, 95.7145073630593, 89.6367055719549, 90.14426005970348, 83.66926990855823, 75.57380814985795, 87.53485801003195, 95.47680386629972, 96.83196050470525, 96.68252910267223, 88.04156216708097, 81.84769509055398, 90.11949227072976, 95.37838328968395, 82.96641887318005, 86.95077792080966, 71.52228823575106, 90.74136491255327, 95.65462771329013, 89.00028090043502]}],\n",
       "                        {\"template\": {\"data\": {\"bar\": [{\"error_x\": {\"color\": \"#2a3f5f\"}, \"error_y\": {\"color\": \"#2a3f5f\"}, \"marker\": {\"line\": {\"color\": \"#E5ECF6\", \"width\": 0.5}}, \"type\": \"bar\"}], \"barpolar\": [{\"marker\": {\"line\": {\"color\": \"#E5ECF6\", \"width\": 0.5}}, \"type\": \"barpolar\"}], \"carpet\": [{\"aaxis\": {\"endlinecolor\": \"#2a3f5f\", \"gridcolor\": \"white\", \"linecolor\": \"white\", \"minorgridcolor\": \"white\", \"startlinecolor\": \"#2a3f5f\"}, \"baxis\": {\"endlinecolor\": \"#2a3f5f\", \"gridcolor\": \"white\", \"linecolor\": \"white\", \"minorgridcolor\": \"white\", \"startlinecolor\": \"#2a3f5f\"}, \"type\": \"carpet\"}], \"choropleth\": [{\"colorbar\": {\"outlinewidth\": 0, \"ticks\": \"\"}, \"type\": \"choropleth\"}], \"contour\": [{\"colorbar\": {\"outlinewidth\": 0, \"ticks\": \"\"}, \"colorscale\": [[0.0, \"#0d0887\"], [0.1111111111111111, \"#46039f\"], [0.2222222222222222, \"#7201a8\"], [0.3333333333333333, \"#9c179e\"], [0.4444444444444444, \"#bd3786\"], [0.5555555555555556, \"#d8576b\"], [0.6666666666666666, \"#ed7953\"], [0.7777777777777778, \"#fb9f3a\"], [0.8888888888888888, \"#fdca26\"], [1.0, \"#f0f921\"]], \"type\": \"contour\"}], \"contourcarpet\": [{\"colorbar\": {\"outlinewidth\": 0, \"ticks\": \"\"}, \"type\": \"contourcarpet\"}], \"heatmap\": [{\"colorbar\": {\"outlinewidth\": 0, \"ticks\": \"\"}, \"colorscale\": [[0.0, \"#0d0887\"], [0.1111111111111111, \"#46039f\"], [0.2222222222222222, \"#7201a8\"], [0.3333333333333333, \"#9c179e\"], [0.4444444444444444, \"#bd3786\"], [0.5555555555555556, \"#d8576b\"], [0.6666666666666666, \"#ed7953\"], [0.7777777777777778, \"#fb9f3a\"], [0.8888888888888888, \"#fdca26\"], [1.0, \"#f0f921\"]], \"type\": \"heatmap\"}], \"heatmapgl\": [{\"colorbar\": {\"outlinewidth\": 0, \"ticks\": \"\"}, \"colorscale\": [[0.0, \"#0d0887\"], [0.1111111111111111, \"#46039f\"], [0.2222222222222222, \"#7201a8\"], [0.3333333333333333, \"#9c179e\"], [0.4444444444444444, \"#bd3786\"], [0.5555555555555556, \"#d8576b\"], [0.6666666666666666, \"#ed7953\"], [0.7777777777777778, \"#fb9f3a\"], [0.8888888888888888, \"#fdca26\"], [1.0, \"#f0f921\"]], \"type\": \"heatmapgl\"}], \"histogram\": [{\"marker\": {\"colorbar\": {\"outlinewidth\": 0, \"ticks\": \"\"}}, \"type\": \"histogram\"}], \"histogram2d\": [{\"colorbar\": {\"outlinewidth\": 0, \"ticks\": \"\"}, \"colorscale\": [[0.0, \"#0d0887\"], [0.1111111111111111, \"#46039f\"], [0.2222222222222222, \"#7201a8\"], [0.3333333333333333, \"#9c179e\"], [0.4444444444444444, \"#bd3786\"], [0.5555555555555556, \"#d8576b\"], [0.6666666666666666, \"#ed7953\"], [0.7777777777777778, \"#fb9f3a\"], [0.8888888888888888, \"#fdca26\"], [1.0, \"#f0f921\"]], \"type\": \"histogram2d\"}], \"histogram2dcontour\": [{\"colorbar\": {\"outlinewidth\": 0, \"ticks\": \"\"}, \"colorscale\": [[0.0, \"#0d0887\"], [0.1111111111111111, \"#46039f\"], [0.2222222222222222, \"#7201a8\"], [0.3333333333333333, \"#9c179e\"], [0.4444444444444444, \"#bd3786\"], [0.5555555555555556, \"#d8576b\"], [0.6666666666666666, \"#ed7953\"], [0.7777777777777778, \"#fb9f3a\"], [0.8888888888888888, \"#fdca26\"], [1.0, \"#f0f921\"]], \"type\": \"histogram2dcontour\"}], \"mesh3d\": [{\"colorbar\": {\"outlinewidth\": 0, \"ticks\": \"\"}, \"type\": \"mesh3d\"}], \"parcoords\": [{\"line\": {\"colorbar\": {\"outlinewidth\": 0, \"ticks\": \"\"}}, \"type\": \"parcoords\"}], \"scatter\": [{\"marker\": {\"colorbar\": {\"outlinewidth\": 0, \"ticks\": \"\"}}, \"type\": \"scatter\"}], \"scatter3d\": [{\"line\": {\"colorbar\": {\"outlinewidth\": 0, \"ticks\": \"\"}}, \"marker\": {\"colorbar\": {\"outlinewidth\": 0, \"ticks\": \"\"}}, \"type\": \"scatter3d\"}], \"scattercarpet\": [{\"marker\": {\"colorbar\": {\"outlinewidth\": 0, \"ticks\": \"\"}}, \"type\": \"scattercarpet\"}], \"scattergeo\": [{\"marker\": {\"colorbar\": {\"outlinewidth\": 0, \"ticks\": \"\"}}, \"type\": \"scattergeo\"}], \"scattergl\": [{\"marker\": {\"colorbar\": {\"outlinewidth\": 0, \"ticks\": \"\"}}, \"type\": \"scattergl\"}], \"scattermapbox\": [{\"marker\": {\"colorbar\": {\"outlinewidth\": 0, \"ticks\": \"\"}}, \"type\": \"scattermapbox\"}], \"scatterpolar\": [{\"marker\": {\"colorbar\": {\"outlinewidth\": 0, \"ticks\": \"\"}}, \"type\": \"scatterpolar\"}], \"scatterpolargl\": [{\"marker\": {\"colorbar\": {\"outlinewidth\": 0, \"ticks\": \"\"}}, \"type\": \"scatterpolargl\"}], \"scatterternary\": [{\"marker\": {\"colorbar\": {\"outlinewidth\": 0, \"ticks\": \"\"}}, \"type\": \"scatterternary\"}], \"surface\": [{\"colorbar\": {\"outlinewidth\": 0, \"ticks\": \"\"}, \"colorscale\": [[0.0, \"#0d0887\"], [0.1111111111111111, \"#46039f\"], [0.2222222222222222, \"#7201a8\"], [0.3333333333333333, \"#9c179e\"], [0.4444444444444444, \"#bd3786\"], [0.5555555555555556, \"#d8576b\"], [0.6666666666666666, \"#ed7953\"], [0.7777777777777778, \"#fb9f3a\"], [0.8888888888888888, \"#fdca26\"], [1.0, \"#f0f921\"]], \"type\": \"surface\"}], \"table\": [{\"cells\": {\"fill\": {\"color\": \"#EBF0F8\"}, \"line\": {\"color\": \"white\"}}, \"header\": {\"fill\": {\"color\": \"#C8D4E3\"}, \"line\": {\"color\": \"white\"}}, \"type\": \"table\"}]}, \"layout\": {\"annotationdefaults\": {\"arrowcolor\": \"#2a3f5f\", \"arrowhead\": 0, \"arrowwidth\": 1}, \"colorscale\": {\"diverging\": [[0, \"#8e0152\"], [0.1, \"#c51b7d\"], [0.2, \"#de77ae\"], [0.3, \"#f1b6da\"], [0.4, \"#fde0ef\"], [0.5, \"#f7f7f7\"], [0.6, \"#e6f5d0\"], [0.7, \"#b8e186\"], [0.8, \"#7fbc41\"], [0.9, \"#4d9221\"], [1, \"#276419\"]], \"sequential\": [[0.0, \"#0d0887\"], [0.1111111111111111, \"#46039f\"], [0.2222222222222222, \"#7201a8\"], [0.3333333333333333, \"#9c179e\"], [0.4444444444444444, \"#bd3786\"], [0.5555555555555556, \"#d8576b\"], [0.6666666666666666, \"#ed7953\"], [0.7777777777777778, \"#fb9f3a\"], [0.8888888888888888, \"#fdca26\"], [1.0, \"#f0f921\"]], \"sequentialminus\": [[0.0, \"#0d0887\"], [0.1111111111111111, \"#46039f\"], [0.2222222222222222, \"#7201a8\"], [0.3333333333333333, \"#9c179e\"], [0.4444444444444444, \"#bd3786\"], [0.5555555555555556, \"#d8576b\"], [0.6666666666666666, \"#ed7953\"], [0.7777777777777778, \"#fb9f3a\"], [0.8888888888888888, \"#fdca26\"], [1.0, \"#f0f921\"]]}, \"colorway\": [\"#636efa\", \"#EF553B\", \"#00cc96\", \"#ab63fa\", \"#FFA15A\", \"#19d3f3\", \"#FF6692\", \"#B6E880\", \"#FF97FF\", \"#FECB52\"], \"font\": {\"color\": \"#2a3f5f\"}, \"geo\": {\"bgcolor\": \"white\", \"lakecolor\": \"white\", \"landcolor\": \"#E5ECF6\", \"showlakes\": true, \"showland\": true, \"subunitcolor\": \"white\"}, \"hoverlabel\": {\"align\": \"left\"}, \"hovermode\": \"closest\", \"mapbox\": {\"style\": \"light\"}, \"paper_bgcolor\": \"white\", \"plot_bgcolor\": \"#E5ECF6\", \"polar\": {\"angularaxis\": {\"gridcolor\": \"white\", \"linecolor\": \"white\", \"ticks\": \"\"}, \"bgcolor\": \"#E5ECF6\", \"radialaxis\": {\"gridcolor\": \"white\", \"linecolor\": \"white\", \"ticks\": \"\"}}, \"scene\": {\"xaxis\": {\"backgroundcolor\": \"#E5ECF6\", \"gridcolor\": \"white\", \"gridwidth\": 2, \"linecolor\": \"white\", \"showbackground\": true, \"ticks\": \"\", \"zerolinecolor\": \"white\"}, \"yaxis\": {\"backgroundcolor\": \"#E5ECF6\", \"gridcolor\": \"white\", \"gridwidth\": 2, \"linecolor\": \"white\", \"showbackground\": true, \"ticks\": \"\", \"zerolinecolor\": \"white\"}, \"zaxis\": {\"backgroundcolor\": \"#E5ECF6\", \"gridcolor\": \"white\", \"gridwidth\": 2, \"linecolor\": \"white\", \"showbackground\": true, \"ticks\": \"\", \"zerolinecolor\": \"white\"}}, \"shapedefaults\": {\"line\": {\"color\": \"#2a3f5f\"}}, \"ternary\": {\"aaxis\": {\"gridcolor\": \"white\", \"linecolor\": \"white\", \"ticks\": \"\"}, \"baxis\": {\"gridcolor\": \"white\", \"linecolor\": \"white\", \"ticks\": \"\"}, \"bgcolor\": \"#E5ECF6\", \"caxis\": {\"gridcolor\": \"white\", \"linecolor\": \"white\", \"ticks\": \"\"}}, \"title\": {\"x\": 0.05}, \"xaxis\": {\"automargin\": true, \"gridcolor\": \"white\", \"linecolor\": \"white\", \"ticks\": \"\", \"zerolinecolor\": \"white\", \"zerolinewidth\": 2}, \"yaxis\": {\"automargin\": true, \"gridcolor\": \"white\", \"linecolor\": \"white\", \"ticks\": \"\", \"zerolinecolor\": \"white\", \"zerolinewidth\": 2}}}, \"xaxis\": {\"tickmode\": \"array\", \"ticktext\": [[\"caffe-net\", \"conv1\", 5, 10, 10], [\"caffe-net\", \"conv2\", 5, 10, 10], [\"caffe-net\", \"conv3\", 5, 10, 10], [\"caffe-net\", \"conv4\", 5, 10, 10], [\"caffe-net\", \"conv5\", 5, 10, 10], [\"caffe-net\", \"fc6\", 1], [\"caffe-net\", \"fc7\", 1], [\"caffe-net\", \"fc8\", 1]], \"tickvals\": [0.3, 1.3, 2.3, 3.3, 4.3, 5.3, 6.3, 7.3]}, \"yaxis\": {\"title\": {\"text\": \"Raw Activation\"}}},\n",
       "                        {\"responsive\": true}\n",
       "                    ).then(function(){\n",
       "                            \n",
       "var gd = document.getElementById('a186f845-716a-422d-ad5a-7ced1413334d');\n",
       "var x = new MutationObserver(function (mutations, observer) {{\n",
       "        var display = window.getComputedStyle(gd).display;\n",
       "        if (!display || display === 'none') {{\n",
       "            console.log([gd, 'removed!']);\n",
       "            Plotly.purge(gd);\n",
       "            observer.disconnect();\n",
       "        }}\n",
       "}});\n",
       "\n",
       "// Listen for the removal of the full notebook cells\n",
       "var notebookContainer = gd.closest('#notebook-container');\n",
       "if (notebookContainer) {{\n",
       "    x.observe(notebookContainer, {childList: true});\n",
       "}}\n",
       "\n",
       "// Listen for the clearing of the current output cell\n",
       "var outputEl = gd.closest('.output');\n",
       "if (outputEl) {{\n",
       "    x.observe(outputEl, {childList: true});\n",
       "}}\n",
       "\n",
       "                        })\n",
       "                };\n",
       "                });\n",
       "            </script>\n",
       "        </div>"
      ]
     },
     "metadata": {},
     "output_type": "display_data"
    }
   ],
   "source": [
    "layout = go.Layout(\n",
    "    xaxis = go.layout.XAxis(\n",
    "        tickmode = 'array',\n",
    "        tickvals = 0.3+np.arange(len(layer_names)),\n",
    "        ticktext = unit_arr#layer_names\n",
    "    ), \n",
    "    yaxis=go.layout.YAxis(\n",
    "        title=go.layout.yaxis.Title(text=\"Raw Activation\",))\n",
    ")\n",
    "fig2 = go.Figure(\n",
    "    layout = layout\n",
    ")\n",
    "for i, unit in enumerate(unit_arr):\n",
    "    best_scores = np.load(join(basedir, \"%s_%s_%d\" % (unit[0], unit[1], unit[2]), \"best_scores.npy\"))\n",
    "    fig2.add_scatter(\n",
    "        x=[i]*best_scores.shape[0],\n",
    "        y=best_scores.mean(axis=1),\n",
    "        mode='markers', name=layer_names[i]+\"_Rand50d\", #showlegend=True\n",
    "    )\n",
    "    fig2.add_box(\n",
    "        x0=i+0.4, y=best_scores.mean(axis=1),\n",
    "        name=layer_names[i]+\"_Rand50d\", #showlegend=True\n",
    "    )\n",
    "    \n",
    "    best_scores = np.load(join(basedir, \"%s_%s_%d_full\" % (unit[0], unit[1], unit[2]), \"best_scores.npy\"))\n",
    "    fig2.add_scatter(\n",
    "        x=[i]*best_scores.shape[0],\n",
    "        y=best_scores.mean(axis=1),\n",
    "        mode='markers', name=layer_names[i]+\"_Full\", #showlegend=True\n",
    "    )\n",
    "    fig2.add_box(\n",
    "        x0=i+0.4, y=best_scores.mean(axis=1),\n",
    "        name=layer_names[i]+\"_Full\", #showlegend=True\n",
    "    )\n",
    "\n",
    "fig2.show()"
   ]
  },
  {
   "cell_type": "code",
   "execution_count": 45,
   "metadata": {
    "scrolled": false
   },
   "outputs": [
    {
     "data": {
      "application/vnd.plotly.v1+json": {
       "config": {
        "plotlyServerURL": "https://plot.ly"
       },
       "data": [
        {
         "mode": "markers",
         "name": "conv1_Full",
         "type": "scatter",
         "x": [
          0,
          0,
          0,
          0,
          0,
          0,
          0,
          0,
          0,
          0,
          0,
          0,
          0,
          0,
          0,
          0,
          0,
          0,
          0,
          0
         ],
         "y": [
          1.0051942166756496,
          0.9975012437388799,
          0.9899166544467823,
          1.0050231352787398,
          1.0006608094061193,
          1.0080205091507028,
          1.0031540892962005,
          1.002600349640049,
          0.997544555210031,
          0.992237434078455,
          0.9996596867934909,
          0.989935099646263,
          1.002796029462326,
          0.9973037903397299,
          1.0050122766448226,
          1.0054854379982192,
          1.0103128391615126,
          0.9934295673007759,
          1.0047088574568195,
          0.98950341827443
         ]
        },
        {
         "name": "conv1_Full",
         "type": "box",
         "x0": 0.4,
         "y": [
          1.0051942166756496,
          0.9975012437388799,
          0.9899166544467823,
          1.0050231352787398,
          1.0006608094061193,
          1.0080205091507028,
          1.0031540892962005,
          1.002600349640049,
          0.997544555210031,
          0.992237434078455,
          0.9996596867934909,
          0.989935099646263,
          1.002796029462326,
          0.9973037903397299,
          1.0050122766448226,
          1.0054854379982192,
          1.0103128391615126,
          0.9934295673007759,
          1.0047088574568195,
          0.98950341827443
         ]
        },
        {
         "mode": "markers",
         "name": "conv1_Rand50d",
         "type": "scatter",
         "x": [
          0,
          0,
          0,
          0,
          0,
          0,
          0,
          0,
          0,
          0,
          0,
          0,
          0,
          0,
          0,
          0,
          0,
          0,
          0,
          0,
          0,
          0,
          0,
          0,
          0,
          0,
          0,
          0,
          0,
          0,
          0,
          0,
          0,
          0,
          0,
          0,
          0,
          0,
          0,
          0,
          0,
          0,
          0,
          0,
          0,
          0,
          0,
          0,
          0,
          0,
          0,
          0,
          0,
          0,
          0,
          0,
          0,
          0,
          0,
          0,
          0,
          0,
          0,
          0,
          0,
          0,
          0,
          0,
          0,
          0,
          0,
          0,
          0,
          0,
          0,
          0,
          0,
          0,
          0,
          0,
          0,
          0,
          0,
          0,
          0,
          0,
          0,
          0,
          0,
          0,
          0,
          0,
          0,
          0,
          0,
          0,
          0,
          0,
          0,
          0
         ],
         "y": [
          0.9153353942272467,
          0.9167074332963076,
          0.7073261722645464,
          0.9084995077437389,
          0.9244734631220721,
          0.8828200908920504,
          0.9444257396431788,
          0.9300133426912075,
          0.9213348329010251,
          0.9369973626586137,
          0.8547312734777465,
          0.8687344736691828,
          0.9351028495599939,
          0.8724765398942753,
          0.8956279943791512,
          0.8844087162732233,
          0.8627430486672354,
          0.8865901796317385,
          0.7352249273898532,
          0.8798562484816237,
          0.9392901632102265,
          0.9371088953071217,
          0.8561820448817961,
          0.9208497849630338,
          0.8707435019210932,
          0.8514002934154905,
          0.8801804293776764,
          0.8953241263676127,
          0.906111520407208,
          0.8887574905707152,
          0.8535633622481501,
          0.9332994983126534,
          0.9015148000628511,
          0.769236673543355,
          0.8873253525824675,
          0.8916339933690014,
          0.8970814804416801,
          0.8714482417404968,
          0.8145405881927261,
          0.7411910952093094,
          0.8976696419673488,
          0.8934046239328048,
          0.8647488120898813,
          0.9243330971809695,
          0.930760742463727,
          0.865406751197102,
          0.8494091674313649,
          0.902295340386086,
          0.9300394323689659,
          0.9099489761117184,
          0.9016008873125466,
          0.8936145720000489,
          0.9413731894327378,
          0.9070346635501325,
          0.8795164239136408,
          0.8798857912049677,
          0.42684234831177037,
          0.9180297832565635,
          0.8992044953933639,
          0.9093011138167729,
          0.8697713573828451,
          0.9235828596854528,
          0.8671897461253923,
          0.9486602159600585,
          0.8078252253066095,
          0.8891649861452698,
          0.8915614359771667,
          0.8585554164970743,
          0.875458262855219,
          0.8423207091229431,
          0.9104238386510953,
          0.8724254102067039,
          0.8884548025307291,
          0.853029276719389,
          0.9082625795907552,
          0.9002972648762534,
          0.9104423272851115,
          0.8908287243167925,
          0.9024668054547275,
          0.844324308057895,
          0.9192789387851282,
          0.8992199001753477,
          0.893355123040321,
          0.9140700738123241,
          0.833953349868113,
          0.8717490765736278,
          0.8901649577427031,
          0.7784601274962157,
          0.8934980588581175,
          0.8941599215517269,
          0.8733332499148946,
          0.9341709109235963,
          0.9061396080736072,
          0.9211697092745912,
          0.8598060705171197,
          0.9157348761299707,
          0.9280997763096075,
          0.9398198763290636,
          0.8589402537221885,
          0.9212144396072408
         ]
        },
        {
         "name": "conv1_Rand50d",
         "type": "box",
         "x0": 0.4,
         "y": [
          0.9153353942272467,
          0.9167074332963076,
          0.7073261722645464,
          0.9084995077437389,
          0.9244734631220721,
          0.8828200908920504,
          0.9444257396431788,
          0.9300133426912075,
          0.9213348329010251,
          0.9369973626586137,
          0.8547312734777465,
          0.8687344736691828,
          0.9351028495599939,
          0.8724765398942753,
          0.8956279943791512,
          0.8844087162732233,
          0.8627430486672354,
          0.8865901796317385,
          0.7352249273898532,
          0.8798562484816237,
          0.9392901632102265,
          0.9371088953071217,
          0.8561820448817961,
          0.9208497849630338,
          0.8707435019210932,
          0.8514002934154905,
          0.8801804293776764,
          0.8953241263676127,
          0.906111520407208,
          0.8887574905707152,
          0.8535633622481501,
          0.9332994983126534,
          0.9015148000628511,
          0.769236673543355,
          0.8873253525824675,
          0.8916339933690014,
          0.8970814804416801,
          0.8714482417404968,
          0.8145405881927261,
          0.7411910952093094,
          0.8976696419673488,
          0.8934046239328048,
          0.8647488120898813,
          0.9243330971809695,
          0.930760742463727,
          0.865406751197102,
          0.8494091674313649,
          0.902295340386086,
          0.9300394323689659,
          0.9099489761117184,
          0.9016008873125466,
          0.8936145720000489,
          0.9413731894327378,
          0.9070346635501325,
          0.8795164239136408,
          0.8798857912049677,
          0.42684234831177037,
          0.9180297832565635,
          0.8992044953933639,
          0.9093011138167729,
          0.8697713573828451,
          0.9235828596854528,
          0.8671897461253923,
          0.9486602159600585,
          0.8078252253066095,
          0.8891649861452698,
          0.8915614359771667,
          0.8585554164970743,
          0.875458262855219,
          0.8423207091229431,
          0.9104238386510953,
          0.8724254102067039,
          0.8884548025307291,
          0.853029276719389,
          0.9082625795907552,
          0.9002972648762534,
          0.9104423272851115,
          0.8908287243167925,
          0.9024668054547275,
          0.844324308057895,
          0.9192789387851282,
          0.8992199001753477,
          0.893355123040321,
          0.9140700738123241,
          0.833953349868113,
          0.8717490765736278,
          0.8901649577427031,
          0.7784601274962157,
          0.8934980588581175,
          0.8941599215517269,
          0.8733332499148946,
          0.9341709109235963,
          0.9061396080736072,
          0.9211697092745912,
          0.8598060705171197,
          0.9157348761299707,
          0.9280997763096075,
          0.9398198763290636,
          0.8589402537221885,
          0.9212144396072408
         ]
        },
        {
         "mode": "markers",
         "name": "conv2_Full",
         "type": "scatter",
         "x": [
          1,
          1,
          1,
          1,
          1,
          1,
          1,
          1,
          1,
          1,
          1,
          1,
          1,
          1,
          1,
          1,
          1,
          1,
          1,
          1
         ],
         "y": [
          1.0193963547282092,
          0.9773487485475405,
          0.9159321914562948,
          1.013823672422989,
          1.0070387309446633,
          1.021134159560622,
          1.036845398089983,
          0.9820944009405473,
          1.0260421474896597,
          1.0248906689209163,
          1.028625520568834,
          1.0093239838058452,
          0.9379018082536176,
          0.9922314892221804,
          0.9886855740078573,
          0.9960754356882834,
          0.9759460015925085,
          1.0057675094141656,
          1.0089939692006402,
          1.0319022351446436
         ]
        },
        {
         "name": "conv2_Full",
         "type": "box",
         "x0": 1.4,
         "y": [
          1.0193963547282092,
          0.9773487485475405,
          0.9159321914562948,
          1.013823672422989,
          1.0070387309446633,
          1.021134159560622,
          1.036845398089983,
          0.9820944009405473,
          1.0260421474896597,
          1.0248906689209163,
          1.028625520568834,
          1.0093239838058452,
          0.9379018082536176,
          0.9922314892221804,
          0.9886855740078573,
          0.9960754356882834,
          0.9759460015925085,
          1.0057675094141656,
          1.0089939692006402,
          1.0319022351446436
         ]
        },
        {
         "mode": "markers",
         "name": "conv2_Rand50d",
         "type": "scatter",
         "x": [
          1,
          1,
          1,
          1,
          1,
          1,
          1,
          1,
          1,
          1,
          1,
          1,
          1,
          1,
          1,
          1,
          1,
          1,
          1,
          1,
          1,
          1,
          1,
          1,
          1,
          1,
          1,
          1,
          1,
          1,
          1,
          1,
          1,
          1,
          1,
          1,
          1,
          1,
          1,
          1,
          1,
          1,
          1,
          1,
          1,
          1,
          1,
          1,
          1,
          1,
          1,
          1,
          1,
          1,
          1,
          1,
          1,
          1,
          1,
          1,
          1,
          1,
          1,
          1,
          1,
          1,
          1,
          1,
          1,
          1,
          1,
          1,
          1,
          1,
          1,
          1,
          1,
          1,
          1,
          1,
          1,
          1,
          1,
          1,
          1,
          1,
          1,
          1,
          1,
          1,
          1,
          1,
          1,
          1,
          1,
          1,
          1,
          1,
          1,
          1
         ],
         "y": [
          0.833147468087536,
          0.8233681685506,
          0.8223766345509241,
          0.8235620092466633,
          0.7840265364504393,
          0.7375190484723713,
          0.7709561654151371,
          0.7472094985648738,
          0.8452705602535363,
          0.7782833114760772,
          0.7497046004799963,
          0.7858307545605488,
          0.820745216627601,
          0.7904382924689018,
          0.73987285536074,
          0.8676877938683282,
          0.7501034638129674,
          0.7757841560378937,
          0.8133575957836545,
          0.7842328602182063,
          0.8174531442593432,
          0.7696547454158541,
          0.8319776068751168,
          0.8211941623778707,
          0.8561266512237484,
          0.8007249440746711,
          0.7664253608651408,
          0.7786310247971989,
          0.7922332970156203,
          0.8488601133951336,
          0.6330397918356102,
          0.7359457644085858,
          0.7709102310475006,
          0.8682243880191614,
          0.7886038592088424,
          0.7726952991803506,
          0.8323240079446027,
          0.7893223392209223,
          0.8154603177785482,
          0.802585333227253,
          0.8530846851206272,
          0.7928498328688516,
          0.8007780179808679,
          0.7666984037319601,
          0.8250693359845918,
          0.7755069818025774,
          0.7632671381637208,
          0.7969162671514709,
          0.8001347032976477,
          0.7805358414521916,
          0.7801683665110989,
          0.8022126370815592,
          0.7075609163501214,
          0.8095840215917084,
          0.8740090045239297,
          0.7420099071929159,
          0.8717543894022077,
          0.8525050424436782,
          0.7617562027337943,
          0.7670723064819122,
          0.7176818572641699,
          0.8021704893383458,
          0.8574187631330394,
          0.7337409814866894,
          0.8076724879876652,
          0.7928872042385267,
          0.8311830162681682,
          0.7457417617915467,
          0.8305083354346227,
          0.9189383931419559,
          0.789686110943416,
          0.7763544906248507,
          0.7479080390245577,
          0.7968906615634106,
          0.7616156472386827,
          0.8165510324240943,
          0.8312737506842308,
          0.8127469761835603,
          0.7858781513103047,
          0.7216181673401035,
          0.8281130814119647,
          0.8212002120803266,
          0.8746710021117933,
          0.7691435177563849,
          0.7959064005516137,
          0.7730816238377352,
          0.923132777519441,
          0.7745262238354012,
          0.8115626690823722,
          0.8186418774296076,
          0.7674302119947634,
          0.8036342615548244,
          0.7961961190229049,
          0.8241370201201694,
          0.7845119861498112,
          0.7106160550130939,
          0.8115477839229287,
          0.8257984029759697,
          0.8419936955472427,
          0.8379086172826979
         ]
        },
        {
         "name": "conv2_Rand50d",
         "type": "box",
         "x0": 1.4,
         "y": [
          0.833147468087536,
          0.8233681685506,
          0.8223766345509241,
          0.8235620092466633,
          0.7840265364504393,
          0.7375190484723713,
          0.7709561654151371,
          0.7472094985648738,
          0.8452705602535363,
          0.7782833114760772,
          0.7497046004799963,
          0.7858307545605488,
          0.820745216627601,
          0.7904382924689018,
          0.73987285536074,
          0.8676877938683282,
          0.7501034638129674,
          0.7757841560378937,
          0.8133575957836545,
          0.7842328602182063,
          0.8174531442593432,
          0.7696547454158541,
          0.8319776068751168,
          0.8211941623778707,
          0.8561266512237484,
          0.8007249440746711,
          0.7664253608651408,
          0.7786310247971989,
          0.7922332970156203,
          0.8488601133951336,
          0.6330397918356102,
          0.7359457644085858,
          0.7709102310475006,
          0.8682243880191614,
          0.7886038592088424,
          0.7726952991803506,
          0.8323240079446027,
          0.7893223392209223,
          0.8154603177785482,
          0.802585333227253,
          0.8530846851206272,
          0.7928498328688516,
          0.8007780179808679,
          0.7666984037319601,
          0.8250693359845918,
          0.7755069818025774,
          0.7632671381637208,
          0.7969162671514709,
          0.8001347032976477,
          0.7805358414521916,
          0.7801683665110989,
          0.8022126370815592,
          0.7075609163501214,
          0.8095840215917084,
          0.8740090045239297,
          0.7420099071929159,
          0.8717543894022077,
          0.8525050424436782,
          0.7617562027337943,
          0.7670723064819122,
          0.7176818572641699,
          0.8021704893383458,
          0.8574187631330394,
          0.7337409814866894,
          0.8076724879876652,
          0.7928872042385267,
          0.8311830162681682,
          0.7457417617915467,
          0.8305083354346227,
          0.9189383931419559,
          0.789686110943416,
          0.7763544906248507,
          0.7479080390245577,
          0.7968906615634106,
          0.7616156472386827,
          0.8165510324240943,
          0.8312737506842308,
          0.8127469761835603,
          0.7858781513103047,
          0.7216181673401035,
          0.8281130814119647,
          0.8212002120803266,
          0.8746710021117933,
          0.7691435177563849,
          0.7959064005516137,
          0.7730816238377352,
          0.923132777519441,
          0.7745262238354012,
          0.8115626690823722,
          0.8186418774296076,
          0.7674302119947634,
          0.8036342615548244,
          0.7961961190229049,
          0.8241370201201694,
          0.7845119861498112,
          0.7106160550130939,
          0.8115477839229287,
          0.8257984029759697,
          0.8419936955472427,
          0.8379086172826979
         ]
        },
        {
         "mode": "markers",
         "name": "conv3_Full",
         "type": "scatter",
         "x": [
          2,
          2,
          2,
          2,
          2,
          2,
          2,
          2,
          2,
          2,
          2,
          2,
          2,
          2,
          2,
          2,
          2,
          2,
          2,
          2
         ],
         "y": [
          0.9885531561376084,
          1.017310347345812,
          1.0206663266363212,
          0.9939764696473317,
          1.0250988522801618,
          1.0207128342953289,
          1.0022561638653549,
          1.0271366015313197,
          0.948943419429292,
          1.027044708940164,
          1.0154581380023893,
          0.9228612996943915,
          0.9673738582012357,
          0.9905474015817551,
          1.0399743957901437,
          1.0214515588281936,
          0.9794126650053311,
          1.0216847365570738,
          0.95272238420554,
          1.0168146820252524
         ]
        },
        {
         "name": "conv3_Full",
         "type": "box",
         "x0": 2.4,
         "y": [
          0.9885531561376084,
          1.017310347345812,
          1.0206663266363212,
          0.9939764696473317,
          1.0250988522801618,
          1.0207128342953289,
          1.0022561638653549,
          1.0271366015313197,
          0.948943419429292,
          1.027044708940164,
          1.0154581380023893,
          0.9228612996943915,
          0.9673738582012357,
          0.9905474015817551,
          1.0399743957901437,
          1.0214515588281936,
          0.9794126650053311,
          1.0216847365570738,
          0.95272238420554,
          1.0168146820252524
         ]
        },
        {
         "mode": "markers",
         "name": "conv3_Rand50d",
         "type": "scatter",
         "x": [
          2,
          2,
          2,
          2,
          2,
          2,
          2,
          2,
          2,
          2,
          2,
          2,
          2,
          2,
          2,
          2,
          2,
          2,
          2,
          2,
          2,
          2,
          2,
          2,
          2,
          2,
          2,
          2,
          2,
          2,
          2,
          2,
          2,
          2,
          2,
          2,
          2,
          2,
          2,
          2,
          2,
          2,
          2,
          2,
          2,
          2,
          2,
          2,
          2,
          2,
          2,
          2,
          2,
          2,
          2,
          2,
          2,
          2,
          2,
          2,
          2,
          2,
          2,
          2,
          2,
          2,
          2,
          2,
          2,
          2,
          2,
          2,
          2,
          2,
          2,
          2,
          2,
          2,
          2,
          2,
          2,
          2,
          2,
          2,
          2,
          2,
          2,
          2,
          2,
          2,
          2,
          2,
          2,
          2,
          2,
          2,
          2,
          2,
          2,
          2
         ],
         "y": [
          0.8021279299440863,
          0.6473872528234054,
          0.3295342281259956,
          0.7818056666716945,
          0.8077128268983433,
          0.8157590682822293,
          0.4000857055482757,
          0.41638340568494403,
          0.6902193680435126,
          0.3960011174195593,
          0.6438533882430588,
          0.595959641138293,
          0.713155740951285,
          0.4776688082838904,
          0.7571324650523912,
          0.30912342371365475,
          0.5909460746032199,
          0.6571269306409693,
          0.815863563668272,
          0.397178898789873,
          0.7227267978344268,
          0.903016909124173,
          0.6831695579009185,
          0.6779264197464165,
          0.5087377572969829,
          0.3836550552196458,
          0.8904540639816484,
          0.5172437107184337,
          0.33054581803871874,
          0.688195485584369,
          0.5514164641598591,
          0.30518662473141067,
          0.4520384336870141,
          0.7735712979036012,
          0.29473756198489026,
          0.44573774631247604,
          0.8970750816869948,
          0.6607266457540102,
          0.70244203810033,
          0.26662655770809685,
          0.46366190218799064,
          0.7447633237519886,
          0.5885163040783034,
          0.5688998605194413,
          0.34396594692701127,
          0.5906942417637959,
          0.9411035218588011,
          0.4553672742156719,
          0.4492796000981949,
          0.39266947379138967,
          0.3329127920710587,
          0.8257455898682029,
          0.5104386736195435,
          0.8578041779968472,
          0.30843561781800855,
          0.5621142220588168,
          0.7258302974163938,
          0.740617606491612,
          0.44713413226831983,
          0.7398858711193338,
          0.552569980502967,
          0.3816559508218363,
          0.5259203818224825,
          0.4980931913712533,
          0.6959135301141485,
          0.30330352738759886,
          0.4821157249067895,
          0.42722295803811594,
          0.7078807351986203,
          0.5836773475934525,
          0.27228045031731196,
          0.6664296037575967,
          0.87129570413464,
          0.7817814499737906,
          0.36207943841928136,
          0.6108751938749929,
          0.33592083198762407,
          0.6767173061178999,
          0.6426068417113807,
          0.47126613864700995,
          0.832786388454807,
          0.3356506210017329,
          0.8243121353377814,
          0.5945719544567961,
          0.5888003316680877,
          0.5394366376923071,
          0.4284531841362973,
          0.6593132292956952,
          0.7858983629702189,
          0.558403613503686,
          0.8941950791029682,
          0.5851242934343888,
          0.6161578430926392,
          0.79010233562761,
          0.3458385828357754,
          0.3992763012701627,
          0.40107414014891807,
          0.6607263074488967,
          0.3777435785840775,
          0.8188717132551763
         ]
        },
        {
         "name": "conv3_Rand50d",
         "type": "box",
         "x0": 2.4,
         "y": [
          0.8021279299440863,
          0.6473872528234054,
          0.3295342281259956,
          0.7818056666716945,
          0.8077128268983433,
          0.8157590682822293,
          0.4000857055482757,
          0.41638340568494403,
          0.6902193680435126,
          0.3960011174195593,
          0.6438533882430588,
          0.595959641138293,
          0.713155740951285,
          0.4776688082838904,
          0.7571324650523912,
          0.30912342371365475,
          0.5909460746032199,
          0.6571269306409693,
          0.815863563668272,
          0.397178898789873,
          0.7227267978344268,
          0.903016909124173,
          0.6831695579009185,
          0.6779264197464165,
          0.5087377572969829,
          0.3836550552196458,
          0.8904540639816484,
          0.5172437107184337,
          0.33054581803871874,
          0.688195485584369,
          0.5514164641598591,
          0.30518662473141067,
          0.4520384336870141,
          0.7735712979036012,
          0.29473756198489026,
          0.44573774631247604,
          0.8970750816869948,
          0.6607266457540102,
          0.70244203810033,
          0.26662655770809685,
          0.46366190218799064,
          0.7447633237519886,
          0.5885163040783034,
          0.5688998605194413,
          0.34396594692701127,
          0.5906942417637959,
          0.9411035218588011,
          0.4553672742156719,
          0.4492796000981949,
          0.39266947379138967,
          0.3329127920710587,
          0.8257455898682029,
          0.5104386736195435,
          0.8578041779968472,
          0.30843561781800855,
          0.5621142220588168,
          0.7258302974163938,
          0.740617606491612,
          0.44713413226831983,
          0.7398858711193338,
          0.552569980502967,
          0.3816559508218363,
          0.5259203818224825,
          0.4980931913712533,
          0.6959135301141485,
          0.30330352738759886,
          0.4821157249067895,
          0.42722295803811594,
          0.7078807351986203,
          0.5836773475934525,
          0.27228045031731196,
          0.6664296037575967,
          0.87129570413464,
          0.7817814499737906,
          0.36207943841928136,
          0.6108751938749929,
          0.33592083198762407,
          0.6767173061178999,
          0.6426068417113807,
          0.47126613864700995,
          0.832786388454807,
          0.3356506210017329,
          0.8243121353377814,
          0.5945719544567961,
          0.5888003316680877,
          0.5394366376923071,
          0.4284531841362973,
          0.6593132292956952,
          0.7858983629702189,
          0.558403613503686,
          0.8941950791029682,
          0.5851242934343888,
          0.6161578430926392,
          0.79010233562761,
          0.3458385828357754,
          0.3992763012701627,
          0.40107414014891807,
          0.6607263074488967,
          0.3777435785840775,
          0.8188717132551763
         ]
        },
        {
         "mode": "markers",
         "name": "conv4_Full",
         "type": "scatter",
         "x": [
          3,
          3,
          3,
          3,
          3,
          3,
          3,
          3,
          3,
          3,
          3,
          3,
          3,
          3,
          3,
          3,
          3,
          3,
          3,
          3
         ],
         "y": [
          0.9568377894728552,
          1.0340051068127263,
          0.9614984273152287,
          0.9889227693317535,
          0.9796898371096435,
          1.0027504138343228,
          0.9613788448870073,
          1.0676468496699225,
          1.0606530180361018,
          0.9778403852026212,
          1.0256396161947485,
          0.9987112349529959,
          0.9052486217200292,
          1.014570972783339,
          1.0181084854207147,
          0.976721421503756,
          1.0416927423140743,
          0.9840846034086108,
          0.9518221784777093,
          1.0921766815518401
         ]
        },
        {
         "name": "conv4_Full",
         "type": "box",
         "x0": 3.4,
         "y": [
          0.9568377894728552,
          1.0340051068127263,
          0.9614984273152287,
          0.9889227693317535,
          0.9796898371096435,
          1.0027504138343228,
          0.9613788448870073,
          1.0676468496699225,
          1.0606530180361018,
          0.9778403852026212,
          1.0256396161947485,
          0.9987112349529959,
          0.9052486217200292,
          1.014570972783339,
          1.0181084854207147,
          0.976721421503756,
          1.0416927423140743,
          0.9840846034086108,
          0.9518221784777093,
          1.0921766815518401
         ]
        },
        {
         "mode": "markers",
         "name": "conv4_Rand50d",
         "type": "scatter",
         "x": [
          3,
          3,
          3,
          3,
          3,
          3,
          3,
          3,
          3,
          3,
          3,
          3,
          3,
          3,
          3,
          3,
          3,
          3,
          3,
          3,
          3,
          3,
          3,
          3,
          3,
          3,
          3,
          3,
          3,
          3,
          3,
          3,
          3,
          3,
          3,
          3,
          3,
          3,
          3,
          3,
          3,
          3,
          3,
          3,
          3,
          3,
          3,
          3,
          3,
          3,
          3,
          3,
          3,
          3,
          3,
          3,
          3,
          3,
          3,
          3,
          3,
          3,
          3,
          3,
          3,
          3,
          3,
          3,
          3,
          3,
          3,
          3,
          3,
          3,
          3,
          3,
          3,
          3,
          3,
          3,
          3,
          3,
          3,
          3,
          3,
          3,
          3,
          3,
          3,
          3,
          3,
          3,
          3,
          3,
          3,
          3,
          3,
          3,
          3,
          3
         ],
         "y": [
          0.5587343776309239,
          0.5743780713130993,
          0.6466086138498021,
          0.5072424076091026,
          0.7125094170159202,
          0.7323441292140903,
          0.5925674833632136,
          0.6930873137236773,
          0.5029463968389808,
          0.5953939539793341,
          0.6412653174502092,
          0.6410787580157052,
          0.4709485900191198,
          0.6637816278322537,
          0.6688769715140491,
          0.5224554960848936,
          0.6405823932649388,
          0.7086055922283441,
          0.5387894408594134,
          0.6357643818701677,
          0.4765097124883895,
          0.5695707625152174,
          0.6854133580669572,
          0.5526291659043868,
          0.6280815664111625,
          0.5870369689929069,
          0.5892533915863397,
          0.6750055972465008,
          0.6176443596144663,
          0.6688913209627224,
          0.5670948323837677,
          0.5216514565761908,
          0.49475958258970104,
          0.5066900257761172,
          0.6145127155712231,
          0.6431693946591416,
          0.7796745045604857,
          0.7020924532902791,
          0.5439616949298164,
          0.8066598740870189,
          0.42655704872138783,
          0.6562214716597276,
          0.542918020181664,
          0.601276846094998,
          0.4580235219643485,
          0.6119320173093143,
          0.675009625938608,
          0.6266212429971401,
          0.6151595309433071,
          0.6024737494911684,
          0.6081844482227545,
          0.5057130651731553,
          0.4448415002745923,
          0.5723474555413592,
          0.5041089097034199,
          0.8005054270944406,
          0.6650093717519319,
          0.6343557065103168,
          0.7317374790168885,
          0.6876697798177404,
          0.6834558840858509,
          0.6001367317625699,
          0.608903957138136,
          0.7232335242433956,
          0.5839154575530269,
          0.5926587542683298,
          0.6146357124266836,
          0.573389387105427,
          0.5596318075352333,
          0.7644956156962642,
          0.5746370199254255,
          0.5677288256684719,
          0.6392975337803724,
          0.6638299167983632,
          0.5389431730939448,
          0.5294235009246699,
          0.5477248419947854,
          0.5086555543744792,
          0.6634225263768551,
          0.5218730955151835,
          0.7029291152439986,
          0.43616990653131327,
          0.7359014754126091,
          0.5501254610398516,
          0.5976313445870448,
          0.6829059620792964,
          0.7375819436078371,
          0.6089237298261841,
          0.4606147125342726,
          0.7155786550689254,
          0.5762465931006182,
          0.4697297889104929,
          0.6790966178691197,
          0.5447906868735625,
          0.5993214307312871,
          0.6815032024774985,
          0.7006558980529058,
          0.7216401765149865,
          0.6591151683084285,
          0.43435292488656996
         ]
        },
        {
         "name": "conv4_Rand50d",
         "type": "box",
         "x0": 3.4,
         "y": [
          0.5587343776309239,
          0.5743780713130993,
          0.6466086138498021,
          0.5072424076091026,
          0.7125094170159202,
          0.7323441292140903,
          0.5925674833632136,
          0.6930873137236773,
          0.5029463968389808,
          0.5953939539793341,
          0.6412653174502092,
          0.6410787580157052,
          0.4709485900191198,
          0.6637816278322537,
          0.6688769715140491,
          0.5224554960848936,
          0.6405823932649388,
          0.7086055922283441,
          0.5387894408594134,
          0.6357643818701677,
          0.4765097124883895,
          0.5695707625152174,
          0.6854133580669572,
          0.5526291659043868,
          0.6280815664111625,
          0.5870369689929069,
          0.5892533915863397,
          0.6750055972465008,
          0.6176443596144663,
          0.6688913209627224,
          0.5670948323837677,
          0.5216514565761908,
          0.49475958258970104,
          0.5066900257761172,
          0.6145127155712231,
          0.6431693946591416,
          0.7796745045604857,
          0.7020924532902791,
          0.5439616949298164,
          0.8066598740870189,
          0.42655704872138783,
          0.6562214716597276,
          0.542918020181664,
          0.601276846094998,
          0.4580235219643485,
          0.6119320173093143,
          0.675009625938608,
          0.6266212429971401,
          0.6151595309433071,
          0.6024737494911684,
          0.6081844482227545,
          0.5057130651731553,
          0.4448415002745923,
          0.5723474555413592,
          0.5041089097034199,
          0.8005054270944406,
          0.6650093717519319,
          0.6343557065103168,
          0.7317374790168885,
          0.6876697798177404,
          0.6834558840858509,
          0.6001367317625699,
          0.608903957138136,
          0.7232335242433956,
          0.5839154575530269,
          0.5926587542683298,
          0.6146357124266836,
          0.573389387105427,
          0.5596318075352333,
          0.7644956156962642,
          0.5746370199254255,
          0.5677288256684719,
          0.6392975337803724,
          0.6638299167983632,
          0.5389431730939448,
          0.5294235009246699,
          0.5477248419947854,
          0.5086555543744792,
          0.6634225263768551,
          0.5218730955151835,
          0.7029291152439986,
          0.43616990653131327,
          0.7359014754126091,
          0.5501254610398516,
          0.5976313445870448,
          0.6829059620792964,
          0.7375819436078371,
          0.6089237298261841,
          0.4606147125342726,
          0.7155786550689254,
          0.5762465931006182,
          0.4697297889104929,
          0.6790966178691197,
          0.5447906868735625,
          0.5993214307312871,
          0.6815032024774985,
          0.7006558980529058,
          0.7216401765149865,
          0.6591151683084285,
          0.43435292488656996
         ]
        },
        {
         "mode": "markers",
         "name": "conv5_Full",
         "type": "scatter",
         "x": [
          4,
          4,
          4,
          4,
          4,
          4,
          4,
          4,
          4,
          4,
          4,
          4,
          4,
          4,
          4,
          4,
          4,
          4,
          4,
          4
         ],
         "y": [
          0.9857924441931637,
          1.0176749430802199,
          1.0020656315001721,
          1.0136850437070581,
          0.9488173727415644,
          1.0140359628501554,
          0.9966872452689116,
          0.9799146032699098,
          1.006453785950566,
          0.9836244427744584,
          1.0040554449838253,
          0.9678214095680082,
          1.012004840848588,
          0.995638959541408,
          1.0011488310040835,
          0.9797811088997547,
          1.0468111916567187,
          1.0067433833649506,
          1.0083870621137132,
          1.0288562926827698
         ]
        },
        {
         "name": "conv5_Full",
         "type": "box",
         "x0": 4.4,
         "y": [
          0.9857924441931637,
          1.0176749430802199,
          1.0020656315001721,
          1.0136850437070581,
          0.9488173727415644,
          1.0140359628501554,
          0.9966872452689116,
          0.9799146032699098,
          1.006453785950566,
          0.9836244427744584,
          1.0040554449838253,
          0.9678214095680082,
          1.012004840848588,
          0.995638959541408,
          1.0011488310040835,
          0.9797811088997547,
          1.0468111916567187,
          1.0067433833649506,
          1.0083870621137132,
          1.0288562926827698
         ]
        },
        {
         "mode": "markers",
         "name": "conv5_Rand50d",
         "type": "scatter",
         "x": [
          4,
          4,
          4,
          4,
          4,
          4,
          4,
          4,
          4,
          4,
          4,
          4,
          4,
          4,
          4,
          4,
          4,
          4,
          4,
          4,
          4,
          4,
          4,
          4,
          4,
          4,
          4,
          4,
          4,
          4,
          4,
          4,
          4,
          4,
          4,
          4,
          4,
          4,
          4,
          4,
          4,
          4,
          4,
          4,
          4,
          4,
          4,
          4,
          4,
          4,
          4,
          4,
          4,
          4,
          4,
          4,
          4,
          4,
          4,
          4,
          4,
          4,
          4,
          4,
          4,
          4,
          4,
          4,
          4,
          4,
          4,
          4,
          4,
          4,
          4,
          4,
          4,
          4,
          4,
          4,
          4,
          4,
          4,
          4,
          4,
          4,
          4,
          4,
          4,
          4,
          4,
          4,
          4,
          4,
          4,
          4,
          4,
          4,
          4,
          4
         ],
         "y": [
          0.506624444305938,
          0.3765426275718298,
          0.6194506635214697,
          0.5103855129395348,
          0.616476317331431,
          0.6103908158931601,
          0.5222580297217397,
          0.69364361514115,
          0.3708793227959749,
          0.6073594281435153,
          0.5871296994205629,
          0.6269660111505465,
          0.6797603726335393,
          0.5029765011281466,
          0.536500044212388,
          0.6429793120617799,
          0.4473757011666514,
          0.6170310702447461,
          0.5488145558821447,
          0.4430742914768128,
          0.4382794506023717,
          0.592433309729445,
          0.52495774149953,
          0.6101704477710519,
          0.5516676775201329,
          0.6010113314901171,
          0.3590804991901736,
          0.5836272272687639,
          0.5485018690075674,
          0.5960071336683374,
          0.620371716824853,
          0.5840730645364359,
          0.6636541627364714,
          0.7462000461277928,
          0.6213682613665478,
          0.5130966306839482,
          0.46190676192662106,
          0.48457782484005907,
          0.5650750121290806,
          0.6277227294132275,
          0.4733726509172324,
          0.39467074244877304,
          0.4385940918920661,
          0.5644894068187278,
          0.6064073856340358,
          0.5200265332647117,
          0.6676763959533296,
          0.641981461970787,
          0.6156600910372659,
          0.6618217226668736,
          0.3442212178642763,
          0.7441291869580656,
          0.4469399330456626,
          0.6392341562760663,
          0.5170944337118433,
          0.7056133797107493,
          0.5953419133037762,
          0.4444944281333172,
          0.4783938951476631,
          0.5447196770553855,
          0.5785907776887226,
          0.6281574929648462,
          0.6220778274101149,
          0.3931173420430973,
          0.4382629006151605,
          0.34242910910503394,
          0.3892716667790833,
          0.6575183468354271,
          0.5481191671658366,
          0.5120937303842927,
          0.5370580688166089,
          0.3433546067483935,
          0.38590033197280843,
          0.5860454837255474,
          0.7180152928245407,
          0.512150052719136,
          0.5536152912725788,
          0.4793557370945395,
          0.5891882731368643,
          0.6731046588583774,
          0.5152004686543605,
          0.5301596674987021,
          0.5691965726310179,
          0.450605692671661,
          0.6520904396339307,
          0.37340866429918146,
          0.6147143651974448,
          0.5592719705811868,
          0.6751047682008673,
          0.502501316363077,
          0.5971565994664507,
          0.5906444413904667,
          0.6218094510350715,
          0.6806494751585892,
          0.545409847483331,
          0.3736684998801635,
          0.5911969584528879,
          0.5840441743721756,
          0.40280251651459864,
          0.6504003669791193
         ]
        },
        {
         "name": "conv5_Rand50d",
         "type": "box",
         "x0": 4.4,
         "y": [
          0.506624444305938,
          0.3765426275718298,
          0.6194506635214697,
          0.5103855129395348,
          0.616476317331431,
          0.6103908158931601,
          0.5222580297217397,
          0.69364361514115,
          0.3708793227959749,
          0.6073594281435153,
          0.5871296994205629,
          0.6269660111505465,
          0.6797603726335393,
          0.5029765011281466,
          0.536500044212388,
          0.6429793120617799,
          0.4473757011666514,
          0.6170310702447461,
          0.5488145558821447,
          0.4430742914768128,
          0.4382794506023717,
          0.592433309729445,
          0.52495774149953,
          0.6101704477710519,
          0.5516676775201329,
          0.6010113314901171,
          0.3590804991901736,
          0.5836272272687639,
          0.5485018690075674,
          0.5960071336683374,
          0.620371716824853,
          0.5840730645364359,
          0.6636541627364714,
          0.7462000461277928,
          0.6213682613665478,
          0.5130966306839482,
          0.46190676192662106,
          0.48457782484005907,
          0.5650750121290806,
          0.6277227294132275,
          0.4733726509172324,
          0.39467074244877304,
          0.4385940918920661,
          0.5644894068187278,
          0.6064073856340358,
          0.5200265332647117,
          0.6676763959533296,
          0.641981461970787,
          0.6156600910372659,
          0.6618217226668736,
          0.3442212178642763,
          0.7441291869580656,
          0.4469399330456626,
          0.6392341562760663,
          0.5170944337118433,
          0.7056133797107493,
          0.5953419133037762,
          0.4444944281333172,
          0.4783938951476631,
          0.5447196770553855,
          0.5785907776887226,
          0.6281574929648462,
          0.6220778274101149,
          0.3931173420430973,
          0.4382629006151605,
          0.34242910910503394,
          0.3892716667790833,
          0.6575183468354271,
          0.5481191671658366,
          0.5120937303842927,
          0.5370580688166089,
          0.3433546067483935,
          0.38590033197280843,
          0.5860454837255474,
          0.7180152928245407,
          0.512150052719136,
          0.5536152912725788,
          0.4793557370945395,
          0.5891882731368643,
          0.6731046588583774,
          0.5152004686543605,
          0.5301596674987021,
          0.5691965726310179,
          0.450605692671661,
          0.6520904396339307,
          0.37340866429918146,
          0.6147143651974448,
          0.5592719705811868,
          0.6751047682008673,
          0.502501316363077,
          0.5971565994664507,
          0.5906444413904667,
          0.6218094510350715,
          0.6806494751585892,
          0.545409847483331,
          0.3736684998801635,
          0.5911969584528879,
          0.5840441743721756,
          0.40280251651459864,
          0.6504003669791193
         ]
        },
        {
         "mode": "markers",
         "name": "fc6_Full",
         "type": "scatter",
         "x": [
          5,
          5,
          5,
          5,
          5,
          5,
          5,
          5,
          5,
          5,
          5,
          5,
          5,
          5,
          5,
          5,
          5,
          5,
          5,
          5
         ],
         "y": [
          1.0529880342775806,
          1.0779984852857791,
          0.8869838875525395,
          1.0882758721282908,
          0.9816751961107245,
          1.0679456064455435,
          0.9591349242599422,
          1.0747136645530087,
          0.980818013387672,
          0.9276353548881624,
          0.959828227420411,
          0.9471837562669975,
          0.9300299370468099,
          1.0707085727927808,
          1.0229890510626496,
          0.9811543745082053,
          0.9511928976237799,
          1.0760568871927367,
          1.0038825856890206,
          0.9588046715073663
         ]
        },
        {
         "name": "fc6_Full",
         "type": "box",
         "x0": 5.4,
         "y": [
          1.0529880342775806,
          1.0779984852857791,
          0.8869838875525395,
          1.0882758721282908,
          0.9816751961107245,
          1.0679456064455435,
          0.9591349242599422,
          1.0747136645530087,
          0.980818013387672,
          0.9276353548881624,
          0.959828227420411,
          0.9471837562669975,
          0.9300299370468099,
          1.0707085727927808,
          1.0229890510626496,
          0.9811543745082053,
          0.9511928976237799,
          1.0760568871927367,
          1.0038825856890206,
          0.9588046715073663
         ]
        },
        {
         "mode": "markers",
         "name": "fc6_Rand50d",
         "type": "scatter",
         "x": [
          5,
          5,
          5,
          5,
          5,
          5,
          5,
          5,
          5,
          5,
          5,
          5,
          5,
          5,
          5,
          5,
          5,
          5,
          5,
          5,
          5,
          5,
          5,
          5,
          5,
          5,
          5,
          5,
          5,
          5,
          5,
          5,
          5,
          5,
          5,
          5,
          5,
          5,
          5,
          5,
          5,
          5,
          5,
          5,
          5,
          5,
          5,
          5,
          5,
          5,
          5,
          5,
          5,
          5,
          5,
          5,
          5,
          5,
          5,
          5,
          5,
          5,
          5,
          5,
          5,
          5,
          5,
          5,
          5,
          5,
          5,
          5,
          5,
          5,
          5,
          5,
          5,
          5,
          5,
          5,
          5,
          5,
          5,
          5,
          5,
          5,
          5,
          5,
          5,
          5,
          5,
          5,
          5,
          5,
          5,
          5,
          5,
          5,
          5,
          5
         ],
         "y": [
          0.42484491396477037,
          0.45010134059322177,
          0.4073807162703998,
          0.37891661168515495,
          0.3775162326591566,
          0.42475554765825346,
          0.3495819049923018,
          0.3208444220638101,
          0.340965742833054,
          0.3499703401195368,
          0.3230280175241141,
          0.43515802694601347,
          0.3607459666280759,
          0.3337587145742351,
          0.3624388814427668,
          0.34725800052385675,
          0.40142390922036797,
          0.3207198833805066,
          0.36938094650151476,
          0.45045865973484994,
          0.3494428869629282,
          0.3909250345864338,
          0.3744184441739692,
          0.3290276476987855,
          0.42936331926679133,
          0.4275989759558252,
          0.40655442191301355,
          0.3699985303599631,
          0.39519075117861174,
          0.3712088909006505,
          0.42919975905158697,
          0.2931673490948598,
          0.47948535588036445,
          0.2744901987103294,
          0.36368293992659595,
          0.4581052696612808,
          0.3703532437628687,
          0.44395720912672787,
          0.3586077320848832,
          0.42543833953370563,
          0.4189956998030636,
          0.4046079962388434,
          0.39999917146341635,
          0.3764020738178282,
          0.4095307598720016,
          0.36559955418317674,
          0.2998809211037158,
          0.36121368823550454,
          0.3326949990295866,
          0.3284835001483269,
          0.44499330791769165,
          0.38960360230937446,
          0.3580303825989146,
          0.40547608093785537,
          0.39284204293126995,
          0.3921124021158114,
          0.4837516194398623,
          0.3932233810725969,
          0.4194840974546459,
          0.40603950823701135,
          0.39566762174872616,
          0.3473244009975642,
          0.34934225516800943,
          0.3734366140536118,
          0.36853090832674607,
          0.36055408641548986,
          0.44928608410429677,
          0.3544788014877363,
          0.3589526374464691,
          0.3888985750233101,
          0.403886125077177,
          0.38269632573109535,
          0.34260250686598825,
          0.4013745836395157,
          0.37907028572085105,
          0.448359171541242,
          0.4127894994363582,
          0.31217954583996826,
          0.30885326090757637,
          0.34023042171101886,
          0.3733429399547868,
          0.3386497201297152,
          0.3679916359197906,
          0.3911536431449523,
          0.3679732360750426,
          0.5245083898751542,
          0.39280373483500364,
          0.412378057708563,
          0.35524829617666953,
          0.3689559155235365,
          0.3798123437136645,
          0.4113612046931711,
          0.34803314494355364,
          0.34885092563570014,
          0.4110959017618455,
          0.28775089989314184,
          0.35034916764689245,
          0.3498001993099313,
          0.40375503977259786,
          0.3697742227991276
         ]
        },
        {
         "name": "fc6_Rand50d",
         "type": "box",
         "x0": 5.4,
         "y": [
          0.42484491396477037,
          0.45010134059322177,
          0.4073807162703998,
          0.37891661168515495,
          0.3775162326591566,
          0.42475554765825346,
          0.3495819049923018,
          0.3208444220638101,
          0.340965742833054,
          0.3499703401195368,
          0.3230280175241141,
          0.43515802694601347,
          0.3607459666280759,
          0.3337587145742351,
          0.3624388814427668,
          0.34725800052385675,
          0.40142390922036797,
          0.3207198833805066,
          0.36938094650151476,
          0.45045865973484994,
          0.3494428869629282,
          0.3909250345864338,
          0.3744184441739692,
          0.3290276476987855,
          0.42936331926679133,
          0.4275989759558252,
          0.40655442191301355,
          0.3699985303599631,
          0.39519075117861174,
          0.3712088909006505,
          0.42919975905158697,
          0.2931673490948598,
          0.47948535588036445,
          0.2744901987103294,
          0.36368293992659595,
          0.4581052696612808,
          0.3703532437628687,
          0.44395720912672787,
          0.3586077320848832,
          0.42543833953370563,
          0.4189956998030636,
          0.4046079962388434,
          0.39999917146341635,
          0.3764020738178282,
          0.4095307598720016,
          0.36559955418317674,
          0.2998809211037158,
          0.36121368823550454,
          0.3326949990295866,
          0.3284835001483269,
          0.44499330791769165,
          0.38960360230937446,
          0.3580303825989146,
          0.40547608093785537,
          0.39284204293126995,
          0.3921124021158114,
          0.4837516194398623,
          0.3932233810725969,
          0.4194840974546459,
          0.40603950823701135,
          0.39566762174872616,
          0.3473244009975642,
          0.34934225516800943,
          0.3734366140536118,
          0.36853090832674607,
          0.36055408641548986,
          0.44928608410429677,
          0.3544788014877363,
          0.3589526374464691,
          0.3888985750233101,
          0.403886125077177,
          0.38269632573109535,
          0.34260250686598825,
          0.4013745836395157,
          0.37907028572085105,
          0.448359171541242,
          0.4127894994363582,
          0.31217954583996826,
          0.30885326090757637,
          0.34023042171101886,
          0.3733429399547868,
          0.3386497201297152,
          0.3679916359197906,
          0.3911536431449523,
          0.3679732360750426,
          0.5245083898751542,
          0.39280373483500364,
          0.412378057708563,
          0.35524829617666953,
          0.3689559155235365,
          0.3798123437136645,
          0.4113612046931711,
          0.34803314494355364,
          0.34885092563570014,
          0.4110959017618455,
          0.28775089989314184,
          0.35034916764689245,
          0.3498001993099313,
          0.40375503977259786,
          0.3697742227991276
         ]
        },
        {
         "mode": "markers",
         "name": "fc7_Full",
         "type": "scatter",
         "x": [
          6,
          6,
          6,
          6,
          6,
          6,
          6,
          6,
          6,
          6,
          6,
          6,
          6,
          6,
          6,
          6,
          6,
          6,
          6,
          6
         ],
         "y": [
          0.989832987206398,
          0.8642563004209887,
          1.0095900768395432,
          0.9782751357851199,
          0.926890953701822,
          0.9740341833666747,
          0.9269450925060542,
          1.062087496647362,
          0.7963008313750211,
          0.8829249016674483,
          1.1448602900162135,
          1.1397726481569512,
          1.0782189840049612,
          0.8659920003724945,
          1.0818512694952003,
          0.9776278467855483,
          1.098577116221564,
          1.1373910649444368,
          1.0568230533812102,
          1.0077477671049866
         ]
        },
        {
         "name": "fc7_Full",
         "type": "box",
         "x0": 6.4,
         "y": [
          0.989832987206398,
          0.8642563004209887,
          1.0095900768395432,
          0.9782751357851199,
          0.926890953701822,
          0.9740341833666747,
          0.9269450925060542,
          1.062087496647362,
          0.7963008313750211,
          0.8829249016674483,
          1.1448602900162135,
          1.1397726481569512,
          1.0782189840049612,
          0.8659920003724945,
          1.0818512694952003,
          0.9776278467855483,
          1.098577116221564,
          1.1373910649444368,
          1.0568230533812102,
          1.0077477671049866
         ]
        },
        {
         "mode": "markers",
         "name": "fc7_Rand50d",
         "type": "scatter",
         "x": [
          6,
          6,
          6,
          6,
          6,
          6,
          6,
          6,
          6,
          6,
          6,
          6,
          6,
          6,
          6,
          6,
          6,
          6,
          6,
          6,
          6,
          6,
          6,
          6,
          6,
          6,
          6,
          6,
          6,
          6,
          6,
          6,
          6,
          6,
          6,
          6,
          6,
          6,
          6,
          6,
          6,
          6,
          6,
          6,
          6,
          6,
          6,
          6,
          6,
          6,
          6,
          6,
          6,
          6,
          6,
          6,
          6,
          6,
          6,
          6,
          6,
          6,
          6,
          6,
          6,
          6,
          6,
          6,
          6,
          6,
          6,
          6,
          6,
          6,
          6,
          6,
          6,
          6,
          6,
          6,
          6,
          6,
          6,
          6,
          6,
          6,
          6,
          6,
          6,
          6,
          6,
          6,
          6,
          6,
          6,
          6,
          6,
          6,
          6,
          6
         ],
         "y": [
          0.3141355331678923,
          0.2174575908905382,
          0.2407911861886136,
          0.4007204691282911,
          0.3461695005624933,
          0.2849900636724785,
          0.2623962561627217,
          0.29955267531557617,
          0.22480989991168532,
          0.2570686663459742,
          0.31119205063872724,
          0.24780734499763193,
          0.22933786274687878,
          0.24706682753569476,
          0.22986709800062818,
          0.2693289239293568,
          0.3144748433135281,
          0.2788374929496292,
          0.2044737189579602,
          0.1986759051245112,
          0.2782871984217723,
          0.23883477485881338,
          0.2700432461083902,
          0.2788992248268831,
          0.2937693119980329,
          0.2362386303742174,
          0.30324855856275085,
          0.2871154063579975,
          0.3192232613966846,
          0.20119283981499564,
          0.24670523405122818,
          0.24317312232489866,
          0.28787469579061764,
          0.25783453475419943,
          0.290359171918118,
          0.2724955078901992,
          0.2877826467190804,
          0.20861637540521608,
          0.23473536125279684,
          0.30211574473743696,
          0.2990841593307939,
          0.32977803496201596,
          0.34724008663031863,
          0.29231351186831966,
          0.3139449930491574,
          0.2895450497467632,
          0.30524861777710527,
          0.26324450174421465,
          0.2986838097532768,
          0.23770437789121945,
          0.2617280136172608,
          0.4026040188244607,
          0.26808041365074725,
          0.26890894017498296,
          0.32143226637451777,
          0.25850454191851324,
          0.3336098191760692,
          0.3016685113962372,
          0.19565578750671705,
          0.23776752742007506,
          0.25185084922404405,
          0.24475254852427175,
          0.2197232661933207,
          0.21493686487549726,
          0.27226256479945116,
          0.2353842823386662,
          0.292912276083132,
          0.3032541308865884,
          0.3357024575921816,
          0.31184231789796624,
          0.2596401433948758,
          0.2817996298082203,
          0.3006181655811108,
          0.3230191486469679,
          0.29227855007808523,
          0.2976924334795629,
          0.2837263583130464,
          0.31143485027984424,
          0.2667580544454274,
          0.2960155005478123,
          0.2454760199170031,
          0.26843850768010474,
          0.3096286698133117,
          0.22194997245748643,
          0.30883333748219793,
          0.27650587451042313,
          0.2691623066813995,
          0.2106825787885215,
          0.29564088313382064,
          0.24097714574398013,
          0.33005874784869765,
          0.2721709460864359,
          0.33032440861102086,
          0.29049714575372504,
          0.27081239506963894,
          0.22293881423222342,
          0.2375543033865842,
          0.3267107193741443,
          0.2882540188548836,
          0.21827861815693164
         ]
        },
        {
         "name": "fc7_Rand50d",
         "type": "box",
         "x0": 6.4,
         "y": [
          0.3141355331678923,
          0.2174575908905382,
          0.2407911861886136,
          0.4007204691282911,
          0.3461695005624933,
          0.2849900636724785,
          0.2623962561627217,
          0.29955267531557617,
          0.22480989991168532,
          0.2570686663459742,
          0.31119205063872724,
          0.24780734499763193,
          0.22933786274687878,
          0.24706682753569476,
          0.22986709800062818,
          0.2693289239293568,
          0.3144748433135281,
          0.2788374929496292,
          0.2044737189579602,
          0.1986759051245112,
          0.2782871984217723,
          0.23883477485881338,
          0.2700432461083902,
          0.2788992248268831,
          0.2937693119980329,
          0.2362386303742174,
          0.30324855856275085,
          0.2871154063579975,
          0.3192232613966846,
          0.20119283981499564,
          0.24670523405122818,
          0.24317312232489866,
          0.28787469579061764,
          0.25783453475419943,
          0.290359171918118,
          0.2724955078901992,
          0.2877826467190804,
          0.20861637540521608,
          0.23473536125279684,
          0.30211574473743696,
          0.2990841593307939,
          0.32977803496201596,
          0.34724008663031863,
          0.29231351186831966,
          0.3139449930491574,
          0.2895450497467632,
          0.30524861777710527,
          0.26324450174421465,
          0.2986838097532768,
          0.23770437789121945,
          0.2617280136172608,
          0.4026040188244607,
          0.26808041365074725,
          0.26890894017498296,
          0.32143226637451777,
          0.25850454191851324,
          0.3336098191760692,
          0.3016685113962372,
          0.19565578750671705,
          0.23776752742007506,
          0.25185084922404405,
          0.24475254852427175,
          0.2197232661933207,
          0.21493686487549726,
          0.27226256479945116,
          0.2353842823386662,
          0.292912276083132,
          0.3032541308865884,
          0.3357024575921816,
          0.31184231789796624,
          0.2596401433948758,
          0.2817996298082203,
          0.3006181655811108,
          0.3230191486469679,
          0.29227855007808523,
          0.2976924334795629,
          0.2837263583130464,
          0.31143485027984424,
          0.2667580544454274,
          0.2960155005478123,
          0.2454760199170031,
          0.26843850768010474,
          0.3096286698133117,
          0.22194997245748643,
          0.30883333748219793,
          0.27650587451042313,
          0.2691623066813995,
          0.2106825787885215,
          0.29564088313382064,
          0.24097714574398013,
          0.33005874784869765,
          0.2721709460864359,
          0.33032440861102086,
          0.29049714575372504,
          0.27081239506963894,
          0.22293881423222342,
          0.2375543033865842,
          0.3267107193741443,
          0.2882540188548836,
          0.21827861815693164
         ]
        },
        {
         "mode": "markers",
         "name": "fc8_Full",
         "type": "scatter",
         "x": [
          7,
          7,
          7,
          7,
          7,
          7,
          7,
          7,
          7,
          7,
          7,
          7,
          7,
          7,
          7,
          7,
          7,
          7,
          7,
          7
         ],
         "y": [
          0.9678496415589541,
          1.0820708760828908,
          1.0133601603309679,
          1.019098161229146,
          0.9458971548351881,
          0.8543764059031073,
          0.9895983702389423,
          1.079383592429944,
          1.0947038983203232,
          1.0930145476401925,
          0.9953267579853591,
          0.9253039019054957,
          1.0188181566211532,
          1.0782709289215873,
          0.9379512889830804,
          0.9829952327286585,
          0.808573195671918,
          1.025848546192062,
          1.0813939251496378,
          1.0061652572713917
         ]
        },
        {
         "name": "fc8_Full",
         "type": "box",
         "x0": 7.4,
         "y": [
          0.9678496415589541,
          1.0820708760828908,
          1.0133601603309679,
          1.019098161229146,
          0.9458971548351881,
          0.8543764059031073,
          0.9895983702389423,
          1.079383592429944,
          1.0947038983203232,
          1.0930145476401925,
          0.9953267579853591,
          0.9253039019054957,
          1.0188181566211532,
          1.0782709289215873,
          0.9379512889830804,
          0.9829952327286585,
          0.808573195671918,
          1.025848546192062,
          1.0813939251496378,
          1.0061652572713917
         ]
        },
        {
         "mode": "markers",
         "name": "fc8_Rand50d",
         "type": "scatter",
         "x": [
          7,
          7,
          7,
          7,
          7,
          7,
          7,
          7,
          7,
          7,
          7,
          7,
          7,
          7,
          7,
          7,
          7,
          7,
          7,
          7,
          7,
          7,
          7,
          7,
          7,
          7,
          7,
          7,
          7,
          7,
          7,
          7,
          7,
          7,
          7,
          7,
          7,
          7,
          7,
          7,
          7,
          7,
          7,
          7,
          7,
          7,
          7,
          7,
          7,
          7,
          7,
          7,
          7,
          7,
          7,
          7,
          7,
          7,
          7,
          7,
          7,
          7,
          7,
          7,
          7,
          7,
          7,
          7,
          7,
          7,
          7,
          7,
          7,
          7,
          7,
          7,
          7,
          7,
          7,
          7,
          7,
          7,
          7,
          7,
          7,
          7,
          7,
          7,
          7,
          7,
          7,
          7,
          7,
          7,
          7,
          7,
          7,
          7,
          7,
          7
         ],
         "y": [
          0.34044217555348855,
          0.32520136243028464,
          0.26791373693468046,
          0.3677991942319706,
          0.36550578712539744,
          0.32074133243746283,
          0.2595080080120163,
          0.4207388092203576,
          0.3207878750684316,
          0.24571668135830302,
          0.26682223255358983,
          0.29124659501684347,
          0.32001328321159894,
          0.2925385994771467,
          0.48215980377430756,
          0.2655715720948771,
          0.3212690188028383,
          0.24797563480350623,
          0.3662775463957099,
          0.2721612719715302,
          0.24436884455940514,
          0.27319823779056834,
          0.2963349377860047,
          0.32415522647993744,
          0.17773000706536465,
          0.1843841321131463,
          0.34154913664372244,
          0.29620641480841825,
          0.22277105255546176,
          0.27058101017710934,
          0.1781068528078022,
          0.3304665624924852,
          0.4082661133402378,
          0.33803387716944083,
          0.27070006310246103,
          0.28484946005661127,
          0.26426694547221824,
          0.30442879795265776,
          0.3009125465830272,
          0.2949658105219191,
          0.21214172165147382,
          0.3551210387958934,
          0.31144226845487744,
          0.29025573860965925,
          0.24504265710440973,
          0.34431719703904934,
          0.18662451986497025,
          0.29098321935795163,
          0.2580918166858101,
          0.323765484137696,
          0.3578052879547688,
          0.3022642921552962,
          0.21436896188925536,
          0.29014228420825344,
          0.22823663312055817,
          0.34701023799760866,
          0.3199285643713004,
          0.3017551812846376,
          0.37945330985282594,
          0.3810149569471803,
          0.265873804175917,
          0.306696025686928,
          0.31563845036434274,
          0.35715835067702534,
          0.33939918779272715,
          0.3703584410536681,
          0.2278018712751862,
          0.37164052263994685,
          0.32471557090166375,
          0.4120402006528389,
          0.30208508254127125,
          0.23672036500710683,
          0.366162951118626,
          0.22698192078894758,
          0.2951759080707533,
          0.22962110731880767,
          0.2856306932996935,
          0.2813813410948823,
          0.2870517010031178,
          0.21809175292222927,
          0.331655786207855,
          0.3130480999784124,
          0.28502806982878487,
          0.31898028889449165,
          0.3036686003399898,
          0.15534445804813887,
          0.19240828712819183,
          0.2416401973021929,
          0.2470982210361229,
          0.24154008448131076,
          0.2675065168475156,
          0.19036046233252144,
          0.2128473081721922,
          0.27982584531990545,
          0.25461642317143296,
          0.3094383418893344,
          0.27641778503347525,
          0.37364946749025924,
          0.29475289998923965,
          0.26222734203839276
         ]
        },
        {
         "name": "fc8_Rand50d",
         "type": "box",
         "x0": 7.4,
         "y": [
          0.34044217555348855,
          0.32520136243028464,
          0.26791373693468046,
          0.3677991942319706,
          0.36550578712539744,
          0.32074133243746283,
          0.2595080080120163,
          0.4207388092203576,
          0.3207878750684316,
          0.24571668135830302,
          0.26682223255358983,
          0.29124659501684347,
          0.32001328321159894,
          0.2925385994771467,
          0.48215980377430756,
          0.2655715720948771,
          0.3212690188028383,
          0.24797563480350623,
          0.3662775463957099,
          0.2721612719715302,
          0.24436884455940514,
          0.27319823779056834,
          0.2963349377860047,
          0.32415522647993744,
          0.17773000706536465,
          0.1843841321131463,
          0.34154913664372244,
          0.29620641480841825,
          0.22277105255546176,
          0.27058101017710934,
          0.1781068528078022,
          0.3304665624924852,
          0.4082661133402378,
          0.33803387716944083,
          0.27070006310246103,
          0.28484946005661127,
          0.26426694547221824,
          0.30442879795265776,
          0.3009125465830272,
          0.2949658105219191,
          0.21214172165147382,
          0.3551210387958934,
          0.31144226845487744,
          0.29025573860965925,
          0.24504265710440973,
          0.34431719703904934,
          0.18662451986497025,
          0.29098321935795163,
          0.2580918166858101,
          0.323765484137696,
          0.3578052879547688,
          0.3022642921552962,
          0.21436896188925536,
          0.29014228420825344,
          0.22823663312055817,
          0.34701023799760866,
          0.3199285643713004,
          0.3017551812846376,
          0.37945330985282594,
          0.3810149569471803,
          0.265873804175917,
          0.306696025686928,
          0.31563845036434274,
          0.35715835067702534,
          0.33939918779272715,
          0.3703584410536681,
          0.2278018712751862,
          0.37164052263994685,
          0.32471557090166375,
          0.4120402006528389,
          0.30208508254127125,
          0.23672036500710683,
          0.366162951118626,
          0.22698192078894758,
          0.2951759080707533,
          0.22962110731880767,
          0.2856306932996935,
          0.2813813410948823,
          0.2870517010031178,
          0.21809175292222927,
          0.331655786207855,
          0.3130480999784124,
          0.28502806982878487,
          0.31898028889449165,
          0.3036686003399898,
          0.15534445804813887,
          0.19240828712819183,
          0.2416401973021929,
          0.2470982210361229,
          0.24154008448131076,
          0.2675065168475156,
          0.19036046233252144,
          0.2128473081721922,
          0.27982584531990545,
          0.25461642317143296,
          0.3094383418893344,
          0.27641778503347525,
          0.37364946749025924,
          0.29475289998923965,
          0.26222734203839276
         ]
        }
       ],
       "layout": {
        "template": {
         "data": {
          "bar": [
           {
            "error_x": {
             "color": "#2a3f5f"
            },
            "error_y": {
             "color": "#2a3f5f"
            },
            "marker": {
             "line": {
              "color": "#E5ECF6",
              "width": 0.5
             }
            },
            "type": "bar"
           }
          ],
          "barpolar": [
           {
            "marker": {
             "line": {
              "color": "#E5ECF6",
              "width": 0.5
             }
            },
            "type": "barpolar"
           }
          ],
          "carpet": [
           {
            "aaxis": {
             "endlinecolor": "#2a3f5f",
             "gridcolor": "white",
             "linecolor": "white",
             "minorgridcolor": "white",
             "startlinecolor": "#2a3f5f"
            },
            "baxis": {
             "endlinecolor": "#2a3f5f",
             "gridcolor": "white",
             "linecolor": "white",
             "minorgridcolor": "white",
             "startlinecolor": "#2a3f5f"
            },
            "type": "carpet"
           }
          ],
          "choropleth": [
           {
            "colorbar": {
             "outlinewidth": 0,
             "ticks": ""
            },
            "type": "choropleth"
           }
          ],
          "contour": [
           {
            "colorbar": {
             "outlinewidth": 0,
             "ticks": ""
            },
            "colorscale": [
             [
              0,
              "#0d0887"
             ],
             [
              0.1111111111111111,
              "#46039f"
             ],
             [
              0.2222222222222222,
              "#7201a8"
             ],
             [
              0.3333333333333333,
              "#9c179e"
             ],
             [
              0.4444444444444444,
              "#bd3786"
             ],
             [
              0.5555555555555556,
              "#d8576b"
             ],
             [
              0.6666666666666666,
              "#ed7953"
             ],
             [
              0.7777777777777778,
              "#fb9f3a"
             ],
             [
              0.8888888888888888,
              "#fdca26"
             ],
             [
              1,
              "#f0f921"
             ]
            ],
            "type": "contour"
           }
          ],
          "contourcarpet": [
           {
            "colorbar": {
             "outlinewidth": 0,
             "ticks": ""
            },
            "type": "contourcarpet"
           }
          ],
          "heatmap": [
           {
            "colorbar": {
             "outlinewidth": 0,
             "ticks": ""
            },
            "colorscale": [
             [
              0,
              "#0d0887"
             ],
             [
              0.1111111111111111,
              "#46039f"
             ],
             [
              0.2222222222222222,
              "#7201a8"
             ],
             [
              0.3333333333333333,
              "#9c179e"
             ],
             [
              0.4444444444444444,
              "#bd3786"
             ],
             [
              0.5555555555555556,
              "#d8576b"
             ],
             [
              0.6666666666666666,
              "#ed7953"
             ],
             [
              0.7777777777777778,
              "#fb9f3a"
             ],
             [
              0.8888888888888888,
              "#fdca26"
             ],
             [
              1,
              "#f0f921"
             ]
            ],
            "type": "heatmap"
           }
          ],
          "heatmapgl": [
           {
            "colorbar": {
             "outlinewidth": 0,
             "ticks": ""
            },
            "colorscale": [
             [
              0,
              "#0d0887"
             ],
             [
              0.1111111111111111,
              "#46039f"
             ],
             [
              0.2222222222222222,
              "#7201a8"
             ],
             [
              0.3333333333333333,
              "#9c179e"
             ],
             [
              0.4444444444444444,
              "#bd3786"
             ],
             [
              0.5555555555555556,
              "#d8576b"
             ],
             [
              0.6666666666666666,
              "#ed7953"
             ],
             [
              0.7777777777777778,
              "#fb9f3a"
             ],
             [
              0.8888888888888888,
              "#fdca26"
             ],
             [
              1,
              "#f0f921"
             ]
            ],
            "type": "heatmapgl"
           }
          ],
          "histogram": [
           {
            "marker": {
             "colorbar": {
              "outlinewidth": 0,
              "ticks": ""
             }
            },
            "type": "histogram"
           }
          ],
          "histogram2d": [
           {
            "colorbar": {
             "outlinewidth": 0,
             "ticks": ""
            },
            "colorscale": [
             [
              0,
              "#0d0887"
             ],
             [
              0.1111111111111111,
              "#46039f"
             ],
             [
              0.2222222222222222,
              "#7201a8"
             ],
             [
              0.3333333333333333,
              "#9c179e"
             ],
             [
              0.4444444444444444,
              "#bd3786"
             ],
             [
              0.5555555555555556,
              "#d8576b"
             ],
             [
              0.6666666666666666,
              "#ed7953"
             ],
             [
              0.7777777777777778,
              "#fb9f3a"
             ],
             [
              0.8888888888888888,
              "#fdca26"
             ],
             [
              1,
              "#f0f921"
             ]
            ],
            "type": "histogram2d"
           }
          ],
          "histogram2dcontour": [
           {
            "colorbar": {
             "outlinewidth": 0,
             "ticks": ""
            },
            "colorscale": [
             [
              0,
              "#0d0887"
             ],
             [
              0.1111111111111111,
              "#46039f"
             ],
             [
              0.2222222222222222,
              "#7201a8"
             ],
             [
              0.3333333333333333,
              "#9c179e"
             ],
             [
              0.4444444444444444,
              "#bd3786"
             ],
             [
              0.5555555555555556,
              "#d8576b"
             ],
             [
              0.6666666666666666,
              "#ed7953"
             ],
             [
              0.7777777777777778,
              "#fb9f3a"
             ],
             [
              0.8888888888888888,
              "#fdca26"
             ],
             [
              1,
              "#f0f921"
             ]
            ],
            "type": "histogram2dcontour"
           }
          ],
          "mesh3d": [
           {
            "colorbar": {
             "outlinewidth": 0,
             "ticks": ""
            },
            "type": "mesh3d"
           }
          ],
          "parcoords": [
           {
            "line": {
             "colorbar": {
              "outlinewidth": 0,
              "ticks": ""
             }
            },
            "type": "parcoords"
           }
          ],
          "scatter": [
           {
            "marker": {
             "colorbar": {
              "outlinewidth": 0,
              "ticks": ""
             }
            },
            "type": "scatter"
           }
          ],
          "scatter3d": [
           {
            "line": {
             "colorbar": {
              "outlinewidth": 0,
              "ticks": ""
             }
            },
            "marker": {
             "colorbar": {
              "outlinewidth": 0,
              "ticks": ""
             }
            },
            "type": "scatter3d"
           }
          ],
          "scattercarpet": [
           {
            "marker": {
             "colorbar": {
              "outlinewidth": 0,
              "ticks": ""
             }
            },
            "type": "scattercarpet"
           }
          ],
          "scattergeo": [
           {
            "marker": {
             "colorbar": {
              "outlinewidth": 0,
              "ticks": ""
             }
            },
            "type": "scattergeo"
           }
          ],
          "scattergl": [
           {
            "marker": {
             "colorbar": {
              "outlinewidth": 0,
              "ticks": ""
             }
            },
            "type": "scattergl"
           }
          ],
          "scattermapbox": [
           {
            "marker": {
             "colorbar": {
              "outlinewidth": 0,
              "ticks": ""
             }
            },
            "type": "scattermapbox"
           }
          ],
          "scatterpolar": [
           {
            "marker": {
             "colorbar": {
              "outlinewidth": 0,
              "ticks": ""
             }
            },
            "type": "scatterpolar"
           }
          ],
          "scatterpolargl": [
           {
            "marker": {
             "colorbar": {
              "outlinewidth": 0,
              "ticks": ""
             }
            },
            "type": "scatterpolargl"
           }
          ],
          "scatterternary": [
           {
            "marker": {
             "colorbar": {
              "outlinewidth": 0,
              "ticks": ""
             }
            },
            "type": "scatterternary"
           }
          ],
          "surface": [
           {
            "colorbar": {
             "outlinewidth": 0,
             "ticks": ""
            },
            "colorscale": [
             [
              0,
              "#0d0887"
             ],
             [
              0.1111111111111111,
              "#46039f"
             ],
             [
              0.2222222222222222,
              "#7201a8"
             ],
             [
              0.3333333333333333,
              "#9c179e"
             ],
             [
              0.4444444444444444,
              "#bd3786"
             ],
             [
              0.5555555555555556,
              "#d8576b"
             ],
             [
              0.6666666666666666,
              "#ed7953"
             ],
             [
              0.7777777777777778,
              "#fb9f3a"
             ],
             [
              0.8888888888888888,
              "#fdca26"
             ],
             [
              1,
              "#f0f921"
             ]
            ],
            "type": "surface"
           }
          ],
          "table": [
           {
            "cells": {
             "fill": {
              "color": "#EBF0F8"
             },
             "line": {
              "color": "white"
             }
            },
            "header": {
             "fill": {
              "color": "#C8D4E3"
             },
             "line": {
              "color": "white"
             }
            },
            "type": "table"
           }
          ]
         },
         "layout": {
          "annotationdefaults": {
           "arrowcolor": "#2a3f5f",
           "arrowhead": 0,
           "arrowwidth": 1
          },
          "colorscale": {
           "diverging": [
            [
             0,
             "#8e0152"
            ],
            [
             0.1,
             "#c51b7d"
            ],
            [
             0.2,
             "#de77ae"
            ],
            [
             0.3,
             "#f1b6da"
            ],
            [
             0.4,
             "#fde0ef"
            ],
            [
             0.5,
             "#f7f7f7"
            ],
            [
             0.6,
             "#e6f5d0"
            ],
            [
             0.7,
             "#b8e186"
            ],
            [
             0.8,
             "#7fbc41"
            ],
            [
             0.9,
             "#4d9221"
            ],
            [
             1,
             "#276419"
            ]
           ],
           "sequential": [
            [
             0,
             "#0d0887"
            ],
            [
             0.1111111111111111,
             "#46039f"
            ],
            [
             0.2222222222222222,
             "#7201a8"
            ],
            [
             0.3333333333333333,
             "#9c179e"
            ],
            [
             0.4444444444444444,
             "#bd3786"
            ],
            [
             0.5555555555555556,
             "#d8576b"
            ],
            [
             0.6666666666666666,
             "#ed7953"
            ],
            [
             0.7777777777777778,
             "#fb9f3a"
            ],
            [
             0.8888888888888888,
             "#fdca26"
            ],
            [
             1,
             "#f0f921"
            ]
           ],
           "sequentialminus": [
            [
             0,
             "#0d0887"
            ],
            [
             0.1111111111111111,
             "#46039f"
            ],
            [
             0.2222222222222222,
             "#7201a8"
            ],
            [
             0.3333333333333333,
             "#9c179e"
            ],
            [
             0.4444444444444444,
             "#bd3786"
            ],
            [
             0.5555555555555556,
             "#d8576b"
            ],
            [
             0.6666666666666666,
             "#ed7953"
            ],
            [
             0.7777777777777778,
             "#fb9f3a"
            ],
            [
             0.8888888888888888,
             "#fdca26"
            ],
            [
             1,
             "#f0f921"
            ]
           ]
          },
          "colorway": [
           "#636efa",
           "#EF553B",
           "#00cc96",
           "#ab63fa",
           "#FFA15A",
           "#19d3f3",
           "#FF6692",
           "#B6E880",
           "#FF97FF",
           "#FECB52"
          ],
          "font": {
           "color": "#2a3f5f"
          },
          "geo": {
           "bgcolor": "white",
           "lakecolor": "white",
           "landcolor": "#E5ECF6",
           "showlakes": true,
           "showland": true,
           "subunitcolor": "white"
          },
          "hoverlabel": {
           "align": "left"
          },
          "hovermode": "closest",
          "mapbox": {
           "style": "light"
          },
          "paper_bgcolor": "white",
          "plot_bgcolor": "#E5ECF6",
          "polar": {
           "angularaxis": {
            "gridcolor": "white",
            "linecolor": "white",
            "ticks": ""
           },
           "bgcolor": "#E5ECF6",
           "radialaxis": {
            "gridcolor": "white",
            "linecolor": "white",
            "ticks": ""
           }
          },
          "scene": {
           "xaxis": {
            "backgroundcolor": "#E5ECF6",
            "gridcolor": "white",
            "gridwidth": 2,
            "linecolor": "white",
            "showbackground": true,
            "ticks": "",
            "zerolinecolor": "white"
           },
           "yaxis": {
            "backgroundcolor": "#E5ECF6",
            "gridcolor": "white",
            "gridwidth": 2,
            "linecolor": "white",
            "showbackground": true,
            "ticks": "",
            "zerolinecolor": "white"
           },
           "zaxis": {
            "backgroundcolor": "#E5ECF6",
            "gridcolor": "white",
            "gridwidth": 2,
            "linecolor": "white",
            "showbackground": true,
            "ticks": "",
            "zerolinecolor": "white"
           }
          },
          "shapedefaults": {
           "line": {
            "color": "#2a3f5f"
           }
          },
          "ternary": {
           "aaxis": {
            "gridcolor": "white",
            "linecolor": "white",
            "ticks": ""
           },
           "baxis": {
            "gridcolor": "white",
            "linecolor": "white",
            "ticks": ""
           },
           "bgcolor": "#E5ECF6",
           "caxis": {
            "gridcolor": "white",
            "linecolor": "white",
            "ticks": ""
           }
          },
          "title": {
           "x": 0.05
          },
          "xaxis": {
           "automargin": true,
           "gridcolor": "white",
           "linecolor": "white",
           "ticks": "",
           "zerolinecolor": "white",
           "zerolinewidth": 2
          },
          "yaxis": {
           "automargin": true,
           "gridcolor": "white",
           "linecolor": "white",
           "ticks": "",
           "zerolinecolor": "white",
           "zerolinewidth": 2
          }
         }
        },
        "xaxis": {
         "tickmode": "array",
         "ticktext": [
          [
           "caffe-net",
           "conv1",
           5,
           10,
           10
          ],
          [
           "caffe-net",
           "conv2",
           5,
           10,
           10
          ],
          [
           "caffe-net",
           "conv3",
           5,
           10,
           10
          ],
          [
           "caffe-net",
           "conv4",
           5,
           10,
           10
          ],
          [
           "caffe-net",
           "conv5",
           5,
           10,
           10
          ],
          [
           "caffe-net",
           "fc6",
           1
          ],
          [
           "caffe-net",
           "fc7",
           1
          ],
          [
           "caffe-net",
           "fc8",
           1
          ]
         ],
         "tickvals": [
          0.3,
          1.3,
          2.3,
          3.3,
          4.3,
          5.3,
          6.3,
          7.3
         ]
        },
        "yaxis": {
         "title": {
          "text": "Activation normalized by mean of maxima"
         }
        }
       }
      },
      "text/html": [
       "<div>\n",
       "        \n",
       "        \n",
       "            <div id=\"8283bbdd-0577-4f8f-8b11-aef6356e25b3\" class=\"plotly-graph-div\" style=\"height:525px; width:100%;\"></div>\n",
       "            <script type=\"text/javascript\">\n",
       "                require([\"plotly\"], function(Plotly) {\n",
       "                    window.PLOTLYENV=window.PLOTLYENV || {};\n",
       "                    \n",
       "                if (document.getElementById(\"8283bbdd-0577-4f8f-8b11-aef6356e25b3\")) {\n",
       "                    Plotly.newPlot(\n",
       "                        '8283bbdd-0577-4f8f-8b11-aef6356e25b3',\n",
       "                        [{\"mode\": \"markers\", \"name\": \"conv1_Full\", \"type\": \"scatter\", \"x\": [0, 0, 0, 0, 0, 0, 0, 0, 0, 0, 0, 0, 0, 0, 0, 0, 0, 0, 0, 0], \"y\": [1.0051942166756496, 0.9975012437388799, 0.9899166544467823, 1.0050231352787398, 1.0006608094061193, 1.0080205091507028, 1.0031540892962005, 1.002600349640049, 0.997544555210031, 0.992237434078455, 0.9996596867934909, 0.989935099646263, 1.002796029462326, 0.9973037903397299, 1.0050122766448226, 1.0054854379982192, 1.0103128391615126, 0.9934295673007759, 1.0047088574568195, 0.98950341827443]}, {\"name\": \"conv1_Full\", \"type\": \"box\", \"x0\": 0.4, \"y\": [1.0051942166756496, 0.9975012437388799, 0.9899166544467823, 1.0050231352787398, 1.0006608094061193, 1.0080205091507028, 1.0031540892962005, 1.002600349640049, 0.997544555210031, 0.992237434078455, 0.9996596867934909, 0.989935099646263, 1.002796029462326, 0.9973037903397299, 1.0050122766448226, 1.0054854379982192, 1.0103128391615126, 0.9934295673007759, 1.0047088574568195, 0.98950341827443]}, {\"mode\": \"markers\", \"name\": \"conv1_Rand50d\", \"type\": \"scatter\", \"x\": [0, 0, 0, 0, 0, 0, 0, 0, 0, 0, 0, 0, 0, 0, 0, 0, 0, 0, 0, 0, 0, 0, 0, 0, 0, 0, 0, 0, 0, 0, 0, 0, 0, 0, 0, 0, 0, 0, 0, 0, 0, 0, 0, 0, 0, 0, 0, 0, 0, 0, 0, 0, 0, 0, 0, 0, 0, 0, 0, 0, 0, 0, 0, 0, 0, 0, 0, 0, 0, 0, 0, 0, 0, 0, 0, 0, 0, 0, 0, 0, 0, 0, 0, 0, 0, 0, 0, 0, 0, 0, 0, 0, 0, 0, 0, 0, 0, 0, 0, 0], \"y\": [0.9153353942272467, 0.9167074332963076, 0.7073261722645464, 0.9084995077437389, 0.9244734631220721, 0.8828200908920504, 0.9444257396431788, 0.9300133426912075, 0.9213348329010251, 0.9369973626586137, 0.8547312734777465, 0.8687344736691828, 0.9351028495599939, 0.8724765398942753, 0.8956279943791512, 0.8844087162732233, 0.8627430486672354, 0.8865901796317385, 0.7352249273898532, 0.8798562484816237, 0.9392901632102265, 0.9371088953071217, 0.8561820448817961, 0.9208497849630338, 0.8707435019210932, 0.8514002934154905, 0.8801804293776764, 0.8953241263676127, 0.906111520407208, 0.8887574905707152, 0.8535633622481501, 0.9332994983126534, 0.9015148000628511, 0.769236673543355, 0.8873253525824675, 0.8916339933690014, 0.8970814804416801, 0.8714482417404968, 0.8145405881927261, 0.7411910952093094, 0.8976696419673488, 0.8934046239328048, 0.8647488120898813, 0.9243330971809695, 0.930760742463727, 0.865406751197102, 0.8494091674313649, 0.902295340386086, 0.9300394323689659, 0.9099489761117184, 0.9016008873125466, 0.8936145720000489, 0.9413731894327378, 0.9070346635501325, 0.8795164239136408, 0.8798857912049677, 0.42684234831177037, 0.9180297832565635, 0.8992044953933639, 0.9093011138167729, 0.8697713573828451, 0.9235828596854528, 0.8671897461253923, 0.9486602159600585, 0.8078252253066095, 0.8891649861452698, 0.8915614359771667, 0.8585554164970743, 0.875458262855219, 0.8423207091229431, 0.9104238386510953, 0.8724254102067039, 0.8884548025307291, 0.853029276719389, 0.9082625795907552, 0.9002972648762534, 0.9104423272851115, 0.8908287243167925, 0.9024668054547275, 0.844324308057895, 0.9192789387851282, 0.8992199001753477, 0.893355123040321, 0.9140700738123241, 0.833953349868113, 0.8717490765736278, 0.8901649577427031, 0.7784601274962157, 0.8934980588581175, 0.8941599215517269, 0.8733332499148946, 0.9341709109235963, 0.9061396080736072, 0.9211697092745912, 0.8598060705171197, 0.9157348761299707, 0.9280997763096075, 0.9398198763290636, 0.8589402537221885, 0.9212144396072408]}, {\"name\": \"conv1_Rand50d\", \"type\": \"box\", \"x0\": 0.4, \"y\": [0.9153353942272467, 0.9167074332963076, 0.7073261722645464, 0.9084995077437389, 0.9244734631220721, 0.8828200908920504, 0.9444257396431788, 0.9300133426912075, 0.9213348329010251, 0.9369973626586137, 0.8547312734777465, 0.8687344736691828, 0.9351028495599939, 0.8724765398942753, 0.8956279943791512, 0.8844087162732233, 0.8627430486672354, 0.8865901796317385, 0.7352249273898532, 0.8798562484816237, 0.9392901632102265, 0.9371088953071217, 0.8561820448817961, 0.9208497849630338, 0.8707435019210932, 0.8514002934154905, 0.8801804293776764, 0.8953241263676127, 0.906111520407208, 0.8887574905707152, 0.8535633622481501, 0.9332994983126534, 0.9015148000628511, 0.769236673543355, 0.8873253525824675, 0.8916339933690014, 0.8970814804416801, 0.8714482417404968, 0.8145405881927261, 0.7411910952093094, 0.8976696419673488, 0.8934046239328048, 0.8647488120898813, 0.9243330971809695, 0.930760742463727, 0.865406751197102, 0.8494091674313649, 0.902295340386086, 0.9300394323689659, 0.9099489761117184, 0.9016008873125466, 0.8936145720000489, 0.9413731894327378, 0.9070346635501325, 0.8795164239136408, 0.8798857912049677, 0.42684234831177037, 0.9180297832565635, 0.8992044953933639, 0.9093011138167729, 0.8697713573828451, 0.9235828596854528, 0.8671897461253923, 0.9486602159600585, 0.8078252253066095, 0.8891649861452698, 0.8915614359771667, 0.8585554164970743, 0.875458262855219, 0.8423207091229431, 0.9104238386510953, 0.8724254102067039, 0.8884548025307291, 0.853029276719389, 0.9082625795907552, 0.9002972648762534, 0.9104423272851115, 0.8908287243167925, 0.9024668054547275, 0.844324308057895, 0.9192789387851282, 0.8992199001753477, 0.893355123040321, 0.9140700738123241, 0.833953349868113, 0.8717490765736278, 0.8901649577427031, 0.7784601274962157, 0.8934980588581175, 0.8941599215517269, 0.8733332499148946, 0.9341709109235963, 0.9061396080736072, 0.9211697092745912, 0.8598060705171197, 0.9157348761299707, 0.9280997763096075, 0.9398198763290636, 0.8589402537221885, 0.9212144396072408]}, {\"mode\": \"markers\", \"name\": \"conv2_Full\", \"type\": \"scatter\", \"x\": [1, 1, 1, 1, 1, 1, 1, 1, 1, 1, 1, 1, 1, 1, 1, 1, 1, 1, 1, 1], \"y\": [1.0193963547282092, 0.9773487485475405, 0.9159321914562948, 1.013823672422989, 1.0070387309446633, 1.021134159560622, 1.036845398089983, 0.9820944009405473, 1.0260421474896597, 1.0248906689209163, 1.028625520568834, 1.0093239838058452, 0.9379018082536176, 0.9922314892221804, 0.9886855740078573, 0.9960754356882834, 0.9759460015925085, 1.0057675094141656, 1.0089939692006402, 1.0319022351446436]}, {\"name\": \"conv2_Full\", \"type\": \"box\", \"x0\": 1.4, \"y\": [1.0193963547282092, 0.9773487485475405, 0.9159321914562948, 1.013823672422989, 1.0070387309446633, 1.021134159560622, 1.036845398089983, 0.9820944009405473, 1.0260421474896597, 1.0248906689209163, 1.028625520568834, 1.0093239838058452, 0.9379018082536176, 0.9922314892221804, 0.9886855740078573, 0.9960754356882834, 0.9759460015925085, 1.0057675094141656, 1.0089939692006402, 1.0319022351446436]}, {\"mode\": \"markers\", \"name\": \"conv2_Rand50d\", \"type\": \"scatter\", \"x\": [1, 1, 1, 1, 1, 1, 1, 1, 1, 1, 1, 1, 1, 1, 1, 1, 1, 1, 1, 1, 1, 1, 1, 1, 1, 1, 1, 1, 1, 1, 1, 1, 1, 1, 1, 1, 1, 1, 1, 1, 1, 1, 1, 1, 1, 1, 1, 1, 1, 1, 1, 1, 1, 1, 1, 1, 1, 1, 1, 1, 1, 1, 1, 1, 1, 1, 1, 1, 1, 1, 1, 1, 1, 1, 1, 1, 1, 1, 1, 1, 1, 1, 1, 1, 1, 1, 1, 1, 1, 1, 1, 1, 1, 1, 1, 1, 1, 1, 1, 1], \"y\": [0.833147468087536, 0.8233681685506, 0.8223766345509241, 0.8235620092466633, 0.7840265364504393, 0.7375190484723713, 0.7709561654151371, 0.7472094985648738, 0.8452705602535363, 0.7782833114760772, 0.7497046004799963, 0.7858307545605488, 0.820745216627601, 0.7904382924689018, 0.73987285536074, 0.8676877938683282, 0.7501034638129674, 0.7757841560378937, 0.8133575957836545, 0.7842328602182063, 0.8174531442593432, 0.7696547454158541, 0.8319776068751168, 0.8211941623778707, 0.8561266512237484, 0.8007249440746711, 0.7664253608651408, 0.7786310247971989, 0.7922332970156203, 0.8488601133951336, 0.6330397918356102, 0.7359457644085858, 0.7709102310475006, 0.8682243880191614, 0.7886038592088424, 0.7726952991803506, 0.8323240079446027, 0.7893223392209223, 0.8154603177785482, 0.802585333227253, 0.8530846851206272, 0.7928498328688516, 0.8007780179808679, 0.7666984037319601, 0.8250693359845918, 0.7755069818025774, 0.7632671381637208, 0.7969162671514709, 0.8001347032976477, 0.7805358414521916, 0.7801683665110989, 0.8022126370815592, 0.7075609163501214, 0.8095840215917084, 0.8740090045239297, 0.7420099071929159, 0.8717543894022077, 0.8525050424436782, 0.7617562027337943, 0.7670723064819122, 0.7176818572641699, 0.8021704893383458, 0.8574187631330394, 0.7337409814866894, 0.8076724879876652, 0.7928872042385267, 0.8311830162681682, 0.7457417617915467, 0.8305083354346227, 0.9189383931419559, 0.789686110943416, 0.7763544906248507, 0.7479080390245577, 0.7968906615634106, 0.7616156472386827, 0.8165510324240943, 0.8312737506842308, 0.8127469761835603, 0.7858781513103047, 0.7216181673401035, 0.8281130814119647, 0.8212002120803266, 0.8746710021117933, 0.7691435177563849, 0.7959064005516137, 0.7730816238377352, 0.923132777519441, 0.7745262238354012, 0.8115626690823722, 0.8186418774296076, 0.7674302119947634, 0.8036342615548244, 0.7961961190229049, 0.8241370201201694, 0.7845119861498112, 0.7106160550130939, 0.8115477839229287, 0.8257984029759697, 0.8419936955472427, 0.8379086172826979]}, {\"name\": \"conv2_Rand50d\", \"type\": \"box\", \"x0\": 1.4, \"y\": [0.833147468087536, 0.8233681685506, 0.8223766345509241, 0.8235620092466633, 0.7840265364504393, 0.7375190484723713, 0.7709561654151371, 0.7472094985648738, 0.8452705602535363, 0.7782833114760772, 0.7497046004799963, 0.7858307545605488, 0.820745216627601, 0.7904382924689018, 0.73987285536074, 0.8676877938683282, 0.7501034638129674, 0.7757841560378937, 0.8133575957836545, 0.7842328602182063, 0.8174531442593432, 0.7696547454158541, 0.8319776068751168, 0.8211941623778707, 0.8561266512237484, 0.8007249440746711, 0.7664253608651408, 0.7786310247971989, 0.7922332970156203, 0.8488601133951336, 0.6330397918356102, 0.7359457644085858, 0.7709102310475006, 0.8682243880191614, 0.7886038592088424, 0.7726952991803506, 0.8323240079446027, 0.7893223392209223, 0.8154603177785482, 0.802585333227253, 0.8530846851206272, 0.7928498328688516, 0.8007780179808679, 0.7666984037319601, 0.8250693359845918, 0.7755069818025774, 0.7632671381637208, 0.7969162671514709, 0.8001347032976477, 0.7805358414521916, 0.7801683665110989, 0.8022126370815592, 0.7075609163501214, 0.8095840215917084, 0.8740090045239297, 0.7420099071929159, 0.8717543894022077, 0.8525050424436782, 0.7617562027337943, 0.7670723064819122, 0.7176818572641699, 0.8021704893383458, 0.8574187631330394, 0.7337409814866894, 0.8076724879876652, 0.7928872042385267, 0.8311830162681682, 0.7457417617915467, 0.8305083354346227, 0.9189383931419559, 0.789686110943416, 0.7763544906248507, 0.7479080390245577, 0.7968906615634106, 0.7616156472386827, 0.8165510324240943, 0.8312737506842308, 0.8127469761835603, 0.7858781513103047, 0.7216181673401035, 0.8281130814119647, 0.8212002120803266, 0.8746710021117933, 0.7691435177563849, 0.7959064005516137, 0.7730816238377352, 0.923132777519441, 0.7745262238354012, 0.8115626690823722, 0.8186418774296076, 0.7674302119947634, 0.8036342615548244, 0.7961961190229049, 0.8241370201201694, 0.7845119861498112, 0.7106160550130939, 0.8115477839229287, 0.8257984029759697, 0.8419936955472427, 0.8379086172826979]}, {\"mode\": \"markers\", \"name\": \"conv3_Full\", \"type\": \"scatter\", \"x\": [2, 2, 2, 2, 2, 2, 2, 2, 2, 2, 2, 2, 2, 2, 2, 2, 2, 2, 2, 2], \"y\": [0.9885531561376084, 1.017310347345812, 1.0206663266363212, 0.9939764696473317, 1.0250988522801618, 1.0207128342953289, 1.0022561638653549, 1.0271366015313197, 0.948943419429292, 1.027044708940164, 1.0154581380023893, 0.9228612996943915, 0.9673738582012357, 0.9905474015817551, 1.0399743957901437, 1.0214515588281936, 0.9794126650053311, 1.0216847365570738, 0.95272238420554, 1.0168146820252524]}, {\"name\": \"conv3_Full\", \"type\": \"box\", \"x0\": 2.4, \"y\": [0.9885531561376084, 1.017310347345812, 1.0206663266363212, 0.9939764696473317, 1.0250988522801618, 1.0207128342953289, 1.0022561638653549, 1.0271366015313197, 0.948943419429292, 1.027044708940164, 1.0154581380023893, 0.9228612996943915, 0.9673738582012357, 0.9905474015817551, 1.0399743957901437, 1.0214515588281936, 0.9794126650053311, 1.0216847365570738, 0.95272238420554, 1.0168146820252524]}, {\"mode\": \"markers\", \"name\": \"conv3_Rand50d\", \"type\": \"scatter\", \"x\": [2, 2, 2, 2, 2, 2, 2, 2, 2, 2, 2, 2, 2, 2, 2, 2, 2, 2, 2, 2, 2, 2, 2, 2, 2, 2, 2, 2, 2, 2, 2, 2, 2, 2, 2, 2, 2, 2, 2, 2, 2, 2, 2, 2, 2, 2, 2, 2, 2, 2, 2, 2, 2, 2, 2, 2, 2, 2, 2, 2, 2, 2, 2, 2, 2, 2, 2, 2, 2, 2, 2, 2, 2, 2, 2, 2, 2, 2, 2, 2, 2, 2, 2, 2, 2, 2, 2, 2, 2, 2, 2, 2, 2, 2, 2, 2, 2, 2, 2, 2], \"y\": [0.8021279299440863, 0.6473872528234054, 0.3295342281259956, 0.7818056666716945, 0.8077128268983433, 0.8157590682822293, 0.4000857055482757, 0.41638340568494403, 0.6902193680435126, 0.3960011174195593, 0.6438533882430588, 0.595959641138293, 0.713155740951285, 0.4776688082838904, 0.7571324650523912, 0.30912342371365475, 0.5909460746032199, 0.6571269306409693, 0.815863563668272, 0.397178898789873, 0.7227267978344268, 0.903016909124173, 0.6831695579009185, 0.6779264197464165, 0.5087377572969829, 0.3836550552196458, 0.8904540639816484, 0.5172437107184337, 0.33054581803871874, 0.688195485584369, 0.5514164641598591, 0.30518662473141067, 0.4520384336870141, 0.7735712979036012, 0.29473756198489026, 0.44573774631247604, 0.8970750816869948, 0.6607266457540102, 0.70244203810033, 0.26662655770809685, 0.46366190218799064, 0.7447633237519886, 0.5885163040783034, 0.5688998605194413, 0.34396594692701127, 0.5906942417637959, 0.9411035218588011, 0.4553672742156719, 0.4492796000981949, 0.39266947379138967, 0.3329127920710587, 0.8257455898682029, 0.5104386736195435, 0.8578041779968472, 0.30843561781800855, 0.5621142220588168, 0.7258302974163938, 0.740617606491612, 0.44713413226831983, 0.7398858711193338, 0.552569980502967, 0.3816559508218363, 0.5259203818224825, 0.4980931913712533, 0.6959135301141485, 0.30330352738759886, 0.4821157249067895, 0.42722295803811594, 0.7078807351986203, 0.5836773475934525, 0.27228045031731196, 0.6664296037575967, 0.87129570413464, 0.7817814499737906, 0.36207943841928136, 0.6108751938749929, 0.33592083198762407, 0.6767173061178999, 0.6426068417113807, 0.47126613864700995, 0.832786388454807, 0.3356506210017329, 0.8243121353377814, 0.5945719544567961, 0.5888003316680877, 0.5394366376923071, 0.4284531841362973, 0.6593132292956952, 0.7858983629702189, 0.558403613503686, 0.8941950791029682, 0.5851242934343888, 0.6161578430926392, 0.79010233562761, 0.3458385828357754, 0.3992763012701627, 0.40107414014891807, 0.6607263074488967, 0.3777435785840775, 0.8188717132551763]}, {\"name\": \"conv3_Rand50d\", \"type\": \"box\", \"x0\": 2.4, \"y\": [0.8021279299440863, 0.6473872528234054, 0.3295342281259956, 0.7818056666716945, 0.8077128268983433, 0.8157590682822293, 0.4000857055482757, 0.41638340568494403, 0.6902193680435126, 0.3960011174195593, 0.6438533882430588, 0.595959641138293, 0.713155740951285, 0.4776688082838904, 0.7571324650523912, 0.30912342371365475, 0.5909460746032199, 0.6571269306409693, 0.815863563668272, 0.397178898789873, 0.7227267978344268, 0.903016909124173, 0.6831695579009185, 0.6779264197464165, 0.5087377572969829, 0.3836550552196458, 0.8904540639816484, 0.5172437107184337, 0.33054581803871874, 0.688195485584369, 0.5514164641598591, 0.30518662473141067, 0.4520384336870141, 0.7735712979036012, 0.29473756198489026, 0.44573774631247604, 0.8970750816869948, 0.6607266457540102, 0.70244203810033, 0.26662655770809685, 0.46366190218799064, 0.7447633237519886, 0.5885163040783034, 0.5688998605194413, 0.34396594692701127, 0.5906942417637959, 0.9411035218588011, 0.4553672742156719, 0.4492796000981949, 0.39266947379138967, 0.3329127920710587, 0.8257455898682029, 0.5104386736195435, 0.8578041779968472, 0.30843561781800855, 0.5621142220588168, 0.7258302974163938, 0.740617606491612, 0.44713413226831983, 0.7398858711193338, 0.552569980502967, 0.3816559508218363, 0.5259203818224825, 0.4980931913712533, 0.6959135301141485, 0.30330352738759886, 0.4821157249067895, 0.42722295803811594, 0.7078807351986203, 0.5836773475934525, 0.27228045031731196, 0.6664296037575967, 0.87129570413464, 0.7817814499737906, 0.36207943841928136, 0.6108751938749929, 0.33592083198762407, 0.6767173061178999, 0.6426068417113807, 0.47126613864700995, 0.832786388454807, 0.3356506210017329, 0.8243121353377814, 0.5945719544567961, 0.5888003316680877, 0.5394366376923071, 0.4284531841362973, 0.6593132292956952, 0.7858983629702189, 0.558403613503686, 0.8941950791029682, 0.5851242934343888, 0.6161578430926392, 0.79010233562761, 0.3458385828357754, 0.3992763012701627, 0.40107414014891807, 0.6607263074488967, 0.3777435785840775, 0.8188717132551763]}, {\"mode\": \"markers\", \"name\": \"conv4_Full\", \"type\": \"scatter\", \"x\": [3, 3, 3, 3, 3, 3, 3, 3, 3, 3, 3, 3, 3, 3, 3, 3, 3, 3, 3, 3], \"y\": [0.9568377894728552, 1.0340051068127263, 0.9614984273152287, 0.9889227693317535, 0.9796898371096435, 1.0027504138343228, 0.9613788448870073, 1.0676468496699225, 1.0606530180361018, 0.9778403852026212, 1.0256396161947485, 0.9987112349529959, 0.9052486217200292, 1.014570972783339, 1.0181084854207147, 0.976721421503756, 1.0416927423140743, 0.9840846034086108, 0.9518221784777093, 1.0921766815518401]}, {\"name\": \"conv4_Full\", \"type\": \"box\", \"x0\": 3.4, \"y\": [0.9568377894728552, 1.0340051068127263, 0.9614984273152287, 0.9889227693317535, 0.9796898371096435, 1.0027504138343228, 0.9613788448870073, 1.0676468496699225, 1.0606530180361018, 0.9778403852026212, 1.0256396161947485, 0.9987112349529959, 0.9052486217200292, 1.014570972783339, 1.0181084854207147, 0.976721421503756, 1.0416927423140743, 0.9840846034086108, 0.9518221784777093, 1.0921766815518401]}, {\"mode\": \"markers\", \"name\": \"conv4_Rand50d\", \"type\": \"scatter\", \"x\": [3, 3, 3, 3, 3, 3, 3, 3, 3, 3, 3, 3, 3, 3, 3, 3, 3, 3, 3, 3, 3, 3, 3, 3, 3, 3, 3, 3, 3, 3, 3, 3, 3, 3, 3, 3, 3, 3, 3, 3, 3, 3, 3, 3, 3, 3, 3, 3, 3, 3, 3, 3, 3, 3, 3, 3, 3, 3, 3, 3, 3, 3, 3, 3, 3, 3, 3, 3, 3, 3, 3, 3, 3, 3, 3, 3, 3, 3, 3, 3, 3, 3, 3, 3, 3, 3, 3, 3, 3, 3, 3, 3, 3, 3, 3, 3, 3, 3, 3, 3], \"y\": [0.5587343776309239, 0.5743780713130993, 0.6466086138498021, 0.5072424076091026, 0.7125094170159202, 0.7323441292140903, 0.5925674833632136, 0.6930873137236773, 0.5029463968389808, 0.5953939539793341, 0.6412653174502092, 0.6410787580157052, 0.4709485900191198, 0.6637816278322537, 0.6688769715140491, 0.5224554960848936, 0.6405823932649388, 0.7086055922283441, 0.5387894408594134, 0.6357643818701677, 0.4765097124883895, 0.5695707625152174, 0.6854133580669572, 0.5526291659043868, 0.6280815664111625, 0.5870369689929069, 0.5892533915863397, 0.6750055972465008, 0.6176443596144663, 0.6688913209627224, 0.5670948323837677, 0.5216514565761908, 0.49475958258970104, 0.5066900257761172, 0.6145127155712231, 0.6431693946591416, 0.7796745045604857, 0.7020924532902791, 0.5439616949298164, 0.8066598740870189, 0.42655704872138783, 0.6562214716597276, 0.542918020181664, 0.601276846094998, 0.4580235219643485, 0.6119320173093143, 0.675009625938608, 0.6266212429971401, 0.6151595309433071, 0.6024737494911684, 0.6081844482227545, 0.5057130651731553, 0.4448415002745923, 0.5723474555413592, 0.5041089097034199, 0.8005054270944406, 0.6650093717519319, 0.6343557065103168, 0.7317374790168885, 0.6876697798177404, 0.6834558840858509, 0.6001367317625699, 0.608903957138136, 0.7232335242433956, 0.5839154575530269, 0.5926587542683298, 0.6146357124266836, 0.573389387105427, 0.5596318075352333, 0.7644956156962642, 0.5746370199254255, 0.5677288256684719, 0.6392975337803724, 0.6638299167983632, 0.5389431730939448, 0.5294235009246699, 0.5477248419947854, 0.5086555543744792, 0.6634225263768551, 0.5218730955151835, 0.7029291152439986, 0.43616990653131327, 0.7359014754126091, 0.5501254610398516, 0.5976313445870448, 0.6829059620792964, 0.7375819436078371, 0.6089237298261841, 0.4606147125342726, 0.7155786550689254, 0.5762465931006182, 0.4697297889104929, 0.6790966178691197, 0.5447906868735625, 0.5993214307312871, 0.6815032024774985, 0.7006558980529058, 0.7216401765149865, 0.6591151683084285, 0.43435292488656996]}, {\"name\": \"conv4_Rand50d\", \"type\": \"box\", \"x0\": 3.4, \"y\": [0.5587343776309239, 0.5743780713130993, 0.6466086138498021, 0.5072424076091026, 0.7125094170159202, 0.7323441292140903, 0.5925674833632136, 0.6930873137236773, 0.5029463968389808, 0.5953939539793341, 0.6412653174502092, 0.6410787580157052, 0.4709485900191198, 0.6637816278322537, 0.6688769715140491, 0.5224554960848936, 0.6405823932649388, 0.7086055922283441, 0.5387894408594134, 0.6357643818701677, 0.4765097124883895, 0.5695707625152174, 0.6854133580669572, 0.5526291659043868, 0.6280815664111625, 0.5870369689929069, 0.5892533915863397, 0.6750055972465008, 0.6176443596144663, 0.6688913209627224, 0.5670948323837677, 0.5216514565761908, 0.49475958258970104, 0.5066900257761172, 0.6145127155712231, 0.6431693946591416, 0.7796745045604857, 0.7020924532902791, 0.5439616949298164, 0.8066598740870189, 0.42655704872138783, 0.6562214716597276, 0.542918020181664, 0.601276846094998, 0.4580235219643485, 0.6119320173093143, 0.675009625938608, 0.6266212429971401, 0.6151595309433071, 0.6024737494911684, 0.6081844482227545, 0.5057130651731553, 0.4448415002745923, 0.5723474555413592, 0.5041089097034199, 0.8005054270944406, 0.6650093717519319, 0.6343557065103168, 0.7317374790168885, 0.6876697798177404, 0.6834558840858509, 0.6001367317625699, 0.608903957138136, 0.7232335242433956, 0.5839154575530269, 0.5926587542683298, 0.6146357124266836, 0.573389387105427, 0.5596318075352333, 0.7644956156962642, 0.5746370199254255, 0.5677288256684719, 0.6392975337803724, 0.6638299167983632, 0.5389431730939448, 0.5294235009246699, 0.5477248419947854, 0.5086555543744792, 0.6634225263768551, 0.5218730955151835, 0.7029291152439986, 0.43616990653131327, 0.7359014754126091, 0.5501254610398516, 0.5976313445870448, 0.6829059620792964, 0.7375819436078371, 0.6089237298261841, 0.4606147125342726, 0.7155786550689254, 0.5762465931006182, 0.4697297889104929, 0.6790966178691197, 0.5447906868735625, 0.5993214307312871, 0.6815032024774985, 0.7006558980529058, 0.7216401765149865, 0.6591151683084285, 0.43435292488656996]}, {\"mode\": \"markers\", \"name\": \"conv5_Full\", \"type\": \"scatter\", \"x\": [4, 4, 4, 4, 4, 4, 4, 4, 4, 4, 4, 4, 4, 4, 4, 4, 4, 4, 4, 4], \"y\": [0.9857924441931637, 1.0176749430802199, 1.0020656315001721, 1.0136850437070581, 0.9488173727415644, 1.0140359628501554, 0.9966872452689116, 0.9799146032699098, 1.006453785950566, 0.9836244427744584, 1.0040554449838253, 0.9678214095680082, 1.012004840848588, 0.995638959541408, 1.0011488310040835, 0.9797811088997547, 1.0468111916567187, 1.0067433833649506, 1.0083870621137132, 1.0288562926827698]}, {\"name\": \"conv5_Full\", \"type\": \"box\", \"x0\": 4.4, \"y\": [0.9857924441931637, 1.0176749430802199, 1.0020656315001721, 1.0136850437070581, 0.9488173727415644, 1.0140359628501554, 0.9966872452689116, 0.9799146032699098, 1.006453785950566, 0.9836244427744584, 1.0040554449838253, 0.9678214095680082, 1.012004840848588, 0.995638959541408, 1.0011488310040835, 0.9797811088997547, 1.0468111916567187, 1.0067433833649506, 1.0083870621137132, 1.0288562926827698]}, {\"mode\": \"markers\", \"name\": \"conv5_Rand50d\", \"type\": \"scatter\", \"x\": [4, 4, 4, 4, 4, 4, 4, 4, 4, 4, 4, 4, 4, 4, 4, 4, 4, 4, 4, 4, 4, 4, 4, 4, 4, 4, 4, 4, 4, 4, 4, 4, 4, 4, 4, 4, 4, 4, 4, 4, 4, 4, 4, 4, 4, 4, 4, 4, 4, 4, 4, 4, 4, 4, 4, 4, 4, 4, 4, 4, 4, 4, 4, 4, 4, 4, 4, 4, 4, 4, 4, 4, 4, 4, 4, 4, 4, 4, 4, 4, 4, 4, 4, 4, 4, 4, 4, 4, 4, 4, 4, 4, 4, 4, 4, 4, 4, 4, 4, 4], \"y\": [0.506624444305938, 0.3765426275718298, 0.6194506635214697, 0.5103855129395348, 0.616476317331431, 0.6103908158931601, 0.5222580297217397, 0.69364361514115, 0.3708793227959749, 0.6073594281435153, 0.5871296994205629, 0.6269660111505465, 0.6797603726335393, 0.5029765011281466, 0.536500044212388, 0.6429793120617799, 0.4473757011666514, 0.6170310702447461, 0.5488145558821447, 0.4430742914768128, 0.4382794506023717, 0.592433309729445, 0.52495774149953, 0.6101704477710519, 0.5516676775201329, 0.6010113314901171, 0.3590804991901736, 0.5836272272687639, 0.5485018690075674, 0.5960071336683374, 0.620371716824853, 0.5840730645364359, 0.6636541627364714, 0.7462000461277928, 0.6213682613665478, 0.5130966306839482, 0.46190676192662106, 0.48457782484005907, 0.5650750121290806, 0.6277227294132275, 0.4733726509172324, 0.39467074244877304, 0.4385940918920661, 0.5644894068187278, 0.6064073856340358, 0.5200265332647117, 0.6676763959533296, 0.641981461970787, 0.6156600910372659, 0.6618217226668736, 0.3442212178642763, 0.7441291869580656, 0.4469399330456626, 0.6392341562760663, 0.5170944337118433, 0.7056133797107493, 0.5953419133037762, 0.4444944281333172, 0.4783938951476631, 0.5447196770553855, 0.5785907776887226, 0.6281574929648462, 0.6220778274101149, 0.3931173420430973, 0.4382629006151605, 0.34242910910503394, 0.3892716667790833, 0.6575183468354271, 0.5481191671658366, 0.5120937303842927, 0.5370580688166089, 0.3433546067483935, 0.38590033197280843, 0.5860454837255474, 0.7180152928245407, 0.512150052719136, 0.5536152912725788, 0.4793557370945395, 0.5891882731368643, 0.6731046588583774, 0.5152004686543605, 0.5301596674987021, 0.5691965726310179, 0.450605692671661, 0.6520904396339307, 0.37340866429918146, 0.6147143651974448, 0.5592719705811868, 0.6751047682008673, 0.502501316363077, 0.5971565994664507, 0.5906444413904667, 0.6218094510350715, 0.6806494751585892, 0.545409847483331, 0.3736684998801635, 0.5911969584528879, 0.5840441743721756, 0.40280251651459864, 0.6504003669791193]}, {\"name\": \"conv5_Rand50d\", \"type\": \"box\", \"x0\": 4.4, \"y\": [0.506624444305938, 0.3765426275718298, 0.6194506635214697, 0.5103855129395348, 0.616476317331431, 0.6103908158931601, 0.5222580297217397, 0.69364361514115, 0.3708793227959749, 0.6073594281435153, 0.5871296994205629, 0.6269660111505465, 0.6797603726335393, 0.5029765011281466, 0.536500044212388, 0.6429793120617799, 0.4473757011666514, 0.6170310702447461, 0.5488145558821447, 0.4430742914768128, 0.4382794506023717, 0.592433309729445, 0.52495774149953, 0.6101704477710519, 0.5516676775201329, 0.6010113314901171, 0.3590804991901736, 0.5836272272687639, 0.5485018690075674, 0.5960071336683374, 0.620371716824853, 0.5840730645364359, 0.6636541627364714, 0.7462000461277928, 0.6213682613665478, 0.5130966306839482, 0.46190676192662106, 0.48457782484005907, 0.5650750121290806, 0.6277227294132275, 0.4733726509172324, 0.39467074244877304, 0.4385940918920661, 0.5644894068187278, 0.6064073856340358, 0.5200265332647117, 0.6676763959533296, 0.641981461970787, 0.6156600910372659, 0.6618217226668736, 0.3442212178642763, 0.7441291869580656, 0.4469399330456626, 0.6392341562760663, 0.5170944337118433, 0.7056133797107493, 0.5953419133037762, 0.4444944281333172, 0.4783938951476631, 0.5447196770553855, 0.5785907776887226, 0.6281574929648462, 0.6220778274101149, 0.3931173420430973, 0.4382629006151605, 0.34242910910503394, 0.3892716667790833, 0.6575183468354271, 0.5481191671658366, 0.5120937303842927, 0.5370580688166089, 0.3433546067483935, 0.38590033197280843, 0.5860454837255474, 0.7180152928245407, 0.512150052719136, 0.5536152912725788, 0.4793557370945395, 0.5891882731368643, 0.6731046588583774, 0.5152004686543605, 0.5301596674987021, 0.5691965726310179, 0.450605692671661, 0.6520904396339307, 0.37340866429918146, 0.6147143651974448, 0.5592719705811868, 0.6751047682008673, 0.502501316363077, 0.5971565994664507, 0.5906444413904667, 0.6218094510350715, 0.6806494751585892, 0.545409847483331, 0.3736684998801635, 0.5911969584528879, 0.5840441743721756, 0.40280251651459864, 0.6504003669791193]}, {\"mode\": \"markers\", \"name\": \"fc6_Full\", \"type\": \"scatter\", \"x\": [5, 5, 5, 5, 5, 5, 5, 5, 5, 5, 5, 5, 5, 5, 5, 5, 5, 5, 5, 5], \"y\": [1.0529880342775806, 1.0779984852857791, 0.8869838875525395, 1.0882758721282908, 0.9816751961107245, 1.0679456064455435, 0.9591349242599422, 1.0747136645530087, 0.980818013387672, 0.9276353548881624, 0.959828227420411, 0.9471837562669975, 0.9300299370468099, 1.0707085727927808, 1.0229890510626496, 0.9811543745082053, 0.9511928976237799, 1.0760568871927367, 1.0038825856890206, 0.9588046715073663]}, {\"name\": \"fc6_Full\", \"type\": \"box\", \"x0\": 5.4, \"y\": [1.0529880342775806, 1.0779984852857791, 0.8869838875525395, 1.0882758721282908, 0.9816751961107245, 1.0679456064455435, 0.9591349242599422, 1.0747136645530087, 0.980818013387672, 0.9276353548881624, 0.959828227420411, 0.9471837562669975, 0.9300299370468099, 1.0707085727927808, 1.0229890510626496, 0.9811543745082053, 0.9511928976237799, 1.0760568871927367, 1.0038825856890206, 0.9588046715073663]}, {\"mode\": \"markers\", \"name\": \"fc6_Rand50d\", \"type\": \"scatter\", \"x\": [5, 5, 5, 5, 5, 5, 5, 5, 5, 5, 5, 5, 5, 5, 5, 5, 5, 5, 5, 5, 5, 5, 5, 5, 5, 5, 5, 5, 5, 5, 5, 5, 5, 5, 5, 5, 5, 5, 5, 5, 5, 5, 5, 5, 5, 5, 5, 5, 5, 5, 5, 5, 5, 5, 5, 5, 5, 5, 5, 5, 5, 5, 5, 5, 5, 5, 5, 5, 5, 5, 5, 5, 5, 5, 5, 5, 5, 5, 5, 5, 5, 5, 5, 5, 5, 5, 5, 5, 5, 5, 5, 5, 5, 5, 5, 5, 5, 5, 5, 5], \"y\": [0.42484491396477037, 0.45010134059322177, 0.4073807162703998, 0.37891661168515495, 0.3775162326591566, 0.42475554765825346, 0.3495819049923018, 0.3208444220638101, 0.340965742833054, 0.3499703401195368, 0.3230280175241141, 0.43515802694601347, 0.3607459666280759, 0.3337587145742351, 0.3624388814427668, 0.34725800052385675, 0.40142390922036797, 0.3207198833805066, 0.36938094650151476, 0.45045865973484994, 0.3494428869629282, 0.3909250345864338, 0.3744184441739692, 0.3290276476987855, 0.42936331926679133, 0.4275989759558252, 0.40655442191301355, 0.3699985303599631, 0.39519075117861174, 0.3712088909006505, 0.42919975905158697, 0.2931673490948598, 0.47948535588036445, 0.2744901987103294, 0.36368293992659595, 0.4581052696612808, 0.3703532437628687, 0.44395720912672787, 0.3586077320848832, 0.42543833953370563, 0.4189956998030636, 0.4046079962388434, 0.39999917146341635, 0.3764020738178282, 0.4095307598720016, 0.36559955418317674, 0.2998809211037158, 0.36121368823550454, 0.3326949990295866, 0.3284835001483269, 0.44499330791769165, 0.38960360230937446, 0.3580303825989146, 0.40547608093785537, 0.39284204293126995, 0.3921124021158114, 0.4837516194398623, 0.3932233810725969, 0.4194840974546459, 0.40603950823701135, 0.39566762174872616, 0.3473244009975642, 0.34934225516800943, 0.3734366140536118, 0.36853090832674607, 0.36055408641548986, 0.44928608410429677, 0.3544788014877363, 0.3589526374464691, 0.3888985750233101, 0.403886125077177, 0.38269632573109535, 0.34260250686598825, 0.4013745836395157, 0.37907028572085105, 0.448359171541242, 0.4127894994363582, 0.31217954583996826, 0.30885326090757637, 0.34023042171101886, 0.3733429399547868, 0.3386497201297152, 0.3679916359197906, 0.3911536431449523, 0.3679732360750426, 0.5245083898751542, 0.39280373483500364, 0.412378057708563, 0.35524829617666953, 0.3689559155235365, 0.3798123437136645, 0.4113612046931711, 0.34803314494355364, 0.34885092563570014, 0.4110959017618455, 0.28775089989314184, 0.35034916764689245, 0.3498001993099313, 0.40375503977259786, 0.3697742227991276]}, {\"name\": \"fc6_Rand50d\", \"type\": \"box\", \"x0\": 5.4, \"y\": [0.42484491396477037, 0.45010134059322177, 0.4073807162703998, 0.37891661168515495, 0.3775162326591566, 0.42475554765825346, 0.3495819049923018, 0.3208444220638101, 0.340965742833054, 0.3499703401195368, 0.3230280175241141, 0.43515802694601347, 0.3607459666280759, 0.3337587145742351, 0.3624388814427668, 0.34725800052385675, 0.40142390922036797, 0.3207198833805066, 0.36938094650151476, 0.45045865973484994, 0.3494428869629282, 0.3909250345864338, 0.3744184441739692, 0.3290276476987855, 0.42936331926679133, 0.4275989759558252, 0.40655442191301355, 0.3699985303599631, 0.39519075117861174, 0.3712088909006505, 0.42919975905158697, 0.2931673490948598, 0.47948535588036445, 0.2744901987103294, 0.36368293992659595, 0.4581052696612808, 0.3703532437628687, 0.44395720912672787, 0.3586077320848832, 0.42543833953370563, 0.4189956998030636, 0.4046079962388434, 0.39999917146341635, 0.3764020738178282, 0.4095307598720016, 0.36559955418317674, 0.2998809211037158, 0.36121368823550454, 0.3326949990295866, 0.3284835001483269, 0.44499330791769165, 0.38960360230937446, 0.3580303825989146, 0.40547608093785537, 0.39284204293126995, 0.3921124021158114, 0.4837516194398623, 0.3932233810725969, 0.4194840974546459, 0.40603950823701135, 0.39566762174872616, 0.3473244009975642, 0.34934225516800943, 0.3734366140536118, 0.36853090832674607, 0.36055408641548986, 0.44928608410429677, 0.3544788014877363, 0.3589526374464691, 0.3888985750233101, 0.403886125077177, 0.38269632573109535, 0.34260250686598825, 0.4013745836395157, 0.37907028572085105, 0.448359171541242, 0.4127894994363582, 0.31217954583996826, 0.30885326090757637, 0.34023042171101886, 0.3733429399547868, 0.3386497201297152, 0.3679916359197906, 0.3911536431449523, 0.3679732360750426, 0.5245083898751542, 0.39280373483500364, 0.412378057708563, 0.35524829617666953, 0.3689559155235365, 0.3798123437136645, 0.4113612046931711, 0.34803314494355364, 0.34885092563570014, 0.4110959017618455, 0.28775089989314184, 0.35034916764689245, 0.3498001993099313, 0.40375503977259786, 0.3697742227991276]}, {\"mode\": \"markers\", \"name\": \"fc7_Full\", \"type\": \"scatter\", \"x\": [6, 6, 6, 6, 6, 6, 6, 6, 6, 6, 6, 6, 6, 6, 6, 6, 6, 6, 6, 6], \"y\": [0.989832987206398, 0.8642563004209887, 1.0095900768395432, 0.9782751357851199, 0.926890953701822, 0.9740341833666747, 0.9269450925060542, 1.062087496647362, 0.7963008313750211, 0.8829249016674483, 1.1448602900162135, 1.1397726481569512, 1.0782189840049612, 0.8659920003724945, 1.0818512694952003, 0.9776278467855483, 1.098577116221564, 1.1373910649444368, 1.0568230533812102, 1.0077477671049866]}, {\"name\": \"fc7_Full\", \"type\": \"box\", \"x0\": 6.4, \"y\": [0.989832987206398, 0.8642563004209887, 1.0095900768395432, 0.9782751357851199, 0.926890953701822, 0.9740341833666747, 0.9269450925060542, 1.062087496647362, 0.7963008313750211, 0.8829249016674483, 1.1448602900162135, 1.1397726481569512, 1.0782189840049612, 0.8659920003724945, 1.0818512694952003, 0.9776278467855483, 1.098577116221564, 1.1373910649444368, 1.0568230533812102, 1.0077477671049866]}, {\"mode\": \"markers\", \"name\": \"fc7_Rand50d\", \"type\": \"scatter\", \"x\": [6, 6, 6, 6, 6, 6, 6, 6, 6, 6, 6, 6, 6, 6, 6, 6, 6, 6, 6, 6, 6, 6, 6, 6, 6, 6, 6, 6, 6, 6, 6, 6, 6, 6, 6, 6, 6, 6, 6, 6, 6, 6, 6, 6, 6, 6, 6, 6, 6, 6, 6, 6, 6, 6, 6, 6, 6, 6, 6, 6, 6, 6, 6, 6, 6, 6, 6, 6, 6, 6, 6, 6, 6, 6, 6, 6, 6, 6, 6, 6, 6, 6, 6, 6, 6, 6, 6, 6, 6, 6, 6, 6, 6, 6, 6, 6, 6, 6, 6, 6], \"y\": [0.3141355331678923, 0.2174575908905382, 0.2407911861886136, 0.4007204691282911, 0.3461695005624933, 0.2849900636724785, 0.2623962561627217, 0.29955267531557617, 0.22480989991168532, 0.2570686663459742, 0.31119205063872724, 0.24780734499763193, 0.22933786274687878, 0.24706682753569476, 0.22986709800062818, 0.2693289239293568, 0.3144748433135281, 0.2788374929496292, 0.2044737189579602, 0.1986759051245112, 0.2782871984217723, 0.23883477485881338, 0.2700432461083902, 0.2788992248268831, 0.2937693119980329, 0.2362386303742174, 0.30324855856275085, 0.2871154063579975, 0.3192232613966846, 0.20119283981499564, 0.24670523405122818, 0.24317312232489866, 0.28787469579061764, 0.25783453475419943, 0.290359171918118, 0.2724955078901992, 0.2877826467190804, 0.20861637540521608, 0.23473536125279684, 0.30211574473743696, 0.2990841593307939, 0.32977803496201596, 0.34724008663031863, 0.29231351186831966, 0.3139449930491574, 0.2895450497467632, 0.30524861777710527, 0.26324450174421465, 0.2986838097532768, 0.23770437789121945, 0.2617280136172608, 0.4026040188244607, 0.26808041365074725, 0.26890894017498296, 0.32143226637451777, 0.25850454191851324, 0.3336098191760692, 0.3016685113962372, 0.19565578750671705, 0.23776752742007506, 0.25185084922404405, 0.24475254852427175, 0.2197232661933207, 0.21493686487549726, 0.27226256479945116, 0.2353842823386662, 0.292912276083132, 0.3032541308865884, 0.3357024575921816, 0.31184231789796624, 0.2596401433948758, 0.2817996298082203, 0.3006181655811108, 0.3230191486469679, 0.29227855007808523, 0.2976924334795629, 0.2837263583130464, 0.31143485027984424, 0.2667580544454274, 0.2960155005478123, 0.2454760199170031, 0.26843850768010474, 0.3096286698133117, 0.22194997245748643, 0.30883333748219793, 0.27650587451042313, 0.2691623066813995, 0.2106825787885215, 0.29564088313382064, 0.24097714574398013, 0.33005874784869765, 0.2721709460864359, 0.33032440861102086, 0.29049714575372504, 0.27081239506963894, 0.22293881423222342, 0.2375543033865842, 0.3267107193741443, 0.2882540188548836, 0.21827861815693164]}, {\"name\": \"fc7_Rand50d\", \"type\": \"box\", \"x0\": 6.4, \"y\": [0.3141355331678923, 0.2174575908905382, 0.2407911861886136, 0.4007204691282911, 0.3461695005624933, 0.2849900636724785, 0.2623962561627217, 0.29955267531557617, 0.22480989991168532, 0.2570686663459742, 0.31119205063872724, 0.24780734499763193, 0.22933786274687878, 0.24706682753569476, 0.22986709800062818, 0.2693289239293568, 0.3144748433135281, 0.2788374929496292, 0.2044737189579602, 0.1986759051245112, 0.2782871984217723, 0.23883477485881338, 0.2700432461083902, 0.2788992248268831, 0.2937693119980329, 0.2362386303742174, 0.30324855856275085, 0.2871154063579975, 0.3192232613966846, 0.20119283981499564, 0.24670523405122818, 0.24317312232489866, 0.28787469579061764, 0.25783453475419943, 0.290359171918118, 0.2724955078901992, 0.2877826467190804, 0.20861637540521608, 0.23473536125279684, 0.30211574473743696, 0.2990841593307939, 0.32977803496201596, 0.34724008663031863, 0.29231351186831966, 0.3139449930491574, 0.2895450497467632, 0.30524861777710527, 0.26324450174421465, 0.2986838097532768, 0.23770437789121945, 0.2617280136172608, 0.4026040188244607, 0.26808041365074725, 0.26890894017498296, 0.32143226637451777, 0.25850454191851324, 0.3336098191760692, 0.3016685113962372, 0.19565578750671705, 0.23776752742007506, 0.25185084922404405, 0.24475254852427175, 0.2197232661933207, 0.21493686487549726, 0.27226256479945116, 0.2353842823386662, 0.292912276083132, 0.3032541308865884, 0.3357024575921816, 0.31184231789796624, 0.2596401433948758, 0.2817996298082203, 0.3006181655811108, 0.3230191486469679, 0.29227855007808523, 0.2976924334795629, 0.2837263583130464, 0.31143485027984424, 0.2667580544454274, 0.2960155005478123, 0.2454760199170031, 0.26843850768010474, 0.3096286698133117, 0.22194997245748643, 0.30883333748219793, 0.27650587451042313, 0.2691623066813995, 0.2106825787885215, 0.29564088313382064, 0.24097714574398013, 0.33005874784869765, 0.2721709460864359, 0.33032440861102086, 0.29049714575372504, 0.27081239506963894, 0.22293881423222342, 0.2375543033865842, 0.3267107193741443, 0.2882540188548836, 0.21827861815693164]}, {\"mode\": \"markers\", \"name\": \"fc8_Full\", \"type\": \"scatter\", \"x\": [7, 7, 7, 7, 7, 7, 7, 7, 7, 7, 7, 7, 7, 7, 7, 7, 7, 7, 7, 7], \"y\": [0.9678496415589541, 1.0820708760828908, 1.0133601603309679, 1.019098161229146, 0.9458971548351881, 0.8543764059031073, 0.9895983702389423, 1.079383592429944, 1.0947038983203232, 1.0930145476401925, 0.9953267579853591, 0.9253039019054957, 1.0188181566211532, 1.0782709289215873, 0.9379512889830804, 0.9829952327286585, 0.808573195671918, 1.025848546192062, 1.0813939251496378, 1.0061652572713917]}, {\"name\": \"fc8_Full\", \"type\": \"box\", \"x0\": 7.4, \"y\": [0.9678496415589541, 1.0820708760828908, 1.0133601603309679, 1.019098161229146, 0.9458971548351881, 0.8543764059031073, 0.9895983702389423, 1.079383592429944, 1.0947038983203232, 1.0930145476401925, 0.9953267579853591, 0.9253039019054957, 1.0188181566211532, 1.0782709289215873, 0.9379512889830804, 0.9829952327286585, 0.808573195671918, 1.025848546192062, 1.0813939251496378, 1.0061652572713917]}, {\"mode\": \"markers\", \"name\": \"fc8_Rand50d\", \"type\": \"scatter\", \"x\": [7, 7, 7, 7, 7, 7, 7, 7, 7, 7, 7, 7, 7, 7, 7, 7, 7, 7, 7, 7, 7, 7, 7, 7, 7, 7, 7, 7, 7, 7, 7, 7, 7, 7, 7, 7, 7, 7, 7, 7, 7, 7, 7, 7, 7, 7, 7, 7, 7, 7, 7, 7, 7, 7, 7, 7, 7, 7, 7, 7, 7, 7, 7, 7, 7, 7, 7, 7, 7, 7, 7, 7, 7, 7, 7, 7, 7, 7, 7, 7, 7, 7, 7, 7, 7, 7, 7, 7, 7, 7, 7, 7, 7, 7, 7, 7, 7, 7, 7, 7], \"y\": [0.34044217555348855, 0.32520136243028464, 0.26791373693468046, 0.3677991942319706, 0.36550578712539744, 0.32074133243746283, 0.2595080080120163, 0.4207388092203576, 0.3207878750684316, 0.24571668135830302, 0.26682223255358983, 0.29124659501684347, 0.32001328321159894, 0.2925385994771467, 0.48215980377430756, 0.2655715720948771, 0.3212690188028383, 0.24797563480350623, 0.3662775463957099, 0.2721612719715302, 0.24436884455940514, 0.27319823779056834, 0.2963349377860047, 0.32415522647993744, 0.17773000706536465, 0.1843841321131463, 0.34154913664372244, 0.29620641480841825, 0.22277105255546176, 0.27058101017710934, 0.1781068528078022, 0.3304665624924852, 0.4082661133402378, 0.33803387716944083, 0.27070006310246103, 0.28484946005661127, 0.26426694547221824, 0.30442879795265776, 0.3009125465830272, 0.2949658105219191, 0.21214172165147382, 0.3551210387958934, 0.31144226845487744, 0.29025573860965925, 0.24504265710440973, 0.34431719703904934, 0.18662451986497025, 0.29098321935795163, 0.2580918166858101, 0.323765484137696, 0.3578052879547688, 0.3022642921552962, 0.21436896188925536, 0.29014228420825344, 0.22823663312055817, 0.34701023799760866, 0.3199285643713004, 0.3017551812846376, 0.37945330985282594, 0.3810149569471803, 0.265873804175917, 0.306696025686928, 0.31563845036434274, 0.35715835067702534, 0.33939918779272715, 0.3703584410536681, 0.2278018712751862, 0.37164052263994685, 0.32471557090166375, 0.4120402006528389, 0.30208508254127125, 0.23672036500710683, 0.366162951118626, 0.22698192078894758, 0.2951759080707533, 0.22962110731880767, 0.2856306932996935, 0.2813813410948823, 0.2870517010031178, 0.21809175292222927, 0.331655786207855, 0.3130480999784124, 0.28502806982878487, 0.31898028889449165, 0.3036686003399898, 0.15534445804813887, 0.19240828712819183, 0.2416401973021929, 0.2470982210361229, 0.24154008448131076, 0.2675065168475156, 0.19036046233252144, 0.2128473081721922, 0.27982584531990545, 0.25461642317143296, 0.3094383418893344, 0.27641778503347525, 0.37364946749025924, 0.29475289998923965, 0.26222734203839276]}, {\"name\": \"fc8_Rand50d\", \"type\": \"box\", \"x0\": 7.4, \"y\": [0.34044217555348855, 0.32520136243028464, 0.26791373693468046, 0.3677991942319706, 0.36550578712539744, 0.32074133243746283, 0.2595080080120163, 0.4207388092203576, 0.3207878750684316, 0.24571668135830302, 0.26682223255358983, 0.29124659501684347, 0.32001328321159894, 0.2925385994771467, 0.48215980377430756, 0.2655715720948771, 0.3212690188028383, 0.24797563480350623, 0.3662775463957099, 0.2721612719715302, 0.24436884455940514, 0.27319823779056834, 0.2963349377860047, 0.32415522647993744, 0.17773000706536465, 0.1843841321131463, 0.34154913664372244, 0.29620641480841825, 0.22277105255546176, 0.27058101017710934, 0.1781068528078022, 0.3304665624924852, 0.4082661133402378, 0.33803387716944083, 0.27070006310246103, 0.28484946005661127, 0.26426694547221824, 0.30442879795265776, 0.3009125465830272, 0.2949658105219191, 0.21214172165147382, 0.3551210387958934, 0.31144226845487744, 0.29025573860965925, 0.24504265710440973, 0.34431719703904934, 0.18662451986497025, 0.29098321935795163, 0.2580918166858101, 0.323765484137696, 0.3578052879547688, 0.3022642921552962, 0.21436896188925536, 0.29014228420825344, 0.22823663312055817, 0.34701023799760866, 0.3199285643713004, 0.3017551812846376, 0.37945330985282594, 0.3810149569471803, 0.265873804175917, 0.306696025686928, 0.31563845036434274, 0.35715835067702534, 0.33939918779272715, 0.3703584410536681, 0.2278018712751862, 0.37164052263994685, 0.32471557090166375, 0.4120402006528389, 0.30208508254127125, 0.23672036500710683, 0.366162951118626, 0.22698192078894758, 0.2951759080707533, 0.22962110731880767, 0.2856306932996935, 0.2813813410948823, 0.2870517010031178, 0.21809175292222927, 0.331655786207855, 0.3130480999784124, 0.28502806982878487, 0.31898028889449165, 0.3036686003399898, 0.15534445804813887, 0.19240828712819183, 0.2416401973021929, 0.2470982210361229, 0.24154008448131076, 0.2675065168475156, 0.19036046233252144, 0.2128473081721922, 0.27982584531990545, 0.25461642317143296, 0.3094383418893344, 0.27641778503347525, 0.37364946749025924, 0.29475289998923965, 0.26222734203839276]}],\n",
       "                        {\"template\": {\"data\": {\"bar\": [{\"error_x\": {\"color\": \"#2a3f5f\"}, \"error_y\": {\"color\": \"#2a3f5f\"}, \"marker\": {\"line\": {\"color\": \"#E5ECF6\", \"width\": 0.5}}, \"type\": \"bar\"}], \"barpolar\": [{\"marker\": {\"line\": {\"color\": \"#E5ECF6\", \"width\": 0.5}}, \"type\": \"barpolar\"}], \"carpet\": [{\"aaxis\": {\"endlinecolor\": \"#2a3f5f\", \"gridcolor\": \"white\", \"linecolor\": \"white\", \"minorgridcolor\": \"white\", \"startlinecolor\": \"#2a3f5f\"}, \"baxis\": {\"endlinecolor\": \"#2a3f5f\", \"gridcolor\": \"white\", \"linecolor\": \"white\", \"minorgridcolor\": \"white\", \"startlinecolor\": \"#2a3f5f\"}, \"type\": \"carpet\"}], \"choropleth\": [{\"colorbar\": {\"outlinewidth\": 0, \"ticks\": \"\"}, \"type\": \"choropleth\"}], \"contour\": [{\"colorbar\": {\"outlinewidth\": 0, \"ticks\": \"\"}, \"colorscale\": [[0.0, \"#0d0887\"], [0.1111111111111111, \"#46039f\"], [0.2222222222222222, \"#7201a8\"], [0.3333333333333333, \"#9c179e\"], [0.4444444444444444, \"#bd3786\"], [0.5555555555555556, \"#d8576b\"], [0.6666666666666666, \"#ed7953\"], [0.7777777777777778, \"#fb9f3a\"], [0.8888888888888888, \"#fdca26\"], [1.0, \"#f0f921\"]], \"type\": \"contour\"}], \"contourcarpet\": [{\"colorbar\": {\"outlinewidth\": 0, \"ticks\": \"\"}, \"type\": \"contourcarpet\"}], \"heatmap\": [{\"colorbar\": {\"outlinewidth\": 0, \"ticks\": \"\"}, \"colorscale\": [[0.0, \"#0d0887\"], [0.1111111111111111, \"#46039f\"], [0.2222222222222222, \"#7201a8\"], [0.3333333333333333, \"#9c179e\"], [0.4444444444444444, \"#bd3786\"], [0.5555555555555556, \"#d8576b\"], [0.6666666666666666, \"#ed7953\"], [0.7777777777777778, \"#fb9f3a\"], [0.8888888888888888, \"#fdca26\"], [1.0, \"#f0f921\"]], \"type\": \"heatmap\"}], \"heatmapgl\": [{\"colorbar\": {\"outlinewidth\": 0, \"ticks\": \"\"}, \"colorscale\": [[0.0, \"#0d0887\"], [0.1111111111111111, \"#46039f\"], [0.2222222222222222, \"#7201a8\"], [0.3333333333333333, \"#9c179e\"], [0.4444444444444444, \"#bd3786\"], [0.5555555555555556, \"#d8576b\"], [0.6666666666666666, \"#ed7953\"], [0.7777777777777778, \"#fb9f3a\"], [0.8888888888888888, \"#fdca26\"], [1.0, \"#f0f921\"]], \"type\": \"heatmapgl\"}], \"histogram\": [{\"marker\": {\"colorbar\": {\"outlinewidth\": 0, \"ticks\": \"\"}}, \"type\": \"histogram\"}], \"histogram2d\": [{\"colorbar\": {\"outlinewidth\": 0, \"ticks\": \"\"}, \"colorscale\": [[0.0, \"#0d0887\"], [0.1111111111111111, \"#46039f\"], [0.2222222222222222, \"#7201a8\"], [0.3333333333333333, \"#9c179e\"], [0.4444444444444444, \"#bd3786\"], [0.5555555555555556, \"#d8576b\"], [0.6666666666666666, \"#ed7953\"], [0.7777777777777778, \"#fb9f3a\"], [0.8888888888888888, \"#fdca26\"], [1.0, \"#f0f921\"]], \"type\": \"histogram2d\"}], \"histogram2dcontour\": [{\"colorbar\": {\"outlinewidth\": 0, \"ticks\": \"\"}, \"colorscale\": [[0.0, \"#0d0887\"], [0.1111111111111111, \"#46039f\"], [0.2222222222222222, \"#7201a8\"], [0.3333333333333333, \"#9c179e\"], [0.4444444444444444, \"#bd3786\"], [0.5555555555555556, \"#d8576b\"], [0.6666666666666666, \"#ed7953\"], [0.7777777777777778, \"#fb9f3a\"], [0.8888888888888888, \"#fdca26\"], [1.0, \"#f0f921\"]], \"type\": \"histogram2dcontour\"}], \"mesh3d\": [{\"colorbar\": {\"outlinewidth\": 0, \"ticks\": \"\"}, \"type\": \"mesh3d\"}], \"parcoords\": [{\"line\": {\"colorbar\": {\"outlinewidth\": 0, \"ticks\": \"\"}}, \"type\": \"parcoords\"}], \"scatter\": [{\"marker\": {\"colorbar\": {\"outlinewidth\": 0, \"ticks\": \"\"}}, \"type\": \"scatter\"}], \"scatter3d\": [{\"line\": {\"colorbar\": {\"outlinewidth\": 0, \"ticks\": \"\"}}, \"marker\": {\"colorbar\": {\"outlinewidth\": 0, \"ticks\": \"\"}}, \"type\": \"scatter3d\"}], \"scattercarpet\": [{\"marker\": {\"colorbar\": {\"outlinewidth\": 0, \"ticks\": \"\"}}, \"type\": \"scattercarpet\"}], \"scattergeo\": [{\"marker\": {\"colorbar\": {\"outlinewidth\": 0, \"ticks\": \"\"}}, \"type\": \"scattergeo\"}], \"scattergl\": [{\"marker\": {\"colorbar\": {\"outlinewidth\": 0, \"ticks\": \"\"}}, \"type\": \"scattergl\"}], \"scattermapbox\": [{\"marker\": {\"colorbar\": {\"outlinewidth\": 0, \"ticks\": \"\"}}, \"type\": \"scattermapbox\"}], \"scatterpolar\": [{\"marker\": {\"colorbar\": {\"outlinewidth\": 0, \"ticks\": \"\"}}, \"type\": \"scatterpolar\"}], \"scatterpolargl\": [{\"marker\": {\"colorbar\": {\"outlinewidth\": 0, \"ticks\": \"\"}}, \"type\": \"scatterpolargl\"}], \"scatterternary\": [{\"marker\": {\"colorbar\": {\"outlinewidth\": 0, \"ticks\": \"\"}}, \"type\": \"scatterternary\"}], \"surface\": [{\"colorbar\": {\"outlinewidth\": 0, \"ticks\": \"\"}, \"colorscale\": [[0.0, \"#0d0887\"], [0.1111111111111111, \"#46039f\"], [0.2222222222222222, \"#7201a8\"], [0.3333333333333333, \"#9c179e\"], [0.4444444444444444, \"#bd3786\"], [0.5555555555555556, \"#d8576b\"], [0.6666666666666666, \"#ed7953\"], [0.7777777777777778, \"#fb9f3a\"], [0.8888888888888888, \"#fdca26\"], [1.0, \"#f0f921\"]], \"type\": \"surface\"}], \"table\": [{\"cells\": {\"fill\": {\"color\": \"#EBF0F8\"}, \"line\": {\"color\": \"white\"}}, \"header\": {\"fill\": {\"color\": \"#C8D4E3\"}, \"line\": {\"color\": \"white\"}}, \"type\": \"table\"}]}, \"layout\": {\"annotationdefaults\": {\"arrowcolor\": \"#2a3f5f\", \"arrowhead\": 0, \"arrowwidth\": 1}, \"colorscale\": {\"diverging\": [[0, \"#8e0152\"], [0.1, \"#c51b7d\"], [0.2, \"#de77ae\"], [0.3, \"#f1b6da\"], [0.4, \"#fde0ef\"], [0.5, \"#f7f7f7\"], [0.6, \"#e6f5d0\"], [0.7, \"#b8e186\"], [0.8, \"#7fbc41\"], [0.9, \"#4d9221\"], [1, \"#276419\"]], \"sequential\": [[0.0, \"#0d0887\"], [0.1111111111111111, \"#46039f\"], [0.2222222222222222, \"#7201a8\"], [0.3333333333333333, \"#9c179e\"], [0.4444444444444444, \"#bd3786\"], [0.5555555555555556, \"#d8576b\"], [0.6666666666666666, \"#ed7953\"], [0.7777777777777778, \"#fb9f3a\"], [0.8888888888888888, \"#fdca26\"], [1.0, \"#f0f921\"]], \"sequentialminus\": [[0.0, \"#0d0887\"], [0.1111111111111111, \"#46039f\"], [0.2222222222222222, \"#7201a8\"], [0.3333333333333333, \"#9c179e\"], [0.4444444444444444, \"#bd3786\"], [0.5555555555555556, \"#d8576b\"], [0.6666666666666666, \"#ed7953\"], [0.7777777777777778, \"#fb9f3a\"], [0.8888888888888888, \"#fdca26\"], [1.0, \"#f0f921\"]]}, \"colorway\": [\"#636efa\", \"#EF553B\", \"#00cc96\", \"#ab63fa\", \"#FFA15A\", \"#19d3f3\", \"#FF6692\", \"#B6E880\", \"#FF97FF\", \"#FECB52\"], \"font\": {\"color\": \"#2a3f5f\"}, \"geo\": {\"bgcolor\": \"white\", \"lakecolor\": \"white\", \"landcolor\": \"#E5ECF6\", \"showlakes\": true, \"showland\": true, \"subunitcolor\": \"white\"}, \"hoverlabel\": {\"align\": \"left\"}, \"hovermode\": \"closest\", \"mapbox\": {\"style\": \"light\"}, \"paper_bgcolor\": \"white\", \"plot_bgcolor\": \"#E5ECF6\", \"polar\": {\"angularaxis\": {\"gridcolor\": \"white\", \"linecolor\": \"white\", \"ticks\": \"\"}, \"bgcolor\": \"#E5ECF6\", \"radialaxis\": {\"gridcolor\": \"white\", \"linecolor\": \"white\", \"ticks\": \"\"}}, \"scene\": {\"xaxis\": {\"backgroundcolor\": \"#E5ECF6\", \"gridcolor\": \"white\", \"gridwidth\": 2, \"linecolor\": \"white\", \"showbackground\": true, \"ticks\": \"\", \"zerolinecolor\": \"white\"}, \"yaxis\": {\"backgroundcolor\": \"#E5ECF6\", \"gridcolor\": \"white\", \"gridwidth\": 2, \"linecolor\": \"white\", \"showbackground\": true, \"ticks\": \"\", \"zerolinecolor\": \"white\"}, \"zaxis\": {\"backgroundcolor\": \"#E5ECF6\", \"gridcolor\": \"white\", \"gridwidth\": 2, \"linecolor\": \"white\", \"showbackground\": true, \"ticks\": \"\", \"zerolinecolor\": \"white\"}}, \"shapedefaults\": {\"line\": {\"color\": \"#2a3f5f\"}}, \"ternary\": {\"aaxis\": {\"gridcolor\": \"white\", \"linecolor\": \"white\", \"ticks\": \"\"}, \"baxis\": {\"gridcolor\": \"white\", \"linecolor\": \"white\", \"ticks\": \"\"}, \"bgcolor\": \"#E5ECF6\", \"caxis\": {\"gridcolor\": \"white\", \"linecolor\": \"white\", \"ticks\": \"\"}}, \"title\": {\"x\": 0.05}, \"xaxis\": {\"automargin\": true, \"gridcolor\": \"white\", \"linecolor\": \"white\", \"ticks\": \"\", \"zerolinecolor\": \"white\", \"zerolinewidth\": 2}, \"yaxis\": {\"automargin\": true, \"gridcolor\": \"white\", \"linecolor\": \"white\", \"ticks\": \"\", \"zerolinecolor\": \"white\", \"zerolinewidth\": 2}}}, \"xaxis\": {\"tickmode\": \"array\", \"ticktext\": [[\"caffe-net\", \"conv1\", 5, 10, 10], [\"caffe-net\", \"conv2\", 5, 10, 10], [\"caffe-net\", \"conv3\", 5, 10, 10], [\"caffe-net\", \"conv4\", 5, 10, 10], [\"caffe-net\", \"conv5\", 5, 10, 10], [\"caffe-net\", \"fc6\", 1], [\"caffe-net\", \"fc7\", 1], [\"caffe-net\", \"fc8\", 1]], \"tickvals\": [0.3, 1.3, 2.3, 3.3, 4.3, 5.3, 6.3, 7.3]}, \"yaxis\": {\"title\": {\"text\": \"Activation normalized by mean of maxima\"}}},\n",
       "                        {\"responsive\": true}\n",
       "                    ).then(function(){\n",
       "                            \n",
       "var gd = document.getElementById('8283bbdd-0577-4f8f-8b11-aef6356e25b3');\n",
       "var x = new MutationObserver(function (mutations, observer) {{\n",
       "        var display = window.getComputedStyle(gd).display;\n",
       "        if (!display || display === 'none') {{\n",
       "            console.log([gd, 'removed!']);\n",
       "            Plotly.purge(gd);\n",
       "            observer.disconnect();\n",
       "        }}\n",
       "}});\n",
       "\n",
       "// Listen for the removal of the full notebook cells\n",
       "var notebookContainer = gd.closest('#notebook-container');\n",
       "if (notebookContainer) {{\n",
       "    x.observe(notebookContainer, {childList: true});\n",
       "}}\n",
       "\n",
       "// Listen for the clearing of the current output cell\n",
       "var outputEl = gd.closest('.output');\n",
       "if (outputEl) {{\n",
       "    x.observe(outputEl, {childList: true});\n",
       "}}\n",
       "\n",
       "                        })\n",
       "                };\n",
       "                });\n",
       "            </script>\n",
       "        </div>"
      ]
     },
     "metadata": {},
     "output_type": "display_data"
    }
   ],
   "source": [
    "layout = go.Layout(\n",
    "    xaxis = go.layout.XAxis(\n",
    "        tickmode = 'array',\n",
    "        tickvals = 0.3+np.arange(len(layer_names)),\n",
    "        ticktext = unit_arr#layer_names\n",
    "    ), \n",
    "    yaxis=go.layout.YAxis(\n",
    "        title=go.layout.yaxis.Title(text=\"Activation normalized by mean of maxima\",))\n",
    ")\n",
    "fig3 = go.Figure(\n",
    "    layout = layout\n",
    ")\n",
    "for i, unit in enumerate(unit_arr):\n",
    "    best_scores = np.load(join(basedir, \"%s_%s_%d_full\" % (unit[0], unit[1], unit[2]), \"best_scores.npy\"))\n",
    "    normalizer = best_scores.mean()\n",
    "    fig3.add_scatter(\n",
    "        x=[i]*best_scores.shape[0],\n",
    "        y=best_scores.mean(axis=1) / normalizer,\n",
    "        mode='markers', name=layer_names[i]+\"_Full\", #showlegend=True\n",
    "    )\n",
    "    fig3.add_box(\n",
    "        x0=i+0.4, y=best_scores.mean(axis=1) / normalizer,\n",
    "        name=layer_names[i]+\"_Full\", #showlegend=True\n",
    "    )\n",
    "    best_scores = np.load(join(basedir, \"%s_%s_%d\" % (unit[0], unit[1], unit[2]), \"best_scores.npy\"))\n",
    "    fig3.add_scatter(\n",
    "        x=[i]*best_scores.shape[0],\n",
    "        y=best_scores.mean(axis=1) / normalizer,\n",
    "        mode='markers', name=layer_names[i]+\"_Rand50d\", #showlegend=True\n",
    "    )\n",
    "    fig3.add_box(\n",
    "        x0=i+0.4, y=best_scores.mean(axis=1) / normalizer,\n",
    "        name=layer_names[i]+\"_Rand50d\", #showlegend=True\n",
    "    )\n",
    "\n",
    "fig3.show()"
   ]
  },
  {
   "cell_type": "code",
   "execution_count": 52,
   "metadata": {},
   "outputs": [],
   "source": [
    "def exp_func(x, a, b, c):\n",
    "    return a * np.exp(-b * x) + c\n",
    "from scipy.optimize import curve_fit "
   ]
  },
  {
   "cell_type": "code",
   "execution_count": 76,
   "metadata": {},
   "outputs": [],
   "source": [
    "for i, unit in enumerate(unit_arr):\n",
    "#     fit_result = []\n",
    "#     time_const = []\n",
    "#     for triali in range(100):\n",
    "#         data = np.load(join(basedir, \"%s_%s_%d\" % (unit[0], unit[1], unit[2]), \"scores_subspc50trial%03d.npz\" % triali))\n",
    "#         generations = data['generations']\n",
    "#         scores_all = data['scores_all']\n",
    "#         popt, pcov = curve_fit(exp_func, generations, scores_all, p0=[scores_all[0] - scores_all[-1], 0.1, scores_all[-1]])\n",
    "#         time_const.append(popt[1])\n",
    "#         fit_result.append(popt)\n",
    "#     fit_result = np.array(fit_result)\n",
    "#     np.save(join(basedir, \"%s_%s_%d\" % (unit[0], unit[1], unit[2]), 'ExpFuncFit.npy'), fit_result)\n",
    "    \n",
    "    time_const_cont = []\n",
    "    fit_result_cont = []\n",
    "    for triali in range(20):\n",
    "        data = np.load(join(basedir, \"%s_%s_%d_full\" % (unit[0], unit[1], unit[2]), \"scores_trial%03d.npz\" % triali))\n",
    "        generations = data['generations']\n",
    "        scores_all = data['scores_all']\n",
    "        popt, pcov = curve_fit(exp_func, generations, scores_all, p0=[scores_all[0] - scores_all[-1], 0.1, scores_all[-1]])\n",
    "        time_const_cont.append(popt[1])\n",
    "        fit_result_cont.append(popt)\n",
    "    np.save(join(basedir, \"%s_%s_%d_full\" % (unit[0], unit[1], unit[2]), 'ExpFuncFit.npy'), fit_result_cont)\n",
    "    "
   ]
  },
  {
   "cell_type": "code",
   "execution_count": 75,
   "metadata": {},
   "outputs": [
    {
     "data": {
      "text/plain": [
       "83"
      ]
     },
     "execution_count": 75,
     "metadata": {},
     "output_type": "execute_result"
    }
   ],
   "source": [
    "triali"
   ]
  },
  {
   "cell_type": "code",
   "execution_count": 68,
   "metadata": {},
   "outputs": [],
   "source": [
    "curve_fit?"
   ]
  },
  {
   "cell_type": "code",
   "execution_count": 77,
   "metadata": {},
   "outputs": [],
   "source": [
    "for i, unit in enumerate(unit_arr):\n",
    "    fit_result_cont = np.load(join(basedir, \"%s_%s_%d_full\" % (unit[0], unit[1], unit[2]), 'ExpFuncFit.npy'))"
   ]
  },
  {
   "cell_type": "code",
   "execution_count": 82,
   "metadata": {},
   "outputs": [
    {
     "data": {
      "application/vnd.plotly.v1+json": {
       "config": {
        "plotlyServerURL": "https://plot.ly"
       },
       "data": [
        {
         "mode": "markers",
         "name": "conv1_Full",
         "type": "scatter",
         "x": [
          0,
          0,
          0,
          0,
          0,
          0,
          0,
          0,
          0,
          0,
          0,
          0,
          0,
          0,
          0,
          0,
          0,
          0,
          0,
          0
         ],
         "y": [
          0.0755264179991101,
          0.059555838899535994,
          0.05878271293868763,
          0.05359084720063809,
          0.0494897775144688,
          0.07192420590378591,
          0.055480189195047575,
          0.06445393197079971,
          0.05574696297370726,
          0.05779014036570482,
          0.07294129868771927,
          0.056907035187515886,
          0.05837284897287925,
          0.05427556010528407,
          0.0699561282898101,
          0.061971564133117926,
          0.06159549025992676,
          0.06400432380499177,
          0.07100687293204394,
          0.04851372386503894
         ]
        },
        {
         "name": "conv1_Full",
         "type": "box",
         "x0": 0.4,
         "y": [
          0.0755264179991101,
          0.059555838899535994,
          0.05878271293868763,
          0.05359084720063809,
          0.0494897775144688,
          0.07192420590378591,
          0.055480189195047575,
          0.06445393197079971,
          0.05574696297370726,
          0.05779014036570482,
          0.07294129868771927,
          0.056907035187515886,
          0.05837284897287925,
          0.05427556010528407,
          0.0699561282898101,
          0.061971564133117926,
          0.06159549025992676,
          0.06400432380499177,
          0.07100687293204394,
          0.04851372386503894
         ]
        },
        {
         "mode": "markers",
         "name": "conv2_Full",
         "type": "scatter",
         "x": [
          1,
          1,
          1,
          1,
          1,
          1,
          1,
          1,
          1,
          1,
          1,
          1,
          1,
          1,
          1,
          1,
          1,
          1,
          1,
          1
         ],
         "y": [
          0.03293986967422739,
          0.027686787086449675,
          0.04357856290973606,
          0.01990164180368074,
          0.03818174461396815,
          0.047633847871601034,
          0.046154065951272,
          0.04819213539651209,
          0.042643702365881817,
          0.05584785431735791,
          0.042569417176943486,
          0.040811085666978844,
          0.03542091739289887,
          0.04001717031491066,
          0.04919937799350985,
          0.03174589719924273,
          0.031054603914117393,
          0.04367493452146005,
          0.04132763670867234,
          0.04235250543983839
         ]
        },
        {
         "name": "conv2_Full",
         "type": "box",
         "x0": 1.4,
         "y": [
          0.03293986967422739,
          0.027686787086449675,
          0.04357856290973606,
          0.01990164180368074,
          0.03818174461396815,
          0.047633847871601034,
          0.046154065951272,
          0.04819213539651209,
          0.042643702365881817,
          0.05584785431735791,
          0.042569417176943486,
          0.040811085666978844,
          0.03542091739289887,
          0.04001717031491066,
          0.04919937799350985,
          0.03174589719924273,
          0.031054603914117393,
          0.04367493452146005,
          0.04132763670867234,
          0.04235250543983839
         ]
        },
        {
         "mode": "markers",
         "name": "conv3_Full",
         "type": "scatter",
         "x": [
          2,
          2,
          2,
          2,
          2,
          2,
          2,
          2,
          2,
          2,
          2,
          2,
          2,
          2,
          2,
          2,
          2,
          2,
          2,
          2
         ],
         "y": [
          0.03946417337031726,
          0.04858833819238066,
          0.04033533805651067,
          0.05376854668828466,
          0.03753461075296866,
          0.0373735387296032,
          0.05276303184757067,
          0.046682835893561,
          0.035485313559263494,
          0.05150854228910533,
          0.05606233784718152,
          0.047965334143914636,
          0.052839209040053944,
          0.06280446392010822,
          0.03593085606265402,
          0.052295992797391645,
          0.03383389427367045,
          0.03596265847510182,
          0.04934836907665239,
          0.05542720140508563
         ]
        },
        {
         "name": "conv3_Full",
         "type": "box",
         "x0": 2.4,
         "y": [
          0.03946417337031726,
          0.04858833819238066,
          0.04033533805651067,
          0.05376854668828466,
          0.03753461075296866,
          0.0373735387296032,
          0.05276303184757067,
          0.046682835893561,
          0.035485313559263494,
          0.05150854228910533,
          0.05606233784718152,
          0.047965334143914636,
          0.052839209040053944,
          0.06280446392010822,
          0.03593085606265402,
          0.052295992797391645,
          0.03383389427367045,
          0.03596265847510182,
          0.04934836907665239,
          0.05542720140508563
         ]
        },
        {
         "mode": "markers",
         "name": "conv4_Full",
         "type": "scatter",
         "x": [
          3,
          3,
          3,
          3,
          3,
          3,
          3,
          3,
          3,
          3,
          3,
          3,
          3,
          3,
          3,
          3,
          3,
          3,
          3,
          3
         ],
         "y": [
          0.03439639630025352,
          0.026434453343562127,
          0.025208766965943187,
          0.027270682531725963,
          0.026893494131908835,
          0.034298909005525166,
          0.0239561945927387,
          0.032046201219729356,
          0.0260677031119169,
          0.031150136784564655,
          0.025028073374184803,
          0.037143179339279714,
          0.026832329613634947,
          0.03022487872710485,
          0.02519792146490461,
          0.030036933449470133,
          0.03100206424749473,
          0.03246467683105505,
          0.028257921137660166,
          0.030892913437854407
         ]
        },
        {
         "name": "conv4_Full",
         "type": "box",
         "x0": 3.4,
         "y": [
          0.03439639630025352,
          0.026434453343562127,
          0.025208766965943187,
          0.027270682531725963,
          0.026893494131908835,
          0.034298909005525166,
          0.0239561945927387,
          0.032046201219729356,
          0.0260677031119169,
          0.031150136784564655,
          0.025028073374184803,
          0.037143179339279714,
          0.026832329613634947,
          0.03022487872710485,
          0.02519792146490461,
          0.030036933449470133,
          0.03100206424749473,
          0.03246467683105505,
          0.028257921137660166,
          0.030892913437854407
         ]
        },
        {
         "mode": "markers",
         "name": "conv5_Full",
         "type": "scatter",
         "x": [
          4,
          4,
          4,
          4,
          4,
          4,
          4,
          4,
          4,
          4,
          4,
          4,
          4,
          4,
          4,
          4,
          4,
          4,
          4,
          4
         ],
         "y": [
          0.04555700786337697,
          0.03253193525811983,
          0.02570478383767681,
          0.02325072791500153,
          0.029121906572746954,
          0.037537599313330755,
          0.028067889162527903,
          0.0331871649159172,
          0.027964209437603436,
          0.033884313592216886,
          0.03547051457923617,
          0.026789377814628538,
          0.028423426913797064,
          0.03603310905995422,
          0.03368227673514073,
          0.035525788341768325,
          0.030185848195923223,
          0.034745625159517374,
          0.028269301855971412,
          0.03383818575554429
         ]
        },
        {
         "name": "conv5_Full",
         "type": "box",
         "x0": 4.4,
         "y": [
          0.04555700786337697,
          0.03253193525811983,
          0.02570478383767681,
          0.02325072791500153,
          0.029121906572746954,
          0.037537599313330755,
          0.028067889162527903,
          0.0331871649159172,
          0.027964209437603436,
          0.033884313592216886,
          0.03547051457923617,
          0.026789377814628538,
          0.028423426913797064,
          0.03603310905995422,
          0.03368227673514073,
          0.035525788341768325,
          0.030185848195923223,
          0.034745625159517374,
          0.028269301855971412,
          0.03383818575554429
         ]
        },
        {
         "mode": "markers",
         "name": "fc6_Full",
         "type": "scatter",
         "x": [
          5,
          5,
          5,
          5,
          5,
          5,
          5,
          5,
          5,
          5,
          5,
          5,
          5,
          5,
          5,
          5,
          5,
          5,
          5,
          5
         ],
         "y": [
          0.014152868954729976,
          0.014926567536443709,
          0.012502460377195828,
          0.011625841269542277,
          0.01718975914837935,
          0.012240858273065551,
          0.021311865247566286,
          0.017127510303491484,
          0.017551971675647232,
          0.018511611669108013,
          0.021697115874190553,
          0.01693919361145678,
          0.01863957550444493,
          0.018365248187579165,
          0.016397929492104807,
          0.013821785461073483,
          0.0158768924065778,
          0.017422055985708496,
          0.01674062073352401,
          0.017936100060378858
         ]
        },
        {
         "name": "fc6_Full",
         "type": "box",
         "x0": 5.4,
         "y": [
          0.014152868954729976,
          0.014926567536443709,
          0.012502460377195828,
          0.011625841269542277,
          0.01718975914837935,
          0.012240858273065551,
          0.021311865247566286,
          0.017127510303491484,
          0.017551971675647232,
          0.018511611669108013,
          0.021697115874190553,
          0.01693919361145678,
          0.01863957550444493,
          0.018365248187579165,
          0.016397929492104807,
          0.013821785461073483,
          0.0158768924065778,
          0.017422055985708496,
          0.01674062073352401,
          0.017936100060378858
         ]
        },
        {
         "mode": "markers",
         "name": "fc7_Full",
         "type": "scatter",
         "x": [
          6,
          6,
          6,
          6,
          6,
          6,
          6,
          6,
          6,
          6,
          6,
          6,
          6,
          6,
          6,
          6,
          6,
          6,
          6,
          6
         ],
         "y": [
          0.008598939909342651,
          0.008766622524669093,
          0.008824287184079963,
          0.006743133107816884,
          0.007416237323278905,
          0.007734462775064542,
          0.010251709419815775,
          0.0060797563692214195,
          0.006567327383771789,
          0.0060430124932218466,
          0.008822341896381107,
          0.008319259451225724,
          0.005149085330305332,
          0.008687561580254795,
          0.01423047217739284,
          0.009114423916979194,
          0.009089564725617021,
          0.009302720046746796,
          0.00435124523793512,
          0.007666437788365567
         ]
        },
        {
         "name": "fc7_Full",
         "type": "box",
         "x0": 6.4,
         "y": [
          0.008598939909342651,
          0.008766622524669093,
          0.008824287184079963,
          0.006743133107816884,
          0.007416237323278905,
          0.007734462775064542,
          0.010251709419815775,
          0.0060797563692214195,
          0.006567327383771789,
          0.0060430124932218466,
          0.008822341896381107,
          0.008319259451225724,
          0.005149085330305332,
          0.008687561580254795,
          0.01423047217739284,
          0.009114423916979194,
          0.009089564725617021,
          0.009302720046746796,
          0.00435124523793512,
          0.007666437788365567
         ]
        },
        {
         "mode": "markers",
         "name": "fc8_Full",
         "type": "scatter",
         "x": [
          7,
          7,
          7,
          7,
          7,
          7,
          7,
          7,
          7,
          7,
          7,
          7,
          7,
          7,
          7,
          7,
          7,
          7,
          7,
          7
         ],
         "y": [
          0.007821405488961597,
          0.015094877713044645,
          0.019001024179273115,
          0.0073633590787419425,
          0.00913252018421913,
          0.02050886512942813,
          0.015840474596535776,
          0.010441318234407394,
          0.009260563991143327,
          0.012988725104654989,
          0.00895989348982786,
          0.016413444557927696,
          0.011128115597073792,
          0.009755575895997074,
          0.019865034838917377,
          0.0113921667855363,
          0.01251450495426381,
          0.015072942215305018,
          0.0116983343270568,
          0.012886026540649303
         ]
        },
        {
         "name": "fc8_Full",
         "type": "box",
         "x0": 7.4,
         "y": [
          0.007821405488961597,
          0.015094877713044645,
          0.019001024179273115,
          0.0073633590787419425,
          0.00913252018421913,
          0.02050886512942813,
          0.015840474596535776,
          0.010441318234407394,
          0.009260563991143327,
          0.012988725104654989,
          0.00895989348982786,
          0.016413444557927696,
          0.011128115597073792,
          0.009755575895997074,
          0.019865034838917377,
          0.0113921667855363,
          0.01251450495426381,
          0.015072942215305018,
          0.0116983343270568,
          0.012886026540649303
         ]
        }
       ],
       "layout": {
        "template": {
         "data": {
          "bar": [
           {
            "error_x": {
             "color": "#2a3f5f"
            },
            "error_y": {
             "color": "#2a3f5f"
            },
            "marker": {
             "line": {
              "color": "#E5ECF6",
              "width": 0.5
             }
            },
            "type": "bar"
           }
          ],
          "barpolar": [
           {
            "marker": {
             "line": {
              "color": "#E5ECF6",
              "width": 0.5
             }
            },
            "type": "barpolar"
           }
          ],
          "carpet": [
           {
            "aaxis": {
             "endlinecolor": "#2a3f5f",
             "gridcolor": "white",
             "linecolor": "white",
             "minorgridcolor": "white",
             "startlinecolor": "#2a3f5f"
            },
            "baxis": {
             "endlinecolor": "#2a3f5f",
             "gridcolor": "white",
             "linecolor": "white",
             "minorgridcolor": "white",
             "startlinecolor": "#2a3f5f"
            },
            "type": "carpet"
           }
          ],
          "choropleth": [
           {
            "colorbar": {
             "outlinewidth": 0,
             "ticks": ""
            },
            "type": "choropleth"
           }
          ],
          "contour": [
           {
            "colorbar": {
             "outlinewidth": 0,
             "ticks": ""
            },
            "colorscale": [
             [
              0,
              "#0d0887"
             ],
             [
              0.1111111111111111,
              "#46039f"
             ],
             [
              0.2222222222222222,
              "#7201a8"
             ],
             [
              0.3333333333333333,
              "#9c179e"
             ],
             [
              0.4444444444444444,
              "#bd3786"
             ],
             [
              0.5555555555555556,
              "#d8576b"
             ],
             [
              0.6666666666666666,
              "#ed7953"
             ],
             [
              0.7777777777777778,
              "#fb9f3a"
             ],
             [
              0.8888888888888888,
              "#fdca26"
             ],
             [
              1,
              "#f0f921"
             ]
            ],
            "type": "contour"
           }
          ],
          "contourcarpet": [
           {
            "colorbar": {
             "outlinewidth": 0,
             "ticks": ""
            },
            "type": "contourcarpet"
           }
          ],
          "heatmap": [
           {
            "colorbar": {
             "outlinewidth": 0,
             "ticks": ""
            },
            "colorscale": [
             [
              0,
              "#0d0887"
             ],
             [
              0.1111111111111111,
              "#46039f"
             ],
             [
              0.2222222222222222,
              "#7201a8"
             ],
             [
              0.3333333333333333,
              "#9c179e"
             ],
             [
              0.4444444444444444,
              "#bd3786"
             ],
             [
              0.5555555555555556,
              "#d8576b"
             ],
             [
              0.6666666666666666,
              "#ed7953"
             ],
             [
              0.7777777777777778,
              "#fb9f3a"
             ],
             [
              0.8888888888888888,
              "#fdca26"
             ],
             [
              1,
              "#f0f921"
             ]
            ],
            "type": "heatmap"
           }
          ],
          "heatmapgl": [
           {
            "colorbar": {
             "outlinewidth": 0,
             "ticks": ""
            },
            "colorscale": [
             [
              0,
              "#0d0887"
             ],
             [
              0.1111111111111111,
              "#46039f"
             ],
             [
              0.2222222222222222,
              "#7201a8"
             ],
             [
              0.3333333333333333,
              "#9c179e"
             ],
             [
              0.4444444444444444,
              "#bd3786"
             ],
             [
              0.5555555555555556,
              "#d8576b"
             ],
             [
              0.6666666666666666,
              "#ed7953"
             ],
             [
              0.7777777777777778,
              "#fb9f3a"
             ],
             [
              0.8888888888888888,
              "#fdca26"
             ],
             [
              1,
              "#f0f921"
             ]
            ],
            "type": "heatmapgl"
           }
          ],
          "histogram": [
           {
            "marker": {
             "colorbar": {
              "outlinewidth": 0,
              "ticks": ""
             }
            },
            "type": "histogram"
           }
          ],
          "histogram2d": [
           {
            "colorbar": {
             "outlinewidth": 0,
             "ticks": ""
            },
            "colorscale": [
             [
              0,
              "#0d0887"
             ],
             [
              0.1111111111111111,
              "#46039f"
             ],
             [
              0.2222222222222222,
              "#7201a8"
             ],
             [
              0.3333333333333333,
              "#9c179e"
             ],
             [
              0.4444444444444444,
              "#bd3786"
             ],
             [
              0.5555555555555556,
              "#d8576b"
             ],
             [
              0.6666666666666666,
              "#ed7953"
             ],
             [
              0.7777777777777778,
              "#fb9f3a"
             ],
             [
              0.8888888888888888,
              "#fdca26"
             ],
             [
              1,
              "#f0f921"
             ]
            ],
            "type": "histogram2d"
           }
          ],
          "histogram2dcontour": [
           {
            "colorbar": {
             "outlinewidth": 0,
             "ticks": ""
            },
            "colorscale": [
             [
              0,
              "#0d0887"
             ],
             [
              0.1111111111111111,
              "#46039f"
             ],
             [
              0.2222222222222222,
              "#7201a8"
             ],
             [
              0.3333333333333333,
              "#9c179e"
             ],
             [
              0.4444444444444444,
              "#bd3786"
             ],
             [
              0.5555555555555556,
              "#d8576b"
             ],
             [
              0.6666666666666666,
              "#ed7953"
             ],
             [
              0.7777777777777778,
              "#fb9f3a"
             ],
             [
              0.8888888888888888,
              "#fdca26"
             ],
             [
              1,
              "#f0f921"
             ]
            ],
            "type": "histogram2dcontour"
           }
          ],
          "mesh3d": [
           {
            "colorbar": {
             "outlinewidth": 0,
             "ticks": ""
            },
            "type": "mesh3d"
           }
          ],
          "parcoords": [
           {
            "line": {
             "colorbar": {
              "outlinewidth": 0,
              "ticks": ""
             }
            },
            "type": "parcoords"
           }
          ],
          "scatter": [
           {
            "marker": {
             "colorbar": {
              "outlinewidth": 0,
              "ticks": ""
             }
            },
            "type": "scatter"
           }
          ],
          "scatter3d": [
           {
            "line": {
             "colorbar": {
              "outlinewidth": 0,
              "ticks": ""
             }
            },
            "marker": {
             "colorbar": {
              "outlinewidth": 0,
              "ticks": ""
             }
            },
            "type": "scatter3d"
           }
          ],
          "scattercarpet": [
           {
            "marker": {
             "colorbar": {
              "outlinewidth": 0,
              "ticks": ""
             }
            },
            "type": "scattercarpet"
           }
          ],
          "scattergeo": [
           {
            "marker": {
             "colorbar": {
              "outlinewidth": 0,
              "ticks": ""
             }
            },
            "type": "scattergeo"
           }
          ],
          "scattergl": [
           {
            "marker": {
             "colorbar": {
              "outlinewidth": 0,
              "ticks": ""
             }
            },
            "type": "scattergl"
           }
          ],
          "scattermapbox": [
           {
            "marker": {
             "colorbar": {
              "outlinewidth": 0,
              "ticks": ""
             }
            },
            "type": "scattermapbox"
           }
          ],
          "scatterpolar": [
           {
            "marker": {
             "colorbar": {
              "outlinewidth": 0,
              "ticks": ""
             }
            },
            "type": "scatterpolar"
           }
          ],
          "scatterpolargl": [
           {
            "marker": {
             "colorbar": {
              "outlinewidth": 0,
              "ticks": ""
             }
            },
            "type": "scatterpolargl"
           }
          ],
          "scatterternary": [
           {
            "marker": {
             "colorbar": {
              "outlinewidth": 0,
              "ticks": ""
             }
            },
            "type": "scatterternary"
           }
          ],
          "surface": [
           {
            "colorbar": {
             "outlinewidth": 0,
             "ticks": ""
            },
            "colorscale": [
             [
              0,
              "#0d0887"
             ],
             [
              0.1111111111111111,
              "#46039f"
             ],
             [
              0.2222222222222222,
              "#7201a8"
             ],
             [
              0.3333333333333333,
              "#9c179e"
             ],
             [
              0.4444444444444444,
              "#bd3786"
             ],
             [
              0.5555555555555556,
              "#d8576b"
             ],
             [
              0.6666666666666666,
              "#ed7953"
             ],
             [
              0.7777777777777778,
              "#fb9f3a"
             ],
             [
              0.8888888888888888,
              "#fdca26"
             ],
             [
              1,
              "#f0f921"
             ]
            ],
            "type": "surface"
           }
          ],
          "table": [
           {
            "cells": {
             "fill": {
              "color": "#EBF0F8"
             },
             "line": {
              "color": "white"
             }
            },
            "header": {
             "fill": {
              "color": "#C8D4E3"
             },
             "line": {
              "color": "white"
             }
            },
            "type": "table"
           }
          ]
         },
         "layout": {
          "annotationdefaults": {
           "arrowcolor": "#2a3f5f",
           "arrowhead": 0,
           "arrowwidth": 1
          },
          "colorscale": {
           "diverging": [
            [
             0,
             "#8e0152"
            ],
            [
             0.1,
             "#c51b7d"
            ],
            [
             0.2,
             "#de77ae"
            ],
            [
             0.3,
             "#f1b6da"
            ],
            [
             0.4,
             "#fde0ef"
            ],
            [
             0.5,
             "#f7f7f7"
            ],
            [
             0.6,
             "#e6f5d0"
            ],
            [
             0.7,
             "#b8e186"
            ],
            [
             0.8,
             "#7fbc41"
            ],
            [
             0.9,
             "#4d9221"
            ],
            [
             1,
             "#276419"
            ]
           ],
           "sequential": [
            [
             0,
             "#0d0887"
            ],
            [
             0.1111111111111111,
             "#46039f"
            ],
            [
             0.2222222222222222,
             "#7201a8"
            ],
            [
             0.3333333333333333,
             "#9c179e"
            ],
            [
             0.4444444444444444,
             "#bd3786"
            ],
            [
             0.5555555555555556,
             "#d8576b"
            ],
            [
             0.6666666666666666,
             "#ed7953"
            ],
            [
             0.7777777777777778,
             "#fb9f3a"
            ],
            [
             0.8888888888888888,
             "#fdca26"
            ],
            [
             1,
             "#f0f921"
            ]
           ],
           "sequentialminus": [
            [
             0,
             "#0d0887"
            ],
            [
             0.1111111111111111,
             "#46039f"
            ],
            [
             0.2222222222222222,
             "#7201a8"
            ],
            [
             0.3333333333333333,
             "#9c179e"
            ],
            [
             0.4444444444444444,
             "#bd3786"
            ],
            [
             0.5555555555555556,
             "#d8576b"
            ],
            [
             0.6666666666666666,
             "#ed7953"
            ],
            [
             0.7777777777777778,
             "#fb9f3a"
            ],
            [
             0.8888888888888888,
             "#fdca26"
            ],
            [
             1,
             "#f0f921"
            ]
           ]
          },
          "colorway": [
           "#636efa",
           "#EF553B",
           "#00cc96",
           "#ab63fa",
           "#FFA15A",
           "#19d3f3",
           "#FF6692",
           "#B6E880",
           "#FF97FF",
           "#FECB52"
          ],
          "font": {
           "color": "#2a3f5f"
          },
          "geo": {
           "bgcolor": "white",
           "lakecolor": "white",
           "landcolor": "#E5ECF6",
           "showlakes": true,
           "showland": true,
           "subunitcolor": "white"
          },
          "hoverlabel": {
           "align": "left"
          },
          "hovermode": "closest",
          "mapbox": {
           "style": "light"
          },
          "paper_bgcolor": "white",
          "plot_bgcolor": "#E5ECF6",
          "polar": {
           "angularaxis": {
            "gridcolor": "white",
            "linecolor": "white",
            "ticks": ""
           },
           "bgcolor": "#E5ECF6",
           "radialaxis": {
            "gridcolor": "white",
            "linecolor": "white",
            "ticks": ""
           }
          },
          "scene": {
           "xaxis": {
            "backgroundcolor": "#E5ECF6",
            "gridcolor": "white",
            "gridwidth": 2,
            "linecolor": "white",
            "showbackground": true,
            "ticks": "",
            "zerolinecolor": "white"
           },
           "yaxis": {
            "backgroundcolor": "#E5ECF6",
            "gridcolor": "white",
            "gridwidth": 2,
            "linecolor": "white",
            "showbackground": true,
            "ticks": "",
            "zerolinecolor": "white"
           },
           "zaxis": {
            "backgroundcolor": "#E5ECF6",
            "gridcolor": "white",
            "gridwidth": 2,
            "linecolor": "white",
            "showbackground": true,
            "ticks": "",
            "zerolinecolor": "white"
           }
          },
          "shapedefaults": {
           "line": {
            "color": "#2a3f5f"
           }
          },
          "ternary": {
           "aaxis": {
            "gridcolor": "white",
            "linecolor": "white",
            "ticks": ""
           },
           "baxis": {
            "gridcolor": "white",
            "linecolor": "white",
            "ticks": ""
           },
           "bgcolor": "#E5ECF6",
           "caxis": {
            "gridcolor": "white",
            "linecolor": "white",
            "ticks": ""
           }
          },
          "title": {
           "x": 0.05
          },
          "xaxis": {
           "automargin": true,
           "gridcolor": "white",
           "linecolor": "white",
           "ticks": "",
           "zerolinecolor": "white",
           "zerolinewidth": 2
          },
          "yaxis": {
           "automargin": true,
           "gridcolor": "white",
           "linecolor": "white",
           "ticks": "",
           "zerolinecolor": "white",
           "zerolinewidth": 2
          }
         }
        },
        "title": {
         "text": "Converging speed for evolutions in Full space for different layers",
         "xanchor": "auto"
        },
        "xaxis": {
         "tickmode": "array",
         "ticktext": [
          [
           "caffe-net",
           "conv1",
           5,
           10,
           10
          ],
          [
           "caffe-net",
           "conv2",
           5,
           10,
           10
          ],
          [
           "caffe-net",
           "conv3",
           5,
           10,
           10
          ],
          [
           "caffe-net",
           "conv4",
           5,
           10,
           10
          ],
          [
           "caffe-net",
           "conv5",
           5,
           10,
           10
          ],
          [
           "caffe-net",
           "fc6",
           1
          ],
          [
           "caffe-net",
           "fc7",
           1
          ],
          [
           "caffe-net",
           "fc8",
           1
          ]
         ],
         "tickvals": [
          0.3,
          1.3,
          2.3,
          3.3,
          4.3,
          5.3,
          6.3,
          7.3
         ]
        },
        "yaxis": {
         "title": {
          "text": "Time constant of Exponential Fit\n for Score Trajectory"
         }
        }
       }
      },
      "text/html": [
       "<div>\n",
       "        \n",
       "        \n",
       "            <div id=\"9f7cbdd4-508e-408d-931e-078216a420a6\" class=\"plotly-graph-div\" style=\"height:525px; width:100%;\"></div>\n",
       "            <script type=\"text/javascript\">\n",
       "                require([\"plotly\"], function(Plotly) {\n",
       "                    window.PLOTLYENV=window.PLOTLYENV || {};\n",
       "                    \n",
       "                if (document.getElementById(\"9f7cbdd4-508e-408d-931e-078216a420a6\")) {\n",
       "                    Plotly.newPlot(\n",
       "                        '9f7cbdd4-508e-408d-931e-078216a420a6',\n",
       "                        [{\"mode\": \"markers\", \"name\": \"conv1_Full\", \"type\": \"scatter\", \"x\": [0, 0, 0, 0, 0, 0, 0, 0, 0, 0, 0, 0, 0, 0, 0, 0, 0, 0, 0, 0], \"y\": [0.0755264179991101, 0.059555838899535994, 0.05878271293868763, 0.05359084720063809, 0.0494897775144688, 0.07192420590378591, 0.055480189195047575, 0.06445393197079971, 0.05574696297370726, 0.05779014036570482, 0.07294129868771927, 0.056907035187515886, 0.05837284897287925, 0.05427556010528407, 0.0699561282898101, 0.061971564133117926, 0.06159549025992676, 0.06400432380499177, 0.07100687293204394, 0.04851372386503894]}, {\"name\": \"conv1_Full\", \"type\": \"box\", \"x0\": 0.4, \"y\": [0.0755264179991101, 0.059555838899535994, 0.05878271293868763, 0.05359084720063809, 0.0494897775144688, 0.07192420590378591, 0.055480189195047575, 0.06445393197079971, 0.05574696297370726, 0.05779014036570482, 0.07294129868771927, 0.056907035187515886, 0.05837284897287925, 0.05427556010528407, 0.0699561282898101, 0.061971564133117926, 0.06159549025992676, 0.06400432380499177, 0.07100687293204394, 0.04851372386503894]}, {\"mode\": \"markers\", \"name\": \"conv2_Full\", \"type\": \"scatter\", \"x\": [1, 1, 1, 1, 1, 1, 1, 1, 1, 1, 1, 1, 1, 1, 1, 1, 1, 1, 1, 1], \"y\": [0.03293986967422739, 0.027686787086449675, 0.04357856290973606, 0.01990164180368074, 0.03818174461396815, 0.047633847871601034, 0.046154065951272, 0.04819213539651209, 0.042643702365881817, 0.05584785431735791, 0.042569417176943486, 0.040811085666978844, 0.03542091739289887, 0.04001717031491066, 0.04919937799350985, 0.03174589719924273, 0.031054603914117393, 0.04367493452146005, 0.04132763670867234, 0.04235250543983839]}, {\"name\": \"conv2_Full\", \"type\": \"box\", \"x0\": 1.4, \"y\": [0.03293986967422739, 0.027686787086449675, 0.04357856290973606, 0.01990164180368074, 0.03818174461396815, 0.047633847871601034, 0.046154065951272, 0.04819213539651209, 0.042643702365881817, 0.05584785431735791, 0.042569417176943486, 0.040811085666978844, 0.03542091739289887, 0.04001717031491066, 0.04919937799350985, 0.03174589719924273, 0.031054603914117393, 0.04367493452146005, 0.04132763670867234, 0.04235250543983839]}, {\"mode\": \"markers\", \"name\": \"conv3_Full\", \"type\": \"scatter\", \"x\": [2, 2, 2, 2, 2, 2, 2, 2, 2, 2, 2, 2, 2, 2, 2, 2, 2, 2, 2, 2], \"y\": [0.03946417337031726, 0.04858833819238066, 0.04033533805651067, 0.05376854668828466, 0.03753461075296866, 0.0373735387296032, 0.05276303184757067, 0.046682835893561, 0.035485313559263494, 0.05150854228910533, 0.05606233784718152, 0.047965334143914636, 0.052839209040053944, 0.06280446392010822, 0.03593085606265402, 0.052295992797391645, 0.03383389427367045, 0.03596265847510182, 0.04934836907665239, 0.05542720140508563]}, {\"name\": \"conv3_Full\", \"type\": \"box\", \"x0\": 2.4, \"y\": [0.03946417337031726, 0.04858833819238066, 0.04033533805651067, 0.05376854668828466, 0.03753461075296866, 0.0373735387296032, 0.05276303184757067, 0.046682835893561, 0.035485313559263494, 0.05150854228910533, 0.05606233784718152, 0.047965334143914636, 0.052839209040053944, 0.06280446392010822, 0.03593085606265402, 0.052295992797391645, 0.03383389427367045, 0.03596265847510182, 0.04934836907665239, 0.05542720140508563]}, {\"mode\": \"markers\", \"name\": \"conv4_Full\", \"type\": \"scatter\", \"x\": [3, 3, 3, 3, 3, 3, 3, 3, 3, 3, 3, 3, 3, 3, 3, 3, 3, 3, 3, 3], \"y\": [0.03439639630025352, 0.026434453343562127, 0.025208766965943187, 0.027270682531725963, 0.026893494131908835, 0.034298909005525166, 0.0239561945927387, 0.032046201219729356, 0.0260677031119169, 0.031150136784564655, 0.025028073374184803, 0.037143179339279714, 0.026832329613634947, 0.03022487872710485, 0.02519792146490461, 0.030036933449470133, 0.03100206424749473, 0.03246467683105505, 0.028257921137660166, 0.030892913437854407]}, {\"name\": \"conv4_Full\", \"type\": \"box\", \"x0\": 3.4, \"y\": [0.03439639630025352, 0.026434453343562127, 0.025208766965943187, 0.027270682531725963, 0.026893494131908835, 0.034298909005525166, 0.0239561945927387, 0.032046201219729356, 0.0260677031119169, 0.031150136784564655, 0.025028073374184803, 0.037143179339279714, 0.026832329613634947, 0.03022487872710485, 0.02519792146490461, 0.030036933449470133, 0.03100206424749473, 0.03246467683105505, 0.028257921137660166, 0.030892913437854407]}, {\"mode\": \"markers\", \"name\": \"conv5_Full\", \"type\": \"scatter\", \"x\": [4, 4, 4, 4, 4, 4, 4, 4, 4, 4, 4, 4, 4, 4, 4, 4, 4, 4, 4, 4], \"y\": [0.04555700786337697, 0.03253193525811983, 0.02570478383767681, 0.02325072791500153, 0.029121906572746954, 0.037537599313330755, 0.028067889162527903, 0.0331871649159172, 0.027964209437603436, 0.033884313592216886, 0.03547051457923617, 0.026789377814628538, 0.028423426913797064, 0.03603310905995422, 0.03368227673514073, 0.035525788341768325, 0.030185848195923223, 0.034745625159517374, 0.028269301855971412, 0.03383818575554429]}, {\"name\": \"conv5_Full\", \"type\": \"box\", \"x0\": 4.4, \"y\": [0.04555700786337697, 0.03253193525811983, 0.02570478383767681, 0.02325072791500153, 0.029121906572746954, 0.037537599313330755, 0.028067889162527903, 0.0331871649159172, 0.027964209437603436, 0.033884313592216886, 0.03547051457923617, 0.026789377814628538, 0.028423426913797064, 0.03603310905995422, 0.03368227673514073, 0.035525788341768325, 0.030185848195923223, 0.034745625159517374, 0.028269301855971412, 0.03383818575554429]}, {\"mode\": \"markers\", \"name\": \"fc6_Full\", \"type\": \"scatter\", \"x\": [5, 5, 5, 5, 5, 5, 5, 5, 5, 5, 5, 5, 5, 5, 5, 5, 5, 5, 5, 5], \"y\": [0.014152868954729976, 0.014926567536443709, 0.012502460377195828, 0.011625841269542277, 0.01718975914837935, 0.012240858273065551, 0.021311865247566286, 0.017127510303491484, 0.017551971675647232, 0.018511611669108013, 0.021697115874190553, 0.01693919361145678, 0.01863957550444493, 0.018365248187579165, 0.016397929492104807, 0.013821785461073483, 0.0158768924065778, 0.017422055985708496, 0.01674062073352401, 0.017936100060378858]}, {\"name\": \"fc6_Full\", \"type\": \"box\", \"x0\": 5.4, \"y\": [0.014152868954729976, 0.014926567536443709, 0.012502460377195828, 0.011625841269542277, 0.01718975914837935, 0.012240858273065551, 0.021311865247566286, 0.017127510303491484, 0.017551971675647232, 0.018511611669108013, 0.021697115874190553, 0.01693919361145678, 0.01863957550444493, 0.018365248187579165, 0.016397929492104807, 0.013821785461073483, 0.0158768924065778, 0.017422055985708496, 0.01674062073352401, 0.017936100060378858]}, {\"mode\": \"markers\", \"name\": \"fc7_Full\", \"type\": \"scatter\", \"x\": [6, 6, 6, 6, 6, 6, 6, 6, 6, 6, 6, 6, 6, 6, 6, 6, 6, 6, 6, 6], \"y\": [0.008598939909342651, 0.008766622524669093, 0.008824287184079963, 0.006743133107816884, 0.007416237323278905, 0.007734462775064542, 0.010251709419815775, 0.0060797563692214195, 0.006567327383771789, 0.0060430124932218466, 0.008822341896381107, 0.008319259451225724, 0.005149085330305332, 0.008687561580254795, 0.01423047217739284, 0.009114423916979194, 0.009089564725617021, 0.009302720046746796, 0.00435124523793512, 0.007666437788365567]}, {\"name\": \"fc7_Full\", \"type\": \"box\", \"x0\": 6.4, \"y\": [0.008598939909342651, 0.008766622524669093, 0.008824287184079963, 0.006743133107816884, 0.007416237323278905, 0.007734462775064542, 0.010251709419815775, 0.0060797563692214195, 0.006567327383771789, 0.0060430124932218466, 0.008822341896381107, 0.008319259451225724, 0.005149085330305332, 0.008687561580254795, 0.01423047217739284, 0.009114423916979194, 0.009089564725617021, 0.009302720046746796, 0.00435124523793512, 0.007666437788365567]}, {\"mode\": \"markers\", \"name\": \"fc8_Full\", \"type\": \"scatter\", \"x\": [7, 7, 7, 7, 7, 7, 7, 7, 7, 7, 7, 7, 7, 7, 7, 7, 7, 7, 7, 7], \"y\": [0.007821405488961597, 0.015094877713044645, 0.019001024179273115, 0.0073633590787419425, 0.00913252018421913, 0.02050886512942813, 0.015840474596535776, 0.010441318234407394, 0.009260563991143327, 0.012988725104654989, 0.00895989348982786, 0.016413444557927696, 0.011128115597073792, 0.009755575895997074, 0.019865034838917377, 0.0113921667855363, 0.01251450495426381, 0.015072942215305018, 0.0116983343270568, 0.012886026540649303]}, {\"name\": \"fc8_Full\", \"type\": \"box\", \"x0\": 7.4, \"y\": [0.007821405488961597, 0.015094877713044645, 0.019001024179273115, 0.0073633590787419425, 0.00913252018421913, 0.02050886512942813, 0.015840474596535776, 0.010441318234407394, 0.009260563991143327, 0.012988725104654989, 0.00895989348982786, 0.016413444557927696, 0.011128115597073792, 0.009755575895997074, 0.019865034838917377, 0.0113921667855363, 0.01251450495426381, 0.015072942215305018, 0.0116983343270568, 0.012886026540649303]}],\n",
       "                        {\"template\": {\"data\": {\"bar\": [{\"error_x\": {\"color\": \"#2a3f5f\"}, \"error_y\": {\"color\": \"#2a3f5f\"}, \"marker\": {\"line\": {\"color\": \"#E5ECF6\", \"width\": 0.5}}, \"type\": \"bar\"}], \"barpolar\": [{\"marker\": {\"line\": {\"color\": \"#E5ECF6\", \"width\": 0.5}}, \"type\": \"barpolar\"}], \"carpet\": [{\"aaxis\": {\"endlinecolor\": \"#2a3f5f\", \"gridcolor\": \"white\", \"linecolor\": \"white\", \"minorgridcolor\": \"white\", \"startlinecolor\": \"#2a3f5f\"}, \"baxis\": {\"endlinecolor\": \"#2a3f5f\", \"gridcolor\": \"white\", \"linecolor\": \"white\", \"minorgridcolor\": \"white\", \"startlinecolor\": \"#2a3f5f\"}, \"type\": \"carpet\"}], \"choropleth\": [{\"colorbar\": {\"outlinewidth\": 0, \"ticks\": \"\"}, \"type\": \"choropleth\"}], \"contour\": [{\"colorbar\": {\"outlinewidth\": 0, \"ticks\": \"\"}, \"colorscale\": [[0.0, \"#0d0887\"], [0.1111111111111111, \"#46039f\"], [0.2222222222222222, \"#7201a8\"], [0.3333333333333333, \"#9c179e\"], [0.4444444444444444, \"#bd3786\"], [0.5555555555555556, \"#d8576b\"], [0.6666666666666666, \"#ed7953\"], [0.7777777777777778, \"#fb9f3a\"], [0.8888888888888888, \"#fdca26\"], [1.0, \"#f0f921\"]], \"type\": \"contour\"}], \"contourcarpet\": [{\"colorbar\": {\"outlinewidth\": 0, \"ticks\": \"\"}, \"type\": \"contourcarpet\"}], \"heatmap\": [{\"colorbar\": {\"outlinewidth\": 0, \"ticks\": \"\"}, \"colorscale\": [[0.0, \"#0d0887\"], [0.1111111111111111, \"#46039f\"], [0.2222222222222222, \"#7201a8\"], [0.3333333333333333, \"#9c179e\"], [0.4444444444444444, \"#bd3786\"], [0.5555555555555556, \"#d8576b\"], [0.6666666666666666, \"#ed7953\"], [0.7777777777777778, \"#fb9f3a\"], [0.8888888888888888, \"#fdca26\"], [1.0, \"#f0f921\"]], \"type\": \"heatmap\"}], \"heatmapgl\": [{\"colorbar\": {\"outlinewidth\": 0, \"ticks\": \"\"}, \"colorscale\": [[0.0, \"#0d0887\"], [0.1111111111111111, \"#46039f\"], [0.2222222222222222, \"#7201a8\"], [0.3333333333333333, \"#9c179e\"], [0.4444444444444444, \"#bd3786\"], [0.5555555555555556, \"#d8576b\"], [0.6666666666666666, \"#ed7953\"], [0.7777777777777778, \"#fb9f3a\"], [0.8888888888888888, \"#fdca26\"], [1.0, \"#f0f921\"]], \"type\": \"heatmapgl\"}], \"histogram\": [{\"marker\": {\"colorbar\": {\"outlinewidth\": 0, \"ticks\": \"\"}}, \"type\": \"histogram\"}], \"histogram2d\": [{\"colorbar\": {\"outlinewidth\": 0, \"ticks\": \"\"}, \"colorscale\": [[0.0, \"#0d0887\"], [0.1111111111111111, \"#46039f\"], [0.2222222222222222, \"#7201a8\"], [0.3333333333333333, \"#9c179e\"], [0.4444444444444444, \"#bd3786\"], [0.5555555555555556, \"#d8576b\"], [0.6666666666666666, \"#ed7953\"], [0.7777777777777778, \"#fb9f3a\"], [0.8888888888888888, \"#fdca26\"], [1.0, \"#f0f921\"]], \"type\": \"histogram2d\"}], \"histogram2dcontour\": [{\"colorbar\": {\"outlinewidth\": 0, \"ticks\": \"\"}, \"colorscale\": [[0.0, \"#0d0887\"], [0.1111111111111111, \"#46039f\"], [0.2222222222222222, \"#7201a8\"], [0.3333333333333333, \"#9c179e\"], [0.4444444444444444, \"#bd3786\"], [0.5555555555555556, \"#d8576b\"], [0.6666666666666666, \"#ed7953\"], [0.7777777777777778, \"#fb9f3a\"], [0.8888888888888888, \"#fdca26\"], [1.0, \"#f0f921\"]], \"type\": \"histogram2dcontour\"}], \"mesh3d\": [{\"colorbar\": {\"outlinewidth\": 0, \"ticks\": \"\"}, \"type\": \"mesh3d\"}], \"parcoords\": [{\"line\": {\"colorbar\": {\"outlinewidth\": 0, \"ticks\": \"\"}}, \"type\": \"parcoords\"}], \"scatter\": [{\"marker\": {\"colorbar\": {\"outlinewidth\": 0, \"ticks\": \"\"}}, \"type\": \"scatter\"}], \"scatter3d\": [{\"line\": {\"colorbar\": {\"outlinewidth\": 0, \"ticks\": \"\"}}, \"marker\": {\"colorbar\": {\"outlinewidth\": 0, \"ticks\": \"\"}}, \"type\": \"scatter3d\"}], \"scattercarpet\": [{\"marker\": {\"colorbar\": {\"outlinewidth\": 0, \"ticks\": \"\"}}, \"type\": \"scattercarpet\"}], \"scattergeo\": [{\"marker\": {\"colorbar\": {\"outlinewidth\": 0, \"ticks\": \"\"}}, \"type\": \"scattergeo\"}], \"scattergl\": [{\"marker\": {\"colorbar\": {\"outlinewidth\": 0, \"ticks\": \"\"}}, \"type\": \"scattergl\"}], \"scattermapbox\": [{\"marker\": {\"colorbar\": {\"outlinewidth\": 0, \"ticks\": \"\"}}, \"type\": \"scattermapbox\"}], \"scatterpolar\": [{\"marker\": {\"colorbar\": {\"outlinewidth\": 0, \"ticks\": \"\"}}, \"type\": \"scatterpolar\"}], \"scatterpolargl\": [{\"marker\": {\"colorbar\": {\"outlinewidth\": 0, \"ticks\": \"\"}}, \"type\": \"scatterpolargl\"}], \"scatterternary\": [{\"marker\": {\"colorbar\": {\"outlinewidth\": 0, \"ticks\": \"\"}}, \"type\": \"scatterternary\"}], \"surface\": [{\"colorbar\": {\"outlinewidth\": 0, \"ticks\": \"\"}, \"colorscale\": [[0.0, \"#0d0887\"], [0.1111111111111111, \"#46039f\"], [0.2222222222222222, \"#7201a8\"], [0.3333333333333333, \"#9c179e\"], [0.4444444444444444, \"#bd3786\"], [0.5555555555555556, \"#d8576b\"], [0.6666666666666666, \"#ed7953\"], [0.7777777777777778, \"#fb9f3a\"], [0.8888888888888888, \"#fdca26\"], [1.0, \"#f0f921\"]], \"type\": \"surface\"}], \"table\": [{\"cells\": {\"fill\": {\"color\": \"#EBF0F8\"}, \"line\": {\"color\": \"white\"}}, \"header\": {\"fill\": {\"color\": \"#C8D4E3\"}, \"line\": {\"color\": \"white\"}}, \"type\": \"table\"}]}, \"layout\": {\"annotationdefaults\": {\"arrowcolor\": \"#2a3f5f\", \"arrowhead\": 0, \"arrowwidth\": 1}, \"colorscale\": {\"diverging\": [[0, \"#8e0152\"], [0.1, \"#c51b7d\"], [0.2, \"#de77ae\"], [0.3, \"#f1b6da\"], [0.4, \"#fde0ef\"], [0.5, \"#f7f7f7\"], [0.6, \"#e6f5d0\"], [0.7, \"#b8e186\"], [0.8, \"#7fbc41\"], [0.9, \"#4d9221\"], [1, \"#276419\"]], \"sequential\": [[0.0, \"#0d0887\"], [0.1111111111111111, \"#46039f\"], [0.2222222222222222, \"#7201a8\"], [0.3333333333333333, \"#9c179e\"], [0.4444444444444444, \"#bd3786\"], [0.5555555555555556, \"#d8576b\"], [0.6666666666666666, \"#ed7953\"], [0.7777777777777778, \"#fb9f3a\"], [0.8888888888888888, \"#fdca26\"], [1.0, \"#f0f921\"]], \"sequentialminus\": [[0.0, \"#0d0887\"], [0.1111111111111111, \"#46039f\"], [0.2222222222222222, \"#7201a8\"], [0.3333333333333333, \"#9c179e\"], [0.4444444444444444, \"#bd3786\"], [0.5555555555555556, \"#d8576b\"], [0.6666666666666666, \"#ed7953\"], [0.7777777777777778, \"#fb9f3a\"], [0.8888888888888888, \"#fdca26\"], [1.0, \"#f0f921\"]]}, \"colorway\": [\"#636efa\", \"#EF553B\", \"#00cc96\", \"#ab63fa\", \"#FFA15A\", \"#19d3f3\", \"#FF6692\", \"#B6E880\", \"#FF97FF\", \"#FECB52\"], \"font\": {\"color\": \"#2a3f5f\"}, \"geo\": {\"bgcolor\": \"white\", \"lakecolor\": \"white\", \"landcolor\": \"#E5ECF6\", \"showlakes\": true, \"showland\": true, \"subunitcolor\": \"white\"}, \"hoverlabel\": {\"align\": \"left\"}, \"hovermode\": \"closest\", \"mapbox\": {\"style\": \"light\"}, \"paper_bgcolor\": \"white\", \"plot_bgcolor\": \"#E5ECF6\", \"polar\": {\"angularaxis\": {\"gridcolor\": \"white\", \"linecolor\": \"white\", \"ticks\": \"\"}, \"bgcolor\": \"#E5ECF6\", \"radialaxis\": {\"gridcolor\": \"white\", \"linecolor\": \"white\", \"ticks\": \"\"}}, \"scene\": {\"xaxis\": {\"backgroundcolor\": \"#E5ECF6\", \"gridcolor\": \"white\", \"gridwidth\": 2, \"linecolor\": \"white\", \"showbackground\": true, \"ticks\": \"\", \"zerolinecolor\": \"white\"}, \"yaxis\": {\"backgroundcolor\": \"#E5ECF6\", \"gridcolor\": \"white\", \"gridwidth\": 2, \"linecolor\": \"white\", \"showbackground\": true, \"ticks\": \"\", \"zerolinecolor\": \"white\"}, \"zaxis\": {\"backgroundcolor\": \"#E5ECF6\", \"gridcolor\": \"white\", \"gridwidth\": 2, \"linecolor\": \"white\", \"showbackground\": true, \"ticks\": \"\", \"zerolinecolor\": \"white\"}}, \"shapedefaults\": {\"line\": {\"color\": \"#2a3f5f\"}}, \"ternary\": {\"aaxis\": {\"gridcolor\": \"white\", \"linecolor\": \"white\", \"ticks\": \"\"}, \"baxis\": {\"gridcolor\": \"white\", \"linecolor\": \"white\", \"ticks\": \"\"}, \"bgcolor\": \"#E5ECF6\", \"caxis\": {\"gridcolor\": \"white\", \"linecolor\": \"white\", \"ticks\": \"\"}}, \"title\": {\"x\": 0.05}, \"xaxis\": {\"automargin\": true, \"gridcolor\": \"white\", \"linecolor\": \"white\", \"ticks\": \"\", \"zerolinecolor\": \"white\", \"zerolinewidth\": 2}, \"yaxis\": {\"automargin\": true, \"gridcolor\": \"white\", \"linecolor\": \"white\", \"ticks\": \"\", \"zerolinecolor\": \"white\", \"zerolinewidth\": 2}}}, \"title\": {\"text\": \"Converging speed for evolutions in Full space for different layers\", \"xanchor\": \"auto\"}, \"xaxis\": {\"tickmode\": \"array\", \"ticktext\": [[\"caffe-net\", \"conv1\", 5, 10, 10], [\"caffe-net\", \"conv2\", 5, 10, 10], [\"caffe-net\", \"conv3\", 5, 10, 10], [\"caffe-net\", \"conv4\", 5, 10, 10], [\"caffe-net\", \"conv5\", 5, 10, 10], [\"caffe-net\", \"fc6\", 1], [\"caffe-net\", \"fc7\", 1], [\"caffe-net\", \"fc8\", 1]], \"tickvals\": [0.3, 1.3, 2.3, 3.3, 4.3, 5.3, 6.3, 7.3]}, \"yaxis\": {\"title\": {\"text\": \"Time constant of Exponential Fit\\n for Score Trajectory\"}}},\n",
       "                        {\"responsive\": true}\n",
       "                    ).then(function(){\n",
       "                            \n",
       "var gd = document.getElementById('9f7cbdd4-508e-408d-931e-078216a420a6');\n",
       "var x = new MutationObserver(function (mutations, observer) {{\n",
       "        var display = window.getComputedStyle(gd).display;\n",
       "        if (!display || display === 'none') {{\n",
       "            console.log([gd, 'removed!']);\n",
       "            Plotly.purge(gd);\n",
       "            observer.disconnect();\n",
       "        }}\n",
       "}});\n",
       "\n",
       "// Listen for the removal of the full notebook cells\n",
       "var notebookContainer = gd.closest('#notebook-container');\n",
       "if (notebookContainer) {{\n",
       "    x.observe(notebookContainer, {childList: true});\n",
       "}}\n",
       "\n",
       "// Listen for the clearing of the current output cell\n",
       "var outputEl = gd.closest('.output');\n",
       "if (outputEl) {{\n",
       "    x.observe(outputEl, {childList: true});\n",
       "}}\n",
       "\n",
       "                        })\n",
       "                };\n",
       "                });\n",
       "            </script>\n",
       "        </div>"
      ]
     },
     "metadata": {},
     "output_type": "display_data"
    }
   ],
   "source": [
    "layout = go.Layout(\n",
    "    title = go.layout.Title(text=\"Converging speed for evolutions in Full space for different layers\",\n",
    "                           xanchor='auto'), \n",
    "    xaxis = go.layout.XAxis(\n",
    "        tickmode = 'array',\n",
    "        tickvals = 0.3+np.arange(len(layer_names)),\n",
    "        ticktext = unit_arr#layer_names\n",
    "    ), \n",
    "    yaxis=go.layout.YAxis(\n",
    "        title=go.layout.yaxis.Title(text=\"Time constant of Exponential Fit\\n for Score Trajectory\",))\n",
    ")\n",
    "fig4 = go.Figure(\n",
    "    layout = layout\n",
    ")\n",
    "for i, unit in enumerate(unit_arr):\n",
    "    fit_result_cont = np.load(join(basedir, \"%s_%s_%d_full\" % (unit[0], unit[1], unit[2]), 'ExpFuncFit.npy'))\n",
    "    fig4.add_scatter(\n",
    "        x=[i]*best_scores.shape[0],\n",
    "        y=fit_result_cont[:,1],\n",
    "        mode='markers', name=layer_names[i]+\"_Full\", #showlegend=True\n",
    "    )\n",
    "    fig4.add_box(\n",
    "        x0=i+0.4, y=fit_result_cont[:,1],\n",
    "        name=layer_names[i]+\"_Full\", #showlegend=True\n",
    "    )\n",
    "fig4.show()"
   ]
  },
  {
   "cell_type": "code",
   "execution_count": 58,
   "metadata": {},
   "outputs": [
    {
     "data": {
      "text/plain": [
       "array([ 1.42896633e+01, -1.31044903e+01,  2.10689092e+00, ...,\n",
       "        2.99114526e+03,  3.05304883e+03,  2.91346387e+03])"
      ]
     },
     "execution_count": 58,
     "metadata": {},
     "output_type": "execute_result"
    }
   ],
   "source": [
    "scores_all"
   ]
  },
  {
   "cell_type": "code",
   "execution_count": null,
   "metadata": {},
   "outputs": [],
   "source": [
    "def exp_func(x, a, b, c):\n",
    "    return a * np.exp(-b * x) + c\n",
    " \n",
    "xdata = np.linspace(0, 4, 50)\n",
    "y = func(xdata, 2.5, 1.3, 0.5)\n",
    "ydata = y + 0.2 * np.random.normal(size=len(xdata))\n",
    "plt.plot(xdata,ydata,'b-')\n",
    "popt, pcov = curve_fit(func, xdata, ydata)\n",
    "#popt数组中，三个值分别是待求参数a,b,c\n",
    "y2 = [func(i, popt[0],popt[1],popt[2]) for i in xdata]"
   ]
  }
 ],
 "metadata": {
  "kernelspec": {
   "display_name": "Python [conda env:.conda-caffe36]",
   "language": "python",
   "name": "conda-env-.conda-caffe36-py"
  },
  "language_info": {
   "codemirror_mode": {
    "name": "ipython",
    "version": 3
   },
   "file_extension": ".py",
   "mimetype": "text/x-python",
   "name": "python",
   "nbconvert_exporter": "python",
   "pygments_lexer": "ipython3",
   "version": "3.6.9"
  }
 },
 "nbformat": 4,
 "nbformat_minor": 2
}
