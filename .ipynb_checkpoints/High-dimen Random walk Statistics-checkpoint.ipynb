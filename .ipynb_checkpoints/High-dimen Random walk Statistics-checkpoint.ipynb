{
 "cells": [
  {
   "cell_type": "code",
   "execution_count": 14,
   "metadata": {},
   "outputs": [],
   "source": [
    "from utils import generator\n",
    "# import net_utils\n",
    "from cv2 import imread, imwrite\n",
    "import matplotlib.pylab as plt\n",
    "from os.path import join\n",
    "import os\n",
    "import scipy\n",
    "import numpy as np\n",
    "from sklearn.linear_model import LinearRegression\n",
    "from sklearn.decomposition import PCA"
   ]
  },
  {
   "cell_type": "code",
   "execution_count": 4,
   "metadata": {},
   "outputs": [],
   "source": [
    "homedir = r\"D:\\Generator_DB_Windows\" #os.path.expanduser('~')\n",
    "initcodedir = os.path.join(homedir, 'stimuli/texture006')\n",
    "natstimdir = os.path.join(homedir, 'stimuli/natimages-guapoCh9')\n",
    "exp_dir = os.path.join(homedir, 'data/purenoise')"
   ]
  },
  {
   "cell_type": "code",
   "execution_count": 21,
   "metadata": {},
   "outputs": [],
   "source": [
    "intercept_arr"
   ]
  },
  {
   "cell_type": "markdown",
   "metadata": {},
   "source": [
    "## Construct the distribution of charateristics in null hypothesis"
   ]
  },
  {
   "cell_type": "code",
   "execution_count": 23,
   "metadata": {},
   "outputs": [],
   "source": [
    "this_exp_dir = exp_dir\n",
    "optim_params = {} # Original case\n",
    "slope_arr = []\n",
    "intercept_arr = []\n",
    "PC_max_Amp_arr = []\n",
    "PC_min_Amp_arr = []\n",
    "PC_evr_arr = []\n",
    "trial_num = 100\n",
    "for trial_i in range(trial_num):\n",
    "    # random_seed = int(time())\n",
    "    trial_title = 'choleskycma_sgm3_uf10_trial%d' % (trial_i)\n",
    "    trialdir = os.path.join(this_exp_dir, trial_title)\n",
    "    with np.load(os.path.join(trialdir, \"codes_all.npz\")) as data:\n",
    "        generations = data[\"generations\"]\n",
    "        codes_all=data[\"codes_all\"]\n",
    "        slope, intercept = code_norm_evolve(generations, codes_all, trial_title=trial_title, savedir=trialdir)\n",
    "        PC_max_Amp, PC_min_Amp, PC_evr = PC_evolve(generations, codes_all, trial_title=trial_title, savedir=trialdir)\n",
    "        plt.close('all')\n",
    "        \n",
    "        slope_arr.append(slope)\n",
    "        intercept_arr.append(intercept)\n",
    "        PC_max_Amp_arr.append(PC_max_Amp)\n",
    "        PC_min_Amp_arr.append(PC_min_Amp)\n",
    "        PC_evr_arr.append(PC_evr)\n",
    "slope_arr = np.array(slope_arr)\n",
    "intercept_arr = np.array(intercept_arr)\n",
    "PC_max_Amp_arr = np.array(PC_max_Amp_arr)\n",
    "PC_min_Amp_arr = np.array(PC_min_Amp_arr)\n",
    "PC_evr_arr = np.array(PC_evr_arr)"
   ]
  },
  {
   "cell_type": "code",
   "execution_count": 41,
   "metadata": {},
   "outputs": [],
   "source": [
    "np.savez(os.path.join(exp_dir, \"pure_noise_summary_stat.npz\"), slope_arr = slope_arr,\n",
    "                                intercept_arr = intercept_arr,\n",
    "                                PC_max_Amp_arr = PC_max_Amp_arr,\n",
    "                                PC_min_Amp_arr = PC_min_Amp_arr,\n",
    "                                PC_evr_arr = PC_evr_arr)"
   ]
  },
  {
   "cell_type": "markdown",
   "metadata": {},
   "source": [
    "Use only first 40 trials to compute the prior"
   ]
  },
  {
   "cell_type": "code",
   "execution_count": null,
   "metadata": {},
   "outputs": [],
   "source": [
    "gen_limit = 40"
   ]
  },
  {
   "cell_type": "code",
   "execution_count": 204,
   "metadata": {},
   "outputs": [],
   "source": [
    "this_exp_dir = exp_dir\n",
    "optim_params = {} # Original case\n",
    "slope_arr = []\n",
    "intercept_arr = []\n",
    "PC_max_Amp_arr = []\n",
    "PC_min_Amp_arr = []\n",
    "PC_evr_arr = []\n",
    "trial_num = 100\n",
    "for trial_i in range(trial_num):\n",
    "    # random_seed = int(time())\n",
    "    trial_title = 'choleskycma_sgm3_uf10_trial%d' % (trial_i)\n",
    "    trialdir = os.path.join(this_exp_dir, trial_title)\n",
    "    with np.load(os.path.join(trialdir, \"codes_all.npz\")) as data:\n",
    "        generations = data[\"generations\"]\n",
    "        codes_all=data[\"codes_all\"]\n",
    "        slope, intercept = code_norm_evolve(generations[generations<gen_limit], codes_all[generations<gen_limit], savefig=False, show=False)\n",
    "        PC_max_Amp, PC_min_Amp, PC_evr = PC_evolve(generations[generations<gen_limit], codes_all[generations<gen_limit], savefig=False, show=False)\n",
    "\n",
    "        slope_arr.append(slope)\n",
    "        intercept_arr.append(intercept)\n",
    "        PC_max_Amp_arr.append(PC_max_Amp)\n",
    "        PC_min_Amp_arr.append(PC_min_Amp)\n",
    "        PC_evr_arr.append(PC_evr)\n",
    "slope_arr = np.array(slope_arr)\n",
    "intercept_arr = np.array(intercept_arr)\n",
    "PC_max_Amp_arr = np.array(PC_max_Amp_arr)\n",
    "PC_min_Amp_arr = np.array(PC_min_Amp_arr)\n",
    "PC_evr_arr = np.array(PC_evr_arr)"
   ]
  },
  {
   "cell_type": "code",
   "execution_count": 205,
   "metadata": {},
   "outputs": [],
   "source": [
    "np.savez(os.path.join(exp_dir, \"pure_noise_summary_stat_%d.npz\" % gen_limit), slope_arr = slope_arr,\n",
    "                                intercept_arr = intercept_arr,\n",
    "                                PC_max_Amp_arr = PC_max_Amp_arr,\n",
    "                                PC_min_Amp_arr = PC_min_Amp_arr,\n",
    "                                PC_evr_arr = PC_evr_arr)"
   ]
  },
  {
   "cell_type": "code",
   "execution_count": 29,
   "metadata": {},
   "outputs": [
    {
     "data": {
      "image/png": "[encoded data removed]",
      "text/plain": [
       "<Figure size 432x288 with 2 Axes>"
      ]
     },
     "metadata": {
      "needs_background": "light"
     },
     "output_type": "display_data"
    }
   ],
   "source": [
    "plt.subplot(1,2,1)\n",
    "plt.hist(slope_arr,bins=35)\n",
    "plt.title(\"Linear Slope\")\n",
    "plt.subplot(1,2,2)\n",
    "plt.hist(intercept_arr,bins=35)\n",
    "plt.show()"
   ]
  },
  {
   "cell_type": "code",
   "execution_count": 206,
   "metadata": {},
   "outputs": [
    {
     "data": {
      "image/png": "[encoded data removed]",
      "text/plain": [
       "<Figure size 432x288 with 2 Axes>"
      ]
     },
     "metadata": {
      "needs_background": "light"
     },
     "output_type": "display_data"
    }
   ],
   "source": [
    "plt.subplot(1,2,1)\n",
    "plt.hist(slope_arr,bins=35)\n",
    "plt.xlabel(\"Linear Slope\")\n",
    "plt.subplot(1,2,2)\n",
    "plt.hist(intercept_arr,bins=35)\n",
    "plt.xlabel(\"Linear Intercept\")\n",
    "plt.show()"
   ]
  },
  {
   "cell_type": "code",
   "execution_count": 30,
   "metadata": {},
   "outputs": [
    {
     "data": {
      "text/plain": [
       "(100, 50)"
      ]
     },
     "execution_count": 30,
     "metadata": {},
     "output_type": "execute_result"
    }
   ],
   "source": [
    "PC_max_Amp_arr.shape"
   ]
  },
  {
   "cell_type": "code",
   "execution_count": 35,
   "metadata": {
    "scrolled": true
   },
   "outputs": [
    {
     "data": {
      "image/png": "[encoded data removed]",
      "text/plain": [
       "<Figure size 432x288 with 1 Axes>"
      ]
     },
     "metadata": {
      "needs_background": "light"
     },
     "output_type": "display_data"
    }
   ],
   "source": [
    "plt.errorbar(np.arange(1,51), PC_max_Amp_arr.mean(axis=0), yerr=2*PC_max_Amp_arr.std(axis=0))\n",
    "plt.title(\"Maximum Amplitude of the first 50 PCs\\nSummary of the %d experiments (errorbar=2 std)\"%trial_num)\n",
    "plt.ylabel(\"Maximum Amplitude of PC\")\n",
    "plt.xlabel(\"PC number\")\n",
    "plt.show()"
   ]
  },
  {
   "cell_type": "code",
   "execution_count": 40,
   "metadata": {},
   "outputs": [
    {
     "data": {
      "image/png": "[encoded data removed]",
      "text/plain": [
       "<Figure size 432x288 with 1 Axes>"
      ]
     },
     "metadata": {
      "needs_background": "light"
     },
     "output_type": "display_data"
    }
   ],
   "source": [
    "plt.errorbar(np.arange(1,51), PC_evr_arr.mean(axis=0), yerr=2*PC_evr_arr.std(axis=0))\n",
    "plt.title(\"Explained Variance Ratio of the first 50 PCs\\nSummary of the %d experiments (errorbar=2 std)\"%trial_num)\n",
    "plt.ylabel(\"Explained Variance Ratio of PC\")\n",
    "plt.xlabel(\"PC number\")\n",
    "plt.show()"
   ]
  },
  {
   "cell_type": "code",
   "execution_count": 207,
   "metadata": {
    "scrolled": false
   },
   "outputs": [
    {
     "data": {
      "image/png": "[encoded data removed]",
      "text/plain": [
       "<Figure size 432x288 with 1 Axes>"
      ]
     },
     "metadata": {
      "needs_background": "light"
     },
     "output_type": "display_data"
    }
   ],
   "source": [
    "plt.errorbar(np.arange(1,51), PC_max_Amp_arr.mean(axis=0), yerr=2*PC_max_Amp_arr.std(axis=0))\n",
    "plt.title(\"Maximum Amplitude of the first 50 PCs\\nSummary of the %d experiments (first 40 gens) (errorbar=2 std)\"%trial_num)\n",
    "plt.ylabel(\"Maximum Amplitude of PC\")\n",
    "plt.xlabel(\"PC number\")\n",
    "plt.show()"
   ]
  },
  {
   "cell_type": "code",
   "execution_count": 208,
   "metadata": {},
   "outputs": [
    {
     "data": {
      "image/png": "[encoded data removed]",
      "text/plain": [
       "<Figure size 432x288 with 1 Axes>"
      ]
     },
     "metadata": {
      "needs_background": "light"
     },
     "output_type": "display_data"
    }
   ],
   "source": [
    "plt.errorbar(np.arange(1,51), PC_evr_arr.mean(axis=0), yerr=2*PC_evr_arr.std(axis=0))\n",
    "plt.title(\"Explained Variance Ratio of the first 50 PCs\\nSummary of the %d experiments (first 40 gens) (errorbar=2 std)\"%trial_num)\n",
    "plt.ylabel(\"Explained Variance Ratio of PC\")\n",
    "plt.xlabel(\"PC number\")\n",
    "plt.show()"
   ]
  },
  {
   "cell_type": "markdown",
   "metadata": {},
   "source": [
    "## Load Real Data"
   ]
  },
  {
   "cell_type": "code",
   "execution_count": 211,
   "metadata": {},
   "outputs": [],
   "source": [
    "from scipy.io import loadmat\n",
    "import h5py\n",
    "data = h5py.File(r\"D:\\Project_CMA_Beto_Stats.mat\", 'r')"
   ]
  },
  {
   "cell_type": "code",
   "execution_count": null,
   "metadata": {},
   "outputs": [],
   "source": [
    "data.close()"
   ]
  },
  {
   "cell_type": "code",
   "execution_count": 103,
   "metadata": {
    "scrolled": true
   },
   "outputs": [
    {
     "name": "stdout",
     "output_type": "stream",
     "text": [
      "Exp 0: 100 gens (4096, 4030)\n",
      "Exp 1: 40 gens (4096, 790)\n",
      "Exp 2: 100 gens (4096, 4030)\n",
      "Exp 3: 104 gens (4096, 4190)\n",
      "Exp 4: 72 gens (4096, 2910)\n",
      "Exp 5: 51 gens (4096, 2070)\n",
      "Exp 6: 24 gens (4096, 990)\n",
      "Exp 7: 60 gens (4096, 2430)\n",
      "Exp 8: 52 gens (4096, 2110)\n",
      "Exp 9: 56 gens (4096, 2270)\n",
      "Exp 10: 128 gens (4096, 5150)\n",
      "Exp 11: 70 gens (4096, 2830)\n",
      "Exp 12: 70 gens (4096, 2830)\n",
      "Exp 13: 71 gens (4096, 2870)\n",
      "Exp 14: 71 gens (4096, 2870)\n",
      "Exp 15: 60 gens (4096, 2430)\n",
      "Exp 16: 60 gens (4096, 2430)\n",
      "Exp 17: 52 gens (4096, 2110)\n",
      "Exp 18: 52 gens (4096, 2110)\n",
      "Exp 19: 59 gens (4096, 2390)\n",
      "Exp 20: 20 gens (4096, 830)\n",
      "Exp 21: 20 gens (4096, 830)\n",
      "Exp 22: 50 gens (4096, 2030)\n",
      "Exp 23: 50 gens (4096, 2030)\n",
      "Exp 24: 34 gens (4096, 1390)\n",
      "Exp 25: 34 gens (4096, 1390)\n",
      "Exp 26: 90 gens (4096, 3630)\n",
      "Exp 27: 90 gens (4096, 3630)\n",
      "Exp 28: 50 gens (4096, 2030)\n",
      "Exp 29: 50 gens (4096, 2030)\n",
      "Exp 30: 44 gens (4096, 1790)\n",
      "Exp 31: 44 gens (4096, 1790)\n",
      "Exp 32: 50 gens (4096, 2030)\n",
      "Exp 33: 50 gens (4096, 2030)\n",
      "Exp 34: 46 gens (4096, 1870)\n",
      "Exp 35: 67 gens (4096, 2710)\n",
      "Exp 36: 67 gens (4096, 2710)\n",
      "Exp 37: 49 gens (4096, 1990)\n",
      "Exp 38: 49 gens (4096, 1990)\n",
      "Exp 39: 60 gens (4096, 2430)\n",
      "Exp 40: 60 gens (4096, 2430)\n",
      "Exp 41: 60 gens (4096, 2430)\n",
      "Exp 42: 60 gens (4096, 2430)\n",
      "Exp 43: 50 gens (4096, 2030)\n",
      "Exp 44: 50 gens (4096, 2030)\n",
      "Exp 45: 62 gens (4096, 2510)\n",
      "Exp 46: 62 gens (4096, 2510)\n",
      "Exp 47: 71 gens (4096, 2870)\n",
      "Exp 48: 55 gens (4096, 2230)\n",
      "Exp 49: 85 gens (4096, 3430)\n",
      "Exp 50: 50 gens (4096, 2030)\n",
      "Exp 51: 104 gens (4096, 4190)\n",
      "Exp 52: 50 gens (4096, 2030)\n",
      "Exp 53: 54 gens (4096, 2190)\n",
      "Exp 54: 59 gens (4096, 2390)\n",
      "Exp 55: 20 gens (4096, 830)\n",
      "Exp 56: 25 gens (4096, 1030)\n",
      "Exp 57: 25 gens (4096, 1030)\n",
      "Exp 58: 83 gens (4096, 3350)\n",
      "Exp 59: 30 gens (4096, 1230)\n",
      "Exp 60: 65 gens (4096, 2630)\n",
      "Exp 61: 20 gens (4096, 830)\n",
      "Exp 62: 70 gens (4096, 2830)\n",
      "Exp 63: 20 gens (4096, 830)\n",
      "Exp 64: 20 gens (4096, 830)\n",
      "Exp 65: 20 gens (4096, 830)\n",
      "Exp 66: 20 gens (4096, 830)\n",
      "Exp 67: 26 gens (4096, 1070)\n",
      "Exp 68: 11 gens (4096, 470)\n",
      "Exp 69: 20 gens (4096, 830)\n",
      "Exp 70: 85 gens (4096, 3430)\n",
      "Exp 71: 41 gens (4096, 1670)\n",
      "Exp 72: 21 gens (4096, 870)\n",
      "Exp 73: 53 gens (4096, 2150)\n",
      "Exp 74: 50 gens (4096, 2030)\n",
      "Exp 75: 31 gens (4096, 1270)\n",
      "Exp 76: 75 gens (4096, 3030)\n",
      "Exp 77: 39 gens (4096, 1590)\n",
      "Exp 78: 50 gens (4096, 2030)\n",
      "Exp 79: 50 gens (4096, 2030)\n",
      "Exp 80: 10 gens (4096, 430)\n",
      "Exp 81: 60 gens (4096, 2430)\n",
      "Exp 82: 47 gens (4096, 1910)\n",
      "Exp 83: 78 gens (4096, 3150)\n",
      "Exp 84: 57 gens (4096, 2310)\n",
      "Exp 85: 71 gens (4096, 2870)\n",
      "Exp 86: 35 gens (4096, 1430)\n",
      "Exp 87: 30 gens (4096, 1230)\n",
      "Exp 88: 34 gens (4096, 1390)\n",
      "Exp 89: 34 gens (4096, 1390)\n",
      "Exp 90: 40 gens (4096, 1630)\n",
      "Exp 91: 50 gens (4096, 2030)\n",
      "Exp 92: 50 gens (4096, 2030)\n",
      "Exp 93: 39 gens (4096, 1590)\n",
      "Exp 94: 67 gens (4096, 2710)\n",
      "Exp 95: 36 gens (4096, 1470)\n",
      "Exp 96: 40 gens (4096, 1630)\n",
      "Exp 97: 40 gens (4096, 1630)\n",
      "Exp 98: 87 gens (4096, 3510)\n",
      "Exp 99: 27 gens (4096, 1110)\n"
     ]
    }
   ],
   "source": [
    "for experiment_i in range(100):\n",
    "    generations = data[data['StatsB'][experiment_i,0]]['genes']['gen'][:]\n",
    "    codes_all = data[data['StatsB'][experiment_i,0]]['genes']['all'][:]\n",
    "    print(\"Exp %d: %d gens\"%(experiment_i, generations.max()), codes_all.shape)"
   ]
  },
  {
   "cell_type": "code",
   "execution_count": 266,
   "metadata": {},
   "outputs": [
    {
     "name": "stdout",
     "output_type": "stream",
     "text": [
      "Exp 0: 100 gens (4030, 4096)\n"
     ]
    }
   ],
   "source": [
    "experiment_i =0\n",
    "generations = data[data['StatsB'][experiment_i,0]]['genes']['gen'][:]\n",
    "codes_all = data[data['StatsB'][experiment_i,0]]['genes']['all'][:]\n",
    "generations = generations[0]\n",
    "codes_all = codes_all.T\n",
    "print(\"Exp %d: %d gens\"%(experiment_i, generations.max()), codes_all.shape)"
   ]
  },
  {
   "cell_type": "code",
   "execution_count": 267,
   "metadata": {},
   "outputs": [
    {
     "data": {
      "image/png": "[encoded data removed]",
      "text/plain": [
       "<Figure size 576x432 with 1 Axes>"
      ]
     },
     "metadata": {
      "needs_background": "light"
     },
     "output_type": "display_data"
    }
   ],
   "source": [
    "mean_Nat = data[data['StatsB'][experiment_i,0]]['meanResp_nat']\n",
    "mean_Rsp = data[data['StatsB'][experiment_i,0]]['meanResp_syn']\n",
    "# 'meanPsth_nat',\n",
    "#  'meanPsth_syn',\n",
    "#  'meanResp_nat',\n",
    "#  'meanResp_syn'\n",
    "plt.figure(figsize=[8,6])\n",
    "plt.plot(mean_Rsp[:].T)\n",
    "plt.plot(mean_Nat[:].T)\n",
    "plt.legend([\"SynMeanResp\",\"baseline\",\"NatMeanResp\",\"baseline\",])\n",
    "plt.xlabel(\"Genrations\")\n",
    "plt.title(\"Experiment %d Score\"%experiment_i)\n",
    "plt.show()"
   ]
  },
  {
   "cell_type": "code",
   "execution_count": 225,
   "metadata": {},
   "outputs": [],
   "source": [
    "slope, intercept = code_norm_evolve(generations, codes_all, savefig=False, trial_title=trial_title, savedir=trialdir)\n",
    "PC_max_Amp, PC_min_Amp, PC_evr = PC_evolve(generations, codes_all, savefig=False, trial_title=trial_title, savedir=trialdir)"
   ]
  },
  {
   "cell_type": "code",
   "execution_count": 268,
   "metadata": {},
   "outputs": [],
   "source": [
    "gen_limit = 40\n",
    "slope, intercept = code_norm_evolve(generations[generations<gen_limit], codes_all[generations<gen_limit, :], savefig=False, trial_title=trial_title, savedir=trialdir)\n",
    "PC_max_Amp, PC_min_Amp, PC_evr = PC_evolve(generations[generations<gen_limit], codes_all[generations<gen_limit, :], savefig=False, trial_title=trial_title, savedir=trialdir)"
   ]
  },
  {
   "cell_type": "code",
   "execution_count": 269,
   "metadata": {},
   "outputs": [],
   "source": [
    "trial_num\n",
    "interc_stat = (intercept_arr>intercept).sum()/len(intercept_arr)\n",
    "slope_stat = (slope_arr>slope).sum()/len(slope_arr)\n",
    "evr_stat = (PC_evr_arr>PC_evr).sum(axis=0)/trial_num\n",
    "max_Amp_stat = (PC_max_Amp_arr > PC_max_Amp).sum(axis=0)/trial_num\n",
    "min_Amp_stat = (PC_min_Amp_arr > PC_min_Amp).sum(axis=0)/trial_num"
   ]
  },
  {
   "cell_type": "code",
   "execution_count": 271,
   "metadata": {},
   "outputs": [
    {
     "data": {
      "image/png": "[encoded data removed]",
      "text/plain": [
       "<Figure size 576x432 with 2 Axes>"
      ]
     },
     "metadata": {
      "needs_background": "light"
     },
     "output_type": "display_data"
    }
   ],
   "source": [
    "plt.figure(figsize=[8,6])\n",
    "plt.subplot(1,2,1)\n",
    "plt.hist(slope_arr, bins=35, alpha=0.6)\n",
    "plt.vlines(slope, *plt.ylim(),colors='r')\n",
    "plt.title(\"Stat: %.2f\" % slope_stat)\n",
    "plt.xlabel(\"Linear Slope\")\n",
    "plt.subplot(1,2,2)\n",
    "plt.hist(intercept_arr,bins=35, alpha=0.6)\n",
    "plt.vlines(intercept, *plt.ylim(),colors='r')\n",
    "plt.title(\"Stat: %.2f\" % interc_stat)\n",
    "plt.xlabel(\"Linear Intercept\")\n",
    "plt.suptitle(\"Linear Coefficient of Squared Norm Evolution\\n in Real Experiment %d vs Random Neuron\"%experiment_i)\n",
    "plt.show()"
   ]
  },
  {
   "cell_type": "code",
   "execution_count": 272,
   "metadata": {},
   "outputs": [
    {
     "data": {
      "image/png": "[encoded data removed]",
      "text/plain": [
       "<Figure size 576x432 with 1 Axes>"
      ]
     },
     "metadata": {
      "needs_background": "light"
     },
     "output_type": "display_data"
    }
   ],
   "source": [
    "plt.figure(figsize=[8,6])\n",
    "plt.plot(np.arange(1,51), PC_evr, marker=\".\", alpha=0.6)\n",
    "plt.errorbar(np.arange(1,51), PC_evr_arr.mean(axis=0), yerr=2*PC_evr_arr.std(axis=0), fmt='none', ecolor='r')\n",
    "plt.legend([\"Real Neuron\", \"Random Score (error bar=2 std)\" ])\n",
    "plt.title(\"Explained Variance in Real Experiment %d vs Random Neuron \\n EVR(Stats): PC1:%.2f(%.2f) PC2:%.2f(%.2f) PC3:%.2f(%.2f)\"%\n",
    "          (experiment_i, PC_evr[0], evr_stat[0], PC_evr[1], evr_stat[1], PC_evr[2], evr_stat[2]))\n",
    "plt.ylabel(\"Explained Variance Ratio of PC\")\n",
    "plt.xlabel(\"PC number\")\n",
    "plt.show()"
   ]
  },
  {
   "cell_type": "code",
   "execution_count": 273,
   "metadata": {},
   "outputs": [
    {
     "data": {
      "image/png": "[encoded data removed]",
      "text/plain": [
       "<Figure size 576x432 with 1 Axes>"
      ]
     },
     "metadata": {
      "needs_background": "light"
     },
     "output_type": "display_data"
    }
   ],
   "source": [
    "plt.figure(figsize=[8,6])\n",
    "plt.plot(np.arange(1,51), PC_min_Amp, marker=\".\", alpha=0.6)\n",
    "plt.errorbar(np.arange(1,51), PC_min_Amp_arr.mean(axis=0), yerr=2*PC_min_Amp_arr.std(axis=0), fmt='none', ecolor='r')\n",
    "plt.legend([\"Real Neuron\", \"Random Score (error bar=2 std)\" ])\n",
    "plt.title(\"Minimum Amplitude in Real Experiment %d vs Random Neuron\\n Min_Amp(Stats): PC1:%.f(%.2f) PC2:%.f(%.2f) PC3:%.f(%.2f)\"%\n",
    "          (experiment_i, PC_min_Amp[0], min_Amp_stat[0], PC_min_Amp[1], min_Amp_stat[1], PC_min_Amp[2], min_Amp_stat[2]))\n",
    "plt.ylabel(\"Minimum Amplitude of PC\")\n",
    "plt.xlabel(\"PC number\")\n",
    "plt.show()"
   ]
  },
  {
   "cell_type": "code",
   "execution_count": 274,
   "metadata": {},
   "outputs": [
    {
     "data": {
      "image/png": "[encoded data removed]",
      "text/plain": [
       "<Figure size 576x432 with 1 Axes>"
      ]
     },
     "metadata": {
      "needs_background": "light"
     },
     "output_type": "display_data"
    }
   ],
   "source": [
    "plt.figure(figsize=[8,6])\n",
    "plt.plot(np.arange(1,51), PC_max_Amp, marker=\".\", alpha=0.6)\n",
    "plt.errorbar(np.arange(1,51), PC_max_Amp_arr.mean(axis=0), yerr=2*PC_max_Amp_arr.std(axis=0), fmt='none', ecolor='r')\n",
    "plt.legend([\"Real Neuron\", \"Random Score (error bar=2 std)\" ])\n",
    "plt.title(\"Maximum Amplitude in Real Experiment %d vs Random Neuron\\n Max_Amp(Stats): PC1:%.f(%.2f) PC2:%.f(%.2f) PC3:%.f(%.2f)\"%\n",
    "          (experiment_i, PC_max_Amp[0], max_Amp_stat[0], PC_max_Amp[1], max_Amp_stat[1], PC_max_Amp[2], max_Amp_stat[2]))\n",
    "plt.ylabel(\"Maximum Amplitude of PC\")\n",
    "plt.xlabel(\"PC number\")\n",
    "plt.show()"
   ]
  },
  {
   "cell_type": "markdown",
   "metadata": {},
   "source": [
    "## Massive processing"
   ]
  },
  {
   "cell_type": "code",
   "execution_count": 278,
   "metadata": {},
   "outputs": [],
   "source": [
    "from utils import add_trial_subdir"
   ]
  },
  {
   "cell_type": "code",
   "execution_count": 288,
   "metadata": {},
   "outputs": [],
   "source": [
    "result_dir = r\"C:\\Users\\ponce\\OneDrive\\Desktop\\OneDrive_Binxu\\OneDrive\\Evolv_Traj_Statistics\""
   ]
  },
  {
   "cell_type": "code",
   "execution_count": 289,
   "metadata": {
    "scrolled": true
   },
   "outputs": [
    {
     "name": "stdout",
     "output_type": "stream",
     "text": [
      "Exp 0: 100 gens (4030, 4096)\n",
      "Slope(Stats):3347.40(0.00) Intercept(Stats):31481(1.00) \n",
      "EVR(Stats): PC1:0.23(0.02) PC2:0.06(0.74) PC3:0.03(0.02)\n",
      "Min_Amp(Stats): PC1:-164(1.00) PC2:-88(1.00) PC3:-61(1.00)\n",
      "Max_Amp(Stats): PC1:174(0.00) PC2:90(0.00) PC3:63(0.02)\n",
      "Exp 1: 40 gens (790, 4096)\n",
      "Slope(Stats):4067.72(0.00) Intercept(Stats):12907(1.00) \n",
      "EVR(Stats): PC1:0.14(1.00) PC2:0.06(0.89) PC3:0.03(0.00)\n",
      "Min_Amp(Stats): PC1:-113(0.00) PC2:-50(0.00) PC3:-58(1.00)\n",
      "Max_Amp(Stats): PC1:195(0.00) PC2:211(0.00) PC3:58(0.27)\n",
      "Exp 2: 100 gens (4030, 4096)\n",
      "Slope(Stats):3288.40(0.00) Intercept(Stats):31637(1.00) \n",
      "EVR(Stats): PC1:0.23(0.03) PC2:0.06(0.74) PC3:0.03(0.28)\n",
      "Min_Amp(Stats): PC1:-166(1.00) PC2:-86(1.00) PC3:-61(1.00)\n",
      "Max_Amp(Stats): PC1:170(0.00) PC2:87(0.00) PC3:63(0.01)\n",
      "Exp 3: 104 gens (4190, 4096)\n",
      "Slope(Stats):3384.23(0.00) Intercept(Stats):31492(1.00) \n",
      "EVR(Stats): PC1:0.23(0.01) PC2:0.06(0.87) PC3:0.03(0.53)\n",
      "Min_Amp(Stats): PC1:-170(1.00) PC2:-88(1.00) PC3:-61(1.00)\n",
      "Max_Amp(Stats): PC1:173(0.00) PC2:89(0.00) PC3:61(0.05)\n",
      "Exp 4: 72 gens (2910, 4096)\n",
      "Slope(Stats):3384.19(0.00) Intercept(Stats):32533(1.00) \n",
      "EVR(Stats): PC1:0.23(0.02) PC2:0.06(0.36) PC3:0.03(0.09)\n",
      "Min_Amp(Stats): PC1:-168(1.00) PC2:-86(1.00) PC3:-62(1.00)\n",
      "Max_Amp(Stats): PC1:168(0.00) PC2:87(0.00) PC3:62(0.04)\n",
      "Exp 5: 51 gens (2070, 4096)\n",
      "Slope(Stats):3343.85(0.00) Intercept(Stats):31457(1.00) \n",
      "EVR(Stats): PC1:0.23(0.01) PC2:0.06(0.94) PC3:0.03(0.45)\n",
      "Min_Amp(Stats): PC1:-168(1.00) PC2:-88(1.00) PC3:-62(1.00)\n",
      "Max_Amp(Stats): PC1:169(0.00) PC2:90(0.00) PC3:62(0.04)\n",
      "Exp 6: 24 gens (990, 4096)\n",
      "Slope(Stats):3437.96(0.00) Intercept(Stats):29849(1.00) \n",
      "EVR(Stats): PC1:0.17(1.00) PC2:0.04(1.00) PC3:0.02(1.00)\n",
      "Min_Amp(Stats): PC1:-132(0.65) PC2:-69(0.08) PC3:-50(0.29)\n",
      "Max_Amp(Stats): PC1:132(1.00) PC2:70(1.00) PC3:51(0.99)\n",
      "Exp 7: 60 gens (2430, 4096)\n",
      "Slope(Stats):3366.19(0.00) Intercept(Stats):32155(1.00) \n",
      "EVR(Stats): PC1:0.23(0.02) PC2:0.06(0.08) PC3:0.03(0.71)\n",
      "Min_Amp(Stats): PC1:-165(1.00) PC2:-89(1.00) PC3:-61(1.00)\n",
      "Max_Amp(Stats): PC1:171(0.00) PC2:91(0.00) PC3:62(0.05)\n",
      "Exp 8: 52 gens (2110, 4096)\n",
      "Slope(Stats):3250.71(0.00) Intercept(Stats):32526(1.00) \n",
      "EVR(Stats): PC1:0.23(0.13) PC2:0.06(0.34) PC3:0.03(0.02)\n",
      "Min_Amp(Stats): PC1:-167(1.00) PC2:-89(1.00) PC3:-61(1.00)\n",
      "Max_Amp(Stats): PC1:169(0.00) PC2:90(0.00) PC3:66(0.00)\n",
      "Exp 9: 56 gens (2270, 4096)\n",
      "Slope(Stats):3354.22(0.00) Intercept(Stats):30953(1.00) \n",
      "EVR(Stats): PC1:0.23(0.01) PC2:0.06(0.17) PC3:0.03(0.90)\n",
      "Min_Amp(Stats): PC1:-168(1.00) PC2:-88(1.00) PC3:-61(1.00)\n",
      "Max_Amp(Stats): PC1:174(0.00) PC2:90(0.00) PC3:65(0.00)\n",
      "Exp 10: 128 gens (5150, 4096)\n",
      "Slope(Stats):3293.62(0.00) Intercept(Stats):32522(1.00) \n",
      "EVR(Stats): PC1:0.23(0.05) PC2:0.06(0.76) PC3:0.03(0.60)\n",
      "Min_Amp(Stats): PC1:-169(1.00) PC2:-87(1.00) PC3:-59(1.00)\n",
      "Max_Amp(Stats): PC1:170(0.00) PC2:88(0.00) PC3:63(0.02)\n",
      "Exp 11: 70 gens (2830, 4096)\n",
      "Slope(Stats):1921.16(0.18) Intercept(Stats):30413(1.00) \n",
      "EVR(Stats): PC1:0.23(0.15) PC2:0.06(0.74) PC3:0.03(0.48)\n",
      "Min_Amp(Stats): PC1:-133(0.71) PC2:-70(0.19) PC3:-49(0.21)\n",
      "Max_Amp(Stats): PC1:143(0.75) PC2:79(0.60) PC3:52(0.94)\n",
      "Exp 12: 70 gens (2830, 4096)\n",
      "Slope(Stats):1833.16(0.65) Intercept(Stats):31243(1.00) \n",
      "EVR(Stats): PC1:0.22(0.70) PC2:0.06(0.20) PC3:0.03(0.15)\n",
      "Min_Amp(Stats): PC1:-128(0.10) PC2:-69(0.10) PC3:-50(0.23)\n",
      "Max_Amp(Stats): PC1:141(0.96) PC2:78(0.68) PC3:51(0.99)\n",
      "Exp 13: 71 gens (2870, 4096)\n",
      "Slope(Stats):1770.32(0.81) Intercept(Stats):31553(1.00) \n",
      "EVR(Stats): PC1:0.22(0.92) PC2:0.06(0.02) PC3:0.03(0.53)\n",
      "Min_Amp(Stats): PC1:-127(0.09) PC2:-74(0.96) PC3:-48(0.02)\n",
      "Max_Amp(Stats): PC1:141(0.95) PC2:77(0.83) PC3:52(0.92)\n",
      "Exp 14: 71 gens (2870, 4096)\n",
      "Slope(Stats):1912.09(0.19) Intercept(Stats):31261(1.00) \n",
      "EVR(Stats): PC1:0.22(0.23) PC2:0.06(0.88) PC3:0.03(0.18)\n",
      "Min_Amp(Stats): PC1:-130(0.33) PC2:-69(0.11) PC3:-49(0.11)\n",
      "Max_Amp(Stats): PC1:145(0.54) PC2:80(0.39) PC3:52(0.95)\n",
      "Exp 15: 60 gens (2430, 4096)\n",
      "Slope(Stats):1832.21(0.65) Intercept(Stats):30863(1.00) \n",
      "EVR(Stats): PC1:0.22(0.54) PC2:0.06(0.16) PC3:0.03(0.71)\n",
      "Min_Amp(Stats): PC1:-131(0.47) PC2:-71(0.34) PC3:-49(0.08)\n",
      "Max_Amp(Stats): PC1:143(0.82) PC2:81(0.34) PC3:52(0.95)\n",
      "Exp 16: 60 gens (2430, 4096)\n",
      "Slope(Stats):1816.35(0.70) Intercept(Stats):32378(1.00) \n",
      "EVR(Stats): PC1:0.22(0.96) PC2:0.06(0.08) PC3:0.03(0.01)\n",
      "Min_Amp(Stats): PC1:-124(0.00) PC2:-72(0.77) PC3:-49(0.11)\n",
      "Max_Amp(Stats): PC1:143(0.76) PC2:78(0.68) PC3:54(0.77)\n",
      "Exp 17: 52 gens (2110, 4096)\n",
      "Slope(Stats):1959.81(0.10) Intercept(Stats):30686(1.00) \n",
      "EVR(Stats): PC1:0.22(0.20) PC2:0.06(0.02) PC3:0.03(0.49)\n",
      "Min_Amp(Stats): PC1:-134(0.78) PC2:-72(0.61) PC3:-49(0.11)\n",
      "Max_Amp(Stats): PC1:145(0.38) PC2:80(0.40) PC3:52(0.91)\n",
      "Exp 18: 52 gens (2110, 4096)\n",
      "Slope(Stats):2033.50(0.01) Intercept(Stats):30952(1.00) \n",
      "EVR(Stats): PC1:0.23(0.18) PC2:0.06(0.08) PC3:0.03(0.15)\n",
      "Min_Amp(Stats): PC1:-132(0.63) PC2:-72(0.77) PC3:-51(0.59)\n",
      "Max_Amp(Stats): PC1:148(0.12) PC2:81(0.33) PC3:52(0.91)\n",
      "Exp 19: 59 gens (2390, 4096)\n",
      "Slope(Stats):1844.31(0.59) Intercept(Stats):31518(1.00) \n",
      "EVR(Stats): PC1:0.22(0.80) PC2:0.06(0.11) PC3:0.03(0.58)\n",
      "Min_Amp(Stats): PC1:-130(0.41) PC2:-72(0.62) PC3:-49(0.08)\n",
      "Max_Amp(Stats): PC1:145(0.53) PC2:76(0.86) PC3:51(0.99)\n",
      "Exp 20: 20 gens (830, 4096)\n",
      "Slope(Stats):1991.29(0.03) Intercept(Stats):30114(1.00) \n",
      "EVR(Stats): PC1:0.15(1.00) PC2:0.04(1.00) PC3:0.02(1.00)\n",
      "Min_Amp(Stats): PC1:-96(0.00) PC2:-56(0.00) PC3:-41(0.00)\n",
      "Max_Amp(Stats): PC1:110(1.00) PC2:59(1.00) PC3:41(1.00)\n",
      "Exp 21: 20 gens (830, 4096)\n",
      "Slope(Stats):-1665.96(1.00) Intercept(Stats):118188(0.00) \n",
      "EVR(Stats): PC1:0.10(1.00) PC2:0.04(1.00) PC3:0.02(1.00)\n",
      "Min_Amp(Stats): PC1:-98(0.00) PC2:-47(0.00) PC3:-54(0.99)\n",
      "Max_Amp(Stats): PC1:177(0.00) PC2:218(0.00) PC3:106(0.00)\n",
      "Exp 22: 50 gens (2030, 4096)\n",
      "Slope(Stats):2034.44(0.01) Intercept(Stats):31351(1.00) \n",
      "EVR(Stats): PC1:0.22(0.24) PC2:0.06(0.07) PC3:0.03(0.42)\n",
      "Min_Amp(Stats): PC1:-130(0.39) PC2:-72(0.57) PC3:-51(0.50)\n",
      "Max_Amp(Stats): PC1:149(0.09) PC2:82(0.10) PC3:52(0.91)\n",
      "Exp 23: 50 gens (2030, 4096)\n",
      "Slope(Stats):1922.85(0.18) Intercept(Stats):30496(1.00) \n",
      "EVR(Stats): PC1:0.23(0.13) PC2:0.06(0.75) PC3:0.03(0.80)\n",
      "Min_Amp(Stats): PC1:-132(0.66) PC2:-70(0.13) PC3:-49(0.15)\n",
      "Max_Amp(Stats): PC1:143(0.74) PC2:78(0.71) PC3:55(0.68)\n",
      "Exp 24: 34 gens (1390, 4096)\n",
      "Slope(Stats):641.90(1.00) Intercept(Stats):97475(0.00) \n",
      "EVR(Stats): PC1:0.16(1.00) PC2:0.04(1.00) PC3:0.03(0.90)\n",
      "Min_Amp(Stats): PC1:-121(0.00) PC2:-66(0.00) PC3:-41(0.00)\n",
      "Max_Amp(Stats): PC1:175(0.00) PC2:151(0.00) PC3:199(0.00)\n",
      "Exp 25: 34 gens (1390, 4096)\n",
      "Slope(Stats):2057.74(0.01) Intercept(Stats):29930(1.00) \n",
      "EVR(Stats): PC1:0.21(1.00) PC2:0.05(1.00) PC3:0.02(0.99)\n",
      "Min_Amp(Stats): PC1:-126(0.04) PC2:-70(0.17) PC3:-48(0.04)\n",
      "Max_Amp(Stats): PC1:139(0.98) PC2:74(0.96) PC3:49(1.00)\n",
      "Exp 26: 90 gens (3630, 4096)\n",
      "Slope(Stats):1860.52(0.49) Intercept(Stats):31733(1.00) \n",
      "EVR(Stats): PC1:0.22(0.76) PC2:0.06(0.77) PC3:0.03(0.03)\n",
      "Min_Amp(Stats): PC1:-129(0.22) PC2:-67(0.00) PC3:-52(0.77)\n",
      "Max_Amp(Stats): PC1:141(0.94) PC2:79(0.57) PC3:56(0.55)\n",
      "Exp 27: 90 gens (3630, 4096)\n",
      "Slope(Stats):1985.97(0.05) Intercept(Stats):30082(1.00) \n",
      "EVR(Stats): PC1:0.23(0.05) PC2:0.06(0.66) PC3:0.03(0.18)\n",
      "Min_Amp(Stats): PC1:-132(0.67) PC2:-69(0.10) PC3:-51(0.57)\n",
      "Max_Amp(Stats): PC1:145(0.40) PC2:77(0.84) PC3:52(0.90)\n",
      "Exp 28: 50 gens (2030, 4096)\n",
      "Slope(Stats):1954.64(0.11) Intercept(Stats):31007(1.00) \n",
      "EVR(Stats): PC1:0.22(0.20) PC2:0.06(0.45) PC3:0.03(0.49)\n",
      "Min_Amp(Stats): PC1:-132(0.63) PC2:-70(0.19) PC3:-51(0.65)\n",
      "Max_Amp(Stats): PC1:148(0.16) PC2:81(0.29) PC3:54(0.75)\n",
      "Exp 29: 50 gens (2030, 4096)\n",
      "Slope(Stats):2041.43(0.01) Intercept(Stats):30581(1.00) \n",
      "EVR(Stats): PC1:0.23(0.03) PC2:0.06(0.43) PC3:0.03(0.23)\n",
      "Min_Amp(Stats): PC1:-135(0.95) PC2:-71(0.45) PC3:-49(0.11)\n",
      "Max_Amp(Stats): PC1:147(0.24) PC2:83(0.07) PC3:53(0.89)\n",
      "Exp 30: 44 gens (1790, 4096)\n",
      "Slope(Stats):2001.52(0.03) Intercept(Stats):30985(1.00) \n",
      "EVR(Stats): PC1:0.23(0.13) PC2:0.06(0.74) PC3:0.03(0.04)\n",
      "Min_Amp(Stats): PC1:-133(0.70) PC2:-73(0.87) PC3:-52(0.73)\n",
      "Max_Amp(Stats): PC1:150(0.02) PC2:80(0.40) PC3:53(0.89)\n",
      "Exp 31: 44 gens (1790, 4096)\n",
      "Slope(Stats):1920.65(0.18) Intercept(Stats):31099(1.00) \n",
      "EVR(Stats): PC1:0.22(0.40) PC2:0.06(0.15) PC3:0.03(0.12)\n",
      "Min_Amp(Stats): PC1:-131(0.50) PC2:-73(0.89) PC3:-51(0.57)\n",
      "Max_Amp(Stats): PC1:146(0.31) PC2:79(0.61) PC3:54(0.80)\n",
      "Exp 32: 50 gens (2030, 4096)\n",
      "Slope(Stats):1947.46(0.15) Intercept(Stats):30991(1.00) \n",
      "EVR(Stats): PC1:0.23(0.18) PC2:0.06(0.10) PC3:0.03(0.23)\n",
      "Min_Amp(Stats): PC1:-132(0.63) PC2:-72(0.71) PC3:-53(0.89)\n",
      "Max_Amp(Stats): PC1:143(0.81) PC2:82(0.18) PC3:60(0.10)\n",
      "Exp 33: 50 gens (2030, 4096)\n",
      "Slope(Stats):2015.56(0.01) Intercept(Stats):31361(1.00) \n",
      "EVR(Stats): PC1:0.22(0.23) PC2:0.06(0.46) PC3:0.03(0.17)\n",
      "Min_Amp(Stats): PC1:-129(0.23) PC2:-69(0.11) PC3:-52(0.73)\n",
      "Max_Amp(Stats): PC1:151(0.01) PC2:76(0.84) PC3:54(0.77)\n",
      "Exp 34: 46 gens (1870, 4096)\n",
      "Slope(Stats):2027.35(0.01) Intercept(Stats):30502(1.00) \n",
      "EVR(Stats): PC1:0.23(0.04) PC2:0.06(0.41) PC3:0.03(0.04)\n",
      "Min_Amp(Stats): PC1:-136(0.96) PC2:-74(0.92) PC3:-53(0.86)\n",
      "Max_Amp(Stats): PC1:146(0.33) PC2:78(0.65) PC3:57(0.40)\n",
      "Exp 35: 67 gens (2710, 4096)\n",
      "Slope(Stats):2037.52(0.01) Intercept(Stats):30554(1.00) \n",
      "EVR(Stats): PC1:0.23(0.07) PC2:0.06(0.29) PC3:0.03(0.01)\n",
      "Min_Amp(Stats): PC1:-133(0.70) PC2:-71(0.34) PC3:-52(0.84)\n",
      "Max_Amp(Stats): PC1:148(0.13) PC2:80(0.41) PC3:55(0.73)\n",
      "Exp 36: 67 gens (2710, 4096)\n",
      "Slope(Stats):1904.15(0.23) Intercept(Stats):31347(1.00) \n",
      "EVR(Stats): PC1:0.22(0.24) PC2:0.06(0.21) PC3:0.03(0.28)\n",
      "Min_Amp(Stats): PC1:-135(0.94) PC2:-74(0.92) PC3:-52(0.82)\n",
      "Max_Amp(Stats): PC1:142(0.85) PC2:81(0.33) PC3:58(0.27)\n",
      "Exp 37: 49 gens (1990, 4096)\n",
      "Slope(Stats):2048.29(0.01) Intercept(Stats):30014(1.00) \n",
      "EVR(Stats): PC1:0.23(0.04) PC2:0.06(0.70) PC3:0.03(0.01)\n",
      "Min_Amp(Stats): PC1:-133(0.76) PC2:-70(0.26) PC3:-52(0.83)\n",
      "Max_Amp(Stats): PC1:148(0.10) PC2:81(0.28) PC3:52(0.90)\n",
      "Exp 38: 49 gens (1990, 4096)\n",
      "Slope(Stats):1962.46(0.09) Intercept(Stats):31615(1.00) \n",
      "EVR(Stats): PC1:0.22(0.41) PC2:0.06(0.15) PC3:0.03(0.25)\n",
      "Min_Amp(Stats): PC1:-130(0.38) PC2:-73(0.87) PC3:-50(0.23)\n",
      "Max_Amp(Stats): PC1:145(0.36) PC2:77(0.81) PC3:54(0.84)\n",
      "Exp 39: 60 gens (2430, 4096)\n",
      "Slope(Stats):1932.75(0.17) Intercept(Stats):31371(1.00) \n",
      "EVR(Stats): PC1:0.22(0.60) PC2:0.06(0.01) PC3:0.03(0.36)\n",
      "Min_Amp(Stats): PC1:-129(0.20) PC2:-73(0.92) PC3:-50(0.27)\n",
      "Max_Amp(Stats): PC1:146(0.28) PC2:79(0.46) PC3:53(0.87)\n",
      "Exp 40: 60 gens (2430, 4096)\n",
      "Slope(Stats):2030.96(0.01) Intercept(Stats):30676(1.00) \n",
      "EVR(Stats): PC1:0.23(0.06) PC2:0.06(0.14) PC3:0.03(0.42)\n",
      "Min_Amp(Stats): PC1:-131(0.51) PC2:-73(0.88) PC3:-50(0.29)\n",
      "Max_Amp(Stats): PC1:146(0.25) PC2:78(0.64) PC3:60(0.07)\n",
      "Exp 41: 60 gens (2430, 4096)\n",
      "Slope(Stats):2030.68(0.01) Intercept(Stats):29894(1.00) \n",
      "EVR(Stats): PC1:0.23(0.01) PC2:0.06(0.88) PC3:0.03(0.67)\n",
      "Min_Amp(Stats): PC1:-134(0.78) PC2:-68(0.06) PC3:-50(0.32)\n",
      "Max_Amp(Stats): PC1:145(0.44) PC2:81(0.34) PC3:54(0.80)\n",
      "Exp 42: 60 gens (2430, 4096)\n",
      "Slope(Stats):2014.54(0.01) Intercept(Stats):29768(1.00) \n",
      "EVR(Stats): PC1:0.23(0.02) PC2:0.06(0.86) PC3:0.03(0.90)\n",
      "Min_Amp(Stats): PC1:-135(0.96) PC2:-70(0.29) PC3:-49(0.20)\n",
      "Max_Amp(Stats): PC1:145(0.36) PC2:76(0.92) PC3:52(0.94)\n",
      "Exp 43: 50 gens (2030, 4096)\n",
      "Slope(Stats):2177.28(0.00) Intercept(Stats):30096(1.00) \n",
      "EVR(Stats): PC1:0.23(0.01) PC2:0.06(0.14) PC3:0.03(0.67)\n",
      "Min_Amp(Stats): PC1:-137(0.99) PC2:-74(0.96) PC3:-52(0.75)\n",
      "Max_Amp(Stats): PC1:149(0.04) PC2:83(0.06) PC3:55(0.67)\n",
      "Exp 44: 50 gens (2030, 4096)\n",
      "Slope(Stats):1967.27(0.09) Intercept(Stats):30946(1.00) \n",
      "EVR(Stats): PC1:0.23(0.13) PC2:0.06(0.76) PC3:0.03(0.80)\n",
      "Min_Amp(Stats): PC1:-132(0.63) PC2:-70(0.13) PC3:-50(0.33)\n",
      "Max_Amp(Stats): PC1:148(0.12) PC2:84(0.04) PC3:55(0.70)\n",
      "Exp 45: 62 gens (2510, 4096)\n",
      "Slope(Stats):1883.44(0.27) Intercept(Stats):31318(1.00) \n",
      "EVR(Stats): PC1:0.22(0.54) PC2:0.06(0.86) PC3:0.03(0.01)\n",
      "Min_Amp(Stats): PC1:-129(0.19) PC2:-72(0.63) PC3:-51(0.60)\n",
      "Max_Amp(Stats): PC1:143(0.76) PC2:77(0.74) PC3:56(0.54)\n",
      "Exp 46: 62 gens (2510, 4096)\n",
      "Slope(Stats):1887.17(0.27) Intercept(Stats):31077(1.00) \n",
      "EVR(Stats): PC1:0.22(0.57) PC2:0.06(0.69) PC3:0.03(0.05)\n",
      "Min_Amp(Stats): PC1:-131(0.45) PC2:-73(0.86) PC3:-50(0.38)\n",
      "Max_Amp(Stats): PC1:144(0.71) PC2:78(0.65) PC3:54(0.77)\n",
      "Exp 47: 71 gens (2870, 4096)\n",
      "Slope(Stats):2071.28(0.01) Intercept(Stats):30273(1.00) \n",
      "EVR(Stats): PC1:0.23(0.02) PC2:0.06(0.54) PC3:0.03(0.31)\n",
      "Min_Amp(Stats): PC1:-137(0.99) PC2:-69(0.11) PC3:-52(0.82)\n",
      "Max_Amp(Stats): PC1:146(0.27) PC2:78(0.71) PC3:58(0.26)\n",
      "Exp 48: 55 gens (2230, 4096)\n",
      "Slope(Stats):2007.19(0.02) Intercept(Stats):31203(1.00) \n",
      "EVR(Stats): PC1:0.22(0.29) PC2:0.06(0.34) PC3:0.03(0.03)\n",
      "Min_Amp(Stats): PC1:-130(0.28) PC2:-72(0.53) PC3:-54(0.98)\n",
      "Max_Amp(Stats): PC1:151(0.01) PC2:75(0.93) PC3:56(0.61)\n",
      "Exp 49: 85 gens (3430, 4096)\n",
      "Slope(Stats):1921.55(0.18) Intercept(Stats):29296(1.00) \n",
      "EVR(Stats): PC1:0.23(0.15) PC2:0.06(0.89) PC3:0.03(0.58)\n",
      "Min_Amp(Stats): PC1:-131(0.45) PC2:-69(0.11) PC3:-49(0.14)\n",
      "Max_Amp(Stats): PC1:146(0.34) PC2:72(1.00) PC3:51(0.96)\n",
      "Exp 50: 50 gens (2030, 4096)\n",
      "Slope(Stats):2058.77(0.01) Intercept(Stats):30179(1.00) \n",
      "EVR(Stats): PC1:0.23(0.02) PC2:0.06(0.11) PC3:0.03(0.80)\n",
      "Min_Amp(Stats): PC1:-133(0.76) PC2:-71(0.49) PC3:-50(0.27)\n",
      "Max_Amp(Stats): PC1:150(0.01) PC2:84(0.04) PC3:51(0.99)\n",
      "Exp 51: 104 gens (4190, 4096)\n",
      "Slope(Stats):1890.35(0.26) Intercept(Stats):31504(1.00) \n",
      "EVR(Stats): PC1:0.22(0.62) PC2:0.06(0.02) PC3:0.03(0.09)\n",
      "Min_Amp(Stats): PC1:-130(0.34) PC2:-71(0.49) PC3:-52(0.83)\n",
      "Max_Amp(Stats): PC1:142(0.84) PC2:84(0.04) PC3:53(0.85)\n",
      "Exp 52: 50 gens (2030, 4096)\n",
      "Slope(Stats):1897.85(0.25) Intercept(Stats):31347(1.00) \n",
      "EVR(Stats): PC1:0.22(0.51) PC2:0.06(0.10) PC3:0.03(0.65)\n",
      "Min_Amp(Stats): PC1:-130(0.34) PC2:-71(0.49) PC3:-51(0.64)\n",
      "Max_Amp(Stats): PC1:145(0.45) PC2:82(0.11) PC3:53(0.85)\n",
      "Exp 53: 54 gens (2190, 4096)\n",
      "Slope(Stats):1907.97(0.19) Intercept(Stats):31418(1.00) \n",
      "EVR(Stats): PC1:0.22(0.29) PC2:0.06(0.12) PC3:0.03(0.01)\n",
      "Min_Amp(Stats): PC1:-130(0.34) PC2:-70(0.19) PC3:-54(0.99)\n",
      "Max_Amp(Stats): PC1:145(0.52) PC2:80(0.41) PC3:60(0.08)\n",
      "Exp 54: 59 gens (2390, 4096)\n",
      "Slope(Stats):2038.62(0.01) Intercept(Stats):30950(1.00) \n",
      "EVR(Stats): PC1:0.23(0.12) PC2:0.06(0.70) PC3:0.03(0.35)\n",
      "Min_Amp(Stats): PC1:-132(0.66) PC2:-73(0.87) PC3:-48(0.03)\n",
      "Max_Amp(Stats): PC1:150(0.02) PC2:77(0.77) PC3:53(0.85)\n",
      "Exp 55: 20 gens (830, 4096)\n",
      "Slope(Stats):1988.56(0.04) Intercept(Stats):30207(1.00) \n",
      "EVR(Stats): PC1:0.14(1.00) PC2:0.04(1.00) PC3:0.02(1.00)\n",
      "Min_Amp(Stats): PC1:-98(0.00) PC2:-57(0.00) PC3:-41(0.00)\n",
      "Max_Amp(Stats): PC1:110(1.00) PC2:64(1.00) PC3:42(1.00)\n",
      "Exp 56: 25 gens (1030, 4096)\n",
      "Slope(Stats):2039.99(0.01) Intercept(Stats):30031(1.00) \n",
      "EVR(Stats): PC1:0.17(1.00) PC2:0.04(1.00) PC3:0.02(1.00)\n",
      "Min_Amp(Stats): PC1:-109(0.00) PC2:-58(0.00) PC3:-43(0.00)\n",
      "Max_Amp(Stats): PC1:125(1.00) PC2:66(1.00) PC3:44(1.00)\n",
      "Exp 57: 25 gens (1030, 4096)\n",
      "Slope(Stats):1971.61(0.07) Intercept(Stats):30883(1.00) \n",
      "EVR(Stats): PC1:0.17(1.00) PC2:0.04(1.00) PC3:0.02(1.00)\n",
      "Min_Amp(Stats): PC1:-107(0.00) PC2:-60(0.00) PC3:-44(0.00)\n",
      "Max_Amp(Stats): PC1:125(1.00) PC2:65(1.00) PC3:46(1.00)\n",
      "Exp 58: 83 gens (3350, 4096)\n",
      "Slope(Stats):2020.91(0.01) Intercept(Stats):30928(1.00) \n",
      "EVR(Stats): PC1:0.23(0.12) PC2:0.06(0.07) PC3:0.03(0.01)\n",
      "Min_Amp(Stats): PC1:-135(0.95) PC2:-72(0.77) PC3:-53(0.90)\n",
      "Max_Amp(Stats): PC1:146(0.27) PC2:80(0.36) PC3:56(0.49)\n",
      "Exp 59: 30 gens (1230, 4096)\n",
      "Slope(Stats):2016.91(0.01) Intercept(Stats):30256(1.00) \n",
      "EVR(Stats): PC1:0.19(1.00) PC2:0.05(1.00) PC3:0.02(1.00)\n",
      "Min_Amp(Stats): PC1:-122(0.00) PC2:-64(0.00) PC3:-44(0.00)\n",
      "Max_Amp(Stats): PC1:132(1.00) PC2:71(1.00) PC3:50(1.00)\n",
      "Exp 60: 65 gens (2630, 4096)\n",
      "Slope(Stats):2038.92(0.01) Intercept(Stats):30430(1.00) \n",
      "EVR(Stats): PC1:0.23(0.06) PC2:0.06(0.88) PC3:0.03(0.71)\n",
      "Min_Amp(Stats): PC1:-131(0.50) PC2:-70(0.13) PC3:-51(0.50)\n",
      "Max_Amp(Stats): PC1:150(0.02) PC2:80(0.35) PC3:51(0.97)\n",
      "Exp 61: 20 gens (830, 4096)\n",
      "Slope(Stats):2147.12(0.00) Intercept(Stats):29198(1.00) \n",
      "EVR(Stats): PC1:0.15(1.00) PC2:0.04(1.00) PC3:0.02(1.00)\n",
      "Min_Amp(Stats): PC1:-104(0.00) PC2:-56(0.00) PC3:-42(0.00)\n",
      "Max_Amp(Stats): PC1:113(1.00) PC2:58(1.00) PC3:42(1.00)\n",
      "Exp 62: 70 gens (2830, 4096)\n",
      "Slope(Stats):1863.01(0.46) Intercept(Stats):31154(1.00) \n",
      "EVR(Stats): PC1:0.22(0.23) PC2:0.06(0.75) PC3:0.03(0.56)\n",
      "Min_Amp(Stats): PC1:-128(0.10) PC2:-70(0.28) PC3:-49(0.17)\n",
      "Max_Amp(Stats): PC1:142(0.85) PC2:80(0.40) PC3:52(0.95)\n",
      "Exp 63: 20 gens (830, 4096)\n",
      "Slope(Stats):2076.71(0.00) Intercept(Stats):29805(1.00) \n",
      "EVR(Stats): PC1:0.15(1.00) PC2:0.04(1.00) PC3:0.02(1.00)\n",
      "Min_Amp(Stats): PC1:-101(0.00) PC2:-56(0.00) PC3:-40(0.00)\n"
     ]
    },
    {
     "name": "stdout",
     "output_type": "stream",
     "text": [
      "Max_Amp(Stats): PC1:115(1.00) PC2:60(1.00) PC3:44(1.00)\n",
      "Exp 64: 20 gens (830, 4096)\n",
      "Slope(Stats):2191.79(0.00) Intercept(Stats):29734(1.00) \n",
      "EVR(Stats): PC1:0.15(1.00) PC2:0.04(1.00) PC3:0.02(1.00)\n",
      "Min_Amp(Stats): PC1:-101(0.00) PC2:-58(0.00) PC3:-40(0.00)\n",
      "Max_Amp(Stats): PC1:118(1.00) PC2:62(1.00) PC3:42(1.00)\n",
      "Exp 65: 20 gens (830, 4096)\n",
      "Slope(Stats):2114.65(0.00) Intercept(Stats):29525(1.00) \n",
      "EVR(Stats): PC1:0.15(1.00) PC2:0.04(1.00) PC3:0.02(1.00)\n",
      "Min_Amp(Stats): PC1:-99(0.00) PC2:-56(0.00) PC3:-39(0.00)\n",
      "Max_Amp(Stats): PC1:114(1.00) PC2:57(1.00) PC3:41(1.00)\n",
      "Exp 66: 20 gens (830, 4096)\n",
      "Slope(Stats):2085.96(0.00) Intercept(Stats):29735(1.00) \n",
      "EVR(Stats): PC1:0.15(1.00) PC2:0.04(1.00) PC3:0.02(1.00)\n",
      "Min_Amp(Stats): PC1:-99(0.00) PC2:-57(0.00) PC3:-39(0.00)\n",
      "Max_Amp(Stats): PC1:113(1.00) PC2:57(1.00) PC3:42(1.00)\n",
      "Exp 67: 26 gens (1070, 4096)\n",
      "Slope(Stats):2086.44(0.00) Intercept(Stats):30054(1.00) \n",
      "EVR(Stats): PC1:0.18(1.00) PC2:0.05(1.00) PC3:0.02(1.00)\n",
      "Min_Amp(Stats): PC1:-113(0.00) PC2:-61(0.00) PC3:-44(0.00)\n",
      "Max_Amp(Stats): PC1:127(1.00) PC2:68(1.00) PC3:47(1.00)\n",
      "Exp 68: 11 gens (470, 4096)\n",
      "Slope(Stats):2619.98(0.00) Intercept(Stats):27224(1.00) \n",
      "EVR(Stats): PC1:0.10(1.00) PC2:0.03(1.00) PC3:0.01(1.00)\n",
      "Min_Amp(Stats): PC1:-80(0.00) PC2:-48(0.00) PC3:-35(0.00)\n",
      "Max_Amp(Stats): PC1:89(1.00) PC2:51(1.00) PC3:37(1.00)\n",
      "Exp 69: 20 gens (830, 4096)\n",
      "Slope(Stats):2214.31(0.00) Intercept(Stats):29646(1.00) \n",
      "EVR(Stats): PC1:0.15(1.00) PC2:0.04(1.00) PC3:0.02(1.00)\n",
      "Min_Amp(Stats): PC1:-100(0.00) PC2:-57(0.00) PC3:-41(0.00)\n",
      "Max_Amp(Stats): PC1:120(1.00) PC2:61(1.00) PC3:48(1.00)\n",
      "Exp 70: 85 gens (3430, 4096)\n",
      "Slope(Stats):1891.33(0.26) Intercept(Stats):31394(1.00) \n",
      "EVR(Stats): PC1:0.22(0.67) PC2:0.06(0.25) PC3:0.03(0.43)\n",
      "Min_Amp(Stats): PC1:-129(0.21) PC2:-71(0.29) PC3:-50(0.32)\n",
      "Max_Amp(Stats): PC1:144(0.57) PC2:82(0.09) PC3:52(0.91)\n",
      "Exp 71: 41 gens (1670, 4096)\n",
      "Slope(Stats):1925.01(0.17) Intercept(Stats):30556(1.00) \n",
      "EVR(Stats): PC1:0.23(0.12) PC2:0.06(0.75) PC3:0.03(0.61)\n",
      "Min_Amp(Stats): PC1:-133(0.75) PC2:-73(0.89) PC3:-49(0.16)\n",
      "Max_Amp(Stats): PC1:142(0.88) PC2:79(0.49) PC3:54(0.77)\n",
      "Exp 72: 21 gens (870, 4096)\n",
      "Slope(Stats):2079.94(0.00) Intercept(Stats):30001(1.00) \n",
      "EVR(Stats): PC1:0.15(1.00) PC2:0.04(1.00) PC3:0.02(1.00)\n",
      "Min_Amp(Stats): PC1:-101(0.00) PC2:-56(0.00) PC3:-44(0.00)\n",
      "Max_Amp(Stats): PC1:115(1.00) PC2:62(1.00) PC3:45(1.00)\n",
      "Exp 73: 53 gens (2150, 4096)\n",
      "Slope(Stats):2029.22(0.01) Intercept(Stats):30431(1.00) \n",
      "EVR(Stats): PC1:0.23(0.13) PC2:0.06(0.30) PC3:0.03(0.51)\n",
      "Min_Amp(Stats): PC1:-134(0.87) PC2:-73(0.82) PC3:-48(0.04)\n",
      "Max_Amp(Stats): PC1:150(0.02) PC2:80(0.35) PC3:56(0.49)\n",
      "Exp 74: 50 gens (2030, 4096)\n",
      "Slope(Stats):1850.10(0.57) Intercept(Stats):31254(1.00) \n",
      "EVR(Stats): PC1:0.22(0.70) PC2:0.06(0.12) PC3:0.03(0.02)\n",
      "Min_Amp(Stats): PC1:-132(0.64) PC2:-72(0.66) PC3:-51(0.48)\n",
      "Max_Amp(Stats): PC1:142(0.84) PC2:75(0.93) PC3:51(0.96)\n",
      "Exp 75: 31 gens (1270, 4096)\n",
      "Slope(Stats):1974.51(0.07) Intercept(Stats):30562(1.00) \n",
      "EVR(Stats): PC1:0.20(1.00) PC2:0.05(1.00) PC3:0.02(1.00)\n",
      "Min_Amp(Stats): PC1:-121(0.00) PC2:-65(0.00) PC3:-47(0.01)\n",
      "Max_Amp(Stats): PC1:136(1.00) PC2:70(1.00) PC3:48(1.00)\n",
      "Exp 76: 75 gens (3030, 4096)\n",
      "Slope(Stats):2044.10(0.01) Intercept(Stats):30386(1.00) \n",
      "EVR(Stats): PC1:0.23(0.06) PC2:0.06(0.10) PC3:0.03(0.50)\n",
      "Min_Amp(Stats): PC1:-133(0.76) PC2:-72(0.73) PC3:-50(0.38)\n",
      "Max_Amp(Stats): PC1:149(0.09) PC2:80(0.37) PC3:51(0.99)\n",
      "Exp 77: 39 gens (1590, 4096)\n",
      "Slope(Stats):1898.75(0.24) Intercept(Stats):30999(1.00) \n",
      "EVR(Stats): PC1:0.23(0.17) PC2:0.06(0.74) PC3:0.03(0.56)\n",
      "Min_Amp(Stats): PC1:-133(0.75) PC2:-69(0.07) PC3:-49(0.10)\n",
      "Max_Amp(Stats): PC1:142(0.84) PC2:82(0.09) PC3:55(0.73)\n",
      "Exp 78: 50 gens (2030, 4096)\n",
      "Slope(Stats):1879.81(0.33) Intercept(Stats):31304(1.00) \n",
      "EVR(Stats): PC1:0.22(0.38) PC2:0.06(0.74) PC3:0.03(0.36)\n",
      "Min_Amp(Stats): PC1:-131(0.55) PC2:-69(0.11) PC3:-50(0.33)\n",
      "Max_Amp(Stats): PC1:144(0.69) PC2:78(0.71) PC3:55(0.73)\n",
      "Exp 79: 50 gens (2030, 4096)\n",
      "Slope(Stats):1970.96(0.07) Intercept(Stats):30415(1.00) \n",
      "EVR(Stats): PC1:0.23(0.10) PC2:0.06(0.25) PC3:0.03(0.80)\n",
      "Min_Amp(Stats): PC1:-132(0.67) PC2:-70(0.20) PC3:-49(0.08)\n",
      "Max_Amp(Stats): PC1:146(0.29) PC2:78(0.62) PC3:56(0.53)\n",
      "Exp 80: 10 gens (430, 4096)\n",
      "Slope(Stats):2718.59(0.00) Intercept(Stats):26787(1.00) \n",
      "EVR(Stats): PC1:0.09(1.00) PC2:0.02(1.00) PC3:0.01(1.00)\n",
      "Min_Amp(Stats): PC1:-80(0.00) PC2:-44(0.00) PC3:-36(0.00)\n",
      "Max_Amp(Stats): PC1:87(1.00) PC2:49(1.00) PC3:41(1.00)\n",
      "Exp 81: 60 gens (2430, 4096)\n",
      "Slope(Stats):1900.23(0.23) Intercept(Stats):31917(1.00) \n",
      "EVR(Stats): PC1:0.22(0.80) PC2:0.06(0.44) PC3:0.03(0.36)\n",
      "Min_Amp(Stats): PC1:-126(0.02) PC2:-69(0.07) PC3:-50(0.27)\n",
      "Max_Amp(Stats): PC1:148(0.12) PC2:80(0.41) PC3:52(0.95)\n",
      "Exp 82: 47 gens (1910, 4096)\n",
      "Slope(Stats):1958.07(0.11) Intercept(Stats):31313(1.00) \n",
      "EVR(Stats): PC1:0.22(0.51) PC2:0.06(0.01) PC3:0.03(0.51)\n",
      "Min_Amp(Stats): PC1:-131(0.55) PC2:-73(0.85) PC3:-50(0.28)\n",
      "Max_Amp(Stats): PC1:147(0.22) PC2:79(0.60) PC3:57(0.37)\n",
      "Exp 83: 78 gens (3150, 4096)\n",
      "Slope(Stats):2013.98(0.01) Intercept(Stats):31426(1.00) \n",
      "EVR(Stats): PC1:0.23(0.17) PC2:0.06(0.02) PC3:0.03(0.02)\n",
      "Min_Amp(Stats): PC1:-131(0.54) PC2:-71(0.46) PC3:-52(0.80)\n",
      "Max_Amp(Stats): PC1:147(0.24) PC2:83(0.05) PC3:55(0.63)\n",
      "Exp 84: 57 gens (2310, 4096)\n",
      "Slope(Stats):2023.06(0.01) Intercept(Stats):30947(1.00) \n",
      "EVR(Stats): PC1:0.23(0.10) PC2:0.06(0.02) PC3:0.03(0.78)\n",
      "Min_Amp(Stats): PC1:-133(0.74) PC2:-73(0.89) PC3:-51(0.57)\n",
      "Max_Amp(Stats): PC1:145(0.37) PC2:82(0.17) PC3:54(0.80)\n",
      "Exp 85: 71 gens (2870, 4096)\n",
      "Slope(Stats):1974.56(0.07) Intercept(Stats):30352(1.00) \n",
      "EVR(Stats): PC1:0.23(0.13) PC2:0.06(0.45) PC3:0.03(0.18)\n",
      "Min_Amp(Stats): PC1:-131(0.51) PC2:-72(0.71) PC3:-51(0.55)\n",
      "Max_Amp(Stats): PC1:148(0.11) PC2:79(0.61) PC3:57(0.44)\n",
      "Exp 86: 35 gens (1430, 4096)\n",
      "Slope(Stats):1973.04(0.07) Intercept(Stats):30727(1.00) \n",
      "EVR(Stats): PC1:0.21(1.00) PC2:0.06(0.99) PC3:0.02(0.99)\n",
      "Min_Amp(Stats): PC1:-127(0.10) PC2:-67(0.00) PC3:-52(0.73)\n",
      "Max_Amp(Stats): PC1:143(0.76) PC2:76(0.91) PC3:52(0.91)\n",
      "Exp 87: 30 gens (1230, 4096)\n",
      "Slope(Stats):2132.56(0.00) Intercept(Stats):29903(1.00) \n",
      "EVR(Stats): PC1:0.20(1.00) PC2:0.05(1.00) PC3:0.02(1.00)\n",
      "Min_Amp(Stats): PC1:-118(0.00) PC2:-63(0.00) PC3:-46(0.00)\n",
      "Max_Amp(Stats): PC1:135(1.00) PC2:68(1.00) PC3:49(1.00)\n",
      "Exp 88: 34 gens (1390, 4096)\n",
      "Slope(Stats):2067.14(0.01) Intercept(Stats):30438(1.00) \n",
      "EVR(Stats): PC1:0.21(1.00) PC2:0.06(1.00) PC3:0.02(1.00)\n",
      "Min_Amp(Stats): PC1:-122(0.00) PC2:-68(0.01) PC3:-47(0.01)\n",
      "Max_Amp(Stats): PC1:144(0.57) PC2:74(0.95) PC3:53(0.89)\n",
      "Exp 89: 34 gens (1390, 4096)\n",
      "Slope(Stats):1937.95(0.16) Intercept(Stats):30958(1.00) \n",
      "EVR(Stats): PC1:0.21(1.00) PC2:0.05(1.00) PC3:0.02(1.00)\n",
      "Min_Amp(Stats): PC1:-125(0.01) PC2:-67(0.00) PC3:-48(0.03)\n",
      "Max_Amp(Stats): PC1:137(1.00) PC2:77(0.81) PC3:51(0.99)\n",
      "Exp 90: 40 gens (1630, 4096)\n",
      "Slope(Stats):1965.41(0.09) Intercept(Stats):30385(1.00) \n",
      "EVR(Stats): PC1:0.23(0.18) PC2:0.06(0.11) PC3:0.03(0.36)\n",
      "Min_Amp(Stats): PC1:-134(0.86) PC2:-71(0.46) PC3:-52(0.77)\n",
      "Max_Amp(Stats): PC1:147(0.24) PC2:78(0.72) PC3:52(0.89)\n",
      "Exp 91: 50 gens (2030, 4096)\n",
      "Slope(Stats):1884.33(0.27) Intercept(Stats):31988(1.00) \n",
      "EVR(Stats): PC1:0.22(0.68) PC2:0.06(0.24) PC3:0.03(0.01)\n",
      "Min_Amp(Stats): PC1:-129(0.19) PC2:-70(0.16) PC3:-52(0.80)\n",
      "Max_Amp(Stats): PC1:143(0.74) PC2:81(0.34) PC3:59(0.19)\n",
      "Exp 92: 50 gens (2030, 4096)\n",
      "Slope(Stats):1832.41(0.65) Intercept(Stats):31678(1.00) \n",
      "EVR(Stats): PC1:0.22(0.48) PC2:0.06(0.08) PC3:0.03(0.18)\n",
      "Min_Amp(Stats): PC1:-131(0.46) PC2:-69(0.11) PC3:-52(0.78)\n",
      "Max_Amp(Stats): PC1:140(0.97) PC2:81(0.25) PC3:57(0.33)\n",
      "Exp 93: 39 gens (1590, 4096)\n",
      "Slope(Stats):2029.06(0.01) Intercept(Stats):30651(1.00) \n",
      "EVR(Stats): PC1:0.23(0.04) PC2:0.06(0.70) PC3:0.03(0.31)\n",
      "Min_Amp(Stats): PC1:-134(0.83) PC2:-72(0.73) PC3:-50(0.28)\n",
      "Max_Amp(Stats): PC1:148(0.16) PC2:79(0.59) PC3:56(0.48)\n",
      "Exp 94: 67 gens (2710, 4096)\n",
      "Slope(Stats):2033.12(0.01) Intercept(Stats):31114(1.00) \n",
      "EVR(Stats): PC1:0.23(0.13) PC2:0.06(0.16) PC3:0.03(0.13)\n",
      "Min_Amp(Stats): PC1:-133(0.68) PC2:-71(0.46) PC3:-50(0.29)\n",
      "Max_Amp(Stats): PC1:149(0.10) PC2:84(0.04) PC3:52(0.94)\n",
      "Exp 95: 36 gens (1470, 4096)\n",
      "Slope(Stats):2105.16(0.00) Intercept(Stats):29517(1.00) \n",
      "EVR(Stats): PC1:0.22(0.28) PC2:0.05(1.00) PC3:0.03(0.95)\n",
      "Min_Amp(Stats): PC1:-133(0.68) PC2:-68(0.06) PC3:-50(0.38)\n"
     ]
    },
    {
     "name": "stdout",
     "output_type": "stream",
     "text": [
      "Max_Amp(Stats): PC1:143(0.78) PC2:75(0.94) PC3:53(0.87)\n",
      "Exp 96: 40 gens (1630, 4096)\n",
      "Slope(Stats):1782.28(0.79) Intercept(Stats):31683(1.00) \n",
      "EVR(Stats): PC1:0.22(0.83) PC2:0.06(0.36) PC3:0.03(0.90)\n",
      "Min_Amp(Stats): PC1:-126(0.04) PC2:-70(0.17) PC3:-48(0.03)\n",
      "Max_Amp(Stats): PC1:141(0.96) PC2:80(0.36) PC3:49(1.00)\n",
      "Exp 97: 40 gens (1630, 4096)\n",
      "Slope(Stats):2102.37(0.00) Intercept(Stats):30141(1.00) \n",
      "EVR(Stats): PC1:0.23(0.01) PC2:0.06(0.59) PC3:0.03(0.58)\n",
      "Min_Amp(Stats): PC1:-138(1.00) PC2:-69(0.08) PC3:-49(0.21)\n",
      "Max_Amp(Stats): PC1:148(0.12) PC2:81(0.22) PC3:53(0.85)\n",
      "Exp 98: 87 gens (3510, 4096)\n",
      "Slope(Stats):1987.07(0.04) Intercept(Stats):31526(1.00) \n",
      "EVR(Stats): PC1:0.22(0.29) PC2:0.06(0.16) PC3:0.03(0.01)\n",
      "Min_Amp(Stats): PC1:-131(0.45) PC2:-73(0.86) PC3:-50(0.28)\n",
      "Max_Amp(Stats): PC1:149(0.04) PC2:80(0.35) PC3:53(0.89)\n",
      "Exp 99: 27 gens (1110, 4096)\n",
      "Slope(Stats):2036.87(0.01) Intercept(Stats):30114(1.00) \n",
      "EVR(Stats): PC1:0.18(1.00) PC2:0.05(1.00) PC3:0.02(1.00)\n",
      "Min_Amp(Stats): PC1:-113(0.00) PC2:-61(0.00) PC3:-46(0.00)\n",
      "Max_Amp(Stats): PC1:128(1.00) PC2:66(1.00) PC3:47(1.00)\n"
     ]
    }
   ],
   "source": [
    "for experiment_i in range(100):\n",
    "    trial_dir = add_trial_subdir(result_dir, \"Evol%03d\"%experiment_i)\n",
    "    generations = data[data['StatsB'][experiment_i,0]]['genes']['gen'][:]\n",
    "    codes_all = data[data['StatsB'][experiment_i,0]]['genes']['all'][:]\n",
    "    generations = generations[0]\n",
    "    codes_all = codes_all.T\n",
    "    print(\"Exp %d: %d gens\"%(experiment_i, generations.max()), codes_all.shape)\n",
    "    mean_Nat = data[data['StatsB'][experiment_i,0]]['meanResp_nat'][:]\n",
    "    mean_Rsp = data[data['StatsB'][experiment_i,0]]['meanResp_syn'][:]\n",
    "    # Compute statistics \n",
    "    gen_limit = 40 # use the prior for first 40 gens\n",
    "#     slope, intercept = code_norm_evolve(generations[generations<gen_limit], codes_all[generations<gen_limit, :], \n",
    "#                                         savefig=False)\n",
    "#     PC_max_Amp, PC_min_Amp, PC_evr = PC_evolve(generations[generations<gen_limit], codes_all[generations<gen_limit, :], \n",
    "#                                         savefig=False)\n",
    "\n",
    "#     interc_stat = (intercept_arr>intercept).sum()/len(intercept_arr)\n",
    "#     slope_stat = (slope_arr>slope).sum()/len(slope_arr)\n",
    "#     evr_stat = (PC_evr_arr>PC_evr).sum(axis=0)/trial_num\n",
    "#     max_Amp_stat = (PC_max_Amp_arr > PC_max_Amp).sum(axis=0)/trial_num\n",
    "#     min_Amp_stat = (PC_min_Amp_arr > PC_min_Amp).sum(axis=0)/trial_num\n",
    "    visualize_rsp_curve(mean_Rsp, mean_Nat, experiment_i, savedir=trial_dir)\n",
    "    slope_stat, interc_stat, evr_stat, max_Amp_stat, min_Amp_stat = analyze_statistics_of_trajectory(generations, codes_all, experiment_i, \n",
    "                                                                                                     gen_limit=40, savedir=trial_dir)\n",
    "    "
   ]
  },
  {
   "cell_type": "code",
   "execution_count": 290,
   "metadata": {},
   "outputs": [],
   "source": [
    "# Compute difference between successful and unsuccessful evolutions \n",
    "import re"
   ]
  },
  {
   "cell_type": "code",
   "execution_count": 291,
   "metadata": {},
   "outputs": [],
   "source": [
    "f = open(r'C:/Users/ponce/OneDrive/Desktop/OneDrive_Binxu/OneDrive/Evolv_Traj_Statistics/log_output.txt', 'r') \n",
    "stats_log_str = f.read() "
   ]
  },
  {
   "cell_type": "code",
   "execution_count": 356,
   "metadata": {},
   "outputs": [
    {
     "data": {
      "text/plain": [
       "'Exp (\\\\d+): (\\\\d+) gens \\\\(\\\\d+, \\\\d+\\\\)\\nSlope\\\\(Stats\\\\):([-\\\\d\\\\.]+)\\\\(([\\\\d\\\\.]+)\\\\) Intercept\\\\(Stats\\\\):([\\\\d]+)\\\\(([\\\\d\\\\.]+)\\\\)\\nEVR\\\\(Stats\\\\): PC1:([\\\\d\\\\.]+)\\\\(([\\\\d\\\\.]+)\\\\) PC2:([\\\\d\\\\.]+)\\\\(([\\\\d\\\\.]+)\\\\) PC3:([\\\\d\\\\.]+)\\\\(([\\\\d\\\\.]+)\\\\)\\n'"
      ]
     },
     "execution_count": 356,
     "metadata": {},
     "output_type": "execute_result"
    }
   ],
   "source": [
    "pattern"
   ]
  },
  {
   "cell_type": "code",
   "execution_count": 364,
   "metadata": {},
   "outputs": [
    {
     "data": {
      "text/plain": [
       "100"
      ]
     },
     "execution_count": 364,
     "metadata": {},
     "output_type": "execute_result"
    }
   ],
   "source": [
    "\n",
    "pattern = \"Exp (\\d+): (\\d+) gens \\(\\d+, \\d+\\)\\nSlope\\(Stats\\):([-\\d\\.]+)\\(([\\d\\.]+)\\) Intercept\\(Stats\\):([\\d]+)\\(([\\d\\.]+)\\) \\n\"\\\n",
    "\"EVR\\(Stats\\): PC1:([\\d\\.]+)\\(([\\d\\.]+)\\) PC2:([\\d\\.]+)\\(([\\d\\.]+)\\) PC3:([\\d\\.]+)\\(([\\d\\.]+)\\)\\n\"\\\n",
    "\"Min_Amp\\(Stats\\): PC1:([-\\d\\.]+)\\(([\\d\\.]+)\\) PC2:([-\\d\\.]+)\\(([\\d\\.]+)\\) PC3:([-\\d\\.]+)\\(([\\d\\.]+)\\)\\n\"\\\n",
    "\"Max_Amp\\(Stats\\): PC1:([-\\d\\.]+)\\(([\\d\\.]+)\\) PC2:([-\\d\\.]+)\\(([\\d\\.]+)\\) PC3:([-\\d\\.]+)\\(([\\d\\.]+)\\)\"\n",
    "# pattern = \"Exp \\d+\"\n",
    "# \"\\nExp 0: 100 gens (4030, 4096)\\nSlope(Stats):3347.40(0.00) Intercept(Stats):31481(1.00) \\nEVR(Stats): PC1:0.23(0.02) PC2:0.06(0.74) PC3:0.03(0.02)\\nMin_Amp(Stats): PC1:-164(1.00) PC2:-88(1.00) PC3:-61(1.00)\\nMax_Amp(Stats): PC1:174(0.00) PC2:90(0.00) PC3:63(0.02)\\n\"\n",
    "result =re.findall(pattern, stats_log_str)\n",
    "len(result)"
   ]
  },
  {
   "cell_type": "code",
   "execution_count": 365,
   "metadata": {},
   "outputs": [],
   "source": [
    "import pandas as pd"
   ]
  },
  {
   "cell_type": "code",
   "execution_count": 366,
   "metadata": {},
   "outputs": [],
   "source": [
    "exp_stat = pd.DataFrame.from_records(result)"
   ]
  },
  {
   "cell_type": "code",
   "execution_count": 390,
   "metadata": {},
   "outputs": [],
   "source": [
    "col_name=[\"Exp #\", \"Gen #\", \"Slope\", \"p\",\"Intercept\",\"p\", \n",
    "          \"PC1_EVR\", \"p\", \"PC2_EVR\", \"p\", \"PC3_EVR\", \"p\", \n",
    "          \"PC1_minAmp\", \"p\", \"PC2_minAmp\", \"p\", \"PC3_minAmp\", \"p\", \n",
    "          \"PC1_maxAmp\", \"p\", \"PC2_maxAmp\", \"p\", \"PC3_maxAmp\", \"p\", ]"
   ]
  },
  {
   "cell_type": "code",
   "execution_count": 402,
   "metadata": {},
   "outputs": [],
   "source": [
    "exp_stat.rename(columns={i:col_name[i] for i in range(len(col_name))}, inplace=True)"
   ]
  },
  {
   "cell_type": "code",
   "execution_count": 380,
   "metadata": {
    "scrolled": true
   },
   "outputs": [],
   "source": [
    "exp_stat=exp_stat.astype(np.float32)"
   ]
  },
  {
   "cell_type": "code",
   "execution_count": 407,
   "metadata": {},
   "outputs": [],
   "source": [
    "exp_stat.to_csv(r\"C:\\Users\\ponce\\OneDrive\\Desktop\\OneDrive_Binxu\\OneDrive\\Evolv_Traj_Statistics\\Exp_Stat.csv\")"
   ]
  },
  {
   "cell_type": "code",
   "execution_count": 408,
   "metadata": {
    "scrolled": true
   },
   "outputs": [
    {
     "data": {
      "image/png": "[encoded data removed]",
      "text/plain": [
       "<Figure size 432x288 with 1 Axes>"
      ]
     },
     "metadata": {
      "needs_background": "light"
     },
     "output_type": "display_data"
    }
   ],
   "source": [
    "plt.hist(exp_stat['Slope'],bins=100)\n",
    "plt.hist(slope_arr, bins=50)\n",
    "plt.show()"
   ]
  },
  {
   "cell_type": "code",
   "execution_count": 411,
   "metadata": {},
   "outputs": [
    {
     "data": {
      "image/png": "[encoded data removed]",
      "text/plain": [
       "<Figure size 432x288 with 1 Axes>"
      ]
     },
     "metadata": {
      "needs_background": "light"
     },
     "output_type": "display_data"
    }
   ],
   "source": [
    "plt.hist(exp_stat['PC1_maxAmp'] - exp_stat['PC1_minAmp'],bins=100)\n",
    "plt.hist(PC_max_Amp_arr[:,0] - PC_min_Amp_arr[:,0], bins=50)\n",
    "plt.show()"
   ]
  },
  {
   "cell_type": "code",
   "execution_count": 409,
   "metadata": {},
   "outputs": [
    {
     "data": {
      "text/plain": [
       "(100, 50)"
      ]
     },
     "execution_count": 409,
     "metadata": {},
     "output_type": "execute_result"
    }
   ],
   "source": [
    "PC_min_Amp_arr.shape"
   ]
  },
  {
   "cell_type": "code",
   "execution_count": 370,
   "metadata": {
    "scrolled": true
   },
   "outputs": [
    {
     "ename": "TypeError",
     "evalue": "'list' object is not callable",
     "output_type": "error",
     "traceback": [
      "\u001b[1;31m---------------------------------------------------------------------------\u001b[0m",
      "\u001b[1;31mTypeError\u001b[0m                                 Traceback (most recent call last)",
      "\u001b[1;32m<ipython-input-370-7e012d5613f8>\u001b[0m in \u001b[0;36m<module>\u001b[1;34m()\u001b[0m\n\u001b[1;32m----> 1\u001b[1;33m \u001b[0mexp_stat\u001b[0m\u001b[1;33m.\u001b[0m\u001b[0mrename\u001b[0m\u001b[1;33m(\u001b[0m\u001b[1;33m[\u001b[0m\u001b[1;34m\"Exp #\"\u001b[0m\u001b[1;33m,\u001b[0m \u001b[1;34m\"Gen #\"\u001b[0m\u001b[1;33m,\u001b[0m \u001b[1;34m\"Slope\"\u001b[0m\u001b[1;33m,\u001b[0m \u001b[1;34m\"p\"\u001b[0m\u001b[1;33m,\u001b[0m\u001b[1;34m\"Intercept\"\u001b[0m\u001b[1;33m,\u001b[0m\u001b[1;34m\"p\"\u001b[0m\u001b[1;33m,\u001b[0m \u001b[1;34m\"PC1_EVR\"\u001b[0m\u001b[1;33m,\u001b[0m \u001b[1;34m\"p\"\u001b[0m\u001b[1;33m,\u001b[0m \u001b[1;34m\"PC2_EVR\"\u001b[0m\u001b[1;33m,\u001b[0m \u001b[1;34m\"p\"\u001b[0m\u001b[1;33m,\u001b[0m \u001b[1;33m]\u001b[0m\u001b[1;33m)\u001b[0m\u001b[1;33m\u001b[0m\u001b[1;33m\u001b[0m\u001b[0m\n\u001b[0m",
      "\u001b[1;32mC:\\Users\\ponce\\.conda\\envs\\caffe36\\lib\\site-packages\\pandas\\util\\_decorators.py\u001b[0m in \u001b[0;36mwrapper\u001b[1;34m(*args, **kwargs)\u001b[0m\n\u001b[0;32m    219\u001b[0m         \u001b[1;33m@\u001b[0m\u001b[0mwraps\u001b[0m\u001b[1;33m(\u001b[0m\u001b[0mfunc\u001b[0m\u001b[1;33m)\u001b[0m\u001b[1;33m\u001b[0m\u001b[1;33m\u001b[0m\u001b[0m\n\u001b[0;32m    220\u001b[0m         \u001b[1;32mdef\u001b[0m \u001b[0mwrapper\u001b[0m\u001b[1;33m(\u001b[0m\u001b[1;33m*\u001b[0m\u001b[0margs\u001b[0m\u001b[1;33m,\u001b[0m \u001b[1;33m**\u001b[0m\u001b[0mkwargs\u001b[0m\u001b[1;33m)\u001b[0m\u001b[1;33m:\u001b[0m\u001b[1;33m\u001b[0m\u001b[1;33m\u001b[0m\u001b[0m\n\u001b[1;32m--> 221\u001b[1;33m             \u001b[1;32mreturn\u001b[0m \u001b[0mfunc\u001b[0m\u001b[1;33m(\u001b[0m\u001b[1;33m*\u001b[0m\u001b[0margs\u001b[0m\u001b[1;33m,\u001b[0m \u001b[1;33m**\u001b[0m\u001b[0mkwargs\u001b[0m\u001b[1;33m)\u001b[0m\u001b[1;33m\u001b[0m\u001b[1;33m\u001b[0m\u001b[0m\n\u001b[0m\u001b[0;32m    222\u001b[0m \u001b[1;33m\u001b[0m\u001b[0m\n\u001b[0;32m    223\u001b[0m         \u001b[0mkind\u001b[0m \u001b[1;33m=\u001b[0m \u001b[0minspect\u001b[0m\u001b[1;33m.\u001b[0m\u001b[0mParameter\u001b[0m\u001b[1;33m.\u001b[0m\u001b[0mPOSITIONAL_OR_KEYWORD\u001b[0m\u001b[1;33m\u001b[0m\u001b[1;33m\u001b[0m\u001b[0m\n",
      "\u001b[1;32mC:\\Users\\ponce\\.conda\\envs\\caffe36\\lib\\site-packages\\pandas\\core\\frame.py\u001b[0m in \u001b[0;36mrename\u001b[1;34m(self, *args, **kwargs)\u001b[0m\n\u001b[0;32m   4221\u001b[0m         \u001b[0mkwargs\u001b[0m\u001b[1;33m.\u001b[0m\u001b[0mpop\u001b[0m\u001b[1;33m(\u001b[0m\u001b[1;34m\"axis\"\u001b[0m\u001b[1;33m,\u001b[0m \u001b[1;32mNone\u001b[0m\u001b[1;33m)\u001b[0m\u001b[1;33m\u001b[0m\u001b[1;33m\u001b[0m\u001b[0m\n\u001b[0;32m   4222\u001b[0m         \u001b[0mkwargs\u001b[0m\u001b[1;33m.\u001b[0m\u001b[0mpop\u001b[0m\u001b[1;33m(\u001b[0m\u001b[1;34m\"mapper\"\u001b[0m\u001b[1;33m,\u001b[0m \u001b[1;32mNone\u001b[0m\u001b[1;33m)\u001b[0m\u001b[1;33m\u001b[0m\u001b[1;33m\u001b[0m\u001b[0m\n\u001b[1;32m-> 4223\u001b[1;33m         \u001b[1;32mreturn\u001b[0m \u001b[0msuper\u001b[0m\u001b[1;33m(\u001b[0m\u001b[1;33m)\u001b[0m\u001b[1;33m.\u001b[0m\u001b[0mrename\u001b[0m\u001b[1;33m(\u001b[0m\u001b[1;33m**\u001b[0m\u001b[0mkwargs\u001b[0m\u001b[1;33m)\u001b[0m\u001b[1;33m\u001b[0m\u001b[1;33m\u001b[0m\u001b[0m\n\u001b[0m\u001b[0;32m   4224\u001b[0m \u001b[1;33m\u001b[0m\u001b[0m\n\u001b[0;32m   4225\u001b[0m     \u001b[1;33m@\u001b[0m\u001b[0mSubstitution\u001b[0m\u001b[1;33m(\u001b[0m\u001b[1;33m**\u001b[0m\u001b[0m_shared_doc_kwargs\u001b[0m\u001b[1;33m)\u001b[0m\u001b[1;33m\u001b[0m\u001b[1;33m\u001b[0m\u001b[0m\n",
      "\u001b[1;32mC:\\Users\\ponce\\.conda\\envs\\caffe36\\lib\\site-packages\\pandas\\core\\generic.py\u001b[0m in \u001b[0;36mrename\u001b[1;34m(self, *args, **kwargs)\u001b[0m\n\u001b[0;32m   1167\u001b[0m \u001b[1;33m\u001b[0m\u001b[0m\n\u001b[0;32m   1168\u001b[0m             result._data = result._data.rename_axis(\n\u001b[1;32m-> 1169\u001b[1;33m                 \u001b[0mf\u001b[0m\u001b[1;33m,\u001b[0m \u001b[0maxis\u001b[0m\u001b[1;33m=\u001b[0m\u001b[0mbaxis\u001b[0m\u001b[1;33m,\u001b[0m \u001b[0mcopy\u001b[0m\u001b[1;33m=\u001b[0m\u001b[0mcopy\u001b[0m\u001b[1;33m,\u001b[0m \u001b[0mlevel\u001b[0m\u001b[1;33m=\u001b[0m\u001b[0mlevel\u001b[0m\u001b[1;33m\u001b[0m\u001b[1;33m\u001b[0m\u001b[0m\n\u001b[0m\u001b[0;32m   1170\u001b[0m             )\n\u001b[0;32m   1171\u001b[0m             \u001b[0mresult\u001b[0m\u001b[1;33m.\u001b[0m\u001b[0m_clear_item_cache\u001b[0m\u001b[1;33m(\u001b[0m\u001b[1;33m)\u001b[0m\u001b[1;33m\u001b[0m\u001b[1;33m\u001b[0m\u001b[0m\n",
      "\u001b[1;32mC:\\Users\\ponce\\.conda\\envs\\caffe36\\lib\\site-packages\\pandas\\core\\internals\\managers.py\u001b[0m in \u001b[0;36mrename_axis\u001b[1;34m(self, mapper, axis, copy, level)\u001b[0m\n\u001b[0;32m    198\u001b[0m         \"\"\"\n\u001b[0;32m    199\u001b[0m         \u001b[0mobj\u001b[0m \u001b[1;33m=\u001b[0m \u001b[0mself\u001b[0m\u001b[1;33m.\u001b[0m\u001b[0mcopy\u001b[0m\u001b[1;33m(\u001b[0m\u001b[0mdeep\u001b[0m\u001b[1;33m=\u001b[0m\u001b[0mcopy\u001b[0m\u001b[1;33m)\u001b[0m\u001b[1;33m\u001b[0m\u001b[1;33m\u001b[0m\u001b[0m\n\u001b[1;32m--> 200\u001b[1;33m         \u001b[0mobj\u001b[0m\u001b[1;33m.\u001b[0m\u001b[0mset_axis\u001b[0m\u001b[1;33m(\u001b[0m\u001b[0maxis\u001b[0m\u001b[1;33m,\u001b[0m \u001b[0m_transform_index\u001b[0m\u001b[1;33m(\u001b[0m\u001b[0mself\u001b[0m\u001b[1;33m.\u001b[0m\u001b[0maxes\u001b[0m\u001b[1;33m[\u001b[0m\u001b[0maxis\u001b[0m\u001b[1;33m]\u001b[0m\u001b[1;33m,\u001b[0m \u001b[0mmapper\u001b[0m\u001b[1;33m,\u001b[0m \u001b[0mlevel\u001b[0m\u001b[1;33m)\u001b[0m\u001b[1;33m)\u001b[0m\u001b[1;33m\u001b[0m\u001b[1;33m\u001b[0m\u001b[0m\n\u001b[0m\u001b[0;32m    201\u001b[0m         \u001b[1;32mreturn\u001b[0m \u001b[0mobj\u001b[0m\u001b[1;33m\u001b[0m\u001b[1;33m\u001b[0m\u001b[0m\n\u001b[0;32m    202\u001b[0m \u001b[1;33m\u001b[0m\u001b[0m\n",
      "\u001b[1;32mC:\\Users\\ponce\\.conda\\envs\\caffe36\\lib\\site-packages\\pandas\\core\\internals\\managers.py\u001b[0m in \u001b[0;36m_transform_index\u001b[1;34m(index, func, level)\u001b[0m\n\u001b[0;32m   1989\u001b[0m         \u001b[1;32mreturn\u001b[0m \u001b[0mMultiIndex\u001b[0m\u001b[1;33m.\u001b[0m\u001b[0mfrom_tuples\u001b[0m\u001b[1;33m(\u001b[0m\u001b[0mitems\u001b[0m\u001b[1;33m,\u001b[0m \u001b[0mnames\u001b[0m\u001b[1;33m=\u001b[0m\u001b[0mindex\u001b[0m\u001b[1;33m.\u001b[0m\u001b[0mnames\u001b[0m\u001b[1;33m)\u001b[0m\u001b[1;33m\u001b[0m\u001b[1;33m\u001b[0m\u001b[0m\n\u001b[0;32m   1990\u001b[0m     \u001b[1;32melse\u001b[0m\u001b[1;33m:\u001b[0m\u001b[1;33m\u001b[0m\u001b[1;33m\u001b[0m\u001b[0m\n\u001b[1;32m-> 1991\u001b[1;33m         \u001b[0mitems\u001b[0m \u001b[1;33m=\u001b[0m \u001b[1;33m[\u001b[0m\u001b[0mfunc\u001b[0m\u001b[1;33m(\u001b[0m\u001b[0mx\u001b[0m\u001b[1;33m)\u001b[0m \u001b[1;32mfor\u001b[0m \u001b[0mx\u001b[0m \u001b[1;32min\u001b[0m \u001b[0mindex\u001b[0m\u001b[1;33m]\u001b[0m\u001b[1;33m\u001b[0m\u001b[1;33m\u001b[0m\u001b[0m\n\u001b[0m\u001b[0;32m   1992\u001b[0m         \u001b[1;32mreturn\u001b[0m \u001b[0mIndex\u001b[0m\u001b[1;33m(\u001b[0m\u001b[0mitems\u001b[0m\u001b[1;33m,\u001b[0m \u001b[0mname\u001b[0m\u001b[1;33m=\u001b[0m\u001b[0mindex\u001b[0m\u001b[1;33m.\u001b[0m\u001b[0mname\u001b[0m\u001b[1;33m,\u001b[0m \u001b[0mtupleize_cols\u001b[0m\u001b[1;33m=\u001b[0m\u001b[1;32mFalse\u001b[0m\u001b[1;33m)\u001b[0m\u001b[1;33m\u001b[0m\u001b[1;33m\u001b[0m\u001b[0m\n\u001b[0;32m   1993\u001b[0m \u001b[1;33m\u001b[0m\u001b[0m\n",
      "\u001b[1;32mC:\\Users\\ponce\\.conda\\envs\\caffe36\\lib\\site-packages\\pandas\\core\\internals\\managers.py\u001b[0m in \u001b[0;36m<listcomp>\u001b[1;34m(.0)\u001b[0m\n\u001b[0;32m   1989\u001b[0m         \u001b[1;32mreturn\u001b[0m \u001b[0mMultiIndex\u001b[0m\u001b[1;33m.\u001b[0m\u001b[0mfrom_tuples\u001b[0m\u001b[1;33m(\u001b[0m\u001b[0mitems\u001b[0m\u001b[1;33m,\u001b[0m \u001b[0mnames\u001b[0m\u001b[1;33m=\u001b[0m\u001b[0mindex\u001b[0m\u001b[1;33m.\u001b[0m\u001b[0mnames\u001b[0m\u001b[1;33m)\u001b[0m\u001b[1;33m\u001b[0m\u001b[1;33m\u001b[0m\u001b[0m\n\u001b[0;32m   1990\u001b[0m     \u001b[1;32melse\u001b[0m\u001b[1;33m:\u001b[0m\u001b[1;33m\u001b[0m\u001b[1;33m\u001b[0m\u001b[0m\n\u001b[1;32m-> 1991\u001b[1;33m         \u001b[0mitems\u001b[0m \u001b[1;33m=\u001b[0m \u001b[1;33m[\u001b[0m\u001b[0mfunc\u001b[0m\u001b[1;33m(\u001b[0m\u001b[0mx\u001b[0m\u001b[1;33m)\u001b[0m \u001b[1;32mfor\u001b[0m \u001b[0mx\u001b[0m \u001b[1;32min\u001b[0m \u001b[0mindex\u001b[0m\u001b[1;33m]\u001b[0m\u001b[1;33m\u001b[0m\u001b[1;33m\u001b[0m\u001b[0m\n\u001b[0m\u001b[0;32m   1992\u001b[0m         \u001b[1;32mreturn\u001b[0m \u001b[0mIndex\u001b[0m\u001b[1;33m(\u001b[0m\u001b[0mitems\u001b[0m\u001b[1;33m,\u001b[0m \u001b[0mname\u001b[0m\u001b[1;33m=\u001b[0m\u001b[0mindex\u001b[0m\u001b[1;33m.\u001b[0m\u001b[0mname\u001b[0m\u001b[1;33m,\u001b[0m \u001b[0mtupleize_cols\u001b[0m\u001b[1;33m=\u001b[0m\u001b[1;32mFalse\u001b[0m\u001b[1;33m)\u001b[0m\u001b[1;33m\u001b[0m\u001b[1;33m\u001b[0m\u001b[0m\n\u001b[0;32m   1993\u001b[0m \u001b[1;33m\u001b[0m\u001b[0m\n",
      "\u001b[1;31mTypeError\u001b[0m: 'list' object is not callable"
     ]
    }
   ],
   "source": [
    "exp_stat.rename(dict([\"Exp #\", \"Gen #\", \"Slope\", \"p\",\"Intercept\",\"p\", \"PC1_EVR\", \"p\", \"PC2_EVR\", \"p\", ])"
   ]
  },
  {
   "cell_type": "code",
   "execution_count": 369,
   "metadata": {},
   "outputs": [
    {
     "data": {
      "text/html": [
       "<div>\n",
       "<style scoped>\n",
       "    .dataframe tbody tr th:only-of-type {\n",
       "        vertical-align: middle;\n",
       "    }\n",
       "\n",
       "    .dataframe tbody tr th {\n",
       "        vertical-align: top;\n",
       "    }\n",
       "\n",
       "    .dataframe thead th {\n",
       "        text-align: right;\n",
       "    }\n",
       "</style>\n",
       "<table border=\"1\" class=\"dataframe\">\n",
       "  <thead>\n",
       "    <tr style=\"text-align: right;\">\n",
       "      <th></th>\n",
       "      <th>0</th>\n",
       "      <th>1</th>\n",
       "      <th>2</th>\n",
       "      <th>3</th>\n",
       "      <th>4</th>\n",
       "      <th>5</th>\n",
       "      <th>6</th>\n",
       "      <th>7</th>\n",
       "      <th>8</th>\n",
       "      <th>9</th>\n",
       "      <th>...</th>\n",
       "      <th>14</th>\n",
       "      <th>15</th>\n",
       "      <th>16</th>\n",
       "      <th>17</th>\n",
       "      <th>18</th>\n",
       "      <th>19</th>\n",
       "      <th>20</th>\n",
       "      <th>21</th>\n",
       "      <th>22</th>\n",
       "      <th>23</th>\n",
       "    </tr>\n",
       "  </thead>\n",
       "  <tbody>\n",
       "    <tr>\n",
       "      <td>0</td>\n",
       "      <td>0</td>\n",
       "      <td>100</td>\n",
       "      <td>3347.40</td>\n",
       "      <td>0.00</td>\n",
       "      <td>31481</td>\n",
       "      <td>1.00</td>\n",
       "      <td>0.23</td>\n",
       "      <td>0.02</td>\n",
       "      <td>0.06</td>\n",
       "      <td>0.74</td>\n",
       "      <td>...</td>\n",
       "      <td>-88</td>\n",
       "      <td>1.00</td>\n",
       "      <td>-61</td>\n",
       "      <td>1.00</td>\n",
       "      <td>174</td>\n",
       "      <td>0.00</td>\n",
       "      <td>90</td>\n",
       "      <td>0.00</td>\n",
       "      <td>63</td>\n",
       "      <td>0.02</td>\n",
       "    </tr>\n",
       "    <tr>\n",
       "      <td>1</td>\n",
       "      <td>1</td>\n",
       "      <td>40</td>\n",
       "      <td>4067.72</td>\n",
       "      <td>0.00</td>\n",
       "      <td>12907</td>\n",
       "      <td>1.00</td>\n",
       "      <td>0.14</td>\n",
       "      <td>1.00</td>\n",
       "      <td>0.06</td>\n",
       "      <td>0.89</td>\n",
       "      <td>...</td>\n",
       "      <td>-50</td>\n",
       "      <td>0.00</td>\n",
       "      <td>-58</td>\n",
       "      <td>1.00</td>\n",
       "      <td>195</td>\n",
       "      <td>0.00</td>\n",
       "      <td>211</td>\n",
       "      <td>0.00</td>\n",
       "      <td>58</td>\n",
       "      <td>0.27</td>\n",
       "    </tr>\n",
       "    <tr>\n",
       "      <td>2</td>\n",
       "      <td>2</td>\n",
       "      <td>100</td>\n",
       "      <td>3288.40</td>\n",
       "      <td>0.00</td>\n",
       "      <td>31637</td>\n",
       "      <td>1.00</td>\n",
       "      <td>0.23</td>\n",
       "      <td>0.03</td>\n",
       "      <td>0.06</td>\n",
       "      <td>0.74</td>\n",
       "      <td>...</td>\n",
       "      <td>-86</td>\n",
       "      <td>1.00</td>\n",
       "      <td>-61</td>\n",
       "      <td>1.00</td>\n",
       "      <td>170</td>\n",
       "      <td>0.00</td>\n",
       "      <td>87</td>\n",
       "      <td>0.00</td>\n",
       "      <td>63</td>\n",
       "      <td>0.01</td>\n",
       "    </tr>\n",
       "    <tr>\n",
       "      <td>3</td>\n",
       "      <td>3</td>\n",
       "      <td>104</td>\n",
       "      <td>3384.23</td>\n",
       "      <td>0.00</td>\n",
       "      <td>31492</td>\n",
       "      <td>1.00</td>\n",
       "      <td>0.23</td>\n",
       "      <td>0.01</td>\n",
       "      <td>0.06</td>\n",
       "      <td>0.87</td>\n",
       "      <td>...</td>\n",
       "      <td>-88</td>\n",
       "      <td>1.00</td>\n",
       "      <td>-61</td>\n",
       "      <td>1.00</td>\n",
       "      <td>173</td>\n",
       "      <td>0.00</td>\n",
       "      <td>89</td>\n",
       "      <td>0.00</td>\n",
       "      <td>61</td>\n",
       "      <td>0.05</td>\n",
       "    </tr>\n",
       "    <tr>\n",
       "      <td>4</td>\n",
       "      <td>4</td>\n",
       "      <td>72</td>\n",
       "      <td>3384.19</td>\n",
       "      <td>0.00</td>\n",
       "      <td>32533</td>\n",
       "      <td>1.00</td>\n",
       "      <td>0.23</td>\n",
       "      <td>0.02</td>\n",
       "      <td>0.06</td>\n",
       "      <td>0.36</td>\n",
       "      <td>...</td>\n",
       "      <td>-86</td>\n",
       "      <td>1.00</td>\n",
       "      <td>-62</td>\n",
       "      <td>1.00</td>\n",
       "      <td>168</td>\n",
       "      <td>0.00</td>\n",
       "      <td>87</td>\n",
       "      <td>0.00</td>\n",
       "      <td>62</td>\n",
       "      <td>0.04</td>\n",
       "    </tr>\n",
       "    <tr>\n",
       "      <td>...</td>\n",
       "      <td>...</td>\n",
       "      <td>...</td>\n",
       "      <td>...</td>\n",
       "      <td>...</td>\n",
       "      <td>...</td>\n",
       "      <td>...</td>\n",
       "      <td>...</td>\n",
       "      <td>...</td>\n",
       "      <td>...</td>\n",
       "      <td>...</td>\n",
       "      <td>...</td>\n",
       "      <td>...</td>\n",
       "      <td>...</td>\n",
       "      <td>...</td>\n",
       "      <td>...</td>\n",
       "      <td>...</td>\n",
       "      <td>...</td>\n",
       "      <td>...</td>\n",
       "      <td>...</td>\n",
       "      <td>...</td>\n",
       "      <td>...</td>\n",
       "    </tr>\n",
       "    <tr>\n",
       "      <td>95</td>\n",
       "      <td>95</td>\n",
       "      <td>36</td>\n",
       "      <td>2105.16</td>\n",
       "      <td>0.00</td>\n",
       "      <td>29517</td>\n",
       "      <td>1.00</td>\n",
       "      <td>0.22</td>\n",
       "      <td>0.28</td>\n",
       "      <td>0.05</td>\n",
       "      <td>1.00</td>\n",
       "      <td>...</td>\n",
       "      <td>-68</td>\n",
       "      <td>0.06</td>\n",
       "      <td>-50</td>\n",
       "      <td>0.38</td>\n",
       "      <td>143</td>\n",
       "      <td>0.78</td>\n",
       "      <td>75</td>\n",
       "      <td>0.94</td>\n",
       "      <td>53</td>\n",
       "      <td>0.87</td>\n",
       "    </tr>\n",
       "    <tr>\n",
       "      <td>96</td>\n",
       "      <td>96</td>\n",
       "      <td>40</td>\n",
       "      <td>1782.28</td>\n",
       "      <td>0.79</td>\n",
       "      <td>31683</td>\n",
       "      <td>1.00</td>\n",
       "      <td>0.22</td>\n",
       "      <td>0.83</td>\n",
       "      <td>0.06</td>\n",
       "      <td>0.36</td>\n",
       "      <td>...</td>\n",
       "      <td>-70</td>\n",
       "      <td>0.17</td>\n",
       "      <td>-48</td>\n",
       "      <td>0.03</td>\n",
       "      <td>141</td>\n",
       "      <td>0.96</td>\n",
       "      <td>80</td>\n",
       "      <td>0.36</td>\n",
       "      <td>49</td>\n",
       "      <td>1.00</td>\n",
       "    </tr>\n",
       "    <tr>\n",
       "      <td>97</td>\n",
       "      <td>97</td>\n",
       "      <td>40</td>\n",
       "      <td>2102.37</td>\n",
       "      <td>0.00</td>\n",
       "      <td>30141</td>\n",
       "      <td>1.00</td>\n",
       "      <td>0.23</td>\n",
       "      <td>0.01</td>\n",
       "      <td>0.06</td>\n",
       "      <td>0.59</td>\n",
       "      <td>...</td>\n",
       "      <td>-69</td>\n",
       "      <td>0.08</td>\n",
       "      <td>-49</td>\n",
       "      <td>0.21</td>\n",
       "      <td>148</td>\n",
       "      <td>0.12</td>\n",
       "      <td>81</td>\n",
       "      <td>0.22</td>\n",
       "      <td>53</td>\n",
       "      <td>0.85</td>\n",
       "    </tr>\n",
       "    <tr>\n",
       "      <td>98</td>\n",
       "      <td>98</td>\n",
       "      <td>87</td>\n",
       "      <td>1987.07</td>\n",
       "      <td>0.04</td>\n",
       "      <td>31526</td>\n",
       "      <td>1.00</td>\n",
       "      <td>0.22</td>\n",
       "      <td>0.29</td>\n",
       "      <td>0.06</td>\n",
       "      <td>0.16</td>\n",
       "      <td>...</td>\n",
       "      <td>-73</td>\n",
       "      <td>0.86</td>\n",
       "      <td>-50</td>\n",
       "      <td>0.28</td>\n",
       "      <td>149</td>\n",
       "      <td>0.04</td>\n",
       "      <td>80</td>\n",
       "      <td>0.35</td>\n",
       "      <td>53</td>\n",
       "      <td>0.89</td>\n",
       "    </tr>\n",
       "    <tr>\n",
       "      <td>99</td>\n",
       "      <td>99</td>\n",
       "      <td>27</td>\n",
       "      <td>2036.87</td>\n",
       "      <td>0.01</td>\n",
       "      <td>30114</td>\n",
       "      <td>1.00</td>\n",
       "      <td>0.18</td>\n",
       "      <td>1.00</td>\n",
       "      <td>0.05</td>\n",
       "      <td>1.00</td>\n",
       "      <td>...</td>\n",
       "      <td>-61</td>\n",
       "      <td>0.00</td>\n",
       "      <td>-46</td>\n",
       "      <td>0.00</td>\n",
       "      <td>128</td>\n",
       "      <td>1.00</td>\n",
       "      <td>66</td>\n",
       "      <td>1.00</td>\n",
       "      <td>47</td>\n",
       "      <td>1.00</td>\n",
       "    </tr>\n",
       "  </tbody>\n",
       "</table>\n",
       "<p>100 rows × 24 columns</p>\n",
       "</div>"
      ],
      "text/plain": [
       "    0    1        2     3      4     5     6     7     8     9   ...   14  \\\n",
       "0    0  100  3347.40  0.00  31481  1.00  0.23  0.02  0.06  0.74  ...  -88   \n",
       "1    1   40  4067.72  0.00  12907  1.00  0.14  1.00  0.06  0.89  ...  -50   \n",
       "2    2  100  3288.40  0.00  31637  1.00  0.23  0.03  0.06  0.74  ...  -86   \n",
       "3    3  104  3384.23  0.00  31492  1.00  0.23  0.01  0.06  0.87  ...  -88   \n",
       "4    4   72  3384.19  0.00  32533  1.00  0.23  0.02  0.06  0.36  ...  -86   \n",
       "..  ..  ...      ...   ...    ...   ...   ...   ...   ...   ...  ...  ...   \n",
       "95  95   36  2105.16  0.00  29517  1.00  0.22  0.28  0.05  1.00  ...  -68   \n",
       "96  96   40  1782.28  0.79  31683  1.00  0.22  0.83  0.06  0.36  ...  -70   \n",
       "97  97   40  2102.37  0.00  30141  1.00  0.23  0.01  0.06  0.59  ...  -69   \n",
       "98  98   87  1987.07  0.04  31526  1.00  0.22  0.29  0.06  0.16  ...  -73   \n",
       "99  99   27  2036.87  0.01  30114  1.00  0.18  1.00  0.05  1.00  ...  -61   \n",
       "\n",
       "      15   16    17   18    19   20    21  22    23  \n",
       "0   1.00  -61  1.00  174  0.00   90  0.00  63  0.02  \n",
       "1   0.00  -58  1.00  195  0.00  211  0.00  58  0.27  \n",
       "2   1.00  -61  1.00  170  0.00   87  0.00  63  0.01  \n",
       "3   1.00  -61  1.00  173  0.00   89  0.00  61  0.05  \n",
       "4   1.00  -62  1.00  168  0.00   87  0.00  62  0.04  \n",
       "..   ...  ...   ...  ...   ...  ...   ...  ..   ...  \n",
       "95  0.06  -50  0.38  143  0.78   75  0.94  53  0.87  \n",
       "96  0.17  -48  0.03  141  0.96   80  0.36  49  1.00  \n",
       "97  0.08  -49  0.21  148  0.12   81  0.22  53  0.85  \n",
       "98  0.86  -50  0.28  149  0.04   80  0.35  53  0.89  \n",
       "99  0.00  -46  0.00  128  1.00   66  1.00  47  1.00  \n",
       "\n",
       "[100 rows x 24 columns]"
      ]
     },
     "execution_count": 369,
     "metadata": {},
     "output_type": "execute_result"
    }
   ],
   "source": [
    "exp_stat"
   ]
  },
  {
   "cell_type": "markdown",
   "metadata": {},
   "source": [
    "## Plotting Utility"
   ]
  },
  {
   "cell_type": "code",
   "execution_count": 8,
   "metadata": {},
   "outputs": [],
   "source": [
    "def code_norm_evolve(generations, codes_all, savefig=True, show=False, savedir=\"\", trial_title=\"\"):\n",
    "    code_norm = np.sum(codes_all**2, axis=1)#np.sqrt()\n",
    "    model = LinearRegression().fit(generations.reshape(-1, 1), code_norm)\n",
    "    if savefig or show:\n",
    "        plt.figure(figsize=[10,6])\n",
    "        plt.scatter(generations, code_norm,s=10,alpha =0.7)\n",
    "        plt.title(\"Code Norm Square ~ Gen \\n %s\\n  Linear Coefficient %.f Intercept %.f\"%(trial_title, model.coef_[0], model.intercept_))\n",
    "        plt.ylabel(\"Code Norm Squared\")\n",
    "        plt.xlabel(\"Generations\")\n",
    "        if savefig:\n",
    "            plt.savefig(os.path.join(savedir, \"code_norm_evolution.png\"))\n",
    "        if show:\n",
    "            plt.show()\n",
    "    return model.coef_[0], model.intercept_"
   ]
  },
  {
   "cell_type": "code",
   "execution_count": 11,
   "metadata": {},
   "outputs": [],
   "source": [
    "pca = PCA(n_components=50,copy=True)\n",
    "PC_codes = pca.fit_transform(codes_all)"
   ]
  },
  {
   "cell_type": "code",
   "execution_count": 45,
   "metadata": {},
   "outputs": [],
   "source": [
    "def PC_evolve(generations, codes_all, \n",
    "              savefig=True, show=False, savedir=\"\", trial_title=\"\"):\n",
    "    pca = PCA(n_components=50,copy=True)\n",
    "    PC_codes = pca.fit_transform(codes_all)\n",
    "    PC_max_Amp = PC_codes.max(axis=0)\n",
    "    PC_min_Amp = PC_codes.min(axis=0)\n",
    "    if show or savefig:\n",
    "        plt.figure(figsize=[10,6])\n",
    "        for i in range(10):\n",
    "            plt.scatter(generations,PC_codes[:,i],s=6,alpha=0.6)\n",
    "        plt.xlabel(\"Generations\")\n",
    "        plt.ylabel(\"PC projection\")\n",
    "        plt.title(\"PC Projections \\n %s\"%(trial_title))\n",
    "        if savefig:\n",
    "            plt.savefig(os.path.join(savedir, \"PC_Proj_evolution.png\"))\n",
    "        if show:\n",
    "            plt.show()\n",
    "\n",
    "        plt.figure(figsize=[8,8])\n",
    "        cumsumvar = np.cumsum(pca.explained_variance_ratio_)\n",
    "        #plt.plot(pca.explained_variance_ratio_)\n",
    "        plt.plot(cumsumvar)\n",
    "        for mark in [5, 10, 25, 50]:\n",
    "            plt.hlines(cumsumvar[mark-1], 0, mark-1, 'r')\n",
    "        plt.ylabel(\"Ratio\")\n",
    "        plt.xlabel(\"PC number\")\n",
    "        plt.title(\"%s\\n Explained Variance %.2f in 10 PC \\nExplained Variance %.2f in 25 PC\"%(trial_title, \n",
    "                                                                                              sum(pca.explained_variance_ratio_[:10]),\n",
    "                                                                                              sum(pca.explained_variance_ratio_[:20])))\n",
    "        if savefig:\n",
    "            plt.savefig(os.path.join(savedir, \"exp_variance.png\"))\n",
    "        if show:\n",
    "            plt.show()\n",
    "\n",
    "        # PC_visualization(PC_codes, pca.components_, trial_title=trial_title)\n",
    "        plt.figure(figsize=[15,5])\n",
    "        for i in range(10):\n",
    "            max_Amp = PC_max_Amp[i]\n",
    "            min_Amp = PC_min_Amp[i]\n",
    "            mean_Amp = PC_codes[:, i].mean()\n",
    "            for row, (Amp, name) in enumerate(zip([max_Amp, min_Amp, mean_Amp], [\"Max\", \"Min\", \"Mean\"])):\n",
    "                img = generator.visualize(Amp*pca.components_[i, :])\n",
    "                plt.subplot(3,10,i+1 + 10 * row)\n",
    "                plt.imshow(img)\n",
    "                plt.title(\"%.1f\" % Amp)\n",
    "                plt.xticks([])\n",
    "                plt.yticks([])\n",
    "                if i == 0:\n",
    "                    plt.ylabel(name)\n",
    "        plt.suptitle(\"Visualize first 10 PC's images \\n %s\"%(trial_title, ))\n",
    "        if savefig:\n",
    "            plt.savefig(os.path.join(savedir,\"PC_visualization.png\"))\n",
    "        if show:\n",
    "            plt.show()\n",
    "    return PC_max_Amp, PC_min_Amp, pca.explained_variance_ratio_, "
   ]
  },
  {
   "cell_type": "code",
   "execution_count": 286,
   "metadata": {},
   "outputs": [],
   "source": [
    "def visualize_rsp_curve(mean_Rsp, mean_Nat, experiment_i,\n",
    "                       savefig=True, show=False, savedir=\"\"):\n",
    "    plt.figure(figsize=[8,6])\n",
    "    plt.plot(mean_Rsp.T)\n",
    "    plt.plot(mean_Nat.T)\n",
    "    plt.legend([\"SynMeanResp\",\"baseline\",\"NatMeanResp\",\"baseline\",])\n",
    "    plt.xlabel(\"Genrations\")\n",
    "    plt.title(\"Experiment %d Score\"%experiment_i)\n",
    "    if savefig:\n",
    "        plt.savefig(os.path.join(savedir,\"Resp_Score.png\"))\n",
    "    if show:\n",
    "        plt.show()\n",
    "    else:\n",
    "        plt.close()\n",
    "\n",
    "def analyze_statistics_of_trajectory(generations, codes_all, experiment_i, gen_limit=40, \n",
    "                                     intercept_arr=intercept_arr, slope_arr=slope_arr, PC_max_Amp_arr=PC_max_Amp_arr, PC_min_Amp_arr=PC_min_Amp_arr,\n",
    "                                     savefig=True, show=False, savedir=\"\"):\n",
    "    slope, intercept = code_norm_evolve(generations[generations<gen_limit], codes_all[generations<gen_limit, :],  savefig=False)\n",
    "    PC_max_Amp, PC_min_Amp, PC_evr = PC_evolve(generations[generations<gen_limit], codes_all[generations<gen_limit, :],  savefig=False)\n",
    "\n",
    "    interc_stat = (intercept_arr>intercept).sum()/len(intercept_arr)\n",
    "    slope_stat = (slope_arr>slope).sum()/len(slope_arr)\n",
    "    evr_stat = (PC_evr_arr>PC_evr).sum(axis=0)/trial_num\n",
    "    max_Amp_stat = (PC_max_Amp_arr > PC_max_Amp).sum(axis=0)/trial_num\n",
    "    min_Amp_stat = (PC_min_Amp_arr > PC_min_Amp).sum(axis=0)/trial_num\n",
    "    \n",
    "    plt.figure(figsize=[8,6])\n",
    "    plt.subplot(1,2,1)\n",
    "    plt.hist(slope_arr, bins=35, alpha=0.6)\n",
    "    plt.vlines(slope, *plt.ylim(),colors='r')\n",
    "    plt.title(\"Slope(Stats):%.2f(%.2f)\" % (slope, slope_stat))\n",
    "    plt.xlabel(\"Linear Slope\")\n",
    "    plt.subplot(1,2,2)\n",
    "    plt.hist(intercept_arr,bins=35, alpha=0.6)\n",
    "    plt.vlines(intercept, *plt.ylim(),colors='r')\n",
    "    plt.title(\"Intercept(Stats):%.f(%.2f)\" % (intercept, interc_stat))\n",
    "    plt.xlabel(\"Linear Intercept\")\n",
    "    plt.suptitle(\"Linear Coefficient of Squared Norm Evolution\\n in Real Experiment %d vs Random Neuron\"%experiment_i)\n",
    "    if savefig:\n",
    "        plt.savefig(os.path.join(savedir,\"SqNorm_Linear_Coef_stat.png\"))\n",
    "    if show:\n",
    "        plt.show()\n",
    "    else:\n",
    "        plt.close()\n",
    "    print(\"Slope(Stats):%.2f(%.2f) Intercept(Stats):%.f(%.2f) \" % (slope, slope_stat, intercept, interc_stat))\n",
    "    \n",
    "    plt.figure(figsize=[8,6])\n",
    "    plt.plot(np.arange(1,51), PC_evr, marker=\".\", alpha=0.6)\n",
    "    plt.errorbar(np.arange(1,51), PC_evr_arr.mean(axis=0), yerr=2*PC_evr_arr.std(axis=0), fmt='none', ecolor='r')\n",
    "    plt.legend([\"Real Neuron\", \"Random Score (error bar=2 std)\" ])\n",
    "    plt.title(\"Explained Variance in Real Experiment %d vs Random Neuron \\n EVR(Stats): PC1:%.2f(%.2f) PC2:%.2f(%.2f) PC3:%.2f(%.2f)\"%\n",
    "              (experiment_i, PC_evr[0], evr_stat[0], PC_evr[1], evr_stat[1], PC_evr[2], evr_stat[2]))\n",
    "    plt.ylabel(\"Explained Variance Ratio of PC\")\n",
    "    plt.xlabel(\"PC number\")\n",
    "    if savefig:\n",
    "        plt.savefig(os.path.join(savedir,\"PC_EVR_stat.png\"))\n",
    "    if show:\n",
    "        plt.show()\n",
    "    else:\n",
    "        plt.close()\n",
    "    print(\"EVR(Stats): PC1:%.2f(%.2f) PC2:%.2f(%.2f) PC3:%.2f(%.2f)\"%\n",
    "              (PC_evr[0], evr_stat[0], PC_evr[1], evr_stat[1], PC_evr[2], evr_stat[2]))\n",
    "    \n",
    "    plt.figure(figsize=[8,6])\n",
    "    plt.plot(np.arange(1,51), PC_min_Amp, marker=\".\", alpha=0.6)\n",
    "    plt.errorbar(np.arange(1,51), PC_min_Amp_arr.mean(axis=0), yerr=2*PC_min_Amp_arr.std(axis=0), fmt='none', ecolor='r')\n",
    "    plt.legend([\"Real Neuron\", \"Random Score (error bar=2 std)\" ])\n",
    "    plt.title(\"Minimum Amplitude in Real Experiment %d vs Random Neuron\\n Min_Amp(Stats): PC1:%.f(%.2f) PC2:%.f(%.2f) PC3:%.f(%.2f)\"%\n",
    "              (experiment_i, PC_min_Amp[0], min_Amp_stat[0], PC_min_Amp[1], min_Amp_stat[1], PC_min_Amp[2], min_Amp_stat[2]))\n",
    "    plt.ylabel(\"Minimum Amplitude of PC\")\n",
    "    plt.xlabel(\"PC number\")\n",
    "    if savefig:\n",
    "        plt.savefig(os.path.join(savedir,\"PC_min_Amp_stat.png\"))\n",
    "    if show:\n",
    "        plt.show()\n",
    "    else:\n",
    "        plt.close()\n",
    "    print(\"Min_Amp(Stats): PC1:%.f(%.2f) PC2:%.f(%.2f) PC3:%.f(%.2f)\"%\n",
    "              (PC_min_Amp[0], min_Amp_stat[0], PC_min_Amp[1], min_Amp_stat[1], PC_min_Amp[2], min_Amp_stat[2]))\n",
    "    \n",
    "    plt.figure(figsize=[8,6])\n",
    "    plt.plot(np.arange(1,51), PC_max_Amp, marker=\".\", alpha=0.6)\n",
    "    plt.errorbar(np.arange(1,51), PC_max_Amp_arr.mean(axis=0), yerr=2*PC_max_Amp_arr.std(axis=0), fmt='none', ecolor='r')\n",
    "    plt.legend([\"Real Neuron\", \"Random Score (error bar=2 std)\" ])\n",
    "    plt.title(\"Maximum Amplitude in Real Experiment %d vs Random Neuron\\n Max_Amp(Stats): PC1:%.f(%.2f) PC2:%.f(%.2f) PC3:%.f(%.2f)\"%\n",
    "              (experiment_i, PC_max_Amp[0], max_Amp_stat[0], PC_max_Amp[1], max_Amp_stat[1], PC_max_Amp[2], max_Amp_stat[2]))\n",
    "    plt.ylabel(\"Maximum Amplitude of PC\")\n",
    "    plt.xlabel(\"PC number\")\n",
    "    if savefig:\n",
    "        plt.savefig(os.path.join(savedir,\"PC_max_Amp_stat.png\"))\n",
    "    if show:\n",
    "        plt.show()\n",
    "    else:\n",
    "        plt.close()\n",
    "    print(\"Max_Amp(Stats): PC1:%.f(%.2f) PC2:%.f(%.2f) PC3:%.f(%.2f)\"%\n",
    "              (PC_max_Amp[0], max_Amp_stat[0], PC_max_Amp[1], max_Amp_stat[1], PC_max_Amp[2], max_Amp_stat[2]))\n",
    "    return slope_stat, interc_stat, evr_stat, max_Amp_stat, min_Amp_stat"
   ]
  },
  {
   "cell_type": "code",
   "execution_count": null,
   "metadata": {},
   "outputs": [],
   "source": []
  }
 ],
 "metadata": {
  "kernelspec": {
   "display_name": "Python [conda env:.conda-caffe36]",
   "language": "python",
   "name": "conda-env-.conda-caffe36-py"
  },
  "language_info": {
   "codemirror_mode": {
    "name": "ipython",
    "version": 3
   },
   "file_extension": ".py",
   "mimetype": "text/x-python",
   "name": "python",
   "nbconvert_exporter": "python",
   "pygments_lexer": "ipython3",
   "version": "3.6.9"
  }
 },
 "nbformat": 4,
 "nbformat_minor": 2
}
